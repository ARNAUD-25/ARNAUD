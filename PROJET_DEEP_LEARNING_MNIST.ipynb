{
 "cells": [
  {
   "cell_type": "markdown",
   "metadata": {},
   "source": [
    "# PROJET DEEP LEARNING"
   ]
  },
  {
   "cell_type": "markdown",
   "metadata": {},
   "source": [
    "## ARNAUD WATUSADISI MAVAKALA"
   ]
  },
  {
   "cell_type": "markdown",
   "metadata": {},
   "source": [
    "### Ce travail traite la reconnaissance des chiffres écrits à la main venant de jeu des donnees mnist"
   ]
  },
  {
   "cell_type": "code",
   "execution_count": 0,
   "metadata": {
    "colab": {},
    "colab_type": "code",
    "id": "rWp8UhKlqaGT"
   },
   "outputs": [],
   "source": [
    "import tensorflow as tf\n",
    "import keras"
   ]
  },
  {
   "cell_type": "code",
   "execution_count": 51,
   "metadata": {
    "colab": {
     "base_uri": "https://localhost:8080/",
     "height": 35
    },
    "colab_type": "code",
    "id": "65ydArhlqfHT",
    "outputId": "b476e88e-9bf3-41b8-f027-69a19fbdc870"
   },
   "outputs": [
    {
     "data": {
      "text/plain": [
       "'2.2.5'"
      ]
     },
     "execution_count": 51,
     "metadata": {
      "tags": []
     },
     "output_type": "execute_result"
    }
   ],
   "source": [
    "keras.__version__"
   ]
  },
  {
   "cell_type": "code",
   "execution_count": 0,
   "metadata": {
    "colab": {},
    "colab_type": "code",
    "id": "mpXD2unkqipS"
   },
   "outputs": [],
   "source": [
    "from keras.datasets import mnist"
   ]
  },
  {
   "cell_type": "code",
   "execution_count": 0,
   "metadata": {
    "colab": {},
    "colab_type": "code",
    "id": "amh03Mljqnf5"
   },
   "outputs": [],
   "source": [
    "(x_train, y_train), (x_test, y_test) = mnist.load_data()"
   ]
  },
  {
   "cell_type": "code",
   "execution_count": 0,
   "metadata": {
    "colab": {},
    "colab_type": "code",
    "id": "udegZL-4qqZ-"
   },
   "outputs": [],
   "source": [
    "assert(len(x_train)==60000)\n",
    "assert(len(x_test)==10000)"
   ]
  },
  {
   "cell_type": "code",
   "execution_count": 55,
   "metadata": {
    "colab": {
     "base_uri": "https://localhost:8080/",
     "height": 35
    },
    "colab_type": "code",
    "id": "mckn6kNvqyvu",
    "outputId": "90381dc1-ebc5-486b-a914-3a5b8d575e91"
   },
   "outputs": [
    {
     "data": {
      "text/plain": [
       "(60000, 28, 28)"
      ]
     },
     "execution_count": 55,
     "metadata": {
      "tags": []
     },
     "output_type": "execute_result"
    }
   ],
   "source": [
    "x_train.shape"
   ]
  },
  {
   "cell_type": "code",
   "execution_count": 56,
   "metadata": {
    "colab": {
     "base_uri": "https://localhost:8080/",
     "height": 35
    },
    "colab_type": "code",
    "id": "ZwkZXyAQrN-m",
    "outputId": "bf78e79f-b820-436c-f34a-d299177f80e0"
   },
   "outputs": [
    {
     "data": {
      "text/plain": [
       "(10000, 28, 28)"
      ]
     },
     "execution_count": 56,
     "metadata": {
      "tags": []
     },
     "output_type": "execute_result"
    }
   ],
   "source": [
    "x_test.shape"
   ]
  },
  {
   "cell_type": "code",
   "execution_count": 0,
   "metadata": {
    "colab": {},
    "colab_type": "code",
    "id": "CiWlc7FarU1p"
   },
   "outputs": [],
   "source": [
    "from keras.models import Sequential\n",
    "from keras.layers import Dense , Activation\n",
    "from keras.layers import Dropout # pour tester l'erreur\n",
    "from keras.optimizers import SGD"
   ]
  },
  {
   "cell_type": "code",
   "execution_count": 58,
   "metadata": {
    "colab": {
     "base_uri": "https://localhost:8080/",
     "height": 305
    },
    "colab_type": "code",
    "id": "4L_4kMGPsz0J",
    "outputId": "855617f1-9dd7-4273-8ac4-efaaf73a43f0"
   },
   "outputs": [
    {
     "name": "stdout",
     "output_type": "stream",
     "text": [
      "Model: \"sequential_9\"\n",
      "_________________________________________________________________\n",
      "Layer (type)                 Output Shape              Param #   \n",
      "=================================================================\n",
      "dense_22 (Dense)             (None, 512)               401920    \n",
      "_________________________________________________________________\n",
      "activation_10 (Activation)   (None, 512)               0         \n",
      "_________________________________________________________________\n",
      "dense_23 (Dense)             (None, 10)                5130      \n",
      "_________________________________________________________________\n",
      "activation_11 (Activation)   (None, 10)                0         \n",
      "=================================================================\n",
      "Total params: 407,050\n",
      "Trainable params: 407,050\n",
      "Non-trainable params: 0\n",
      "_________________________________________________________________\n"
     ]
    }
   ],
   "source": [
    "model = Sequential([Dense(512, input_shape=(28*28,)), Activation('relu'), Dense(10),Activation('softmax'),])\n",
    "model.summary()"
   ]
  },
  {
   "cell_type": "code",
   "execution_count": 29,
   "metadata": {
    "colab": {
     "base_uri": "https://localhost:8080/",
     "height": 269
    },
    "colab_type": "code",
    "id": "nJcef_pIr54C",
    "outputId": "956c640d-df4d-4142-f3a1-06fbc130a0c7"
   },
   "outputs": [
    {
     "name": "stdout",
     "output_type": "stream",
     "text": [
      "Model: \"sequential_7\"\n",
      "_________________________________________________________________\n",
      "Layer (type)                 Output Shape              Param #   \n",
      "=================================================================\n",
      "dense_18 (Dense)             (None, 512)               401920    \n",
      "_________________________________________________________________\n",
      "dropout_4 (Dropout)          (None, 512)               0         \n",
      "_________________________________________________________________\n",
      "dense_19 (Dense)             (None, 10)                5130      \n",
      "=================================================================\n",
      "Total params: 407,050\n",
      "Trainable params: 407,050\n",
      "Non-trainable params: 0\n",
      "_________________________________________________________________\n"
     ]
    }
   ],
   "source": [
    "classifier=Sequential()\n",
    "classifier.add(Dense(512, kernel_initializer='uniform', activation='relu', input_shape=(28*28,)))\n",
    "classifier.add(Dropout(rate=0.001)) #0.00001\n",
    "#classifier.add(Dense(6,kernel_initializer='uniform',activation='relu')) # essayer avec la fonction leakyrelu\n",
    "classifier.add(Dense(10,kernel_initializer='uniform',activation='softmax')) # essayer avec la fonction softmax\n",
    "classifier.summary()"
   ]
  },
  {
   "cell_type": "code",
   "execution_count": 43,
   "metadata": {
    "colab": {
     "base_uri": "https://localhost:8080/",
     "height": 35
    },
    "colab_type": "code",
    "id": "28DVnVJpu1pB",
    "outputId": "d3826ae9-c927-4d5b-ef05-39625b22e268"
   },
   "outputs": [
    {
     "data": {
      "text/plain": [
       "401920"
      ]
     },
     "execution_count": 43,
     "metadata": {
      "tags": []
     },
     "output_type": "execute_result"
    }
   ],
   "source": [
    "(x_train.shape[1]*x_train.shape[2]+1)*512"
   ]
  },
  {
   "cell_type": "code",
   "execution_count": 0,
   "metadata": {
    "colab": {},
    "colab_type": "code",
    "id": "XdOueZPGwv6G"
   },
   "outputs": [],
   "source": [
    "model.compile(loss=\"categorical_crossentropy\",optimizer=\"rmsprop\",metrics=['accuracy'])"
   ]
  },
  {
   "cell_type": "code",
   "execution_count": 60,
   "metadata": {
    "colab": {
     "base_uri": "https://localhost:8080/",
     "height": 35
    },
    "colab_type": "code",
    "id": "RpM2rqbWxidL",
    "outputId": "b4d77df9-1cf5-486a-8974-e3a2ab4fca81"
   },
   "outputs": [
    {
     "data": {
      "text/plain": [
       "(60000, 784)"
      ]
     },
     "execution_count": 60,
     "metadata": {
      "tags": []
     },
     "output_type": "execute_result"
    }
   ],
   "source": [
    "import numpy as np\n",
    "\n",
    "x_train = x_train.reshape(60000, 28*28).astype(np.float)/255\n",
    "x_train.shape"
   ]
  },
  {
   "cell_type": "code",
   "execution_count": 0,
   "metadata": {
    "colab": {},
    "colab_type": "code",
    "id": "TrKISvBLzV9V"
   },
   "outputs": [],
   "source": [
    "assert(x_train.dtype == \"float\")\n",
    "assert(int(100 * x_train.mean()) == 13)"
   ]
  },
  {
   "cell_type": "code",
   "execution_count": 63,
   "metadata": {
    "colab": {
     "base_uri": "https://localhost:8080/",
     "height": 35
    },
    "colab_type": "code",
    "id": "vKu6c2_SzoGF",
    "outputId": "56754f01-1a8c-448b-eed9-c239e4a62891"
   },
   "outputs": [
    {
     "data": {
      "text/plain": [
       "0.1306604762738429"
      ]
     },
     "execution_count": 63,
     "metadata": {
      "tags": []
     },
     "output_type": "execute_result"
    }
   ],
   "source": [
    "x_train.mean()"
   ]
  },
  {
   "cell_type": "code",
   "execution_count": 65,
   "metadata": {
    "colab": {
     "base_uri": "https://localhost:8080/",
     "height": 35
    },
    "colab_type": "code",
    "id": "9QIpyoS3zwrj",
    "outputId": "58e37dc0-87fe-4e5f-c4fd-f94919fe56df"
   },
   "outputs": [
    {
     "data": {
      "text/plain": [
       "(10000, 784)"
      ]
     },
     "execution_count": 65,
     "metadata": {
      "tags": []
     },
     "output_type": "execute_result"
    }
   ],
   "source": [
    "x_test = x_test.reshape(10000, 28*28).astype(np.float)/255\n",
    "x_test.shape"
   ]
  },
  {
   "cell_type": "code",
   "execution_count": 0,
   "metadata": {
    "colab": {},
    "colab_type": "code",
    "id": "hHyd9wXmz86W"
   },
   "outputs": [],
   "source": [
    "assert(x_test.dtype == \"float\")\n",
    "assert(int(100 * x_test.mean()) == 13)"
   ]
  },
  {
   "cell_type": "code",
   "execution_count": 0,
   "metadata": {
    "colab": {},
    "colab_type": "code",
    "id": "EAmaSnDD0sNR"
   },
   "outputs": [],
   "source": [
    "from keras.utils import to_categorical\n",
    "\n",
    "y_train = to_categorical(y_train)\n",
    "y_test = to_categorical(y_test)"
   ]
  },
  {
   "cell_type": "code",
   "execution_count": 0,
   "metadata": {
    "colab": {},
    "colab_type": "code",
    "id": "s7pF88KR1s4b"
   },
   "outputs": [],
   "source": [
    "assert(y_train.shape ==(60000, 10))\n",
    "assert(y_test.shape ==(10000, 10))"
   ]
  },
  {
   "cell_type": "code",
   "execution_count": 70,
   "metadata": {
    "colab": {
     "base_uri": "https://localhost:8080/",
     "height": 35
    },
    "colab_type": "code",
    "id": "2d5hsyHr0KLm",
    "outputId": "9e1b3a01-6dfd-443b-b470-1bdf966e9f4e"
   },
   "outputs": [
    {
     "data": {
      "text/plain": [
       "(10000,)"
      ]
     },
     "execution_count": 70,
     "metadata": {
      "tags": []
     },
     "output_type": "execute_result"
    }
   ],
   "source": [
    "y_test.shape"
   ]
  },
  {
   "cell_type": "code",
   "execution_count": 114,
   "metadata": {
    "colab": {
     "base_uri": "https://localhost:8080/",
     "height": 323
    },
    "colab_type": "code",
    "id": "qxpk4jaq0Kee",
    "outputId": "71b70435-d8d8-4ffb-8d29-ffe476b3fa72"
   },
   "outputs": [
    {
     "name": "stdout",
     "output_type": "stream",
     "text": [
      "Epoch 1/8\n",
      "60000/60000 [==============================] - 3s 58us/step - loss: 8.5264e-04 - acc: 0.9998\n",
      "Epoch 2/8\n",
      "60000/60000 [==============================] - 3s 58us/step - loss: 3.9251e-04 - acc: 0.9999\n",
      "Epoch 3/8\n",
      "60000/60000 [==============================] - 3s 58us/step - loss: 3.1875e-04 - acc: 1.0000\n",
      "Epoch 4/8\n",
      "60000/60000 [==============================] - 3s 58us/step - loss: 3.1651e-04 - acc: 1.0000\n",
      "Epoch 5/8\n",
      "60000/60000 [==============================] - 3s 58us/step - loss: 3.4280e-04 - acc: 0.9999\n",
      "Epoch 6/8\n",
      "60000/60000 [==============================] - 4s 59us/step - loss: 2.9678e-04 - acc: 1.0000\n",
      "Epoch 7/8\n",
      "60000/60000 [==============================] - 3s 58us/step - loss: 2.8603e-04 - acc: 1.0000\n",
      "Epoch 8/8\n",
      "60000/60000 [==============================] - 3s 58us/step - loss: 2.7765e-04 - acc: 1.0000\n"
     ]
    },
    {
     "data": {
      "text/plain": [
       "<keras.callbacks.History at 0x7f44357ad0b8>"
      ]
     },
     "execution_count": 114,
     "metadata": {
      "tags": []
     },
     "output_type": "execute_result"
    }
   ],
   "source": [
    "model.fit(x=x_train, y=y_train, epochs=8, batch_size=250, workers=3)"
   ]
  },
  {
   "cell_type": "code",
   "execution_count": 115,
   "metadata": {
    "colab": {
     "base_uri": "https://localhost:8080/",
     "height": 35
    },
    "colab_type": "code",
    "id": "AMS5lY5l8W-O",
    "outputId": "e2d7d6bf-b61b-4202-a384-bdd146226131"
   },
   "outputs": [
    {
     "name": "stdout",
     "output_type": "stream",
     "text": [
      "60000/60000 [==============================] - 1s 22us/step\n"
     ]
    }
   ],
   "source": [
    "a, accuracy1=model.evaluate(x_train,y_train,batch_size=256)"
   ]
  },
  {
   "cell_type": "code",
   "execution_count": 116,
   "metadata": {
    "colab": {
     "base_uri": "https://localhost:8080/",
     "height": 35
    },
    "colab_type": "code",
    "id": "57A56N_k8a6t",
    "outputId": "f99a4a1f-9ba7-48e4-9190-a36a84e2ebc8"
   },
   "outputs": [
    {
     "name": "stdout",
     "output_type": "stream",
     "text": [
      "test_acc: 0.9999833333015442\n"
     ]
    }
   ],
   "source": [
    "print('test_acc:', accuracy1)"
   ]
  },
  {
   "cell_type": "code",
   "execution_count": 117,
   "metadata": {
    "colab": {
     "base_uri": "https://localhost:8080/",
     "height": 323
    },
    "colab_type": "code",
    "id": "a9pWC60txBIx",
    "outputId": "6ffd684c-0acd-488c-a402-acd2c1b5976c"
   },
   "outputs": [
    {
     "name": "stdout",
     "output_type": "stream",
     "text": [
      "Epoch 1/8\n",
      "10000/10000 [==============================] - 1s 59us/step - loss: 0.0198 - acc: 0.9954\n",
      "Epoch 2/8\n",
      "10000/10000 [==============================] - 1s 58us/step - loss: 0.0035 - acc: 0.9993\n",
      "Epoch 3/8\n",
      "10000/10000 [==============================] - 1s 58us/step - loss: 0.0019 - acc: 0.9999\n",
      "Epoch 4/8\n",
      "10000/10000 [==============================] - 1s 59us/step - loss: 0.0017 - acc: 0.9999\n",
      "Epoch 5/8\n",
      "10000/10000 [==============================] - 1s 57us/step - loss: 0.0017 - acc: 0.9999\n",
      "Epoch 6/8\n",
      "10000/10000 [==============================] - 1s 57us/step - loss: 0.0016 - acc: 0.9999\n",
      "Epoch 7/8\n",
      "10000/10000 [==============================] - 1s 57us/step - loss: 0.0017 - acc: 0.9999\n",
      "Epoch 8/8\n",
      "10000/10000 [==============================] - 1s 58us/step - loss: 0.0016 - acc: 0.9999\n"
     ]
    },
    {
     "data": {
      "text/plain": [
       "<keras.callbacks.History at 0x7f4435d27978>"
      ]
     },
     "execution_count": 117,
     "metadata": {
      "tags": []
     },
     "output_type": "execute_result"
    }
   ],
   "source": [
    "model.fit(x=x_test, y=y_test, epochs=8, batch_size=250, workers=3)"
   ]
  },
  {
   "cell_type": "code",
   "execution_count": 118,
   "metadata": {
    "colab": {
     "base_uri": "https://localhost:8080/",
     "height": 35
    },
    "colab_type": "code",
    "id": "fMJ6Yj1l0d2G",
    "outputId": "b65499d6-1062-48fe-f97e-c100405281ac"
   },
   "outputs": [
    {
     "name": "stdout",
     "output_type": "stream",
     "text": [
      "10000/10000 [==============================] - 0s 23us/step\n"
     ]
    }
   ],
   "source": [
    "a, accuracy=model.evaluate(x_test,y_test,batch_size=256)"
   ]
  },
  {
   "cell_type": "code",
   "execution_count": 119,
   "metadata": {
    "colab": {
     "base_uri": "https://localhost:8080/",
     "height": 35
    },
    "colab_type": "code",
    "id": "dwRvbHPK5vA0",
    "outputId": "43f1bdc7-0be6-4a2e-ca2b-e43c6f353013"
   },
   "outputs": [
    {
     "name": "stdout",
     "output_type": "stream",
     "text": [
      "test_acc: 0.9999\n"
     ]
    }
   ],
   "source": [
    "print('test_acc:', accuracy)"
   ]
  },
  {
   "cell_type": "code",
   "execution_count": 121,
   "metadata": {
    "colab": {
     "base_uri": "https://localhost:8080/",
     "height": 787
    },
    "colab_type": "code",
    "id": "6n591jgv6IEI",
    "outputId": "7e304596-4326-482b-f561-c94fe12bb4c4"
   },
   "outputs": [
    {
     "name": "stdout",
     "output_type": "stream",
     "text": [
      "[[0 0 0 0 0 0 0 0 0 0 0 0 0 0 0 0 0 0 0 0 0 0 0 0 0 0 0 0]\n",
      " [0 0 0 0 0 0 0 0 0 0 0 0 0 0 0 0 0 0 0 0 0 0 0 0 0 0 0 0]\n",
      " [0 0 0 0 0 0 0 0 0 0 0 0 0 0 0 0 0 0 0 0 0 0 0 0 0 0 0 0]\n",
      " [0 0 0 0 0 0 0 0 0 0 0 0 0 0 0 0 0 0 0 0 0 0 0 0 0 0 0 0]\n",
      " [0 0 0 0 0 0 0 0 0 0 0 0 0 0 0 0 0 0 0 0 0 0 0 0 0 0 0 0]\n",
      " [0 0 0 0 0 0 0 0 0 0 0 0 0 0 0 0 0 0 0 0 0 0 0 0 0 0 0 0]\n",
      " [0 0 0 0 0 0 0 0 0 0 0 0 0 0 0 0 0 1 1 1 1 0 0 0 0 0 0 0]\n",
      " [0 0 0 0 0 0 0 0 0 0 0 0 0 0 0 1 1 1 1 1 1 0 0 0 0 0 0 0]\n",
      " [0 0 0 0 0 0 0 0 0 0 0 0 0 1 1 1 1 1 1 1 1 0 0 0 0 0 0 0]\n",
      " [0 0 0 0 0 0 0 0 0 0 0 1 1 1 1 1 0 0 1 1 1 0 0 0 0 0 0 0]\n",
      " [0 0 0 0 0 0 0 0 0 0 1 1 1 1 0 0 0 0 1 1 1 0 0 0 0 0 0 0]\n",
      " [0 0 0 0 0 0 0 0 0 0 1 1 1 0 0 0 0 0 1 1 1 0 0 0 0 0 0 0]\n",
      " [0 0 0 0 0 0 0 0 0 1 1 1 0 0 0 0 0 1 1 1 1 0 0 0 0 0 0 0]\n",
      " [0 0 0 0 0 0 0 0 0 1 1 1 0 0 0 0 1 1 1 1 0 0 0 0 0 0 0 0]\n",
      " [0 0 0 0 0 0 0 0 0 1 1 1 1 1 1 1 1 1 1 0 0 0 0 0 0 0 0 0]\n",
      " [0 0 0 0 0 0 0 0 0 0 1 1 1 1 1 1 1 1 1 0 0 0 0 0 0 0 0 0]\n",
      " [0 0 0 0 0 0 0 0 0 0 0 0 0 0 1 1 1 1 0 0 0 0 0 0 0 0 0 0]\n",
      " [0 0 0 0 0 0 0 0 0 0 0 0 0 0 1 1 1 0 0 0 0 0 0 0 0 0 0 0]\n",
      " [0 0 0 0 0 0 0 0 0 0 0 0 0 1 1 1 0 0 0 0 0 0 0 0 0 0 0 0]\n",
      " [0 0 0 0 0 0 0 0 0 0 0 0 1 1 1 1 0 0 0 0 0 0 0 0 0 0 0 0]\n",
      " [0 0 0 0 0 0 0 0 0 0 0 1 1 1 1 1 0 0 0 0 0 0 0 0 0 0 0 0]\n",
      " [0 0 0 0 0 0 0 0 0 0 0 1 1 1 1 0 0 0 0 0 0 0 0 0 0 0 0 0]\n",
      " [0 0 0 0 0 0 0 0 0 0 1 1 1 1 0 0 0 0 0 0 0 0 0 0 0 0 0 0]\n",
      " [0 0 0 0 0 0 0 0 0 1 1 1 1 0 0 0 0 0 0 0 0 0 0 0 0 0 0 0]\n",
      " [0 0 0 0 0 0 0 0 0 1 1 1 0 0 0 0 0 0 0 0 0 0 0 0 0 0 0 0]\n",
      " [0 0 0 0 0 0 0 0 0 1 1 1 0 0 0 0 0 0 0 0 0 0 0 0 0 0 0 0]\n",
      " [0 0 0 0 0 0 0 0 0 0 0 0 0 0 0 0 0 0 0 0 0 0 0 0 0 0 0 0]\n",
      " [0 0 0 0 0 0 0 0 0 0 0 0 0 0 0 0 0 0 0 0 0 0 0 0 0 0 0 0]]\n"
     ]
    },
    {
     "data": {
      "text/plain": [
       "[<matplotlib.lines.Line2D at 0x7f443579d240>]"
      ]
     },
     "execution_count": 121,
     "metadata": {
      "tags": []
     },
     "output_type": "execute_result"
    },
    {
     "data": {
      "image/png": "[encoded data removed]",
      "text/plain": [
       "<Figure size 432x288 with 1 Axes>"
      ]
     },
     "metadata": {
      "tags": []
     },
     "output_type": "display_data"
    }
   ],
   "source": [
    "%matplotlib inline\n",
    "import pylab as plt\n",
    "\n",
    "rdn = np.random.choice(range(10000))\n",
    "vfunc = np.vectorize(round)\n",
    "print(vfunc(x_test[rdn]).reshape((28,28)).astype(int))\n",
    "\n",
    "plt.plot(range(10), model.predict(x_test[rdn:rdn+1]).reshape(10),'o')"
   ]
  },
  {
   "cell_type": "code",
   "execution_count": 122,
   "metadata": {
    "colab": {
     "base_uri": "https://localhost:8080/",
     "height": 1000
    },
    "colab_type": "code",
    "id": "Foe8hWTQt6jh",
    "outputId": "f7394205-f65d-4a2f-fb62-5ac5eca5bad4"
   },
   "outputs": [
    {
     "data": {
      "text/plain": [
       "[array([[ 3.9348751e-04,  2.3246109e-02,  5.0481834e-02, ...,\n",
       "         -2.8851252e-02,  6.6132128e-02, -8.6262561e-03],\n",
       "        [-4.1633978e-02,  1.5377454e-02,  2.9753201e-02, ...,\n",
       "         -3.1551506e-02,  9.1242194e-03, -5.9855580e-02],\n",
       "        [-8.1204288e-03,  8.7354481e-03,  4.7071911e-02, ...,\n",
       "          6.5394744e-02, -3.1672560e-02,  5.0748140e-03],\n",
       "        ...,\n",
       "        [-6.2392574e-02, -4.9363598e-03, -7.9281628e-05, ...,\n",
       "          4.0924706e-02, -1.6934279e-02,  4.1612551e-02],\n",
       "        [-1.5160270e-02,  4.3289579e-02, -4.4698410e-02, ...,\n",
       "          1.5892029e-02, -5.8739435e-02,  4.8043340e-02],\n",
       "        [ 3.9918944e-03, -4.2573169e-02, -2.4937049e-02, ...,\n",
       "         -4.0983059e-02,  5.8685765e-03,  3.6452368e-02]], dtype=float32),\n",
       " array([-2.52503213e-02, -1.57486737e-01,  4.29550372e-02,  1.83693115e-02,\n",
       "         2.35576043e-03,  3.33889052e-02, -5.38907982e-02, -9.53758042e-03,\n",
       "        -3.39760096e-03, -6.39031902e-02, -1.36824086e-01, -6.93771290e-03,\n",
       "        -6.73247203e-02, -4.31115227e-03, -2.74706353e-02,  7.02765584e-02,\n",
       "        -1.09731242e-01, -3.66529301e-02,  3.55323777e-02, -1.41115990e-04,\n",
       "        -1.37000412e-01,  4.14965861e-03,  3.44908200e-02, -6.28235191e-02,\n",
       "        -2.00004075e-02,  1.12411730e-01, -8.98078829e-02,  4.95972373e-02,\n",
       "        -5.77897355e-02, -1.09155281e-02, -4.72722687e-02,  2.55456157e-02,\n",
       "         3.80333476e-02, -9.39772800e-02,  4.78631221e-02,  9.62433740e-02,\n",
       "        -1.96498726e-02, -1.50855288e-01,  4.36270535e-02, -4.23065089e-02,\n",
       "        -1.09478913e-01,  7.58075118e-02, -1.40580773e-01,  8.25784653e-02,\n",
       "        -6.22179285e-02, -1.39346328e-02, -2.14304738e-02, -1.16966269e-03,\n",
       "        -1.56642631e-01, -8.86848941e-03,  3.18431333e-02, -8.06589276e-02,\n",
       "         3.14843394e-02,  2.16377480e-03, -9.18902829e-02,  2.79667396e-02,\n",
       "        -5.03288545e-02, -4.99832407e-02, -1.63958132e-01, -2.61183223e-03,\n",
       "         3.94205078e-02, -4.31501642e-02,  3.22062001e-02, -8.59775692e-02,\n",
       "        -6.64104521e-02,  5.38761951e-02,  3.41151431e-02, -8.73193890e-03,\n",
       "        -1.10748224e-01,  3.34151350e-02, -5.20183854e-02, -1.32370815e-01,\n",
       "        -1.59310937e-01, -2.41776579e-03, -1.24673150e-01, -5.64413378e-03,\n",
       "         7.65115470e-02, -1.06418058e-01, -1.07913874e-01,  1.65771276e-01,\n",
       "        -6.79621249e-02, -7.94446394e-02, -2.45966613e-02, -1.81595296e-01,\n",
       "         9.34160948e-02, -5.55096008e-02, -3.11478544e-02,  1.13895014e-01,\n",
       "         1.18929677e-01, -1.22622170e-01,  6.72618374e-02, -1.33584052e-01,\n",
       "        -5.61288856e-02, -1.12761937e-01, -2.93173119e-02,  7.22392229e-03,\n",
       "         2.51748208e-02,  7.49407802e-04,  2.31102575e-02,  4.35831957e-02,\n",
       "        -1.97781250e-03,  4.89751762e-03, -6.12427853e-02, -1.64517481e-02,\n",
       "        -5.85768558e-02, -6.85981140e-02, -5.48375957e-02, -1.41484231e-01,\n",
       "         9.41525120e-03,  4.22801934e-02, -4.25248556e-02, -6.00092597e-02,\n",
       "         3.08094379e-02, -4.64065820e-02,  1.80632006e-02,  1.08199805e-01,\n",
       "        -5.49291335e-02, -1.32403523e-01, -8.57867524e-02, -1.46394536e-01,\n",
       "        -7.14209974e-02, -2.98242904e-02, -2.36905273e-02,  1.06638543e-01,\n",
       "        -3.70806754e-02,  7.53367925e-03, -3.29536162e-02, -1.56280294e-01,\n",
       "        -1.40774220e-01, -3.33950371e-02, -5.98943010e-02,  1.30519951e-02,\n",
       "        -1.94691136e-01, -1.38092682e-01,  1.63957535e-03, -9.33643803e-02,\n",
       "         4.74930927e-02, -9.48795602e-02, -7.29497373e-02, -7.18806162e-02,\n",
       "         9.45989192e-02,  8.96803662e-02, -9.33429822e-02,  7.79119146e-04,\n",
       "        -4.89136158e-03, -1.79693531e-02,  8.06067586e-02,  7.11317807e-02,\n",
       "        -5.98978028e-02, -7.20009655e-02,  3.81836464e-04, -9.09040645e-02,\n",
       "        -1.02885477e-01,  3.75491790e-02, -7.36329556e-02,  2.44514700e-02,\n",
       "        -5.33710010e-02, -4.57493076e-03,  5.67285679e-02, -4.68446538e-02,\n",
       "        -1.24223284e-01, -1.12724677e-01, -1.34935051e-01, -6.87034577e-02,\n",
       "        -1.18323810e-01,  1.25553403e-02, -9.59041789e-02, -1.28170788e-01,\n",
       "        -6.92805871e-02,  6.24795631e-03, -1.26617849e-01,  3.63021158e-02,\n",
       "        -4.69006225e-02,  1.10640034e-01,  1.34937251e-02, -4.84682508e-02,\n",
       "        -4.09213863e-02,  3.43162194e-03,  1.17309660e-01, -1.05662428e-01,\n",
       "         6.37883693e-02, -4.34685312e-02,  4.70238589e-02, -3.37738581e-02,\n",
       "         3.18001956e-02,  1.12097405e-01, -7.42911398e-02,  5.61271096e-03,\n",
       "        -5.10328040e-02, -1.45943701e-01, -9.48775373e-03, -9.89081711e-02,\n",
       "        -2.31887586e-02,  2.99965683e-02, -4.40768935e-02, -5.24776988e-02,\n",
       "        -1.01061754e-01, -4.88439128e-02, -2.74008196e-02, -4.80988435e-02,\n",
       "        -1.07030116e-01, -2.77811233e-02,  9.27532390e-02, -1.28096923e-01,\n",
       "         7.30806589e-02, -1.12562545e-01, -5.75576536e-02, -1.96537711e-02,\n",
       "        -9.89155397e-02, -1.24411874e-01, -5.20556159e-02,  7.81772509e-02,\n",
       "        -1.41362354e-01, -1.78655311e-02, -9.96084958e-02, -4.03362997e-02,\n",
       "         8.09905306e-02, -6.62345216e-02, -4.11416916e-03,  1.91242173e-01,\n",
       "        -5.85850701e-02, -4.54574041e-02, -3.81247252e-02, -6.90165311e-02,\n",
       "         5.19161997e-03, -9.68874395e-02,  1.31644821e-02, -2.98626274e-02,\n",
       "         4.61463816e-02,  2.87806429e-03, -1.28121348e-02, -9.11408961e-02,\n",
       "         7.26692900e-02, -9.00301442e-04, -3.01922280e-02, -2.79686581e-02,\n",
       "        -2.60918122e-02,  1.87541358e-02,  7.20424950e-02,  2.79474538e-02,\n",
       "        -7.53488392e-02, -7.25752935e-02, -2.27040738e-01, -6.60263449e-02,\n",
       "         1.12687699e-01,  1.16907775e-01, -5.78620806e-02, -4.13654605e-03,\n",
       "        -1.95274323e-01, -2.52588540e-02, -7.20779970e-02, -3.63509730e-02,\n",
       "        -2.97878217e-02, -1.24398060e-01,  5.53613417e-02, -2.17849389e-02,\n",
       "        -7.27713779e-02, -1.40478119e-01, -2.51042098e-02, -1.02753639e-01,\n",
       "         2.50770599e-02, -8.86501968e-02, -5.76897971e-02,  6.22916594e-02,\n",
       "        -1.15580723e-01, -2.74908263e-02,  4.12978232e-02, -4.21855897e-02,\n",
       "         1.17171213e-01,  1.65569633e-02,  5.87678924e-02, -2.99115553e-02,\n",
       "        -1.19192349e-02, -2.17863154e-02,  7.07938848e-03,  7.83537775e-02,\n",
       "        -5.91700077e-02, -5.75648770e-02,  3.74117494e-03, -1.07367247e-01,\n",
       "        -6.51986897e-02, -2.14462504e-02, -5.98381646e-02, -1.40429005e-01,\n",
       "         1.09632686e-01,  2.54246518e-02, -8.19059834e-02, -8.16438198e-02,\n",
       "        -5.57854734e-02, -5.64605035e-02,  1.46500945e-01, -8.40116963e-02,\n",
       "         1.28731817e-01, -6.68467432e-02, -1.49194494e-01, -4.39788662e-02,\n",
       "        -1.27927233e-02,  5.45317531e-02,  4.15483117e-02,  3.76368836e-02,\n",
       "         3.28062177e-02, -9.41973850e-02,  1.76336803e-02, -7.97872469e-02,\n",
       "         2.61995625e-02, -3.43208499e-02, -1.64374009e-01,  4.74861152e-02,\n",
       "        -5.24368510e-02, -5.12954034e-02, -1.56568754e-02, -1.33761108e-01,\n",
       "        -6.24372065e-02, -1.72665752e-02,  7.19768703e-02,  1.26333863e-01,\n",
       "        -6.71039447e-02, -3.90482717e-04,  5.19736931e-02, -4.32701898e-04,\n",
       "        -4.59564291e-03, -1.18900888e-01,  7.72671029e-02,  1.35010136e-02,\n",
       "        -1.20618539e-02,  4.91425656e-02, -9.42399725e-02, -6.40480667e-02,\n",
       "        -1.27584353e-05,  2.89038960e-02, -1.51285693e-01,  1.41450807e-01,\n",
       "         4.20490801e-02, -2.48441715e-02, -3.77964526e-02, -1.00628950e-01,\n",
       "        -5.41009493e-02, -1.07639037e-01, -5.16897775e-02, -5.39637096e-02,\n",
       "        -7.05416650e-02, -2.13611767e-01, -2.50255316e-02, -1.95423916e-01,\n",
       "        -1.25544131e-01, -5.25023565e-02, -5.68120852e-02,  1.49923824e-02,\n",
       "         4.90284674e-02, -6.53649494e-02, -1.11098610e-01,  6.05330523e-03,\n",
       "        -2.48615332e-02, -9.76921692e-02, -1.20924730e-02,  3.09402812e-02,\n",
       "         3.79024781e-02, -1.29657835e-01,  1.09375589e-01,  9.89029184e-03,\n",
       "        -2.54427636e-04, -3.99292670e-02,  5.00558615e-02,  6.26123473e-02,\n",
       "        -6.98158592e-02, -8.71730968e-03,  6.16516806e-02, -9.20582116e-02,\n",
       "         1.32287651e-01, -9.44550037e-02,  3.19027491e-02, -1.27497511e-02,\n",
       "        -1.77985635e-02, -5.40087707e-02, -5.95459193e-02, -8.46798494e-02,\n",
       "         6.74672276e-02,  1.37270354e-02,  3.14263627e-02, -2.43197363e-02,\n",
       "         8.74206126e-02, -2.97313146e-02, -4.29757126e-02,  1.22902893e-01,\n",
       "        -6.58617243e-02, -9.20569450e-02, -3.80138308e-02, -1.33882776e-01,\n",
       "        -9.59771425e-02, -2.09004804e-02, -1.23265475e-01, -8.33610967e-02,\n",
       "        -8.15945789e-02, -7.46335695e-03, -4.13048565e-02,  1.00254856e-01,\n",
       "        -2.93914266e-02, -3.17306742e-02, -1.80905797e-02, -5.84575012e-02,\n",
       "        -1.12583814e-02,  1.63647272e-02, -3.32867168e-02, -6.57589287e-02,\n",
       "        -1.11640148e-01, -1.81162842e-02, -2.75461935e-02, -5.04257381e-02,\n",
       "         3.67735922e-02, -7.85299912e-02, -1.64843976e-01, -2.52017267e-02,\n",
       "         2.74938289e-02, -3.98772471e-02,  4.23353836e-02, -1.20649591e-01,\n",
       "        -1.09616317e-01,  4.59707901e-02,  3.35765667e-02, -2.71081235e-02,\n",
       "        -8.05186257e-02, -1.93255264e-02, -5.18866405e-02, -7.31663778e-02,\n",
       "        -8.08636248e-02, -8.71007740e-02,  2.75087077e-02,  4.10769507e-02,\n",
       "        -7.87698179e-02, -1.66875555e-03, -4.36435826e-02,  5.83839342e-02,\n",
       "        -2.56618727e-02, -1.14077486e-01,  6.53888136e-02, -2.04375740e-02,\n",
       "         3.80647602e-03, -3.61045189e-02, -3.58313844e-02,  2.25792620e-02,\n",
       "        -1.48338094e-01, -5.99869266e-02,  1.24771602e-01,  8.13297182e-02,\n",
       "        -5.19799329e-02,  6.41769394e-02, -3.26259434e-02,  2.68128328e-02,\n",
       "         9.41458996e-03, -1.06259152e-01, -9.21611860e-02, -9.38446149e-02,\n",
       "        -6.31160438e-02, -1.44853011e-01, -8.42175558e-02, -5.90907671e-02,\n",
       "        -1.19199239e-01, -1.66158661e-01, -1.35856166e-01,  1.15976118e-01,\n",
       "         4.53679971e-02, -1.67818576e-01, -3.44687812e-02,  2.58128028e-02,\n",
       "         1.35274529e-01, -5.67562785e-03, -4.06509712e-02, -6.37877807e-02,\n",
       "        -6.66832775e-02,  3.08534037e-02, -1.02810159e-01,  1.22810267e-01,\n",
       "        -2.49415357e-02, -1.69267535e-01, -1.77370273e-02, -1.13175318e-01,\n",
       "        -2.91134957e-02,  5.67867374e-03, -1.10893942e-01, -2.55376957e-02,\n",
       "        -1.05694801e-01,  1.19034937e-02, -1.12375848e-01, -2.62056906e-02,\n",
       "         1.21607641e-02,  3.58765759e-02,  4.30304743e-02, -6.33482337e-02,\n",
       "        -8.38181563e-03,  8.57241359e-03,  1.26947963e-03, -1.66679099e-01,\n",
       "         4.59631300e-03,  6.22235537e-02, -3.43343206e-02, -8.48217495e-03,\n",
       "        -1.48155242e-01, -1.21394686e-01, -3.58593352e-02,  1.76102873e-02,\n",
       "         7.59740323e-02, -9.68471467e-02, -3.63744497e-02, -1.47625702e-02,\n",
       "        -1.16149254e-01, -6.86052367e-02, -1.35374330e-02,  7.00063184e-02,\n",
       "         3.93912904e-02, -6.20661187e-04, -2.64224056e-02, -8.80131721e-02],\n",
       "       dtype=float32),\n",
       " array([[-0.07925303, -0.2231307 , -0.06042119, ...,  0.07533147,\n",
       "         -0.4196364 , -0.7070925 ],\n",
       "        [-0.00452778, -0.0820221 , -0.01660189, ...,  0.0501586 ,\n",
       "         -0.08545139, -0.0084746 ],\n",
       "        [ 0.01536203, -0.39610815, -0.19375384, ...,  0.27121153,\n",
       "         -0.92027533, -0.4957114 ],\n",
       "        ...,\n",
       "        [-0.02434619,  0.18667951, -0.32054505, ..., -0.1057477 ,\n",
       "         -0.24778327,  0.23219931],\n",
       "        [ 0.12064093, -0.29604137,  0.04163251, ..., -0.7595357 ,\n",
       "         -0.10797724, -0.25309846],\n",
       "        [ 0.01735458,  0.10246993, -0.38342628, ..., -0.6714424 ,\n",
       "         -0.03399181, -0.5720769 ]], dtype=float32),\n",
       " array([-0.07671943, -0.14182025, -0.0789135 , -0.01065475,  0.00167562,\n",
       "        -0.00533825, -0.07046124, -0.09180688,  0.11233336, -0.01060521],\n",
       "       dtype=float32)]"
      ]
     },
     "execution_count": 122,
     "metadata": {
      "tags": []
     },
     "output_type": "execute_result"
    }
   ],
   "source": [
    "model.get_weights()"
   ]
  },
  {
   "cell_type": "markdown",
   "metadata": {
    "colab": {},
    "colab_type": "code",
    "id": "ZlnFG4GAslVy"
   },
   "source": [
    "# THANKS"
   ]
  }
 ],
 "metadata": {
  "colab": {
   "name": "Untitled0.ipynb",
   "provenance": []
  },
  "kernelspec": {
   "display_name": "Python 3",
   "language": "python",
   "name": "python3"
  },
  "language_info": {
   "codemirror_mode": {
    "name": "ipython",
    "version": 3
   },
   "file_extension": ".py",
   "mimetype": "text/x-python",
   "name": "python",
   "nbconvert_exporter": "python",
   "pygments_lexer": "ipython3",
   "version": "3.7.3"
  }
 },
 "nbformat": 4,
 "nbformat_minor": 1
}
