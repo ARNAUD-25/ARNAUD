{
 "cells": [
  {
   "cell_type": "markdown",
   "metadata": {},
   "source": [
    "\n",
    "    \n",
    "## Reporting our result.\n",
    "#                               Group 2\n",
    "#### Arnaud WATUSADISI MAVAKALA \n",
    "#### Isaac DOKU \n",
    "####   Rosine Agatha Nathalie FAYE \n",
    "   #### Netho Junior KANINGINI LUTALA \n",
    "  #### Balbine Olive MBOUA ETOGA \n",
    "  #### Faith KIMONGO \n",
    "  #### Sokhna Aminata Sy DIOUF \n",
    "  #### Yoro DIA  "
   ]
  },
  {
   "cell_type": "markdown",
   "metadata": {},
   "source": [
    "The response variable we want to predict is the  total UPDRS scores ('total_UPDRS') from the 16 voice measures."
   ]
  },
  {
   "cell_type": "markdown",
   "metadata": {},
   "source": [
    "The predictors are: 'subject#', 'age', 'sex', 'test_time', 'motor_UPDRS', 'total_UPDRS',\n",
    "       'Jitter(%)', 'Jitter(Abs)', 'Jitter:RAP', 'Jitter:PPQ5', 'Jitter:DDP',\n",
    "       'Shimmer', 'Shimmer(dB)', 'Shimmer:APQ3', 'Shimmer:APQ5',\n",
    "       'Shimmer:APQ11', 'Shimmer:DDA', 'NHR', 'HNR', 'RPDE', 'DFA', 'PPE'"
   ]
  },
  {
   "cell_type": "markdown",
   "metadata": {},
   "source": [
    "The dataset is composed of a range of biomedical voice measurements from 42 people with early-stage Parkinson's disease recruited to a six-month trial of a telemonitoring device for remote symptom progression monitoring. The recordings were automatically captured in the patient's homes.\n",
    "\n",
    "Columns in the table contain subject number, subject age, subject gender, time interval from baseline recruitment date, motor UPDRS, total UPDRS, and 16 biomedical voice measures. Each row corresponds to one of 5,875 voice recording from these individuals.\n"
   ]
  },
  {
   "cell_type": "code",
   "execution_count": 5,
   "metadata": {},
   "outputs": [],
   "source": [
    "import pandas as pd\n",
    "import numpy as np \n"
   ]
  },
  {
   "cell_type": "code",
   "execution_count": 6,
   "metadata": {},
   "outputs": [
    {
     "data": {
      "text/html": [
       "<div>\n",
       "<style scoped>\n",
       "    .dataframe tbody tr th:only-of-type {\n",
       "        vertical-align: middle;\n",
       "    }\n",
       "\n",
       "    .dataframe tbody tr th {\n",
       "        vertical-align: top;\n",
       "    }\n",
       "\n",
       "    .dataframe thead th {\n",
       "        text-align: right;\n",
       "    }\n",
       "</style>\n",
       "<table border=\"1\" class=\"dataframe\">\n",
       "  <thead>\n",
       "    <tr style=\"text-align: right;\">\n",
       "      <th></th>\n",
       "      <th>subject#</th>\n",
       "      <th>age</th>\n",
       "      <th>sex</th>\n",
       "      <th>test_time</th>\n",
       "      <th>motor_UPDRS</th>\n",
       "      <th>total_UPDRS</th>\n",
       "      <th>Jitter(%)</th>\n",
       "      <th>Jitter(Abs)</th>\n",
       "      <th>Jitter:RAP</th>\n",
       "      <th>Jitter:PPQ5</th>\n",
       "      <th>...</th>\n",
       "      <th>Shimmer(dB)</th>\n",
       "      <th>Shimmer:APQ3</th>\n",
       "      <th>Shimmer:APQ5</th>\n",
       "      <th>Shimmer:APQ11</th>\n",
       "      <th>Shimmer:DDA</th>\n",
       "      <th>NHR</th>\n",
       "      <th>HNR</th>\n",
       "      <th>RPDE</th>\n",
       "      <th>DFA</th>\n",
       "      <th>PPE</th>\n",
       "    </tr>\n",
       "  </thead>\n",
       "  <tbody>\n",
       "    <tr>\n",
       "      <td>0</td>\n",
       "      <td>1</td>\n",
       "      <td>72</td>\n",
       "      <td>0</td>\n",
       "      <td>5.6431</td>\n",
       "      <td>28.199</td>\n",
       "      <td>34.398</td>\n",
       "      <td>0.00662</td>\n",
       "      <td>0.000034</td>\n",
       "      <td>0.00401</td>\n",
       "      <td>0.00317</td>\n",
       "      <td>...</td>\n",
       "      <td>0.230</td>\n",
       "      <td>0.01438</td>\n",
       "      <td>0.01309</td>\n",
       "      <td>0.01662</td>\n",
       "      <td>0.04314</td>\n",
       "      <td>0.014290</td>\n",
       "      <td>21.640</td>\n",
       "      <td>0.41888</td>\n",
       "      <td>0.54842</td>\n",
       "      <td>0.16006</td>\n",
       "    </tr>\n",
       "    <tr>\n",
       "      <td>1</td>\n",
       "      <td>1</td>\n",
       "      <td>72</td>\n",
       "      <td>0</td>\n",
       "      <td>12.6660</td>\n",
       "      <td>28.447</td>\n",
       "      <td>34.894</td>\n",
       "      <td>0.00300</td>\n",
       "      <td>0.000017</td>\n",
       "      <td>0.00132</td>\n",
       "      <td>0.00150</td>\n",
       "      <td>...</td>\n",
       "      <td>0.179</td>\n",
       "      <td>0.00994</td>\n",
       "      <td>0.01072</td>\n",
       "      <td>0.01689</td>\n",
       "      <td>0.02982</td>\n",
       "      <td>0.011112</td>\n",
       "      <td>27.183</td>\n",
       "      <td>0.43493</td>\n",
       "      <td>0.56477</td>\n",
       "      <td>0.10810</td>\n",
       "    </tr>\n",
       "    <tr>\n",
       "      <td>2</td>\n",
       "      <td>1</td>\n",
       "      <td>72</td>\n",
       "      <td>0</td>\n",
       "      <td>19.6810</td>\n",
       "      <td>28.695</td>\n",
       "      <td>35.389</td>\n",
       "      <td>0.00481</td>\n",
       "      <td>0.000025</td>\n",
       "      <td>0.00205</td>\n",
       "      <td>0.00208</td>\n",
       "      <td>...</td>\n",
       "      <td>0.181</td>\n",
       "      <td>0.00734</td>\n",
       "      <td>0.00844</td>\n",
       "      <td>0.01458</td>\n",
       "      <td>0.02202</td>\n",
       "      <td>0.020220</td>\n",
       "      <td>23.047</td>\n",
       "      <td>0.46222</td>\n",
       "      <td>0.54405</td>\n",
       "      <td>0.21014</td>\n",
       "    </tr>\n",
       "    <tr>\n",
       "      <td>3</td>\n",
       "      <td>1</td>\n",
       "      <td>72</td>\n",
       "      <td>0</td>\n",
       "      <td>25.6470</td>\n",
       "      <td>28.905</td>\n",
       "      <td>35.810</td>\n",
       "      <td>0.00528</td>\n",
       "      <td>0.000027</td>\n",
       "      <td>0.00191</td>\n",
       "      <td>0.00264</td>\n",
       "      <td>...</td>\n",
       "      <td>0.327</td>\n",
       "      <td>0.01106</td>\n",
       "      <td>0.01265</td>\n",
       "      <td>0.01963</td>\n",
       "      <td>0.03317</td>\n",
       "      <td>0.027837</td>\n",
       "      <td>24.445</td>\n",
       "      <td>0.48730</td>\n",
       "      <td>0.57794</td>\n",
       "      <td>0.33277</td>\n",
       "    </tr>\n",
       "    <tr>\n",
       "      <td>4</td>\n",
       "      <td>1</td>\n",
       "      <td>72</td>\n",
       "      <td>0</td>\n",
       "      <td>33.6420</td>\n",
       "      <td>29.187</td>\n",
       "      <td>36.375</td>\n",
       "      <td>0.00335</td>\n",
       "      <td>0.000020</td>\n",
       "      <td>0.00093</td>\n",
       "      <td>0.00130</td>\n",
       "      <td>...</td>\n",
       "      <td>0.176</td>\n",
       "      <td>0.00679</td>\n",
       "      <td>0.00929</td>\n",
       "      <td>0.01819</td>\n",
       "      <td>0.02036</td>\n",
       "      <td>0.011625</td>\n",
       "      <td>26.126</td>\n",
       "      <td>0.47188</td>\n",
       "      <td>0.56122</td>\n",
       "      <td>0.19361</td>\n",
       "    </tr>\n",
       "    <tr>\n",
       "      <td>5</td>\n",
       "      <td>1</td>\n",
       "      <td>72</td>\n",
       "      <td>0</td>\n",
       "      <td>40.6520</td>\n",
       "      <td>29.435</td>\n",
       "      <td>36.870</td>\n",
       "      <td>0.00353</td>\n",
       "      <td>0.000023</td>\n",
       "      <td>0.00119</td>\n",
       "      <td>0.00159</td>\n",
       "      <td>...</td>\n",
       "      <td>0.214</td>\n",
       "      <td>0.01006</td>\n",
       "      <td>0.01337</td>\n",
       "      <td>0.02263</td>\n",
       "      <td>0.03019</td>\n",
       "      <td>0.009438</td>\n",
       "      <td>22.946</td>\n",
       "      <td>0.53949</td>\n",
       "      <td>0.57243</td>\n",
       "      <td>0.19500</td>\n",
       "    </tr>\n",
       "    <tr>\n",
       "      <td>6</td>\n",
       "      <td>1</td>\n",
       "      <td>72</td>\n",
       "      <td>0</td>\n",
       "      <td>47.6490</td>\n",
       "      <td>29.682</td>\n",
       "      <td>37.363</td>\n",
       "      <td>0.00422</td>\n",
       "      <td>0.000024</td>\n",
       "      <td>0.00212</td>\n",
       "      <td>0.00221</td>\n",
       "      <td>...</td>\n",
       "      <td>0.445</td>\n",
       "      <td>0.02376</td>\n",
       "      <td>0.02621</td>\n",
       "      <td>0.03488</td>\n",
       "      <td>0.07128</td>\n",
       "      <td>0.013260</td>\n",
       "      <td>22.506</td>\n",
       "      <td>0.49250</td>\n",
       "      <td>0.54779</td>\n",
       "      <td>0.17563</td>\n",
       "    </tr>\n",
       "    <tr>\n",
       "      <td>7</td>\n",
       "      <td>1</td>\n",
       "      <td>72</td>\n",
       "      <td>0</td>\n",
       "      <td>54.6400</td>\n",
       "      <td>29.928</td>\n",
       "      <td>37.857</td>\n",
       "      <td>0.00476</td>\n",
       "      <td>0.000025</td>\n",
       "      <td>0.00226</td>\n",
       "      <td>0.00259</td>\n",
       "      <td>...</td>\n",
       "      <td>0.212</td>\n",
       "      <td>0.00979</td>\n",
       "      <td>0.01462</td>\n",
       "      <td>0.01911</td>\n",
       "      <td>0.02937</td>\n",
       "      <td>0.027969</td>\n",
       "      <td>22.929</td>\n",
       "      <td>0.47712</td>\n",
       "      <td>0.54234</td>\n",
       "      <td>0.23844</td>\n",
       "    </tr>\n",
       "    <tr>\n",
       "      <td>8</td>\n",
       "      <td>1</td>\n",
       "      <td>72</td>\n",
       "      <td>0</td>\n",
       "      <td>61.6690</td>\n",
       "      <td>30.177</td>\n",
       "      <td>38.353</td>\n",
       "      <td>0.00432</td>\n",
       "      <td>0.000029</td>\n",
       "      <td>0.00156</td>\n",
       "      <td>0.00207</td>\n",
       "      <td>...</td>\n",
       "      <td>0.371</td>\n",
       "      <td>0.01774</td>\n",
       "      <td>0.02134</td>\n",
       "      <td>0.03451</td>\n",
       "      <td>0.05323</td>\n",
       "      <td>0.013381</td>\n",
       "      <td>22.078</td>\n",
       "      <td>0.51563</td>\n",
       "      <td>0.61864</td>\n",
       "      <td>0.20037</td>\n",
       "    </tr>\n",
       "    <tr>\n",
       "      <td>9</td>\n",
       "      <td>1</td>\n",
       "      <td>72</td>\n",
       "      <td>0</td>\n",
       "      <td>68.6880</td>\n",
       "      <td>30.424</td>\n",
       "      <td>38.849</td>\n",
       "      <td>0.00496</td>\n",
       "      <td>0.000027</td>\n",
       "      <td>0.00258</td>\n",
       "      <td>0.00253</td>\n",
       "      <td>...</td>\n",
       "      <td>0.310</td>\n",
       "      <td>0.02030</td>\n",
       "      <td>0.01970</td>\n",
       "      <td>0.02569</td>\n",
       "      <td>0.06089</td>\n",
       "      <td>0.018021</td>\n",
       "      <td>22.606</td>\n",
       "      <td>0.50032</td>\n",
       "      <td>0.58673</td>\n",
       "      <td>0.20117</td>\n",
       "    </tr>\n",
       "  </tbody>\n",
       "</table>\n",
       "<p>10 rows × 22 columns</p>\n",
       "</div>"
      ],
      "text/plain": [
       "   subject#  age  sex  test_time  motor_UPDRS  total_UPDRS  Jitter(%)  \\\n",
       "0         1   72    0     5.6431       28.199       34.398    0.00662   \n",
       "1         1   72    0    12.6660       28.447       34.894    0.00300   \n",
       "2         1   72    0    19.6810       28.695       35.389    0.00481   \n",
       "3         1   72    0    25.6470       28.905       35.810    0.00528   \n",
       "4         1   72    0    33.6420       29.187       36.375    0.00335   \n",
       "5         1   72    0    40.6520       29.435       36.870    0.00353   \n",
       "6         1   72    0    47.6490       29.682       37.363    0.00422   \n",
       "7         1   72    0    54.6400       29.928       37.857    0.00476   \n",
       "8         1   72    0    61.6690       30.177       38.353    0.00432   \n",
       "9         1   72    0    68.6880       30.424       38.849    0.00496   \n",
       "\n",
       "   Jitter(Abs)  Jitter:RAP  Jitter:PPQ5  ...  Shimmer(dB)  Shimmer:APQ3  \\\n",
       "0     0.000034     0.00401      0.00317  ...        0.230       0.01438   \n",
       "1     0.000017     0.00132      0.00150  ...        0.179       0.00994   \n",
       "2     0.000025     0.00205      0.00208  ...        0.181       0.00734   \n",
       "3     0.000027     0.00191      0.00264  ...        0.327       0.01106   \n",
       "4     0.000020     0.00093      0.00130  ...        0.176       0.00679   \n",
       "5     0.000023     0.00119      0.00159  ...        0.214       0.01006   \n",
       "6     0.000024     0.00212      0.00221  ...        0.445       0.02376   \n",
       "7     0.000025     0.00226      0.00259  ...        0.212       0.00979   \n",
       "8     0.000029     0.00156      0.00207  ...        0.371       0.01774   \n",
       "9     0.000027     0.00258      0.00253  ...        0.310       0.02030   \n",
       "\n",
       "   Shimmer:APQ5  Shimmer:APQ11  Shimmer:DDA       NHR     HNR     RPDE  \\\n",
       "0       0.01309        0.01662      0.04314  0.014290  21.640  0.41888   \n",
       "1       0.01072        0.01689      0.02982  0.011112  27.183  0.43493   \n",
       "2       0.00844        0.01458      0.02202  0.020220  23.047  0.46222   \n",
       "3       0.01265        0.01963      0.03317  0.027837  24.445  0.48730   \n",
       "4       0.00929        0.01819      0.02036  0.011625  26.126  0.47188   \n",
       "5       0.01337        0.02263      0.03019  0.009438  22.946  0.53949   \n",
       "6       0.02621        0.03488      0.07128  0.013260  22.506  0.49250   \n",
       "7       0.01462        0.01911      0.02937  0.027969  22.929  0.47712   \n",
       "8       0.02134        0.03451      0.05323  0.013381  22.078  0.51563   \n",
       "9       0.01970        0.02569      0.06089  0.018021  22.606  0.50032   \n",
       "\n",
       "       DFA      PPE  \n",
       "0  0.54842  0.16006  \n",
       "1  0.56477  0.10810  \n",
       "2  0.54405  0.21014  \n",
       "3  0.57794  0.33277  \n",
       "4  0.56122  0.19361  \n",
       "5  0.57243  0.19500  \n",
       "6  0.54779  0.17563  \n",
       "7  0.54234  0.23844  \n",
       "8  0.61864  0.20037  \n",
       "9  0.58673  0.20117  \n",
       "\n",
       "[10 rows x 22 columns]"
      ]
     },
     "execution_count": 6,
     "metadata": {},
     "output_type": "execute_result"
    }
   ],
   "source": [
    "pathData='/home/students/Bureau/InPy/BIG-DATA/AIMS senegal/data'\n",
    "data=pd.read_csv(pathData+'/parkinsons_updrs.csv')\n",
    "data.head(10)"
   ]
  },
  {
   "cell_type": "code",
   "execution_count": 8,
   "metadata": {},
   "outputs": [
    {
     "data": {
      "text/plain": [
       "(5875, 22)"
      ]
     },
     "execution_count": 8,
     "metadata": {},
     "output_type": "execute_result"
    }
   ],
   "source": [
    "data.shape"
   ]
  },
  {
   "cell_type": "code",
   "execution_count": 24,
   "metadata": {},
   "outputs": [
    {
     "data": {
      "text/plain": [
       "array([[-1.65659628,  0.81569539, -0.68250887, ..., -1.21406557,\n",
       "        -1.47849968, -0.65065821],\n",
       "       [-1.65659628,  0.81569539, -0.68250887, ..., -1.05511879,\n",
       "        -1.24788006, -1.21858474],\n",
       "       [-1.65659628,  0.81569539, -0.68250887, ..., -0.78485974,\n",
       "        -1.5401393 , -0.10328021],\n",
       "       ...,\n",
       "       [ 1.65754564, -0.43136086, -0.68250887, ..., -0.62937908,\n",
       "        -1.04885603, -0.85275524],\n",
       "       [ 1.65754564, -0.43136086, -0.68250887, ...,  0.26914065,\n",
       "        -1.26903782, -0.8476181 ],\n",
       "       [ 1.65754564, -0.43136086, -0.68250887, ...,  0.44175389,\n",
       "        -1.163249  , -0.72388969]])"
      ]
     },
     "execution_count": 24,
     "metadata": {},
     "output_type": "execute_result"
    }
   ],
   "source": [
    "pca machine learning python example# from sklearn.decomposition import PCA\n",
    "# pca_parkinsons = PCA(n_components=22)\n",
    "# principalComponents_parkisons = pca_parkinsons.fit_transform(data)\n",
    "\n",
    "\n",
    "# principal_parkinsons_Df= pd.DataFrame(principalComponents_parkisons)\n",
    "# principal_parkinsons_Df\n",
    "\n",
    "from sklearn.preprocessing import StandardScaler\n",
    "X_std = StandardScaler().fit_transform(data)\n",
    "X_std"
   ]
  },
  {
   "cell_type": "code",
   "execution_count": 52,
   "metadata": {},
   "outputs": [],
   "source": [
    "#print('NumPy covariance matrix: \\n%s' %np.cov(X_std.T))"
   ]
  },
  {
   "cell_type": "code",
   "execution_count": 78,
   "metadata": {},
   "outputs": [
    {
     "name": "stdout",
     "output_type": "stream",
     "text": [
      "Eigenvectors \n",
      "[[-5.45335563e-02 -2.15210581e-01 -9.78598147e-03 -3.08752212e-01\n",
      "   6.60451300e-01  2.30389153e-02  5.33404557e-02 -7.64875558e-02\n",
      "   6.33260134e-01  3.37502533e-02 -8.00564389e-02 -2.48143612e-03\n",
      "   5.36511101e-03  1.37418201e-02 -2.25676478e-02  1.90030481e-02\n",
      "  -3.71008858e-03 -9.97095863e-03  6.26131136e-03  7.17275756e-03\n",
      "  -6.98456832e-06  3.73900238e-07]\n",
      " [-2.73216904e-02 -3.19141812e-01  4.65453974e-02  1.46865538e-01\n",
      "  -3.12628216e-01  6.16829989e-02  8.42421539e-01 -3.18745896e-03\n",
      "   2.20351286e-01 -8.89705247e-02  3.08863678e-02 -5.10207069e-02\n",
      "  -1.83039693e-02  2.53636793e-02 -3.49835361e-02  7.42351333e-03\n",
      "  -8.52881232e-03 -8.73668737e-03  2.56628738e-03 -4.22178805e-04\n",
      "   1.61355339e-07 -4.74835272e-07]\n",
      " [-1.06219527e-02  3.49677662e-02  2.73951686e-01 -5.76451705e-01\n",
      "   2.68882231e-01 -2.84519611e-02  3.61906643e-01 -5.53505589e-02\n",
      "  -5.89407175e-01 -8.18818975e-03 -9.23993041e-02  4.88461664e-02\n",
      "  -1.17241840e-01 -7.59036723e-02  6.55827590e-02  4.10667659e-02\n",
      "   6.46098775e-03  1.49009650e-02 -4.60157571e-03  2.60896515e-04\n",
      "   1.44306731e-05 -1.38709394e-07]\n",
      " [ 9.58278928e-03 -7.59962225e-02 -6.50137727e-02 -1.06869119e-02\n",
      "  -4.44368652e-02 -9.78503390e-01  2.35377048e-02 -1.66689006e-01\n",
      "   2.89512791e-02 -1.36141614e-02 -1.70408863e-03  5.86642660e-03\n",
      "   2.62384208e-02 -1.31158893e-02 -6.60797825e-03 -2.56372197e-03\n",
      "  -2.58890360e-03 -4.82248348e-03  2.29449880e-03 -1.48049313e-03\n",
      "  -6.76477047e-06 -1.73872313e-06]\n",
      " [-4.12278663e-02 -6.12995629e-01 -1.18781932e-01 -1.01824321e-01\n",
      "  -4.20548957e-02  2.31754092e-02 -2.02407154e-01  1.63473836e-01\n",
      "  -2.07940409e-01 -1.81881759e-02  3.63232654e-02  4.96598647e-02\n",
      "  -3.07473322e-02 -7.16355628e-04 -6.63108751e-01  1.93421279e-01\n",
      "  -3.37902647e-02 -3.19702819e-02  2.00767942e-02  8.23618988e-03\n",
      "  -2.00172549e-05  5.01598799e-06]\n",
      " [-3.94275708e-02 -6.21577338e-01 -1.37582583e-01 -6.06281148e-02\n",
      "  -5.73604857e-02  2.48459864e-02 -1.89664198e-01  1.29909859e-01\n",
      "  -1.24062044e-01 -7.20234354e-02 -2.60963596e-02 -6.42663554e-02\n",
      "  -4.75026071e-02  4.58045323e-03  6.82675693e-01 -1.89941498e-01\n",
      "   3.43074562e-02  3.50341059e-02 -2.17111149e-02 -7.65835910e-03\n",
      "   1.36111152e-05 -5.54003546e-06]\n",
      " [-2.65414048e-01  8.68806315e-02 -2.32914727e-01 -2.01046784e-01\n",
      "  -1.26065959e-01  1.39479264e-02  1.84144586e-02  2.49973778e-02\n",
      "   4.80846385e-02 -5.99367946e-02 -4.04067110e-03  1.15219793e-01\n",
      "   1.13671799e-01 -4.17319897e-03 -1.33703671e-02  4.60760257e-02\n",
      "   1.39403071e-01  2.71027615e-03 -8.67123430e-01 -6.71295904e-02\n",
      "   3.33028562e-05 -2.99795081e-05]\n",
      " [-2.47925771e-01  8.06341566e-02 -3.14219183e-01  4.47367668e-02\n",
      "  -5.93382304e-02  1.44932634e-02  1.07764467e-02 -6.57565078e-02\n",
      "   3.78625041e-02  1.12924112e-01 -3.12821554e-01 -2.06219418e-01\n",
      "  -5.95618744e-01 -4.92223219e-01  3.04120229e-02  2.54111920e-01\n",
      "   1.75181200e-02  1.68097148e-02  7.29505456e-02  1.00581622e-02\n",
      "  -8.38228042e-06  3.34488238e-06]\n",
      " [-2.57459296e-01  9.99935723e-02 -2.33653740e-01 -2.33634265e-01\n",
      "  -1.45019985e-01  1.65149191e-02  1.80971072e-02  6.15792923e-02\n",
      "   3.39620455e-02 -1.34220519e-01 -1.92159295e-01  6.62292496e-02\n",
      "   2.02441151e-01 -2.59962006e-02 -6.95145709e-02 -3.00899406e-01\n",
      "  -9.01514440e-02 -1.50827637e-01  2.46456754e-01  5.37938333e-03\n",
      "  -7.07072354e-01  2.33118661e-03]\n",
      " [-2.63550999e-01  8.75571428e-02 -1.56304828e-01 -2.30418335e-01\n",
      "  -1.37849867e-01  4.71840133e-03 -7.00248175e-03  4.15218899e-02\n",
      "   6.73642333e-02 -1.02251759e-01  2.83777937e-01  8.19428726e-02\n",
      "   1.96137318e-01  1.69924650e-01  1.92053621e-01  6.44911851e-01\n",
      "   7.87070855e-02  3.27763101e-01  2.91713019e-01  5.87781585e-02\n",
      "  -9.11026928e-05  1.12646718e-05]\n",
      " [-2.57460801e-01  9.99851124e-02 -2.33659971e-01 -2.33628946e-01\n",
      "  -1.45014950e-01  1.65026693e-02  1.80915716e-02  6.15949211e-02\n",
      "   3.39809723e-02 -1.34204528e-01 -1.92115926e-01  6.62069416e-02\n",
      "   2.02451848e-01 -2.60089162e-02 -6.95563527e-02 -3.00867201e-01\n",
      "  -9.00376610e-02 -1.50591099e-01  2.46532868e-01  5.34640152e-03\n",
      "   7.07133540e-01 -2.31724229e-03]\n",
      " [-2.77600822e-01 -1.56923099e-02  2.45401667e-01  8.25394622e-02\n",
      "   1.00986181e-02 -3.29867943e-02 -4.36688682e-02  7.61596389e-02\n",
      "   2.42102640e-02 -2.88618497e-02 -3.40814357e-02  4.94953732e-02\n",
      "  -6.30248440e-02  5.40115819e-02 -1.54544288e-02  1.73154873e-03\n",
      "   2.69751825e-01 -3.86034455e-02  1.09709383e-01 -8.65046415e-01\n",
      "  -3.98770766e-05  3.25248594e-05]\n",
      " [-2.77946432e-01 -2.06659413e-02  2.33699290e-01  8.08655403e-02\n",
      "   2.07801815e-03 -3.17963171e-02 -3.44588839e-02  6.26327968e-02\n",
      "   1.86661981e-02  2.14659343e-02 -3.14414484e-03  8.96104157e-02\n",
      "  -7.13635497e-02  2.46686705e-02 -4.80947925e-02 -1.14628781e-01\n",
      "   7.76006028e-01 -1.34766449e-01  8.83757372e-02  4.43708897e-01\n",
      "  -3.21896299e-05 -1.56840607e-05]\n",
      " [-2.67976258e-01 -9.15807408e-03  2.67629532e-01  1.12085990e-01\n",
      "   1.47662881e-04 -4.53300891e-02 -4.98465293e-02  1.12463091e-01\n",
      "   8.05454249e-03 -4.78808938e-02 -3.39072819e-01 -7.56276453e-02\n",
      "  -3.74381348e-02  2.30666173e-01 -2.51560555e-02  1.45182772e-03\n",
      "  -2.20041270e-01  2.81873189e-01 -6.97706789e-02  1.25293995e-01\n",
      "  -2.33717392e-03 -7.07103318e-01]\n",
      " [-2.73501681e-01 -1.00434079e-02  2.59909702e-01  7.86165034e-02\n",
      "   1.08577326e-02 -3.34303586e-02 -5.35851996e-02  8.33241708e-02\n",
      "   1.96440362e-02 -4.09831528e-02  1.25541582e-01  5.23040261e-02\n",
      "  -3.44998232e-02  1.93411108e-02  1.52830898e-01  3.06484683e-01\n",
      "  -3.35079340e-01 -7.58273710e-01 -5.09582241e-02  1.05082192e-01\n",
      "   1.53073728e-04 -2.81435204e-05]\n",
      " [-2.61317108e-01 -5.31989863e-02  2.23161019e-01  1.37522543e-01\n",
      "   7.11868450e-02 -1.94399514e-02 -4.07655529e-03  8.41615839e-02\n",
      "   2.91416154e-02  3.00755883e-02  3.28345585e-01  4.25120414e-01\n",
      "   1.03410363e-01 -6.18814635e-01  2.43383915e-03 -1.78034998e-01\n",
      "  -2.12208024e-01  2.89583789e-01 -1.49215940e-03  5.57837760e-02\n",
      "  -3.77604381e-05  9.57385296e-06]\n",
      " [-2.67975837e-01 -9.15826360e-03  2.67630808e-01  1.12085939e-01\n",
      "   1.46847656e-04 -4.53337514e-02 -4.98454591e-02  1.12469400e-01\n",
      "   8.05445095e-03 -4.78778386e-02 -3.39074957e-01 -7.56355555e-02\n",
      "  -3.74304166e-02  2.30667453e-01 -2.51422947e-02  1.46082908e-03\n",
      "  -2.20037922e-01  2.81836494e-01 -6.98229400e-02  1.25342680e-01\n",
      "   2.31126499e-03  7.07102603e-01]\n",
      " [-2.57408554e-01  4.61827038e-02  5.67899724e-02 -2.20241933e-01\n",
      "  -1.11161226e-01  1.09249211e-02 -7.88620313e-02 -1.68516707e-01\n",
      "   6.75054529e-02 -2.88772183e-02  5.77794703e-01 -3.48584105e-01\n",
      "  -4.20539431e-01  2.20168229e-01 -1.03120049e-01 -3.33770034e-01\n",
      "  -1.32503220e-01  8.03325255e-02 -9.47519522e-03  2.38912992e-02\n",
      "  -1.26423998e-05  6.28074292e-06]\n",
      " [ 2.56673062e-01  6.08370979e-02  6.34386015e-03 -1.60801518e-01\n",
      "  -1.78318150e-01 -2.75232427e-02 -4.49376807e-02  1.67208903e-01\n",
      "   1.80613187e-01 -1.77507073e-01 -6.31246571e-02  6.65281360e-01\n",
      "  -5.26966432e-01  2.20989023e-01  3.01215380e-02 -2.82361834e-02\n",
      "  -4.87113249e-02  7.61026223e-03  2.27911190e-02  9.42940298e-03\n",
      "   2.08291019e-05  6.37962092e-06]\n",
      " [-1.67637721e-01 -9.29058242e-02 -1.47928090e-01  2.85875214e-01\n",
      "   1.92983962e-01  1.24411782e-01 -8.77801652e-03 -7.12869368e-01\n",
      "  -1.84612766e-01 -4.32872873e-01 -4.11534119e-02  2.42805195e-01\n",
      "  -3.28621033e-02  1.21935279e-01 -1.10642074e-02  9.61117229e-03\n",
      "  -1.09204899e-02  1.78822934e-04  1.41071302e-02  9.37379501e-03\n",
      "   1.93585852e-05  6.30185261e-06]\n",
      " [-6.88921201e-02  1.47154011e-01 -3.52446262e-01  3.04100938e-01\n",
      "   4.54087823e-01 -1.05451342e-01  1.98097801e-01  5.35552013e-01\n",
      "  -1.94243986e-01 -3.27360728e-01  1.85660493e-01 -6.19721752e-02\n",
      "  -1.16177141e-01  1.13603843e-01 -1.37110064e-02 -5.94517225e-02\n",
      "   8.91314788e-03  7.42407560e-03 -3.15155281e-03  7.30040487e-03\n",
      "  -8.70523912e-06 -6.77387957e-07]\n",
      " [-2.29915396e-01 -3.32977983e-02 -2.72045283e-01  1.40816937e-01\n",
      "   1.15653096e-01  8.93814278e-03  1.39068479e-01 -7.09194427e-02\n",
      "  -1.47225680e-01  7.66158890e-01  3.43331205e-02  2.91203522e-01\n",
      "  -3.16644814e-02  3.19929942e-01  3.83742431e-02 -7.82914563e-02\n",
      "  -7.84349300e-02 -1.56062661e-02  4.69668877e-02 -1.23474692e-02\n",
      "   7.81556668e-06  2.55545922e-06]]\n",
      "\n",
      "Eigenvalues \n",
      "[1.13309840e+01 2.23738274e+00 1.70152856e+00 1.48240440e+00\n",
      " 1.16837794e+00 9.98199721e-01 8.20745238e-01 7.10189325e-01\n",
      " 5.06226704e-01 2.92931678e-01 2.03311064e-01 1.69369826e-01\n",
      " 1.48016444e-01 9.87533920e-02 4.83239081e-02 4.00694115e-02\n",
      " 2.01589637e-02 1.37563244e-02 8.60580769e-03 4.40946976e-03\n",
      " 3.77620217e-07 2.08430905e-08]\n"
     ]
    }
   ],
   "source": [
    "cov_mat = np.cov(X_std.T)\n",
    "\n",
    "eig_vals, eig_vecs = np.linalg.eig(cov_mat)\n",
    "\n",
    "print('Eigenvectors \\n%s' %eig_vecs)\n",
    "print('\\nEigenvalues \\n%s' %eig_vals)"
   ]
  },
  {
   "cell_type": "code",
   "execution_count": 80,
   "metadata": {},
   "outputs": [],
   "source": [
    "for ev in eig_vecs:\n",
    "    np.testing.assert_array_almost_equal(1.0, np.linalg.norm(ev))"
   ]
  },
  {
   "cell_type": "code",
   "execution_count": 87,
   "metadata": {},
   "outputs": [
    {
     "name": "stdout",
     "output_type": "stream",
     "text": [
      "Eigenvalues in descending order:\n",
      "11.330984003072695\n",
      "2.2373827415778766\n",
      "1.7015285603359616\n",
      "1.4824043973278687\n",
      "1.1683779399889347\n",
      "0.9981997213396494\n",
      "0.8207452378474037\n",
      "0.7101893251536338\n",
      "0.5062267038595746\n",
      "0.2929316783881545\n",
      "0.20331106398061433\n",
      "0.1693698261629302\n",
      "0.14801644372829006\n",
      "0.09875339197751613\n",
      "0.04832390811609591\n",
      "0.040069411539279946\n",
      "0.020158963656007698\n",
      "0.013756324384862342\n",
      "0.008605807691242721\n",
      "0.004409469760141154\n",
      "3.776202169090391e-07\n",
      "2.0843090458636404e-08\n"
     ]
    }
   ],
   "source": [
    "# Make a list of (eigenvalue, eigenvector) tuples\n",
    "eig_pairs = [(np.abs(eig_vals[i]), eig_vecs[:,i]) for i in range(len(eig_vals))]\n",
    "\n",
    "# Sort the (eigenvalue, eigenvector) tuples from high to low\n",
    "eig_pairs.sort()\n",
    "eig_pairs.reverse()\n",
    "\n",
    "# Visually confirm that the list is correctly sorted by decreasing eigenvalues\n",
    "print('Eigenvalues in descending order:')\n",
    "for i in eig_pairs:\n",
    "    print(i[0])"
   ]
  },
  {
   "cell_type": "code",
   "execution_count": 90,
   "metadata": {},
   "outputs": [
    {
     "data": {
      "text/plain": [
       "(5875, 22)"
      ]
     },
     "execution_count": 90,
     "metadata": {},
     "output_type": "execute_result"
    }
   ],
   "source": [
    "data.shape"
   ]
  },
  {
   "cell_type": "code",
   "execution_count": 89,
   "metadata": {},
   "outputs": [
    {
     "data": {
      "image/png": "[encoded data removed]",
      "text/plain": [
       "<Figure size 576x360 with 1 Axes>"
      ]
     },
     "metadata": {
      "needs_background": "light"
     },
     "output_type": "display_data"
    }
   ],
   "source": [
    "import matplotlib\n",
    "import matplotlib.pyplot as plt\n",
    "\n",
    "fig = plt.figure(figsize=(8,5))\n",
    "\n",
    "plt.plot(s, eig_vals, 'ro-', linewidth=2)\n",
    "plt.title('Scree Plot')\n",
    "plt.xlabel('Principal Component')\n",
    "plt.ylabel('Eigenvalue')\n",
    "#I don't like the default legend so I typically make mine like below, e.g.\n",
    "#with smaller fonts and a bit transparent so I do not cover up data, and make\n",
    "#it moveable by the viewer in case upper-right is a bad place for it \n",
    "# leg = plt.legend(['Eigenvalues from SVD'], loc='best', borderpad=0.3, \n",
    "#                  shadow=False, prop=matplotlib.font_manager.FontProperties(size='small'),\n",
    "#                  markerscale=0.4)\n",
    "# leg.get_frame().set_alpha(0.4)\n",
    "# leg.draggable(state=True)\n",
    "plt.show()"
   ]
  },
  {
   "cell_type": "markdown",
   "metadata": {},
   "source": [
    "The plot above clearly shows that most of the variance can be explained by the last principal component alone. \n",
    "The second principal component still bears some information\n",
    "while the other principal components can safely be dropped without losing to much information. \n",
    "Together, the last two principal components contain most of the information."
   ]
  },
  {
   "cell_type": "code",
   "execution_count": 75,
   "metadata": {},
   "outputs": [],
   "source": [
    "from sklearn.linear_model import LinearRegression\n",
    "N=5875\n",
    "np.random.seed(32)\n",
    "n=1000\n",
    "sample_index=np.random.choice(np.arange(0,N),n)\n",
    "sample=data.iloc[sample_index,]"
   ]
  },
  {
   "cell_type": "code",
   "execution_count": 76,
   "metadata": {},
   "outputs": [
    {
     "data": {
      "text/plain": [
       "10.174664646081549"
      ]
     },
     "execution_count": 76,
     "metadata": {},
     "output_type": "execute_result"
    }
   ],
   "source": [
    "from sklearn.metrics import mean_squared_error\n",
    "#*by using cross validation compute an estimate of the expected test error\n",
    "np.random.seed(32)\n",
    "## Cross validation\n",
    "k=5\n",
    "\n",
    "### I will first randomly pick the indices of my  sample .. so I simply reshiffle them\n",
    "shuffleIndex=np.random.choice(sample.index,n)\n",
    "\n",
    "## then reshape the indices into a matrix of n/k by k. Each row will refer to  fold\n",
    "shuffleIndex=shuffleIndex.reshape(np.int(n/k),k)\n",
    "shuffleIndex[0:10,:]\n",
    "\n",
    "subset=shuffleIndex[0,]\n",
    "sample.loc[subset,]\n",
    "\n",
    "lm=LinearRegression()\n",
    "# # now a for loop and each time droping  one column\n",
    "mses=[]\n",
    "for i in range(5):\n",
    "    train=sample.drop(shuffleIndex[:,i])# training\n",
    "    test=sample.loc[shuffleIndex[:,i],:]# test \n",
    "    \n",
    "    lm.fit(X=train.drop('total_UPDRS',axis=1),y=train['total_UPDRS']) # fit the model\n",
    "    pred=lm.predict(test.drop('total_UPDRS',axis=1)) # make predictions\n",
    "    mse=mean_squared_error(pred,test['total_UPDRS']) # compute mse\n",
    "    mses.append(mse) # store mse\n",
    "\n",
    "#of the expected test error\n",
    "estimate_expected_test_error=np.mean(mses)\n",
    "estimate_expected_test_error"
   ]
  },
  {
   "cell_type": "code",
   "execution_count": 72,
   "metadata": {},
   "outputs": [
    {
     "data": {
      "text/plain": [
       "(5875, 22)"
      ]
     },
     "execution_count": 72,
     "metadata": {},
     "output_type": "execute_result"
    }
   ],
   "source": [
    "5875data.shape"
   ]
  },
  {
   "cell_type": "code",
   "execution_count": 55,
   "metadata": {},
   "outputs": [],
   "source": [
    "pathData='/home/students/Bureau/InPy/BIG-DATA/AIMS senegal/data'\n",
    "data=pd.read_csv(pathData+'/parkinsons_updrs.csv')"
   ]
  },
  {
   "cell_type": "code",
   "execution_count": 60,
   "metadata": {},
   "outputs": [],
   "source": [
    "from sklearn.model_selection import train_test_split\n",
    "\n",
    "X=data.drop('total_UPDRS',axis=1)\n",
    "y=data['total_UPDRS']\n",
    "\n",
    "## We split our data into test and train with the train_test_split method from sklearn.model_selection\n",
    "\n",
    "X_train, X_test, y_train, y_test = train_test_split( X, y, test_size=0.2, random_state=32)"
   ]
  },
  {
   "cell_type": "markdown",
   "metadata": {},
   "source": [
    "### Ridge and the Lasso"
   ]
  },
  {
   "cell_type": "code",
   "execution_count": 61,
   "metadata": {},
   "outputs": [],
   "source": [
    "### import libraries\n",
    "%matplotlib inline\n",
    "\n",
    "import pandas as pd\n",
    "import numpy as np\n",
    "import matplotlib.pyplot as plt\n",
    "\n",
    "from sklearn.preprocessing import scale \n",
    "from sklearn.linear_model import Ridge, RidgeCV, Lasso, LassoCV\n",
    "from sklearn.metrics import mean_squared_error"
   ]
  },
  {
   "cell_type": "markdown",
   "metadata": {},
   "source": [
    "### Ridge"
   ]
  },
  {
   "cell_type": "code",
   "execution_count": 65,
   "metadata": {},
   "outputs": [
    {
     "name": "stdout",
     "output_type": "stream",
     "text": [
      "subject#           0.030928\n",
      "age                0.053639\n",
      "sex               -0.374591\n",
      "test_time          0.002421\n",
      "motor_UPDRS        0.200915\n",
      "Jitter(%)          4.138901\n",
      "Jitter(Abs)      571.492011\n",
      "Jitter:RAP         4.163902\n",
      "Jitter:PPQ5        0.584106\n",
      "Jitter:DDP         1.388642\n",
      "Shimmer            1.251667\n",
      "Shimmer(dB)        0.185448\n",
      "Shimmer:APQ3       1.194409\n",
      "Shimmer:APQ5       1.248265\n",
      "Shimmer:APQ11      4.469693\n",
      "Shimmer:DDA        0.398256\n",
      "NHR               -0.057750\n",
      "HNR               -0.037946\n",
      "RPDE               1.706389\n",
      "DFA               -2.860015\n",
      "PPE                1.784677\n",
      "dtype: float64\n",
      "--------------------\n",
      "71.25653\n"
     ]
    }
   ],
   "source": [
    "ridge0 = Ridge(alpha = 5, normalize = True)\n",
    "\n",
    "ridge0.fit(X_train, y_train)             # Fit a ridge regression on the training data\n",
    "pred0 = ridge0.predict(X_test)           # Use this model to predict the test data\n",
    "\n",
    "print(pd.Series(ridge0.coef_, index = X.columns)) # Print coefficients\n",
    "print(\"--------------------\")\n",
    "print(np.round(mean_squared_error(y_test, pred0),5))         # Calculate the test MSE"
   ]
  },
  {
   "cell_type": "code",
   "execution_count": 64,
   "metadata": {},
   "outputs": [
    {
     "name": "stdout",
     "output_type": "stream",
     "text": [
      "subject#           0.018131\n",
      "age                0.031629\n",
      "sex               -0.202723\n",
      "test_time          0.001410\n",
      "motor_UPDRS        0.111081\n",
      "Jitter(%)          4.524269\n",
      "Jitter(Abs)      620.984326\n",
      "Jitter:RAP         5.744447\n",
      "Jitter:PPQ5        3.679216\n",
      "Jitter:DDP         1.915248\n",
      "Shimmer            1.321522\n",
      "Shimmer(dB)        0.174973\n",
      "Shimmer:APQ3       1.766647\n",
      "Shimmer:APQ5       1.613983\n",
      "Shimmer:APQ11      3.406052\n",
      "Shimmer:DDA        0.588943\n",
      "NHR                0.193199\n",
      "HNR               -0.024922\n",
      "RPDE               1.092376\n",
      "DFA               -1.592032\n",
      "PPE                1.167204\n",
      "dtype: float64\n",
      "--------------------\n",
      "85.08583\n"
     ]
    }
   ],
   "source": [
    "ridge1 = Ridge(alpha = 10, normalize = True)\n",
    "ridge1.fit(X_train, y_train)             # Fit a ridge regression on the training data\n",
    "pred1 = ridge1.predict(X_test)           # Use this model to predict the test data\n",
    "print(pd.Series(ridge1.coef_, index = X.columns)) # Print coefficients\n",
    "print(\"--------------------\")\n",
    "print(np.round(mean_squared_error(y_test, pred1),5))   "
   ]
  },
  {
   "cell_type": "code",
   "execution_count": 67,
   "metadata": {},
   "outputs": [
    {
     "name": "stdout",
     "output_type": "stream",
     "text": [
      "subject#             0.049646\n",
      "age                  0.077982\n",
      "sex                 -1.732274\n",
      "test_time            0.003044\n",
      "motor_UPDRS          1.211167\n",
      "Jitter(%)         -307.479742\n",
      "Jitter(Abs)      21180.968677\n",
      "Jitter:RAP       16772.561360\n",
      "Jitter:PPQ5          2.050054\n",
      "Jitter:DDP       -5469.429014\n",
      "Shimmer            -52.678048\n",
      "Shimmer(dB)          1.146227\n",
      "Shimmer:APQ3    -24483.616126\n",
      "Shimmer:APQ5       136.998135\n",
      "Shimmer:APQ11      -67.646217\n",
      "Shimmer:DDA       8155.801706\n",
      "NHR                 -3.054726\n",
      "HNR                 -0.097169\n",
      "RPDE                 2.380301\n",
      "DFA                 -3.156905\n",
      "PPE                 -3.392418\n",
      "dtype: float64\n",
      "10.22876\n"
     ]
    }
   ],
   "source": [
    "ridge2 = Ridge(alpha = 0, normalize = True)\n",
    "ridge2.fit(X_train, y_train)             # Fit a ridge regression on the training data\n",
    "pred2= ridge2.predict(X_test)            # Use this model to predict the test data\n",
    "print(pd.Series(ridge2.coef_, index = X.columns)) # Print coefficients\n",
    "print(np.round(mean_squared_error(y_test, pred2),5))   "
   ]
  },
  {
   "cell_type": "code",
   "execution_count": 69,
   "metadata": {},
   "outputs": [
    {
     "data": {
      "text/plain": [
       "RidgeCV(alphas=array([1.00000e-04, 1.00200e-01, 2.00300e-01, 3.00400e-01, 4.00500e-01,\n",
       "       5.00600e-01, 6.00700e-01, 7.00800e-01, 8.00900e-01, 9.01000e-01,\n",
       "       1.00110e+00, 1.10120e+00, 1.20130e+00, 1.30140e+00, 1.40150e+00,\n",
       "       1.50160e+00, 1.60170e+00, 1.70180e+00, 1.80190e+00, 1.90200e+00,\n",
       "       2.00210e+00, 2.10220e+00, 2.20230e+00, 2.30240e+00, 2.40250e+00,\n",
       "       2.50260e+00, 2.60270e+00, 2.70...\n",
       "       9.75976e+01, 9.76977e+01, 9.77978e+01, 9.78979e+01, 9.79980e+01,\n",
       "       9.80981e+01, 9.81982e+01, 9.82983e+01, 9.83984e+01, 9.84985e+01,\n",
       "       9.85986e+01, 9.86987e+01, 9.87988e+01, 9.88989e+01, 9.89990e+01,\n",
       "       9.90991e+01, 9.91992e+01, 9.92993e+01, 9.93994e+01, 9.94995e+01,\n",
       "       9.95996e+01, 9.96997e+01, 9.97998e+01, 9.98999e+01, 1.00000e+02]),\n",
       "        cv=None, fit_intercept=True, gcv_mode=None, normalize=True,\n",
       "        scoring=None, store_cv_values=True)"
      ]
     },
     "execution_count": 69,
     "metadata": {},
     "output_type": "execute_result"
    }
   ],
   "source": [
    "gammas=np.linspace(0.0001,100,1000)\n",
    "ridgecv = RidgeCV(alphas=gammas,\n",
    "                  normalize = True,store_cv_values=True)\n",
    "ridgecv.fit(X_train, y_train)"
   ]
  },
  {
   "cell_type": "code",
   "execution_count": 70,
   "metadata": {},
   "outputs": [
    {
     "data": {
      "text/plain": [
       "array([[1.19361314e+00, 6.10304332e-04, 7.34182827e-01, ...,\n",
       "        1.41602567e+02, 1.41608100e+02, 1.41613622e+02],\n",
       "       [1.47024899e+01, 1.08683561e+01, 8.02689975e+00, ...,\n",
       "        2.62007670e+01, 2.62016972e+01, 2.62026256e+01],\n",
       "       [5.23998942e+01, 7.29507781e+01, 9.63493823e+01, ...,\n",
       "        6.24964602e+02, 6.24976062e+02, 6.24987500e+02],\n",
       "       ...,\n",
       "       [7.42162557e-01, 6.31821157e-01, 3.21640889e-01, ...,\n",
       "        1.89877974e+01, 1.89888366e+01, 1.89898738e+01],\n",
       "       [8.24930379e+00, 7.81237127e+00, 6.23189740e+00, ...,\n",
       "        7.75971520e+00, 7.76007717e+00, 7.76043847e+00],\n",
       "       [9.39506518e-01, 5.06674031e+00, 1.08783237e+01, ...,\n",
       "        1.59818508e+02, 1.59821769e+02, 1.59825024e+02]])"
      ]
     },
     "execution_count": 70,
     "metadata": {},
     "output_type": "execute_result"
    }
   ],
   "source": [
    "##Ouputs mse errors for all LOOCVs\n",
    "ridgecv.cv_values_"
   ]
  },
  {
   "cell_type": "code",
   "execution_count": 71,
   "metadata": {},
   "outputs": [
    {
     "data": {
      "text/plain": [
       "<matplotlib.lines.Line2D at 0x7fd0d046da90>"
      ]
     },
     "execution_count": 71,
     "metadata": {},
     "output_type": "execute_result"
    },
    {
     "data": {
      "image/png": "[encoded data removed]",
      "text/plain": [
       "<Figure size 432x288 with 1 Axes>"
      ]
     },
     "metadata": {
      "needs_background": "light"
     },
     "output_type": "display_data"
    }
   ],
   "source": [
    "##Ouputs\n",
    "# plt.scatter(ridgecv.cv_values_.mean(axis=1),y=gammas)\n",
    "mses=ridgecv.cv_values_.mean(axis=0)\n",
    "\n",
    "ax = plt.gca()\n",
    "ax.plot(gammas, mses)\n",
    "ax.set_xscale('log')\n",
    "ax.axvline(x=ridgecv.alpha_,linewidth=4, color='blue')"
   ]
  },
  {
   "cell_type": "markdown",
   "metadata": {},
   "source": [
    "### lasso"
   ]
  },
  {
   "cell_type": "code",
   "execution_count": 91,
   "metadata": {},
   "outputs": [
    {
     "data": {
      "text/plain": [
       "(100, 21)"
      ]
     },
     "execution_count": 91,
     "metadata": {},
     "output_type": "execute_result"
    }
   ],
   "source": [
    "import warnings \n",
    "warnings.simplefilter('ignore')\n",
    "gamma = np.linspace(0,0.01,100)\n",
    "\n",
    "lasso = Lasso(normalize = True)\n",
    "coefs = []\n",
    "for a in gamma:\n",
    "    lasso.set_params(alpha = a)\n",
    "    lasso.fit(scale(X), y)\n",
    "    coefs.append(lasso.coef_)\n",
    "    \n",
    "np.shape(coefs)"
   ]
  },
  {
   "cell_type": "code",
   "execution_count": 92,
   "metadata": {},
   "outputs": [
    {
     "data": {
      "text/plain": [
       "Text(0, 0.5, 'beta')"
      ]
     },
     "execution_count": 92,
     "metadata": {},
     "output_type": "execute_result"
    },
    {
     "data": {
      "image/png": "[encoded data removed]",
      "text/plain": [
       "<Figure size 432x288 with 1 Axes>"
      ]
     },
     "metadata": {
      "needs_background": "light"
     },
     "output_type": "display_data"
    }
   ],
   "source": [
    "ax = plt.gca()\n",
    "ax.plot(gamma, coefs)\n",
    "ax.set_xscale('log')\n",
    "plt.axis('tight')\n",
    "plt.xlabel('gamma')\n",
    "plt.ylabel('beta')"
   ]
  }
 ],
 "metadata": {
  "kernelspec": {
   "display_name": "Python 3",
   "language": "python",
   "name": "python3"
  },
  "language_info": {
   "codemirror_mode": {
    "name": "ipython",
    "version": 3
   },
   "file_extension": ".py",
   "mimetype": "text/x-python",
   "name": "python",
   "nbconvert_exporter": "python",
   "pygments_lexer": "ipython3",
   "version": "3.6.4"
  }
 },
 "nbformat": 4,
 "nbformat_minor": 4
}
