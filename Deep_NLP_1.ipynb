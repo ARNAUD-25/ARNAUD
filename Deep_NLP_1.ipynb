{
 "cells": [
  {
   "cell_type": "markdown",
   "metadata": {
    "id": "uzAMazBhyO7O"
   },
   "source": [
    "# AMMI Deep Natural Language Processing: Lab 1"
   ]
  },
  {
   "cell_type": "markdown",
   "metadata": {
    "id": "z2oBLu8PyV1V"
   },
   "source": [
    "## 0. Introduction"
   ]
  },
  {
   "cell_type": "markdown",
   "metadata": {
    "id": "NHed26lWcGwQ"
   },
   "source": [
    "In this tutorial we will train neural networks on the bAbI tasks using ParlAI framework.  \n",
    "This tutorial can be run both in google colab or on your computer.  \n",
    "The solutions will be added during the lab [here](https://fburl.com/ammi_dnlp_lab1).  \n",
    "\n",
    "We will cover the following:\n",
    "0. Introduction\n",
    "    - Introduction to ParlAI and installation\n",
    "    - Introduction to the bAbI tasks\n",
    "1. Exploring the data:\n",
    "    - Compute some statistics (number of examples in train, valid, test, size of examples...)\n",
    "    - Look at some examples\n",
    "2. Choose the appropriate metrics\n",
    "3. Baselines\n",
    "    - Ranom baseline\n",
    "    - Majority class baseline\n",
    "    - Information retrieval baseline\n",
    "4. More elaborate models\n",
    "   - Generative model: Seq2Seq\n",
    "   - Ranking model: Memory Network\n",
    "5. To go further\n",
    "    - Additional ideas to try if you want to dig deeper\n",
    "\n",
    "### ParlAI\n",
    "[ParlAI](https://github.com/facebookresearch/ParlAI/blob/master/README.md) (pronounced “par-lay”) is a framework for dialogue AI research, implemented in Python.\n",
    "\n",
    "Its goal is to provide researchers:\n",
    "\n",
    "* a unified framework for sharing, training and testing dialogue models\n",
    "* many popular datasets available all in one place -- from open-domain chitchat to visual question answering.\n",
    "* a wide set of reference models -- from retrieval baselines to Transformers.\n",
    "* seamless integration of Amazon Mechanical Turk for data collection and human evaluation\n",
    "* integration with Facebook Messenger to connect agents with humans in a chat interface\n",
    "\n",
    "Documentation can be found [here](http://www.parl.ai/static/docs/), some of this tutorial is inspired from the ParlAI documentation so feel free to go back and forth between the notebook and the documentation.\n",
    "\n",
    "\n",
    "### Setup the notebook\n",
    "If using google colab, make sure to use TPU runtime by going to ***Runtime > Change runtime type > Hardware accelerator: TPU > Save***"
   ]
  },
  {
   "cell_type": "markdown",
   "metadata": {
    "id": "-k8BZE3HJaut"
   },
   "source": [
    "### Install ParlAI\n",
    "\n",
    "Start by installing ParlAI from github. The ParlAI folder will be located in the home directory at `~/ParlAI/`.  \n",
    "*Note: In a jupyter notebook, you can run arbitrary bash commands by prefixing them with a question mark, example: `!echo \"Hello World\"`*"
   ]
  },
  {
   "cell_type": "code",
   "execution_count": 1,
   "metadata": {
    "colab": {
     "base_uri": "https://localhost:8080/"
    },
    "id": "l8V7QcnMI7Wk",
    "outputId": "1b6ac22a-246b-4d81-a15b-58ccfb3ed04f"
   },
   "outputs": [
    {
     "name": "stdout",
     "output_type": "stream",
     "text": [
      "Cloning into '/root/ParlAI'...\n",
      "remote: Enumerating objects: 39179, done.\u001b[K\n",
      "remote: Counting objects: 100% (433/433), done.\u001b[K\n",
      "remote: Compressing objects: 100% (320/320), done.\u001b[K\n",
      "remote: Total 39179 (delta 177), reused 314 (delta 107), pack-reused 38746\u001b[K\n",
      "Receiving objects: 100% (39179/39179), 64.98 MiB | 33.95 MiB/s, done.\n",
      "Resolving deltas: 100% (27909/27909), done.\n",
      "Note: checking out '6bd0e58692b3fd3a13b5f654944525ac1b7cd8e3'.\n",
      "\n",
      "You are in 'detached HEAD' state. You can look around, make experimental\n",
      "changes and commit them, and you can discard any commits you make in this\n",
      "state without impacting any branches by performing another checkout.\n",
      "\n",
      "If you want to create a new branch to retain commits you create, you may\n",
      "do so (now or later) by using -b with the checkout command again. Example:\n",
      "\n",
      "  git checkout -b <new-branch-name>\n",
      "\n",
      "HEAD is now at 6bd0e586 light paper link on webpage! (#1536)\n",
      "zip_safe flag not set; analyzing archive contents...\n",
      "  File \"build/bdist.linux-x86_64/egg/websocket/policyserver.py\", line 21\n",
      "    print 'Accepted connection from %s:%s' % address\n",
      "                                         ^\n",
      "SyntaxError: Missing parentheses in call to 'print'. Did you mean print('Accepted connection from %s:%s' % address)?\n",
      "\n",
      "  File \"build/bdist.linux-x86_64/egg/websocket/server.py\", line 57\n",
      "    except IOError, ex:\n",
      "                  ^\n",
      "SyntaxError: invalid syntax\n",
      "\n",
      "  File \"/usr/local/lib/python3.7/dist-packages/websocket-0.2.1-py3.7.egg/websocket/policyserver.py\", line 21\n",
      "    print 'Accepted connection from %s:%s' % address\n",
      "                                         ^\n",
      "SyntaxError: Missing parentheses in call to 'print'. Did you mean print('Accepted connection from %s:%s' % address)?\n",
      "\n",
      "  File \"/usr/local/lib/python3.7/dist-packages/websocket-0.2.1-py3.7.egg/websocket/server.py\", line 57\n",
      "    except IOError, ex:\n",
      "                  ^\n",
      "SyntaxError: invalid syntax\n",
      "\n",
      "error: urllib3 1.24.3 is installed but urllib3<1.27,>=1.25.4 is required by {'botocore'}\n"
     ]
    }
   ],
   "source": [
    "# Remove `> /dev/null` to see the output of commands\n",
    "!git clone https://github.com/facebookresearch/ParlAI.git ~/ParlAI  > /dev/null\n",
    "!cd ~/ParlAI && git checkout 6bd0e58692b3fd3a13b5f654944525ac1b7cd8e3\n",
    "!cd ~/ParlAI && python3 setup.py develop > /dev/null"
   ]
  },
  {
   "cell_type": "markdown",
   "metadata": {
    "id": "EJDOC-zsL3wR"
   },
   "source": [
    "Most of the scripts that we will use in ParlAI are located in the `~/ParlAI/examples` directory.  \n",
    "Let's have a first glance at the scripts available, we will come back to them later:"
   ]
  },
  {
   "cell_type": "code",
   "execution_count": 2,
   "metadata": {
    "colab": {
     "base_uri": "https://localhost:8080/"
    },
    "id": "bIMjwxKrLm36",
    "outputId": "a94918e7-bce2-4bd2-86aa-795e9f3cbeb7"
   },
   "outputs": [
    {
     "name": "stdout",
     "output_type": "stream",
     "text": [
      "base_train.py\t       eval_model.py\t\t remote.py\n",
      "build_dict.py\t       extract_image_feature.py  seq2seq_train_babi.py\n",
      "build_pytorch_data.py  interactive.py\t\t train_model.py\n",
      "display_data.py        profile_train.py\n",
      "display_model.py       README.md\n"
     ]
    }
   ],
   "source": [
    "!ls ~/ParlAI/examples/"
   ]
  },
  {
   "cell_type": "markdown",
   "metadata": {
    "id": "N4UnbCdcqHPu"
   },
   "source": [
    "### The bAbI tasks\n",
    "Many datasets and tasks are included in ParlAI, we will focus on the bAbI tasks.\n",
    "The bAbI tasks are 20 synthetic tasks that each test a unique aspect of text and reasoning, and hence test different capabilities of learning models from [Weston et al. ‘16](http://arxiv.org/abs/1502.05698).\n",
    "\n",
    "---\n",
    "**Question 0.**  \n",
    "Open the bAbI [paper](https://arxiv.org/pdf/1502.05698.pdf) and read the abstract  and section: *\"3 The Tasks\"* (until paragraph **Two or Three Supporting Facts**,  included).  \n",
    "- **0.a.** Explain in your own words the motivations behind these tasks (in 2-3 sentences).\n",
    "\n",
    "*ANSWER HERE*\n",
    "\n",
    "# 0.a. *Tasks provide a means for potential learning systems to assess and improve their capabilities, as well as their shortcomings, by drawing on the structured skill sets provided by the tasks.*\n",
    "\n",
    "\n",
    "\n",
    "\n",
    "\n",
    "\n",
    "---\n",
    "\n",
    "\n",
    "\n",
    "These tasks can be downloaded and used directly from ParlAI.  \n",
    "We will focus on tasks 1, 2 and 3, see examples below:\n",
    "\n",
    "\n",
    "**Task 1: Single Supporting Fact**  \n",
    "Mary went to the bathroom.  \n",
    "John moved to the hallway.  \n",
    "Mary travelled to the office.  \n",
    "Where is Mary?  \n",
    "**Answer: office**  \n",
    "\n",
    "\n",
    "**Task 2: Two Supporting Facts**  \n",
    "John is in the playground.  \n",
    "John picked up the football.  \n",
    "Bob went to the kitchen.  \n",
    "Where is the football?  \n",
    "**Answer: playground**\n",
    "\n",
    "\n",
    "**Task 3: Three Supporting Facts **  \n",
    "John picked up the apple.  \n",
    "John went to the office.  \n",
    "John went to the kitchen.  \n",
    "John dropped the apple.   \n",
    "Where was the apple before the kitchen?  \n",
    "**Answer: office**\n",
    "\n"
   ]
  },
  {
   "cell_type": "markdown",
   "metadata": {
    "id": "L6IZA9r0MjBd"
   },
   "source": [
    "## 1. Exploring the data"
   ]
  },
  {
   "cell_type": "markdown",
   "metadata": {
    "id": "1Cc-Si6SyatK"
   },
   "source": [
    "First we need to download the data, we will use the `build_dict.py` as a dummy task to download the data."
   ]
  },
  {
   "cell_type": "code",
   "execution_count": 3,
   "metadata": {
    "colab": {
     "base_uri": "https://localhost:8080/"
    },
    "id": "XAEH7xUXtxFj",
    "outputId": "6ccdf76d-9ad9-481b-de60-5b30287b9f64"
   },
   "outputs": [
    {
     "name": "stdout",
     "output_type": "stream",
     "text": [
      "[ Main ParlAI Arguments: ] \n",
      "[  batchsize: 1 ]\n",
      "[  datapath: /root/ParlAI/data ]\n",
      "[  datatype: train ]\n",
      "[  download_path: /root/ParlAI/downloads ]\n",
      "[  hide_labels: False ]\n",
      "[  image_mode: raw ]\n",
      "[  multitask_weights: [1] ]\n",
      "[  numthreads: 1 ]\n",
      "[  show_advanced_args: False ]\n",
      "[  task: babi:task1k:1 ]\n",
      "[ ParlAI Model Arguments: ] \n",
      "[  dict_class: None ]\n",
      "[  init_model: None ]\n",
      "[  model: None ]\n",
      "[  model_file: None ]\n",
      "[ PytorchData Arguments: ] \n",
      "[  batch_length_range: 5 ]\n",
      "[  batch_sort_cache_type: pop ]\n",
      "[  batch_sort_field: text ]\n",
      "[  numworkers: 4 ]\n",
      "[  pytorch_context_length: -1 ]\n",
      "[  pytorch_datapath: None ]\n",
      "[  pytorch_include_labels: True ]\n",
      "[  pytorch_preprocess: False ]\n",
      "[  pytorch_teacher_batch_sort: False ]\n",
      "[  pytorch_teacher_dataset: None ]\n",
      "[  pytorch_teacher_task: None ]\n",
      "[  shuffle: False ]\n",
      "[ Dictionary Loop Arguments: ] \n",
      "[  dict_include_test: False ]\n",
      "[  dict_include_valid: False ]\n",
      "[  dict_maxexs: -1 ]\n",
      "[  log_every_n_secs: 2 ]\n",
      "[ Dictionary Arguments: ] \n",
      "[  bpe_debug: False ]\n",
      "[  dict_endtoken: __end__ ]\n",
      "[  dict_file: /tmp/babi1.dict ]\n",
      "[  dict_initpath: None ]\n",
      "[  dict_language: english ]\n",
      "[  dict_lower: False ]\n",
      "[  dict_max_ngram_size: -1 ]\n",
      "[  dict_maxtokens: -1 ]\n",
      "[  dict_minfreq: 0 ]\n",
      "[  dict_nulltoken: __null__ ]\n",
      "[  dict_starttoken: __start__ ]\n",
      "[  dict_textfields: text,labels ]\n",
      "[  dict_tokenizer: re ]\n",
      "[  dict_unktoken: __unk__ ]\n",
      "[ ParlAI Image Preprocessing Arguments: ] \n",
      "[  image_cropsize: 224 ]\n",
      "[  image_size: 256 ]\n",
      "[creating task(s): babi:task1k:1]\n",
      "[building data: /root/ParlAI/data/bAbI]\n",
      "[ downloading: http://parl.ai/downloads/babi/babi.tar.gz to /root/ParlAI/data/bAbI/babi.tar.gz ]\n",
      "Downloading babi.tar.gz: 100% 19.2M/19.2M [00:00<00:00, 22.2MB/s]\n",
      "unpacking babi.tar.gz\n",
      "[ running dictionary over data.. ]\n",
      "[loading fbdialog data:/root/ParlAI/data/bAbI/tasks_1-20_v1-2/en-valid-nosf/qa1_train.txt]\n",
      "Building dictionary:   0% 0.00/900 [00:00<?, ?ex/s][loading fbdialog data:/root/ParlAI/data/bAbI/tasks_1-20_v1-2/en-valid-nosf/qa1_train.txt]\n",
      "[loading fbdialog data:/root/ParlAI/data/bAbI/tasks_1-20_v1-2/en-valid-nosf/qa1_train.txt]\n",
      "Building dictionary: 100% 900/900 [00:00<00:00, 27.7kex/s]\n",
      "Dictionary: saving dictionary to /tmp/babi1.dict\n",
      "[ dictionary built with 26 tokens in 0s ]\n",
      "1 Mary moved to the bathroom.\n",
      "2 John went to the hallway.\n",
      "3 Where is Mary? \tbathroom\n",
      "4 Daniel went back to the hallway.\n",
      "5 Sandra moved to the garden.\n",
      "6 Where is Daniel? \thallway\n",
      "7 John moved to the office.\n",
      "8 Sandra journeyed to the bathroom.\n",
      "9 Where is Daniel? \thallway\n",
      "10 Mary moved to the hallway.\n",
      "11 Daniel travelled to the office.\n",
      "12 Where is Daniel? \toffice\n",
      "13 John went back to the garden.\n",
      "14 John moved to the bedroom.\n",
      "15 Where is Sandra? \tbathroom\n",
      "1 Mary went to the bedroom.\n",
      "2 John journeyed to the bathroom.\n",
      "3 Where is John? \tbathroom\n",
      "4 Sandra journeyed to the hallway.\n",
      "5 John journeyed to the garden.\n",
      "6 Where is Mary? \tbedroom\n",
      "7 John journeyed to the bathroom.\n",
      "8 Sandra journeyed to the garden.\n",
      "9 Where is John? \tbathroom\n",
      "10 Sandra went back to the bedroom.\n",
      "11 Daniel travelled to the bathroom.\n",
      "12 Where is John? \tbathroom\n",
      "13 John went to the office.\n",
      "14 Mary moved to the office.\n",
      "15 Where is Sandra? \tbedroom\n"
     ]
    }
   ],
   "source": [
    "# Download the data silently\n",
    "!python ~/ParlAI/examples/build_dict.py --task babi:task1k:1 --dict-file /tmp/babi1.dict\n",
    "# Print a few examples\n",
    "!head -n 30 ~/ParlAI/data/bAbI/tasks_1-20_v1-2/en-valid-10k-nosf/qa1_train.txt"
   ]
  },
  {
   "cell_type": "markdown",
   "metadata": {
    "id": "vbc5n2xpPnsb"
   },
   "source": [
    "The bAbI tasks were downloaded in `~/ParlAI/data/bAbI/tasks_1-20_v1-2/en-valid-nosf/`\n",
    "\n",
    "In bAbI the data is organised as follows:\n",
    "- **Dialog turn**: A dialog turn is a single utterance / statement. Each line in the file corresponds to one dialog turn.   \n",
    "  Example: *\"John went to the office.\"*\n",
    "- **Sample (question)**: Every few dialog turns, a question can be asked that the model has to answer, this consitute a sample.  The question is followed by its ground truth answer, separated by a tab.\n",
    "  Example: *\"Where is John? `<tab>` bathroom\"*\n",
    "- **Episode**: a sequence of ordered coherent dialog turns that are related to each other form an episode. Each new episode is independant of the others. Each line starts with the dialog turn number in the current episode.\n",
    "\n",
    "\n",
    "---\n",
    "**Question 1.**\n",
    "- **1.a.** Look at the training file of task 1 (`~/ParlAI/data/bAbI/tasks_1-20_v1-2/en/qa1_train.txt`) and compute the following information:\n",
    "  - Number of episodes\n",
    "  - Number of  samples (questions)\n",
    "  - Number of dialog turns per episode\n",
    "  - How many different answers are there in the train set? How many times does each appear? (*hint: Use a python [counter](https://docs.python.org/3/library/collections.html#collections.Counter)*)\n",
    "  - How many unique words appear in the training set? How many time does each appear? (*hint: Use the Counter `most_common()` method*)\n",
    "\n",
    "*Print the answer in the following code cell*\n",
    "  \n",
    "  ---"
   ]
  },
  {
   "cell_type": "code",
   "execution_count": 1,
   "metadata": {
    "id": "nk7B40wOf8nU"
   },
   "outputs": [],
   "source": [
    "# FILL THIS CELL\n",
    "from collections import Counter\n",
    "\n",
    "\n",
    "task_1_train_path = '/root/ParlAI/data/bAbI/tasks_1-20_v1-2/en-valid-10k-nosf/qa1_train.txt'\n",
    "with open(task_1_train_path, 'r') as f:\n",
    "  # FILL CODE HERE"
   ]
  },
  {
   "cell_type": "code",
   "execution_count": 5,
   "metadata": {
    "colab": {
     "base_uri": "https://localhost:8080/"
    },
    "id": "msuOKeMjKyeg",
    "outputId": "83cb23b0-ed50-4b89-91ce-c70396e84b23"
   },
   "outputs": [
    {
     "name": "stdout",
     "output_type": "stream",
     "text": [
      "Number of episodes: 1800\n",
      "Number of questions: 9000\n",
      "Number of dialog turns per episode: 15.0\n",
      "Possible answers: Counter({'bathroom': 1564, 'hallway': 1517, 'garden': 1508, 'bedroom': 1473, 'kitchen': 1471, 'office': 1467}) (6)\n",
      "Accuracy of a random model: 0.1667\n",
      "Vocabulary size: 24\n",
      "Most common words: [('to', 18000), ('the', 18000), ('Where', 9000), ('is', 9000), ('', 9000), ('went', 7225), ('Mary', 4535), ('Sandra', 4502), ('John', 4484), ('Daniel', 4479), ('journeyed', 3620), ('travelled', 3582), ('back', 3581), ('moved', 3573), ('bathroom.', 3070), ('hallway.', 3045), ('garden.', 2982), ('kitchen.', 2981), ('office.', 2963), ('bedroom.', 2959), ('John?', 2299), ('Mary?', 2265), ('Sandra?', 2244), ('Daniel?', 2192)]\n"
     ]
    }
   ],
   "source": [
    "# SOLUTION\n",
    "from collections import Counter\n",
    "\n",
    "\n",
    "task_1_train_path = '/root/ParlAI/data/bAbI/tasks_1-20_v1-2/en-valid-10k-nosf/qa1_train.txt'\n",
    "i = 0\n",
    "n_episodes = 0\n",
    "n_questions = 0\n",
    "n_total_dialog_turns = 0\n",
    "possible_answers = Counter()\n",
    "possible_answers_dict = {}\n",
    "vocabulary = Counter()\n",
    "with open(task_1_train_path, 'r') as f:\n",
    "    for line in f:\n",
    "        # Each line starts with an integer giving the dialog turn in the current episode.\n",
    "        # Each episode contains dialog turns with questions (with the answer next to it separated by a tab)\n",
    "        line = line.strip('\\n')\n",
    "        dialog_turn = int(line.split(' ')[0])\n",
    "        if dialog_turn == 1:\n",
    "            n_episodes += 1\n",
    "        # Remove the dialog turn number\n",
    "        line = ' '.join(line.split(' ')[1:])\n",
    "        fields = line.split('\\t')\n",
    "        if len(fields) > 1:\n",
    "            n_questions += 1\n",
    "            possible_answers.update([fields[1]])\n",
    "        vocabulary.update(fields[0].split(' '))\n",
    "        n_total_dialog_turns += 1\n",
    "print(f'Number of episodes: {n_episodes}')\n",
    "print(f'Number of questions: {n_questions}')\n",
    "print(f'Number of dialog turns per episode: {n_total_dialog_turns/n_episodes}')\n",
    "print(f'Possible answers: {possible_answers} ({len(possible_answers)})')\n",
    "print(f'Accuracy of a random model: {1/len(possible_answers):.4f}')\n",
    "print(f'Vocabulary size: {len(vocabulary)}')\n",
    "print(f'Most common words: {vocabulary.most_common()}')"
   ]
  },
  {
   "cell_type": "markdown",
   "metadata": {
    "id": "XNYNtDHiuVq8"
   },
   "source": [
    "\n",
    "- **2.b.** Use the appropriate script from the `~/ParlAI/examples/` to take a quick look at examples of the first bAbI task.  \n",
    "Does the number of episodes and examples fit what you computed before? (*hint: you can use the argument `--task babi:task1k:1` to select the first babi task*)"
   ]
  },
  {
   "cell_type": "code",
   "execution_count": 8,
   "metadata": {
    "colab": {
     "base_uri": "https://localhost:8080/"
    },
    "id": "f6HlIvzGgKv2",
    "outputId": "40a3daad-2a63-4a9c-e97e-063d2592c79f"
   },
   "outputs": [
    {
     "name": "stdout",
     "output_type": "stream",
     "text": [
      "[ optional arguments: ] \n",
      "[  display_ignore_fields: agent_reply ]\n",
      "[  max_display_len: 1000 ]\n",
      "[  num_examples: 10 ]\n",
      "[ Main ParlAI Arguments: ] \n",
      "[  batchsize: 1 ]\n",
      "[  datapath: /root/ParlAI/data ]\n",
      "[  datatype: train:stream ]\n",
      "[  download_path: /root/ParlAI/downloads ]\n",
      "[  hide_labels: False ]\n",
      "[  image_mode: raw ]\n",
      "[  multitask_weights: [1] ]\n",
      "[  numthreads: 1 ]\n",
      "[  show_advanced_args: False ]\n",
      "[  task: babi:task10k:1 ]\n",
      "[ ParlAI Model Arguments: ] \n",
      "[  dict_class: None ]\n",
      "[  init_model: None ]\n",
      "[  model: None ]\n",
      "[  model_file: None ]\n",
      "[ PytorchData Arguments: ] \n",
      "[  batch_length_range: 5 ]\n",
      "[  batch_sort_cache_type: pop ]\n",
      "[  batch_sort_field: text ]\n",
      "[  numworkers: 4 ]\n",
      "[  pytorch_context_length: -1 ]\n",
      "[  pytorch_datapath: None ]\n",
      "[  pytorch_include_labels: True ]\n",
      "[  pytorch_preprocess: False ]\n",
      "[  pytorch_teacher_batch_sort: False ]\n",
      "[  pytorch_teacher_dataset: None ]\n",
      "[  pytorch_teacher_task: None ]\n",
      "[  shuffle: False ]\n",
      "[ ParlAI Image Preprocessing Arguments: ] \n",
      "[  image_cropsize: 224 ]\n",
      "[  image_size: 256 ]\n",
      "[creating task(s): babi:task10k:1]\n",
      "[loading fbdialog data:/root/ParlAI/data/bAbI/tasks_1-20_v1-2/en-valid-10k-nosf/qa1_train.txt]\n",
      "[loading fbdialog data:/root/ParlAI/data/bAbI/tasks_1-20_v1-2/en-valid-10k-nosf/qa1_train.txt]\n",
      "[babi:task10k:1]: Mary moved to the bathroom.\n",
      "John went to the hallway.\n",
      "Where is Mary?\n",
      "[labels: bathroom]\n",
      "[label_candidates: bathroom|hallway|office|garden|kitchen|...and 1 more]\n",
      "~~\n",
      "[babi:task10k:1]: Daniel went back to the hallway.\n",
      "Sandra moved to the garden.\n",
      "Where is Daniel?\n",
      "[labels: hallway]\n",
      "[label_candidates: bathroom|hallway|office|garden|kitchen|...and 1 more]\n",
      "~~\n",
      "[babi:task10k:1]: John moved to the office.\n",
      "Sandra journeyed to the bathroom.\n",
      "Where is Daniel?\n",
      "[labels: hallway]\n",
      "[label_candidates: bathroom|hallway|office|garden|kitchen|...and 1 more]\n",
      "~~\n",
      "[babi:task10k:1]: Mary moved to the hallway.\n",
      "Daniel travelled to the office.\n",
      "Where is Daniel?\n",
      "[labels: office]\n",
      "[label_candidates: bathroom|hallway|office|garden|kitchen|...and 1 more]\n",
      "~~\n",
      "[babi:task10k:1]: John went back to the garden.\n",
      "John moved to the bedroom.\n",
      "Where is Sandra?\n",
      "[labels: bathroom]\n",
      "[label_candidates: bathroom|hallway|office|garden|kitchen|...and 1 more]\n",
      "- - - - - - - - - - - - - - - - - - - - -\n",
      "~~\n",
      "[babi:task10k:1]: Mary went to the bedroom.\n",
      "John journeyed to the bathroom.\n",
      "Where is John?\n",
      "[labels: bathroom]\n",
      "[label_candidates: bathroom|hallway|office|garden|kitchen|...and 1 more]\n",
      "~~\n",
      "[babi:task10k:1]: Sandra journeyed to the hallway.\n",
      "John journeyed to the garden.\n",
      "Where is Mary?\n",
      "[labels: bedroom]\n",
      "[label_candidates: bathroom|hallway|office|garden|kitchen|...and 1 more]\n",
      "~~\n",
      "[babi:task10k:1]: John journeyed to the bathroom.\n",
      "Sandra journeyed to the garden.\n",
      "Where is John?\n",
      "[labels: bathroom]\n",
      "[label_candidates: bathroom|hallway|office|garden|kitchen|...and 1 more]\n",
      "~~\n",
      "[babi:task10k:1]: Sandra went back to the bedroom.\n",
      "Daniel travelled to the bathroom.\n",
      "Where is John?\n",
      "[labels: bathroom]\n",
      "[label_candidates: bathroom|hallway|office|garden|kitchen|...and 1 more]\n",
      "~~\n",
      "[babi:task10k:1]: John went to the office.\n",
      "Mary moved to the office.\n",
      "Where is Sandra?\n",
      "[labels: bedroom]\n",
      "[label_candidates: bathroom|hallway|office|garden|kitchen|...and 1 more]\n",
      "- - - - - - - - - - - - - - - - - - - - -\n",
      "~~\n",
      "[ loaded 1800 episodes with a total of 9000 examples ]\n"
     ]
    }
   ],
   "source": [
    "# FILL THIS CELL\n",
    "# SOLUTION\n",
    "!python ~/ParlAI/examples/display_data.py --task babi:task10k:1"
   ]
  },
  {
   "cell_type": "markdown",
   "metadata": {
    "id": "TovRmKOA858i"
   },
   "source": [
    "## 2. Metrics"
   ]
  },
  {
   "cell_type": "markdown",
   "metadata": {
    "id": "g9NV_vBlPSWP"
   },
   "source": [
    "The bAbI task 1 expects single word answers among a small set of possible answers.\n",
    "\n",
    "\n",
    "---\n",
    "**Question 2**  \n",
    "- **2.a.** Which metrics do you think are appropriate for evaluating a model on this task?   \n",
    "-  **2.b.**  What are their respective strengths?  \n",
    "-  **2.c.** When do they fail? (find specific examples)  \n",
    "\n",
    "\n",
    "*ANSWER HERE* \n",
    "\n",
    "\n",
    "# 2.a. *Accuracy and F1 score.*\n",
    "\n",
    "# 2.b. *Using accuracy, we note that the assessment of the accuracy of a response to task 1 is unambiguous because the response is a single word. Thus, we say that accuracy works well when the data is balanced i.e. same amount of samples per class, on the other hand F1 score works well when the data is unbalanced, calculating with precision and recall.*\n",
    "\n",
    "# 2.c. *Precision decreases with increasing task complexity. Precision only fails when there is a bias in the data, which favours the predominantly represented class.*\n",
    "\n",
    "---"
   ]
  },
  {
   "cell_type": "markdown",
   "metadata": {
    "id": "0_MZKCTW6fh9"
   },
   "source": [
    "## 3. Baseline\n",
    "\n"
   ]
  },
  {
   "cell_type": "markdown",
   "metadata": {
    "id": "RSexIY71yiD6"
   },
   "source": [
    "We now have a clearer idea of the data distribution and the metrics that we can use.  \n",
    "The next step is to start solving the tasks with a simple baseline. This will allow us to compare more elaborate models agains this baseline.  \n",
    "Here are a few classical baselines:\n",
    "- **Random model**: The model answers randomly among the set of possible answers for each question\n",
    "-  **Majority class**: The model always answers with the most frequent answer in the training set (majority class)\n",
    "\n",
    "We are going to reimplement these own baselines.  \n",
    "Implementing a new model in ParlAI is detailed in the [tutorial](http://parl.ai/static/docs/seq2seq_tutorial.html) but for our simple baselines, we will only need to inherit the [Agent](https://github.com/facebookresearch/ParlAI/blob/6d246842d3f4e941dd3806f3d9fa62f607d48f59/parlai/core/agents.py#L50) class and override the `act()` method.\n",
    "\n",
    "---\n",
    "**Question 3**  \n",
    "- **3.a.** What would be the accuracy of a model that choses a random answer among the set of possible answers for each question? \n",
    "\n",
    "*ANSWER HERE*\n",
    "\n",
    "# 3.a. *The calculation of the precision will be the ratio of the number of samples to the total number of possible samples and the precision = 1/6.*\n",
    "\n",
    "\n",
    "---\n",
    "\n",
    "*Note: the `%%writefile` magic command in jupyter writes the content of the cell to a file at the given path.*"
   ]
  },
  {
   "cell_type": "code",
   "execution_count": 9,
   "metadata": {
    "id": "9ahmFL0Rk6g1"
   },
   "outputs": [],
   "source": [
    "!mkdir -p ~/ParlAI/parlai/agents/baseline/\n",
    "!touch ~/ParlAI/parlai/agents/baseline/random.py\n",
    "!touch ~/ParlAI/parlai/agents/baseline/majorityclass.py"
   ]
  },
  {
   "cell_type": "markdown",
   "metadata": {
    "id": "mZLM7DtkkJN1"
   },
   "source": [
    "- **3.b.**  Design a baseline that answers a random word in the set of possible answer (run it multiple time to observe variance in results)."
   ]
  },
  {
   "cell_type": "code",
   "execution_count": null,
   "metadata": {
    "id": "Zx4emBSPjmE-"
   },
   "outputs": [],
   "source": [
    "# FILL THIS CELL\n",
    "%%writefile ~/ParlAI/parlai/agents/baseline/random.py\n",
    "import random\n",
    "\n",
    "from parlai.core.torch_agent import Agent\n",
    "\n",
    "\n",
    "class RandomAgent(Agent):\n",
    "  \n",
    "    def act(self):\n",
    "        # FILL CODE HERE"
   ]
  },
  {
   "cell_type": "code",
   "execution_count": 10,
   "metadata": {
    "colab": {
     "base_uri": "https://localhost:8080/"
    },
    "id": "13hLDkqxOpHk",
    "outputId": "928f7655-f47d-4113-fd32-78f55a4609af"
   },
   "outputs": [
    {
     "name": "stdout",
     "output_type": "stream",
     "text": [
      "Overwriting /root/ParlAI/parlai/agents/baseline/random.py\n"
     ]
    }
   ],
   "source": [
    "# SOLUTION\n",
    "%%writefile ~/ParlAI/parlai/agents/baseline/random.py\n",
    "import random\n",
    "\n",
    "from parlai.core.torch_agent import Agent\n",
    "\n",
    "\n",
    "class RandomAgent(Agent):\n",
    "  \n",
    "    def act(self):\n",
    "        if 'label_candidates' not in self.observation:\n",
    "            return\n",
    "        candidates = list(self.observation['label_candidates'])\n",
    "        reply = {'text': candidates[random.randrange(len(candidates))]}\n",
    "        return reply"
   ]
  },
  {
   "cell_type": "code",
   "execution_count": 11,
   "metadata": {
    "colab": {
     "base_uri": "https://localhost:8080/"
    },
    "id": "dMOWxgVj1Joz",
    "outputId": "8477b269-a682-4eb0-8803-2a27e53c1794"
   },
   "outputs": [
    {
     "name": "stdout",
     "output_type": "stream",
     "text": [
      "{'exs': 1000, 'accuracy': 0.165, 'f1': 0.165, 'bleu': 1.65e-10}\n"
     ]
    }
   ],
   "source": [
    "!python ~/ParlAI/examples/eval_model.py -t babi:task10k:1 -m baseline/random | grep accuracy -A 1"
   ]
  },
  {
   "cell_type": "code",
   "execution_count": 12,
   "metadata": {
    "colab": {
     "base_uri": "https://localhost:8080/"
    },
    "id": "oVs3pOKE2-WE",
    "outputId": "4d7d2856-83c0-4d4d-c78d-5a9eaa8cc958"
   },
   "outputs": [
    {
     "name": "stdout",
     "output_type": "stream",
     "text": [
      "[ optional arguments: ] \n",
      "[  display_ignore_fields:  ]\n",
      "[  num_examples: 10 ]\n",
      "[ Main ParlAI Arguments: ] \n",
      "[  batchsize: 1 ]\n",
      "[  datapath: /root/ParlAI/data ]\n",
      "[  datatype: valid ]\n",
      "[  download_path: /root/ParlAI/downloads ]\n",
      "[  hide_labels: False ]\n",
      "[  image_mode: raw ]\n",
      "[  multitask_weights: [1] ]\n",
      "[  numthreads: 1 ]\n",
      "[  show_advanced_args: False ]\n",
      "[  task: babi:task10k:1 ]\n",
      "[ ParlAI Model Arguments: ] \n",
      "[  dict_class: None ]\n",
      "[  init_model: None ]\n",
      "[  model: baseline/random ]\n",
      "[  model_file: None ]\n",
      "[ ParlAI Image Preprocessing Arguments: ] \n",
      "[  image_cropsize: 224 ]\n",
      "[  image_size: 256 ]\n",
      "[creating task(s): babi:task10k:1]\n",
      "[loading fbdialog data:/root/ParlAI/data/bAbI/tasks_1-20_v1-2/en-valid-10k-nosf/qa1_valid.txt]\n",
      "[babi:task10k:1]: Sandra travelled to the office.\n",
      "Sandra went to the bathroom.\n",
      "Where is Sandra?\n",
      "[eval_labels: bathroom]\n",
      "[label_candidates: garden|hallway|kitchen|bathroom|office|...and 1 more]\n",
      "   bedroom\n",
      "~~\n",
      "[babi:task10k:1]: Mary went to the bedroom.\n",
      "Daniel moved to the hallway.\n",
      "Where is Sandra?\n",
      "[eval_labels: bathroom]\n",
      "[label_candidates: garden|hallway|kitchen|bathroom|office|...and 1 more]\n",
      "   garden\n",
      "~~\n",
      "[babi:task10k:1]: John went to the garden.\n",
      "John travelled to the office.\n",
      "Where is Sandra?\n",
      "[eval_labels: bathroom]\n",
      "[label_candidates: garden|hallway|kitchen|bathroom|office|...and 1 more]\n",
      "   garden\n",
      "~~\n",
      "[babi:task10k:1]: Daniel journeyed to the bedroom.\n",
      "Daniel travelled to the hallway.\n",
      "Where is John?\n",
      "[eval_labels: office]\n",
      "[label_candidates: garden|hallway|kitchen|bathroom|office|...and 1 more]\n",
      "   bedroom\n",
      "~~\n",
      "[babi:task10k:1]: John went to the bedroom.\n",
      "John travelled to the office.\n",
      "Where is Daniel?\n",
      "[eval_labels: hallway]\n",
      "[label_candidates: garden|hallway|kitchen|bathroom|office|...and 1 more]\n",
      "   kitchen\n",
      "- - - - - - - - - - - - - - - - - - - - -\n",
      "~~\n",
      "[babi:task10k:1]: Sandra went back to the bathroom.\n",
      "Mary moved to the garden.\n",
      "Where is Mary?\n",
      "[eval_labels: garden]\n",
      "[label_candidates: garden|hallway|kitchen|bathroom|office|...and 1 more]\n",
      "   hallway\n",
      "~~\n",
      "[babi:task10k:1]: Mary went back to the hallway.\n",
      "Sandra went to the office.\n",
      "Where is Sandra?\n",
      "[eval_labels: office]\n",
      "[label_candidates: garden|hallway|kitchen|bathroom|office|...and 1 more]\n",
      "   hallway\n",
      "~~\n",
      "[babi:task10k:1]: John went back to the hallway.\n",
      "John travelled to the office.\n",
      "Where is Sandra?\n",
      "[eval_labels: office]\n",
      "[label_candidates: garden|hallway|kitchen|bathroom|office|...and 1 more]\n",
      "   hallway\n",
      "~~\n",
      "[babi:task10k:1]: Sandra journeyed to the hallway.\n",
      "Daniel moved to the office.\n",
      "Where is John?\n",
      "[eval_labels: office]\n",
      "[label_candidates: garden|hallway|kitchen|bathroom|office|...and 1 more]\n",
      "   bedroom\n",
      "~~\n",
      "[babi:task10k:1]: Mary went to the office.\n",
      "Sandra went to the office.\n",
      "Where is John?\n",
      "[eval_labels: office]\n",
      "[label_candidates: garden|hallway|kitchen|bathroom|office|...and 1 more]\n",
      "   garden\n",
      "- - - - - - - - - - - - - - - - - - - - -\n",
      "~~\n"
     ]
    }
   ],
   "source": [
    "!python ~/ParlAI/examples/display_model.py -t babi:task10k:1 -m baseline/random -n 10 "
   ]
  },
  {
   "cell_type": "markdown",
   "metadata": {
    "id": "3UnE4oVakR4k"
   },
   "source": [
    "- **3.c.**  Design a baseline that answers the most common answer every time (majority class baseline)."
   ]
  },
  {
   "cell_type": "code",
   "execution_count": 13,
   "metadata": {
    "colab": {
     "base_uri": "https://localhost:8080/"
    },
    "id": "hHIV2NUzGzQc",
    "outputId": "cc836041-5be4-4ceb-d6e4-7b315642d0c2"
   },
   "outputs": [
    {
     "name": "stdout",
     "output_type": "stream",
     "text": [
      "Overwriting /root/ParlAI/parlai/agents/baseline/majorityclass.py\n"
     ]
    }
   ],
   "source": [
    "# FILL THIS CELL\n",
    "%%writefile ~/ParlAI/parlai/agents/baseline/majorityclass.py\n",
    "import random\n",
    "\n",
    "from parlai.core.torch_agent import Agent\n",
    "\n",
    "\n",
    "class MajorityclassAgent(Agent):\n",
    "  \n",
    "    def act(self):\n",
    "        # FILL CODE HERE"
   ]
  },
  {
   "cell_type": "code",
   "execution_count": 14,
   "metadata": {
    "colab": {
     "base_uri": "https://localhost:8080/"
    },
    "id": "ioL7XBfNQbFl",
    "outputId": "7ae76a19-d29d-4f56-bd42-4f401e585edc"
   },
   "outputs": [
    {
     "name": "stdout",
     "output_type": "stream",
     "text": [
      "Overwriting /root/ParlAI/parlai/agents/baseline/majorityclass.py\n"
     ]
    }
   ],
   "source": [
    "# SOLUTION\n",
    "%%writefile ~/ParlAI/parlai/agents/baseline/majorityclass.py\n",
    "import random\n",
    "\n",
    "from parlai.core.torch_agent import Agent\n",
    "\n",
    "\n",
    "class MajorityclassAgent(Agent):\n",
    "  \n",
    "    def act(self):\n",
    "        if 'label_candidates' not in self.observation:\n",
    "            return\n",
    "        reply = {'text': 'bathroom'}\n",
    "        return reply"
   ]
  },
  {
   "cell_type": "code",
   "execution_count": 15,
   "metadata": {
    "colab": {
     "base_uri": "https://localhost:8080/"
    },
    "id": "U34z6bx0lJV9",
    "outputId": "667b0bca-6af9-4648-fe2f-f5a2ee4a30e8"
   },
   "outputs": [
    {
     "name": "stdout",
     "output_type": "stream",
     "text": [
      "{'exs': 1000, 'accuracy': 0.169, 'f1': 0.169, 'bleu': 1.69e-10}\n"
     ]
    }
   ],
   "source": [
    "!python ~/ParlAI/examples/eval_model.py -t babi:task10k:1 -m baseline/majorityclass | grep accuracy -A 1"
   ]
  },
  {
   "cell_type": "code",
   "execution_count": 16,
   "metadata": {
    "colab": {
     "base_uri": "https://localhost:8080/"
    },
    "id": "X8LHkfUS3AL0",
    "outputId": "35a0a16a-57f5-4c27-9a9d-345716fefcf5"
   },
   "outputs": [
    {
     "name": "stdout",
     "output_type": "stream",
     "text": [
      "[ optional arguments: ] \n",
      "[  display_ignore_fields:  ]\n",
      "[  num_examples: 10 ]\n",
      "[ Main ParlAI Arguments: ] \n",
      "[  batchsize: 1 ]\n",
      "[  datapath: /root/ParlAI/data ]\n",
      "[  datatype: valid ]\n",
      "[  download_path: /root/ParlAI/downloads ]\n",
      "[  hide_labels: False ]\n",
      "[  image_mode: raw ]\n",
      "[  multitask_weights: [1] ]\n",
      "[  numthreads: 1 ]\n",
      "[  show_advanced_args: False ]\n",
      "[  task: babi:task10k:1 ]\n",
      "[ ParlAI Model Arguments: ] \n",
      "[  dict_class: None ]\n",
      "[  init_model: None ]\n",
      "[  model: baseline/majorityclass ]\n",
      "[  model_file: None ]\n",
      "[ ParlAI Image Preprocessing Arguments: ] \n",
      "[  image_cropsize: 224 ]\n",
      "[  image_size: 256 ]\n",
      "[creating task(s): babi:task10k:1]\n",
      "[loading fbdialog data:/root/ParlAI/data/bAbI/tasks_1-20_v1-2/en-valid-10k-nosf/qa1_valid.txt]\n",
      "[babi:task10k:1]: Sandra travelled to the office.\n",
      "Sandra went to the bathroom.\n",
      "Where is Sandra?\n",
      "[eval_labels: bathroom]\n",
      "[label_candidates: hallway|kitchen|office|bedroom|bathroom|...and 1 more]\n",
      "   bathroom\n",
      "~~\n",
      "[babi:task10k:1]: Mary went to the bedroom.\n",
      "Daniel moved to the hallway.\n",
      "Where is Sandra?\n",
      "[eval_labels: bathroom]\n",
      "[label_candidates: hallway|kitchen|office|bedroom|bathroom|...and 1 more]\n",
      "   bathroom\n",
      "~~\n",
      "[babi:task10k:1]: John went to the garden.\n",
      "John travelled to the office.\n",
      "Where is Sandra?\n",
      "[eval_labels: bathroom]\n",
      "[label_candidates: hallway|kitchen|office|bedroom|bathroom|...and 1 more]\n",
      "   bathroom\n",
      "~~\n",
      "[babi:task10k:1]: Daniel journeyed to the bedroom.\n",
      "Daniel travelled to the hallway.\n",
      "Where is John?\n",
      "[eval_labels: office]\n",
      "[label_candidates: hallway|kitchen|office|bedroom|bathroom|...and 1 more]\n",
      "   bathroom\n",
      "~~\n",
      "[babi:task10k:1]: John went to the bedroom.\n",
      "John travelled to the office.\n",
      "Where is Daniel?\n",
      "[eval_labels: hallway]\n",
      "[label_candidates: hallway|kitchen|office|bedroom|bathroom|...and 1 more]\n",
      "   bathroom\n",
      "- - - - - - - - - - - - - - - - - - - - -\n",
      "~~\n",
      "[babi:task10k:1]: Sandra went back to the bathroom.\n",
      "Mary moved to the garden.\n",
      "Where is Mary?\n",
      "[eval_labels: garden]\n",
      "[label_candidates: hallway|kitchen|office|bedroom|bathroom|...and 1 more]\n",
      "   bathroom\n",
      "~~\n",
      "[babi:task10k:1]: Mary went back to the hallway.\n",
      "Sandra went to the office.\n",
      "Where is Sandra?\n",
      "[eval_labels: office]\n",
      "[label_candidates: hallway|kitchen|office|bedroom|bathroom|...and 1 more]\n",
      "   bathroom\n",
      "~~\n",
      "[babi:task10k:1]: John went back to the hallway.\n",
      "John travelled to the office.\n",
      "Where is Sandra?\n",
      "[eval_labels: office]\n",
      "[label_candidates: hallway|kitchen|office|bedroom|bathroom|...and 1 more]\n",
      "   bathroom\n",
      "~~\n",
      "[babi:task10k:1]: Sandra journeyed to the hallway.\n",
      "Daniel moved to the office.\n",
      "Where is John?\n",
      "[eval_labels: office]\n",
      "[label_candidates: hallway|kitchen|office|bedroom|bathroom|...and 1 more]\n",
      "   bathroom\n",
      "~~\n",
      "[babi:task10k:1]: Mary went to the office.\n",
      "Sandra went to the office.\n",
      "Where is John?\n",
      "[eval_labels: office]\n",
      "[label_candidates: hallway|kitchen|office|bedroom|bathroom|...and 1 more]\n",
      "   bathroom\n",
      "- - - - - - - - - - - - - - - - - - - - -\n",
      "~~\n"
     ]
    }
   ],
   "source": [
    "!python ~/ParlAI/examples/display_model.py -t babi:task10k:1 -m baseline/majorityclass -n 10"
   ]
  },
  {
   "cell_type": "markdown",
   "metadata": {
    "id": "BOW4ZTSekWt9"
   },
   "source": [
    "---\n",
    "- **3.d.**  In which cases would the majority class baseline be better than the random baseline?\n",
    "\n",
    "*ANSWER HERE*\n",
    "\n",
    "\n",
    "3.d. *When the data are unbalanced, this results in the number of samples being unevenly distributed across the possible responses.*\n",
    "---"
   ]
  },
  {
   "cell_type": "markdown",
   "metadata": {
    "id": "layL9aTK_D1a"
   },
   "source": [
    "Another slightly more advanced baseline is implemented in ParlAI: the information retrieval baseline (`ir_baseline`)\n",
    "\n",
    "---\n",
    "- **3.e.** Look at the [implementation](https://github.com/facebookresearch/ParlAI/blob/53ea58acf389bffc79c85c43bcdd848eecdcecb4/parlai/agents/ir_baseline/ir_baseline.py#L211) of the IR baseline and explain in a few lines how it works (*hint: look at the following methods `act()` `rank_candidates()`  `score_match()`*)  \n",
    "\n",
    "*ANSWER HERE*\n",
    "\n",
    "# 3.e. *From the given observations, we notice that an answer is generated by the act() method, the rank_candidate() method performs the ranking of available candidates, the score_match method assigns scores to the candidates to be ranked, thus generating the best candidate by the act() method in the long run.There may be a worst case where the act() method returns \"I don't know\" when there is no viable candidate.*\n",
    "---"
   ]
  },
  {
   "cell_type": "markdown",
   "metadata": {
    "id": "oKo6zJHwksKA"
   },
   "source": [
    "- **3.f.** Use the IR baseline and compare its with one of your baselines (random and/or majority) on bAbI tasks 1, 2 and 3.  \n",
    "    (*hint: you can use `!python ... -t babi:task1-k:{i+1}` syntax to substitute the task number in a bash command from jupyter*)\n"
   ]
  },
  {
   "cell_type": "code",
   "execution_count": 17,
   "metadata": {
    "colab": {
     "base_uri": "https://localhost:8080/"
    },
    "id": "EzBAEWP7k10U",
    "outputId": "86fe35c0-edd5-4b35-c658-79fa3ccb8fb0"
   },
   "outputs": [
    {
     "name": "stdout",
     "output_type": "stream",
     "text": [
      "~ Task 1 ~\n",
      "Majority class baseline:\n",
      "{'exs': 1000, 'accuracy': 0.169, 'f1': 0.169, 'bleu': 1.69e-10}\n",
      "IR baseline:\n",
      "{'exs': 1000, 'accuracy': 0.465, 'f1': 0.465, 'hits@1': 0.465, 'hits@5': 0.961, 'hits@10': 1.0, 'hits@100': 1.0, 'bleu': 4.65e-10}\n",
      "~ Task 2 ~\n",
      "Majority class baseline:\n",
      "{'exs': 1000, 'accuracy': 0.17, 'f1': 0.17, 'bleu': 1.7e-10}\n",
      "IR baseline:\n",
      "{'exs': 1000, 'accuracy': 0.284, 'f1': 0.284, 'hits@1': 0.284, 'hits@5': 0.9, 'hits@10': 1.0, 'hits@100': 1.0, 'bleu': 2.84e-10}\n",
      "~ Task 3 ~\n",
      "Majority class baseline:\n",
      "{'exs': 1000, 'accuracy': 0.203, 'f1': 0.203, 'bleu': 2.03e-10}\n",
      "IR baseline:\n",
      "{'exs': 1000, 'accuracy': 0.132, 'f1': 0.132, 'hits@1': 0.132, 'hits@5': 0.836, 'hits@10': 1.0, 'hits@100': 1.0, 'bleu': 1.32e-10}\n"
     ]
    }
   ],
   "source": [
    "# SOLUTION\n",
    "for i in range(3):\n",
    "    print(f'~ Task {i+1} ~')\n",
    "    print('Majority class baseline:')\n",
    "    !python ~/ParlAI/examples/eval_model.py -t babi:task10k:{i+1} -m baseline/majorityclass | grep accuracy\n",
    "    print('IR baseline:')\n",
    "    !python ~/ParlAI/examples/eval_model.py -t babi:task10k:{i+1} -m ir_baseline | grep accuracy"
   ]
  },
  {
   "cell_type": "markdown",
   "metadata": {
    "id": "xZGFSbEwJdvx"
   },
   "source": [
    "## 4. More elaborate models\n",
    "\n"
   ]
  },
  {
   "cell_type": "markdown",
   "metadata": {
    "id": "wj7onBcoyoZz"
   },
   "source": [
    "We can now continue to more elaborate models and evaluate their performance in perspective to the baselines.\n",
    "We will use the `~/ParlAI/examples/train_model.py` script. Let's first get a glance at its arguments:"
   ]
  },
  {
   "cell_type": "code",
   "execution_count": 18,
   "metadata": {
    "colab": {
     "base_uri": "https://localhost:8080/"
    },
    "id": "gZa5Xl5Bxxxe",
    "outputId": "980470db-1006-40b0-f0c9-b898b8511012"
   },
   "outputs": [
    {
     "name": "stdout",
     "output_type": "stream",
     "text": [
      "usage: train_model.py [-h] [-v] [-t TASK]\n",
      "                      [-dt {train,train:stream,train:ordered,train:ordered:stream,train:stream:ordered,train:evalmode,train:evalmode:stream,train:evalmode:ordered,train:evalmode:ordered:stream,train:evalmode:stream:ordered,valid,valid:stream,test,test:stream}]\n",
      "                      [-nt NUMTHREADS] [-bs BATCHSIZE] [-dp DATAPATH] [-m MODEL] [-mf MODEL_FILE] [-im INIT_MODEL] [-et EVALTASK]\n",
      "                      [-eps NUM_EPOCHS] [-ttim MAX_TRAIN_TIME] [-vtim VALIDATION_EVERY_N_SECS] [-stim SAVE_EVERY_N_SECS]\n",
      "                      [-sval SAVE_AFTER_VALID] [-veps VALIDATION_EVERY_N_EPOCHS] [-vp VALIDATION_PATIENCE]\n",
      "                      [-vmt VALIDATION_METRIC] [-vmm {max,min}] [-pyt PYTORCH_TEACHER_TASK] [-pytd PYTORCH_TEACHER_DATASET]\n",
      "\n",
      "Train a model\n",
      "\n",
      "optional arguments:\n",
      "  -h, --help\n",
      "        show this help message and exit\n",
      "\n",
      "Main ParlAI Arguments:\n",
      "  -v, --show-advanced-args\n",
      "        Show hidden command line options (advanced users only) (default: False)\n",
      "  -t, --task TASK\n",
      "        ParlAI task(s), e.g. \"babi:Task1\" or \"babi,cbt\" (default: None)\n",
      "  -dt, --datatype {train,train:stream,train:ordered,train:ordered:stream,train:stream:ordered,train:evalmode,train:evalmode:stream,train:evalmode:ordered,train:evalmode:ordered:stream,train:evalmode:stream:ordered,valid,valid:stream,test,test:stream}\n",
      "        choose from: train, train:ordered, valid, test. to stream data add \":stream\" to any option (e.g., train:stream). by\n",
      "        default: train is random with replacement, valid is ordered, test is ordered. (default: train)\n",
      "  -nt, --numthreads NUMTHREADS\n",
      "        number of threads. Used for hogwild if batchsize is 1, else for number of threads in threadpool loading, (default: 1)\n",
      "  -bs, --batchsize BATCHSIZE\n",
      "        batch size for minibatch training schemes (default: 1)\n",
      "  -dp, --datapath DATAPATH\n",
      "        path to datasets, defaults to {parlai_dir}/data (default: /root/ParlAI/data)\n",
      "\n",
      "ParlAI Model Arguments:\n",
      "  -m, --model MODEL\n",
      "        the model class name. can match parlai/agents/<model> for agents in that directory, or can provide a fully specified\n",
      "        module for `from X import Y` via `-m X:Y` (e.g. `-m parlai.agents.seq2seq.seq2seq:Seq2SeqAgent`) (default: None)\n",
      "  -mf, --model-file MODEL_FILE\n",
      "        model file name for loading and saving models (default: None)\n",
      "  -im, --init-model INIT_MODEL\n",
      "        load model weights and dict from this file (default: None)\n",
      "\n",
      "Training Loop Arguments:\n",
      "  -et, --evaltask EVALTASK\n",
      "        task to use for valid/test (defaults to the one used for training if not set) (default: None)\n",
      "  -eps, --num-epochs NUM_EPOCHS\n",
      "  -ttim, --max-train-time MAX_TRAIN_TIME\n",
      "  -vtim, --validation-every-n-secs VALIDATION_EVERY_N_SECS\n",
      "        Validate every n seconds. Saves model to model_file (if set) whenever best val metric is found (default: -1)\n",
      "  -stim, --save-every-n-secs SAVE_EVERY_N_SECS\n",
      "        Saves the model to model_file.checkpoint after every n seconds (default -1, never). (default: -1)\n",
      "  -sval, --save-after-valid SAVE_AFTER_VALID\n",
      "        Saves the model to model_file.checkpoint after every validation (default False).\n",
      "  -veps, --validation-every-n-epochs VALIDATION_EVERY_N_EPOCHS\n",
      "        Validate every n epochs. Saves model to model_file (if set) whenever best val metric is found (default: -1)\n",
      "  -vp, --validation-patience VALIDATION_PATIENCE\n",
      "        number of iterations of validation where result does not improve before we stop training (default: 10)\n",
      "  -vmt, --validation-metric VALIDATION_METRIC\n",
      "        key into report table for selecting best validation (default: accuracy)\n",
      "  -vmm, --validation-metric-mode {max,min}\n",
      "        how to optimize validation metric (max or min) (default: None)\n",
      "\n",
      "PytorchData Arguments:\n",
      "  -pyt, --pytorch-teacher-task PYTORCH_TEACHER_TASK\n",
      "        Use the PytorchDataTeacher for multiprocessed data loading with a standard ParlAI task, e.g. \"babi:Task1k\" (default: None)\n",
      "  -pytd, --pytorch-teacher-dataset PYTORCH_TEACHER_DATASET\n",
      "        Use the PytorchDataTeacher for multiprocessed data loading with a pytorch Dataset, e.g. \"vqa_1\" or \"flickr30k\" (default:\n",
      "        None)\n"
     ]
    }
   ],
   "source": [
    "!python ~/ParlAI/examples/train_model.py --help"
   ]
  },
  {
   "cell_type": "markdown",
   "metadata": {
    "id": "s2apZUNj6JrS"
   },
   "source": [
    "We can train two types of models:\n",
    "- **Generative models**: The model generates an answer from its vocabulary.\n",
    "- **Ranking models**: The model is given a list of possible answers and has to choose the correct answer. This is much easier for the model since the list of possible answers is often way smaller than the size of the vocabulary\n"
   ]
  },
  {
   "cell_type": "markdown",
   "metadata": {
    "id": "HdBwoP2K36DH"
   },
   "source": [
    "### Generative model: seq2seq with attention\n",
    "\n",
    "The generative model we are going to train is a sequence to sequence model with attention based on [Sustskever et al. 2014](https://arxiv.org/abs/1409.3215) and [Bahdanau et al. 2014](https://arxiv.org/abs/1409.0473).\n",
    "      \n",
    "- **4.a.** Briefly explain how attention works in sequence to sequence neural networks.\n",
    "- **4.b.** Do you think attention is useful for the babi tasks? How would you verify it experimentally?\n",
    "\n",
    "*ANSWER HERE*\n",
    "\n",
    "\n",
    "# 4.a. \n",
    "\n",
    "# An embedding has been created for the hidden states of the encoder. Thus, the dot product of these hidden states produces an alignment score for each state, which is then passed through a softmax layer. Thus, the product of each hidden state of the encoder is associated with its softmax score to obtain an alignment vector, the sum of which produces the context vector and these vectors are introduced into the decoder, according to the architecture.\n",
    "\n",
    "\n",
    "# 4.b. \n",
    "\n",
    "# We note that the attention has not shown any considerable improvement in the accuracy of the IR baseline compared to tf-idf. So I don't think it's important to adopt an elaborate network, based on this evidence. Otherwise, I would say rather to experiment with this attention using the memory network if a significant improvement is recorded.\n",
    "\n",
    "---\n",
    "- **4.c.** Train a seq2seq on bAbI task 1 (10k) and compare its results to the baselines.\n",
    "   (*hint: for faster training use the following arguments `--batchsize 32 --numthreads 1 --num-epochs 5 --hiddensize 64 --embeddingsize 64 --numlayers 1 --decoder shared`)\n"
   ]
  },
  {
   "cell_type": "code",
   "execution_count": 19,
   "metadata": {
    "colab": {
     "base_uri": "https://localhost:8080/"
    },
    "id": "VIpwQj4NpY5s",
    "outputId": "29ff51d8-2186-4525-a2eb-25108f20a516"
   },
   "outputs": [
    {
     "name": "stdout",
     "output_type": "stream",
     "text": [
      "[ Main ParlAI Arguments: ] \n",
      "[  batchsize: 32 ]\n",
      "[  datapath: /root/ParlAI/data ]\n",
      "[  datatype: train ]\n",
      "[  download_path: /root/ParlAI/downloads ]\n",
      "[  hide_labels: False ]\n",
      "[  image_mode: raw ]\n",
      "[  multitask_weights: [1] ]\n",
      "[  numthreads: 1 ]\n",
      "[  show_advanced_args: False ]\n",
      "[  task: babi:task10k:1 ]\n",
      "[ ParlAI Model Arguments: ] \n",
      "[  dict_class: parlai.core.dict:DictionaryAgent ]\n",
      "[  init_model: None ]\n",
      "[  model: seq2seq ]\n",
      "[  model_file: /tmp/babi_s2s ]\n",
      "[ Training Loop Arguments: ] \n",
      "[  dict_build_first: True ]\n",
      "[  display_examples: False ]\n",
      "[  eval_batchsize: None ]\n",
      "[  evaltask: None ]\n",
      "[  load_from_checkpoint: False ]\n",
      "[  max_train_time: -1 ]\n",
      "[  num_epochs: 5.0 ]\n",
      "[  save_after_valid: False ]\n",
      "[  save_every_n_secs: -1 ]\n",
      "[  validation_cutoff: 1.0 ]\n",
      "[  validation_every_n_epochs: -1 ]\n",
      "[  validation_every_n_secs: -1 ]\n",
      "[  validation_max_exs: -1 ]\n",
      "[  validation_metric: accuracy ]\n",
      "[  validation_metric_mode: None ]\n",
      "[  validation_patience: 10 ]\n",
      "[  validation_share_agent: False ]\n",
      "[ Tensorboard Arguments: ] \n",
      "[  tensorboard_comment:  ]\n",
      "[  tensorboard_log: False ]\n",
      "[  tensorboard_metrics: None ]\n",
      "[  tensorboard_tag: None ]\n",
      "[ PytorchData Arguments: ] \n",
      "[  batch_length_range: 5 ]\n",
      "[  batch_sort_cache_type: pop ]\n",
      "[  batch_sort_field: text ]\n",
      "[  numworkers: 4 ]\n",
      "[  pytorch_context_length: -1 ]\n",
      "[  pytorch_datapath: None ]\n",
      "[  pytorch_include_labels: True ]\n",
      "[  pytorch_preprocess: False ]\n",
      "[  pytorch_teacher_batch_sort: False ]\n",
      "[  pytorch_teacher_dataset: None ]\n",
      "[  pytorch_teacher_task: None ]\n",
      "[  shuffle: False ]\n",
      "[ Dictionary Loop Arguments: ] \n",
      "[  dict_include_test: False ]\n",
      "[  dict_include_valid: False ]\n",
      "[  dict_maxexs: -1 ]\n",
      "[  log_every_n_secs: 2 ]\n",
      "[ ParlAI Image Preprocessing Arguments: ] \n",
      "[  image_cropsize: 224 ]\n",
      "[  image_size: 256 ]\n",
      "[ Seq2Seq Arguments: ] \n",
      "[  attention: none ]\n",
      "[  attention_length: 48 ]\n",
      "[  attention_time: post ]\n",
      "[  bidirectional: False ]\n",
      "[  decoder: shared ]\n",
      "[  dropout: 0.1 ]\n",
      "[  embeddingsize: 64 ]\n",
      "[  hiddensize: 64 ]\n",
      "[  input_dropout: 0.0 ]\n",
      "[  lookuptable: unique ]\n",
      "[  numlayers: 1 ]\n",
      "[  numsoftmax: 1 ]\n",
      "[  rnn_class: lstm ]\n",
      "[ Torch Generator Agent: ] \n",
      "[  beam_block_ngram: 0 ]\n",
      "[  beam_dot_log: False ]\n",
      "[  beam_min_length: 1 ]\n",
      "[  beam_min_n_best: 3 ]\n",
      "[  beam_size: 1 ]\n",
      "[  skip_generation: False ]\n",
      "[ TorchAgent Arguments: ] \n",
      "[  add_p1_after_newln: False ]\n",
      "[  betas: (0.9, 0.999) ]\n",
      "[  delimiter: \n",
      " ]\n",
      "[  embedding_projection: random ]\n",
      "[  embedding_type: random ]\n",
      "[  gpu: -1 ]\n",
      "[  gradient_clip: 0.1 ]\n",
      "[  history_size: -1 ]\n",
      "[  label_truncate: None ]\n",
      "[  learningrate: 1 ]\n",
      "[  lr_scheduler: reduceonplateau ]\n",
      "[  lr_scheduler_decay: 0.5 ]\n",
      "[  lr_scheduler_patience: 3 ]\n",
      "[  momentum: 0 ]\n",
      "[  nesterov: True ]\n",
      "[  no_cuda: False ]\n",
      "[  nus: (0.7,) ]\n",
      "[  optimizer: sgd ]\n",
      "[  person_tokens: False ]\n",
      "[  rank_candidates: False ]\n",
      "[  split_lines: False ]\n",
      "[  text_truncate: None ]\n",
      "[  truncate: -1 ]\n",
      "[  update_freq: -1 ]\n",
      "[  use_reply: label ]\n",
      "[  warmup_rate: 0.0001 ]\n",
      "[  warmup_updates: -1 ]\n",
      "[ Dictionary Arguments: ] \n",
      "[  bpe_debug: False ]\n",
      "[  dict_endtoken: __end__ ]\n",
      "[  dict_file: None ]\n",
      "[  dict_initpath: None ]\n",
      "[  dict_language: english ]\n",
      "[  dict_lower: False ]\n",
      "[  dict_max_ngram_size: -1 ]\n",
      "[  dict_maxtokens: -1 ]\n",
      "[  dict_minfreq: 0 ]\n",
      "[  dict_nulltoken: __null__ ]\n",
      "[  dict_starttoken: __start__ ]\n",
      "[  dict_textfields: text,labels ]\n",
      "[  dict_tokenizer: re ]\n",
      "[  dict_unktoken: __unk__ ]\n",
      "[ building dictionary first... ]\n",
      "[creating task(s): babi:task10k:1]\n",
      "[ running dictionary over data.. ]\n",
      "Building dictionary:   0% 0.00/9.00k [00:00<?, ?ex/s][loading fbdialog data:/root/ParlAI/data/bAbI/tasks_1-20_v1-2/en-valid-10k-nosf/qa1_train.txt]\n",
      "Building dictionary:  98% 8.82k/9.00k [00:00<00:00, 29.4kex/s][loading fbdialog data:/root/ParlAI/data/bAbI/tasks_1-20_v1-2/en-valid-10k-nosf/qa1_train.txt]\n",
      "Building dictionary: 100% 9.00k/9.00k [00:00<00:00, 29.4kex/s]\n",
      "Dictionary: saving dictionary to /tmp/babi_s2s.dict\n",
      "[ dictionary built with 26 tokens in 0s ]\n",
      "[ no model with opt yet at: /tmp/babi_s2s(.opt) ]\n",
      "Dictionary: loading dictionary from /tmp/babi_s2s.dict\n",
      "[ num words =  26 ]\n",
      "[ Using CUDA ]\n",
      "/usr/local/lib/python3.7/dist-packages/torch/nn/_reduction.py:42: UserWarning: size_average and reduce args will be deprecated, please use reduction='sum' instead.\n",
      "  warnings.warn(warning.format(ret))\n",
      "[creating task(s): babi:task10k:1]\n",
      "[loading fbdialog data:/root/ParlAI/data/bAbI/tasks_1-20_v1-2/en-valid-10k-nosf/qa1_train.txt]\n",
      "[ training... ]\n",
      "Traceback (most recent call last):\n",
      "  File \"/root/ParlAI/examples/train_model.py\", line 16, in <module>\n",
      "    TrainLoop(opt).train()\n",
      "  File \"/root/ParlAI/parlai/scripts/train_model.py\", line 512, in train\n",
      "    world.parley()\n",
      "  File \"/root/ParlAI/parlai/core/worlds.py\", line 663, in parley\n",
      "    batch_act = self.batch_act(agent_idx, batch_observations[agent_idx])\n",
      "  File \"/root/ParlAI/parlai/core/worlds.py\", line 636, in batch_act\n",
      "    batch_actions = a.batch_act(batch_observation)\n",
      "  File \"/root/ParlAI/parlai/core/torch_agent.py\", line 1350, in batch_act\n",
      "    output = self.train_step(batch)\n",
      "  File \"/root/ParlAI/parlai/core/torch_generator_agent.py\", line 486, in train_step\n",
      "    self._init_cuda_buffer(batchsize, self.truncate or 256)\n",
      "  File \"/root/ParlAI/parlai/core/torch_generator_agent.py\", line 383, in _init_cuda_buffer\n",
      "    raise e\n",
      "  File \"/root/ParlAI/parlai/core/torch_generator_agent.py\", line 373, in _init_cuda_buffer\n",
      "    loss = self.compute_loss(self._dummy_batch(batchsize, maxlen))\n",
      "  File \"/root/ParlAI/parlai/core/torch_generator_agent.py\", line 465, in compute_loss\n",
      "    model_output = self.model(*self._model_input(batch), ys=batch.label_vec)\n",
      "  File \"/usr/local/lib/python3.7/dist-packages/torch/nn/modules/module.py\", line 889, in _call_impl\n",
      "    result = self.forward(*input, **kwargs)\n",
      "  File \"/root/ParlAI/parlai/core/torch_generator_agent.py\", line 217, in forward\n",
      "    encoder_states = prev_enc if prev_enc is not None else self.encoder(*xs)\n",
      "  File \"/usr/local/lib/python3.7/dist-packages/torch/nn/modules/module.py\", line 889, in _call_impl\n",
      "    result = self.forward(*input, **kwargs)\n",
      "  File \"/root/ParlAI/parlai/agents/seq2seq/modules.py\", line 226, in forward\n",
      "    xes = pack_padded_sequence(xes, x_lens, batch_first=True)\n",
      "  File \"/usr/local/lib/python3.7/dist-packages/torch/nn/utils/rnn.py\", line 245, in pack_padded_sequence\n",
      "    _VF._pack_padded_sequence(input, lengths, batch_first)\n",
      "RuntimeError: 'lengths' argument should be a 1D CPU int64 tensor, but got 1D cuda:0 Long tensor\n"
     ]
    }
   ],
   "source": [
    "# FILL THIS CELL\n",
    "# SOLUTION\n",
    "!python ~/ParlAI/examples/train_model.py --task babi:task10k:1 --model seq2seq  --model-file /tmp/babi_s2s --batchsize 32 --numthreads 1 --num-epochs 5 --hiddensize 64 --embeddingsize 64 --numlayers 1 --decoder shared"
   ]
  },
  {
   "cell_type": "code",
   "execution_count": 20,
   "metadata": {
    "colab": {
     "base_uri": "https://localhost:8080/"
    },
    "id": "OvxjgtEHTXFb",
    "outputId": "62a0dbb2-e39c-4384-a4ff-2471def866ff"
   },
   "outputs": [
    {
     "name": "stdout",
     "output_type": "stream",
     "text": [
      "[ optional arguments: ] \n",
      "[  display_ignore_fields:  ]\n",
      "[  num_examples: 10 ]\n",
      "[ Main ParlAI Arguments: ] \n",
      "[  batchsize: 1 ]\n",
      "[  datapath: /root/ParlAI/data ]\n",
      "[  datatype: valid ]\n",
      "[  download_path: /root/ParlAI/downloads ]\n",
      "[  hide_labels: False ]\n",
      "[  image_mode: raw ]\n",
      "[  multitask_weights: [1] ]\n",
      "[  numthreads: 1 ]\n",
      "[  show_advanced_args: False ]\n",
      "[  task: babi:task10k:1 ]\n",
      "[ ParlAI Model Arguments: ] \n",
      "[  dict_class: parlai.core.dict:DictionaryAgent ]\n",
      "[  init_model: None ]\n",
      "[  model: seq2seq ]\n",
      "[  model_file: /tmp/babi_s2s ]\n",
      "[ ParlAI Image Preprocessing Arguments: ] \n",
      "[  image_cropsize: 224 ]\n",
      "[  image_size: 256 ]\n",
      "[ Seq2Seq Arguments: ] \n",
      "[  attention: none ]\n",
      "[  attention_length: 48 ]\n",
      "[  attention_time: post ]\n",
      "[  bidirectional: False ]\n",
      "[  decoder: same ]\n",
      "[  dropout: 0.1 ]\n",
      "[  embeddingsize: 128 ]\n",
      "[  hiddensize: 128 ]\n",
      "[  input_dropout: 0.0 ]\n",
      "[  lookuptable: unique ]\n",
      "[  numlayers: 2 ]\n",
      "[  numsoftmax: 1 ]\n",
      "[  rnn_class: lstm ]\n",
      "[ Torch Generator Agent: ] \n",
      "[  beam_block_ngram: 0 ]\n",
      "[  beam_dot_log: False ]\n",
      "[  beam_min_length: 1 ]\n",
      "[  beam_min_n_best: 3 ]\n",
      "[  beam_size: 1 ]\n",
      "[  skip_generation: False ]\n",
      "[ TorchAgent Arguments: ] \n",
      "[  add_p1_after_newln: False ]\n",
      "[  betas: (0.9, 0.999) ]\n",
      "[  delimiter: \n",
      " ]\n",
      "[  embedding_projection: random ]\n",
      "[  embedding_type: random ]\n",
      "[  gpu: -1 ]\n",
      "[  gradient_clip: 0.1 ]\n",
      "[  history_size: -1 ]\n",
      "[  label_truncate: None ]\n",
      "[  learningrate: 1 ]\n",
      "[  lr_scheduler: reduceonplateau ]\n",
      "[  lr_scheduler_decay: 0.5 ]\n",
      "[  lr_scheduler_patience: 3 ]\n",
      "[  momentum: 0 ]\n",
      "[  nesterov: True ]\n",
      "[  no_cuda: False ]\n",
      "[  nus: (0.7,) ]\n",
      "[  optimizer: sgd ]\n",
      "[  person_tokens: False ]\n",
      "[  rank_candidates: False ]\n",
      "[  split_lines: False ]\n",
      "[  text_truncate: None ]\n",
      "[  truncate: -1 ]\n",
      "[  update_freq: -1 ]\n",
      "[  use_reply: label ]\n",
      "[  warmup_rate: 0.0001 ]\n",
      "[  warmup_updates: -1 ]\n",
      "[ Dictionary Arguments: ] \n",
      "[  bpe_debug: False ]\n",
      "[  dict_endtoken: __end__ ]\n",
      "[  dict_file: None ]\n",
      "[  dict_initpath: None ]\n",
      "[  dict_language: english ]\n",
      "[  dict_lower: False ]\n",
      "[  dict_max_ngram_size: -1 ]\n",
      "[  dict_maxtokens: -1 ]\n",
      "[  dict_minfreq: 0 ]\n",
      "[  dict_nulltoken: __null__ ]\n",
      "[  dict_starttoken: __start__ ]\n",
      "[  dict_textfields: text,labels ]\n",
      "[  dict_tokenizer: re ]\n",
      "[  dict_unktoken: __unk__ ]\n",
      "[ no model with opt yet at: /tmp/babi_s2s(.opt) ]\n",
      "[ Using CUDA ]\n",
      "/usr/local/lib/python3.7/dist-packages/torch/nn/_reduction.py:42: UserWarning: size_average and reduce args will be deprecated, please use reduction='sum' instead.\n",
      "  warnings.warn(warning.format(ret))\n",
      "[creating task(s): babi:task10k:1]\n",
      "[loading fbdialog data:/root/ParlAI/data/bAbI/tasks_1-20_v1-2/en-valid-10k-nosf/qa1_valid.txt]\n",
      "Traceback (most recent call last):\n",
      "  File \"/root/ParlAI/examples/display_model.py\", line 16, in <module>\n",
      "    display_model(opt)\n",
      "  File \"/root/ParlAI/parlai/scripts/display_model.py\", line 44, in display_model\n",
      "    world.parley()\n",
      "  File \"/root/ParlAI/parlai/core/worlds.py\", line 251, in parley\n",
      "    acts[1] = agents[1].act()\n",
      "  File \"/root/ParlAI/parlai/core/torch_agent.py\", line 1327, in act\n",
      "    return self.batch_act([self.observation])[0]\n",
      "  File \"/root/ParlAI/parlai/core/torch_agent.py\", line 1355, in batch_act\n",
      "    output = self.eval_step(batch)\n",
      "  File \"/root/ParlAI/parlai/core/torch_generator_agent.py\", line 528, in eval_step\n",
      "    loss = self.compute_loss(batch)  # noqa: F841  we need the side effects\n",
      "  File \"/root/ParlAI/parlai/core/torch_generator_agent.py\", line 465, in compute_loss\n",
      "    model_output = self.model(*self._model_input(batch), ys=batch.label_vec)\n",
      "  File \"/usr/local/lib/python3.7/dist-packages/torch/nn/modules/module.py\", line 889, in _call_impl\n",
      "    result = self.forward(*input, **kwargs)\n",
      "  File \"/root/ParlAI/parlai/core/torch_generator_agent.py\", line 217, in forward\n",
      "    encoder_states = prev_enc if prev_enc is not None else self.encoder(*xs)\n",
      "  File \"/usr/local/lib/python3.7/dist-packages/torch/nn/modules/module.py\", line 889, in _call_impl\n",
      "    result = self.forward(*input, **kwargs)\n",
      "  File \"/root/ParlAI/parlai/agents/seq2seq/modules.py\", line 226, in forward\n",
      "    xes = pack_padded_sequence(xes, x_lens, batch_first=True)\n",
      "  File \"/usr/local/lib/python3.7/dist-packages/torch/nn/utils/rnn.py\", line 245, in pack_padded_sequence\n",
      "    _VF._pack_padded_sequence(input, lengths, batch_first)\n",
      "RuntimeError: 'lengths' argument should be a 1D CPU int64 tensor, but got 1D cuda:0 Long tensor\n"
     ]
    }
   ],
   "source": [
    "!python ~/ParlAI/examples/display_model.py --task babi:task10k:1 --model seq2seq --model-file /tmp/babi_s2s"
   ]
  },
  {
   "cell_type": "markdown",
   "metadata": {
    "id": "DaX_GSktxrz1"
   },
   "source": [
    "### Ranking model: memory network\n",
    "\n",
    "We saw in the class that Memory Networks ([Sukhbaatar et al. 15'](https://papers.nips.cc/paper/5846-end-to-end-memory-networks.pdf)) rely on an explicit memory \"database\". this is especially adapted to tasks where a few useful memories are \"hidden\" among distractor memories.  \n",
    "These type of networks worktherefore  especially well for the bAbI tasks by turning the previous dialog turns as memories and the question as the query.  \n",
    "Here is an illustration of how a memory network work:\n",
    "\n",
    "![Memory Network schema](https://raw.githubusercontent.com/louismartin/ammi-2019-bordes-DeepNLP/master/lab1/memory_network.png)\n",
    "\n",
    "\n",
    "---\n",
    "**Question 4**  \n",
    "- **4.d.** Explain how hops work in a memory network (either with words or formulas using the notations of the above figure)\n",
    "- **4.e.** How can a memory network be used to rank multiple candidates?  \n",
    "  (*hint: you can look at the [implementation](https://github.com/facebookresearch/ParlAI/blob/6bd0e58692b3fd3a13b5f654944525ac1b7cd8e3/parlai/agents/memnn/modules.py#L22) of the memory network in ParlAI and especially the `_score()` method. Recall how the IR baseline worked.*)\n",
    "  \n",
    "*ANSWER HERE*\n",
    "  \n",
    " \n",
    "# 4.d. \n",
    "\n",
    "# The Hop by definition is a computational step in the memory network, to predict an answer. In a Hop, we have the integration of the query which is added to the output vector, (i.e. it is the sum of the product of the probability vector of the inputs and the context vector for each input) before the result is passed through a weighted matrix, through a softmax layer for prediction. Thus, to improve the performance of the model, the hop is performed iteratively.\n",
    "\n",
    "\n",
    "# 4.e. \n",
    "\n",
    "\n",
    "\n",
    "# For each input to the network this corresponds to an output vector. Thus, the response vector of the memory is a sum over the transformed inputs, weighted by the probability vector of the input. In the case of a single layer, the sum of the output vector (o) and the integration of the input (u) goes through a final weight matrix of size V × d and then a softmax to produce the predicted label or ranked candidate.\n",
    "---"
   ]
  },
  {
   "cell_type": "markdown",
   "metadata": {
    "id": "YHICORdji1Cx"
   },
   "source": [
    "\n",
    "- **4.f.** Using the ParlAI implementation, train a memory network on bAbI tasks 1, 2 and 3 (10k) and compare its results with the baselines.  \n",
    "   (*hint: use a 1 thread, a batch size of 32 and 5 epochs*)\n"
   ]
  },
  {
   "cell_type": "code",
   "execution_count": null,
   "metadata": {
    "id": "iKeyD3UYsaFs"
   },
   "outputs": [],
   "source": [
    "# FILL CELL\n",
    "for i in range(3):\n",
    "    print(f'~ Task {i+1} ~')\n",
    "    # FILL CODE HERE"
   ]
  },
  {
   "cell_type": "code",
   "execution_count": 21,
   "metadata": {
    "colab": {
     "base_uri": "https://localhost:8080/"
    },
    "id": "56gSnQHbWdCH",
    "outputId": "06640f24-be4e-4798-8b4f-eda351ee47e9"
   },
   "outputs": [
    {
     "name": "stdout",
     "output_type": "stream",
     "text": [
      "~ Task 1 ~\n",
      "Building dictionary: 100% 9.00k/9.00k [00:00<00:00, 30.3kex/s]\n",
      "/usr/local/lib/python3.7/dist-packages/torch/nn/_reduction.py:42: UserWarning: size_average and reduce args will be deprecated, please use reduction='sum' instead.\n",
      "  warnings.warn(warning.format(ret))\n",
      "/root/ParlAI/parlai/core/torch_ranker_agent.py:376: UserWarning: [ Executing train mode with provided inline set of candidates ]\n",
      "  ''.format(mode)\n",
      "/root/ParlAI/parlai/core/torch_ranker_agent.py:214: UserWarning: Some training metrics are omitted for speed. Set the flag `--train-predict` to calculate train metrics.\n",
      "  \"Some training metrics are omitted for speed. Set the flag \"\n",
      "/root/ParlAI/parlai/core/torch_ranker_agent.py:376: UserWarning: [ Executing eval mode with provided inline set of candidates ]\n",
      "  ''.format(mode)\n",
      "valid:{'exs': 1000, 'accuracy': 0.987, 'f1': 0.987, 'hits@1': 0.987, 'hits@5': 1.0, 'hits@10': 1.0, 'hits@100': 1.0, 'bleu': 9.87e-10, 'lr': 1, 'num_updates': 1407, 'examples': 1000, 'loss': 55.58, 'mean_loss': 0.05558, 'mean_rank': 1.016}\n",
      "test:{'exs': 1000, 'accuracy': 0.982, 'f1': 0.982, 'hits@1': 0.982, 'hits@5': 0.999, 'hits@10': 1.0, 'hits@100': 1.0, 'bleu': 9.82e-10, 'lr': 1, 'num_updates': 1407, 'examples': 1000, 'loss': 74.98, 'mean_loss': 0.07498, 'mean_rank': 1.023}\n",
      "~ Task 2 ~\n",
      "Building dictionary: 100% 9.00k/9.00k [00:00<00:00, 20.6kex/s]\n",
      "/usr/local/lib/python3.7/dist-packages/torch/nn/_reduction.py:42: UserWarning: size_average and reduce args will be deprecated, please use reduction='sum' instead.\n",
      "  warnings.warn(warning.format(ret))\n",
      "/root/ParlAI/parlai/core/torch_ranker_agent.py:376: UserWarning: [ Executing train mode with provided inline set of candidates ]\n",
      "  ''.format(mode)\n",
      "/root/ParlAI/parlai/core/torch_ranker_agent.py:214: UserWarning: Some training metrics are omitted for speed. Set the flag `--train-predict` to calculate train metrics.\n",
      "  \"Some training metrics are omitted for speed. Set the flag \"\n",
      "/root/ParlAI/parlai/core/torch_ranker_agent.py:376: UserWarning: [ Executing eval mode with provided inline set of candidates ]\n",
      "  ''.format(mode)\n",
      "valid:{'exs': 1000, 'accuracy': 0.194, 'f1': 0.194, 'hits@1': 0.194, 'hits@5': 0.87, 'hits@10': 1.0, 'hits@100': 1.0, 'bleu': 1.94e-10, 'lr': 1, 'num_updates': 1407, 'examples': 1000, 'loss': 2102.0, 'mean_loss': 2.102, 'mean_rank': 3.294}\n",
      "test:{'exs': 1000, 'accuracy': 0.227, 'f1': 0.227, 'hits@1': 0.227, 'hits@5': 0.881, 'hits@10': 1.0, 'hits@100': 1.0, 'bleu': 2.27e-10, 'lr': 1, 'num_updates': 1407, 'examples': 1000, 'loss': 2126.0, 'mean_loss': 2.126, 'mean_rank': 3.201}\n",
      "~ Task 3 ~\n",
      "Building dictionary: 100% 9.00k/9.00k [00:00<00:00, 10.1kex/s]\n",
      "/usr/local/lib/python3.7/dist-packages/torch/nn/_reduction.py:42: UserWarning: size_average and reduce args will be deprecated, please use reduction='sum' instead.\n",
      "  warnings.warn(warning.format(ret))\n",
      "/root/ParlAI/parlai/core/torch_ranker_agent.py:376: UserWarning: [ Executing train mode with provided inline set of candidates ]\n",
      "  ''.format(mode)\n",
      "/root/ParlAI/parlai/core/torch_ranker_agent.py:214: UserWarning: Some training metrics are omitted for speed. Set the flag `--train-predict` to calculate train metrics.\n",
      "  \"Some training metrics are omitted for speed. Set the flag \"\n",
      "/root/ParlAI/parlai/core/torch_ranker_agent.py:376: UserWarning: [ Executing eval mode with provided inline set of candidates ]\n",
      "  ''.format(mode)\n",
      "valid:{'exs': 1000, 'accuracy': 0.362, 'f1': 0.362, 'hits@1': 0.362, 'hits@5': 0.972, 'hits@10': 1.0, 'hits@100': 1.0, 'bleu': 3.62e-10, 'lr': 1, 'num_updates': 1407, 'examples': 1000, 'loss': 1757.0, 'mean_loss': 1.757, 'mean_rank': 2.538}\n",
      "test:{'exs': 1000, 'accuracy': 0.385, 'f1': 0.385, 'hits@1': 0.385, 'hits@5': 0.975, 'hits@10': 1.0, 'hits@100': 1.0, 'bleu': 3.85e-10, 'lr': 1, 'num_updates': 1407, 'examples': 1000, 'loss': 1716.0, 'mean_loss': 1.716, 'mean_rank': 2.479}\n"
     ]
    }
   ],
   "source": [
    "# SOLUTION\n",
    "for i in range(3):\n",
    "    print(f'~ Task {i+1} ~')\n",
    "    !python ~/ParlAI/examples/train_model.py -t babi:task10k:{i+1} -m memnn -mf /tmp/babi{i+1}_memnn -bs 32 -eps 5 | grep \"'accuracy':\""
   ]
  },
  {
   "cell_type": "markdown",
   "metadata": {
    "id": "DHH0Wy34o3_W"
   },
   "source": [
    "## 5. To go further"
   ]
  },
  {
   "cell_type": "markdown",
   "metadata": {
    "id": "zaNGupqLssUB"
   },
   "source": [
    "If you want to go further you can try to do the following:\n",
    "\n",
    "- Retrieve and plot the attention of the memory network for the different hops along the memories.\n",
    "- For the seq2seq model, can you plot the training loss? The validation loss? Both on the same plot?\n",
    "- Can you show an example of overfitting?\n",
    "- Adapt the seq2seq model for ranking using the [torch ranker tutorial](http://www.parl.ai/static/docs/tutorial_torch_ranker_agent.html)\n",
    "- Try multitasking babi and squad, does it improve the performance? (this will require more GPU power than what is available in google colab)\n",
    "- You can play around with other models and other tasks\n",
    "- Try interfacing ParlAI with [messenger](http://www.parl.ai/static/docs/tutorial_messenger.html )"
   ]
  }
 ],
 "metadata": {
  "accelerator": "GPU",
  "colab": {
   "collapsed_sections": [
    "N4UnbCdcqHPu"
   ],
   "name": "WATUSADISI_MAVAKALA_Arnaud_ammi_dnlp_lab1.ipynb",
   "provenance": []
  },
  "kernelspec": {
   "display_name": "Python 3",
   "language": "python",
   "name": "python3"
  },
  "language_info": {
   "codemirror_mode": {
    "name": "ipython",
    "version": 3
   },
   "file_extension": ".py",
   "mimetype": "text/x-python",
   "name": "python",
   "nbconvert_exporter": "python",
   "pygments_lexer": "ipython3",
   "version": "3.8.5"
  }
 },
 "nbformat": 4,
 "nbformat_minor": 1
}
