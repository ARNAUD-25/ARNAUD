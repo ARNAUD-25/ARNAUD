{
 "cells": [
  {
   "cell_type": "code",
   "execution_count": 177,
   "metadata": {},
   "outputs": [],
   "source": [
    "import numpy as np\n",
    "import seaborn as sns\n",
    "import pandas as pd\n",
    "import matplotlib.pyplot as plt"
   ]
  },
  {
   "cell_type": "code",
   "execution_count": 178,
   "metadata": {},
   "outputs": [
    {
     "data": {
      "text/html": [
       "<div>\n",
       "<style scoped>\n",
       "    .dataframe tbody tr th:only-of-type {\n",
       "        vertical-align: middle;\n",
       "    }\n",
       "\n",
       "    .dataframe tbody tr th {\n",
       "        vertical-align: top;\n",
       "    }\n",
       "\n",
       "    .dataframe thead th {\n",
       "        text-align: right;\n",
       "    }\n",
       "</style>\n",
       "<table border=\"1\" class=\"dataframe\">\n",
       "  <thead>\n",
       "    <tr style=\"text-align: right;\">\n",
       "      <th></th>\n",
       "      <th>f1</th>\n",
       "      <th>f2</th>\n",
       "      <th>f3</th>\n",
       "      <th>f4</th>\n",
       "    </tr>\n",
       "  </thead>\n",
       "  <tbody>\n",
       "    <tr>\n",
       "      <th>0</th>\n",
       "      <td>5.1</td>\n",
       "      <td>3.5</td>\n",
       "      <td>1.4</td>\n",
       "      <td>0.2</td>\n",
       "    </tr>\n",
       "    <tr>\n",
       "      <th>1</th>\n",
       "      <td>4.9</td>\n",
       "      <td>3.0</td>\n",
       "      <td>1.4</td>\n",
       "      <td>0.2</td>\n",
       "    </tr>\n",
       "    <tr>\n",
       "      <th>2</th>\n",
       "      <td>4.7</td>\n",
       "      <td>3.2</td>\n",
       "      <td>1.3</td>\n",
       "      <td>0.2</td>\n",
       "    </tr>\n",
       "    <tr>\n",
       "      <th>3</th>\n",
       "      <td>4.6</td>\n",
       "      <td>3.1</td>\n",
       "      <td>1.5</td>\n",
       "      <td>0.2</td>\n",
       "    </tr>\n",
       "    <tr>\n",
       "      <th>4</th>\n",
       "      <td>5.0</td>\n",
       "      <td>3.6</td>\n",
       "      <td>1.4</td>\n",
       "      <td>0.2</td>\n",
       "    </tr>\n",
       "  </tbody>\n",
       "</table>\n",
       "</div>"
      ],
      "text/plain": [
       "    f1   f2   f3   f4\n",
       "0  5.1  3.5  1.4  0.2\n",
       "1  4.9  3.0  1.4  0.2\n",
       "2  4.7  3.2  1.3  0.2\n",
       "3  4.6  3.1  1.5  0.2\n",
       "4  5.0  3.6  1.4  0.2"
      ]
     },
     "execution_count": 178,
     "metadata": {},
     "output_type": "execute_result"
    }
   ],
   "source": [
    "dataset = pd.read_csv('Data.csv')\n",
    "dataset.head()"
   ]
  },
  {
   "cell_type": "code",
   "execution_count": 196,
   "metadata": {},
   "outputs": [
    {
     "data": {
      "text/plain": [
       "(150, 5)"
      ]
     },
     "execution_count": 196,
     "metadata": {},
     "output_type": "execute_result"
    }
   ],
   "source": [
    "dataset.shape"
   ]
  },
  {
   "cell_type": "code",
   "execution_count": 179,
   "metadata": {},
   "outputs": [
    {
     "data": {
      "text/html": [
       "<div>\n",
       "<style scoped>\n",
       "    .dataframe tbody tr th:only-of-type {\n",
       "        vertical-align: middle;\n",
       "    }\n",
       "\n",
       "    .dataframe tbody tr th {\n",
       "        vertical-align: top;\n",
       "    }\n",
       "\n",
       "    .dataframe thead th {\n",
       "        text-align: right;\n",
       "    }\n",
       "</style>\n",
       "<table border=\"1\" class=\"dataframe\">\n",
       "  <thead>\n",
       "    <tr style=\"text-align: right;\">\n",
       "      <th></th>\n",
       "      <th>f1</th>\n",
       "      <th>f2</th>\n",
       "      <th>f3</th>\n",
       "      <th>f4</th>\n",
       "    </tr>\n",
       "  </thead>\n",
       "  <tbody>\n",
       "    <tr>\n",
       "      <th>count</th>\n",
       "      <td>150.000000</td>\n",
       "      <td>150.000000</td>\n",
       "      <td>150.000000</td>\n",
       "      <td>150.000000</td>\n",
       "    </tr>\n",
       "    <tr>\n",
       "      <th>mean</th>\n",
       "      <td>5.843333</td>\n",
       "      <td>3.057333</td>\n",
       "      <td>3.758000</td>\n",
       "      <td>1.199333</td>\n",
       "    </tr>\n",
       "    <tr>\n",
       "      <th>std</th>\n",
       "      <td>0.828066</td>\n",
       "      <td>0.435866</td>\n",
       "      <td>1.765298</td>\n",
       "      <td>0.762238</td>\n",
       "    </tr>\n",
       "    <tr>\n",
       "      <th>min</th>\n",
       "      <td>4.300000</td>\n",
       "      <td>2.000000</td>\n",
       "      <td>1.000000</td>\n",
       "      <td>0.100000</td>\n",
       "    </tr>\n",
       "    <tr>\n",
       "      <th>25%</th>\n",
       "      <td>5.100000</td>\n",
       "      <td>2.800000</td>\n",
       "      <td>1.600000</td>\n",
       "      <td>0.300000</td>\n",
       "    </tr>\n",
       "    <tr>\n",
       "      <th>50%</th>\n",
       "      <td>5.800000</td>\n",
       "      <td>3.000000</td>\n",
       "      <td>4.350000</td>\n",
       "      <td>1.300000</td>\n",
       "    </tr>\n",
       "    <tr>\n",
       "      <th>75%</th>\n",
       "      <td>6.400000</td>\n",
       "      <td>3.300000</td>\n",
       "      <td>5.100000</td>\n",
       "      <td>1.800000</td>\n",
       "    </tr>\n",
       "    <tr>\n",
       "      <th>max</th>\n",
       "      <td>7.900000</td>\n",
       "      <td>4.400000</td>\n",
       "      <td>6.900000</td>\n",
       "      <td>2.500000</td>\n",
       "    </tr>\n",
       "  </tbody>\n",
       "</table>\n",
       "</div>"
      ],
      "text/plain": [
       "               f1          f2          f3          f4\n",
       "count  150.000000  150.000000  150.000000  150.000000\n",
       "mean     5.843333    3.057333    3.758000    1.199333\n",
       "std      0.828066    0.435866    1.765298    0.762238\n",
       "min      4.300000    2.000000    1.000000    0.100000\n",
       "25%      5.100000    2.800000    1.600000    0.300000\n",
       "50%      5.800000    3.000000    4.350000    1.300000\n",
       "75%      6.400000    3.300000    5.100000    1.800000\n",
       "max      7.900000    4.400000    6.900000    2.500000"
      ]
     },
     "execution_count": 179,
     "metadata": {},
     "output_type": "execute_result"
    }
   ],
   "source": [
    "dataset.describe()"
   ]
  },
  {
   "cell_type": "code",
   "execution_count": 180,
   "metadata": {},
   "outputs": [],
   "source": [
    "class KMeans:\n",
    "    \n",
    "    def __init__(self, k):\n",
    "        self.k = k\n",
    "        self.centroids = pd.DataFrame()\n",
    "        self.clusters = np.ndarray(1)\n",
    "        self.old_centroids = pd.DataFrame()\n",
    "\n",
    "    def fit(self, X):\n",
    "        self.data = X.copy(deep=True)\n",
    "        self.clusters = np.zeros(len(self.data))\n",
    "\n",
    "        # Randomly initialize centroids\n",
    "        unique_rows = self.data.drop_duplicates()\n",
    "        unique_rows.reset_index(drop=True, inplace=True)\n",
    "        self.centroids = unique_rows.sample(n=self.k)\n",
    "        self.centroids.reset_index(drop=True, inplace=True)\n",
    "\n",
    "\n",
    "        # Initialize old centroids as a matrix of all 0's\n",
    "        self.old_centroids = pd.DataFrame(np.zeros(shape=(self.k, self.data.shape[1])),\n",
    "                                          columns=self.data.columns)\n",
    "\n",
    "        # Compare every data point in our dataset to each of the k-means and assign each point to closest cluster\n",
    "        while not self.old_centroids.equals(self.centroids):\n",
    "            # Stash old centroids\n",
    "            self.old_centroids = self.centroids.copy(deep=True)\n",
    "\n",
    "            # Iterate through each data point in the matrix\n",
    "            for row_i in range(0, len(self.data)):\n",
    "                distances = list()\n",
    "                point = self.data.iloc[row_i]\n",
    "                # Calculate the distance between the current point and each of the centroids\n",
    "                for row_c in range(0, len(self.centroids)):\n",
    "                    centroid = self.centroids.iloc[row_c]\n",
    "                    distances.append(np.linalg.norm(point - centroid))\n",
    "\n",
    "                # Assign this data point to a cluster\n",
    "                self.clusters[row_i] = np.argmin(distances)\n",
    "\n",
    "            # For each cluster extract the values which now belong to each cluster and calculate new k-means\n",
    "            for cls in range(0, self.k):\n",
    "\n",
    "                cls_idx = np.where(self.clusters == cls)[0]\n",
    "\n",
    "                if len(cls_idx) == 0:\n",
    "                    self.centroids.loc[cls] = self.old_centroids.loc[cls]\n",
    "                else:\n",
    "                    # Set the new k-mean to the mean value of the data points within this cluster\n",
    "                    self.centroids.loc[cls] = self.data.iloc[cls_idx].mean()\n",
    "                    "
   ]
  },
  {
   "cell_type": "code",
   "execution_count": 181,
   "metadata": {},
   "outputs": [],
   "source": [
    "# Run\n",
    "kmeans = KMeans(k=3)\n",
    "kmeans.fit(dataset)"
   ]
  },
  {
   "cell_type": "code",
   "execution_count": 198,
   "metadata": {},
   "outputs": [],
   "source": [
    "# Extraction of the results\n",
    "dataset['cluster'] = kmeans.clusters\n",
    "centroids = kmeans.centroids\n",
    "centroids['cluster'] = 'centroid'\n",
    "New_dataset = pd.concat([dataset, centroids])"
   ]
  },
  {
   "cell_type": "code",
   "execution_count": 183,
   "metadata": {},
   "outputs": [
    {
     "name": "stderr",
     "output_type": "stream",
     "text": [
      "/Users/arnaud/opt/anaconda3/lib/python3.8/site-packages/seaborn/axisgrid.py:316: UserWarning: The `size` parameter has been renamed to `height`; please update your code.\n",
      "  warnings.warn(msg, UserWarning)\n"
     ]
    },
    {
     "data": {
      "text/plain": [
       "<seaborn.axisgrid.FacetGrid at 0x7fee6861d6d0>"
      ]
     },
     "execution_count": 183,
     "metadata": {},
     "output_type": "execute_result"
    },
    {
     "data": {
      "image/png": "[encoded data removed]",
      "text/plain": [
       "<Figure size 437x360 with 1 Axes>"
      ]
     },
     "metadata": {
      "needs_background": "light"
     },
     "output_type": "display_data"
    }
   ],
   "source": [
    "# Plot the cluster centroids for f1 and f2\n",
    "sns.FacetGrid(New_dataset, hue=\"cluster\", size=5, hue_kws={\"marker\":[\"o\", \"o\", \"o\", \"x\"]}).map(plt.scatter, \"f1\", \"f2\").add_legend()"
   ]
  },
  {
   "cell_type": "code",
   "execution_count": 184,
   "metadata": {},
   "outputs": [
    {
     "name": "stderr",
     "output_type": "stream",
     "text": [
      "/Users/arnaud/opt/anaconda3/lib/python3.8/site-packages/seaborn/axisgrid.py:316: UserWarning: The `size` parameter has been renamed to `height`; please update your code.\n",
      "  warnings.warn(msg, UserWarning)\n"
     ]
    },
    {
     "data": {
      "text/plain": [
       "<seaborn.axisgrid.FacetGrid at 0x7fee6900caf0>"
      ]
     },
     "execution_count": 184,
     "metadata": {},
     "output_type": "execute_result"
    },
    {
     "data": {
      "image/png": "[encoded data removed]",
      "text/plain": [
       "<Figure size 437x360 with 1 Axes>"
      ]
     },
     "metadata": {
      "needs_background": "light"
     },
     "output_type": "display_data"
    }
   ],
   "source": [
    "# Plot the cluster centroids for f1 and f3\n",
    "sns.FacetGrid(New_dataset, hue=\"cluster\", size=5, hue_kws={\"marker\":[\"o\", \"o\", \"o\", \"x\"]}).map(plt.scatter, \"f1\", \"f3\").add_legend()"
   ]
  },
  {
   "cell_type": "code",
   "execution_count": 185,
   "metadata": {},
   "outputs": [
    {
     "name": "stderr",
     "output_type": "stream",
     "text": [
      "/Users/arnaud/opt/anaconda3/lib/python3.8/site-packages/seaborn/axisgrid.py:316: UserWarning: The `size` parameter has been renamed to `height`; please update your code.\n",
      "  warnings.warn(msg, UserWarning)\n"
     ]
    },
    {
     "data": {
      "text/plain": [
       "<seaborn.axisgrid.FacetGrid at 0x7fee684d3b50>"
      ]
     },
     "execution_count": 185,
     "metadata": {},
     "output_type": "execute_result"
    },
    {
     "data": {
      "image/png": "[encoded data removed]",
      "text/plain": [
       "<Figure size 437x360 with 1 Axes>"
      ]
     },
     "metadata": {
      "needs_background": "light"
     },
     "output_type": "display_data"
    }
   ],
   "source": [
    "# Plot the cluster centroids for f1 and f4\n",
    "sns.FacetGrid(New_dataset, hue=\"cluster\", size=5, hue_kws={\"marker\":[\"o\", \"o\", \"o\", \"x\"]}).map(plt.scatter, \"f1\", \"f4\").add_legend()"
   ]
  },
  {
   "cell_type": "code",
   "execution_count": 186,
   "metadata": {},
   "outputs": [
    {
     "name": "stderr",
     "output_type": "stream",
     "text": [
      "/Users/arnaud/opt/anaconda3/lib/python3.8/site-packages/seaborn/axisgrid.py:316: UserWarning: The `size` parameter has been renamed to `height`; please update your code.\n",
      "  warnings.warn(msg, UserWarning)\n"
     ]
    },
    {
     "data": {
      "text/plain": [
       "<seaborn.axisgrid.FacetGrid at 0x7fee695caf40>"
      ]
     },
     "execution_count": 186,
     "metadata": {},
     "output_type": "execute_result"
    },
    {
     "data": {
      "image/png": "[encoded data removed]",
      "text/plain": [
       "<Figure size 437x360 with 1 Axes>"
      ]
     },
     "metadata": {
      "needs_background": "light"
     },
     "output_type": "display_data"
    }
   ],
   "source": [
    "# Plot the cluster centroids for f2 and f3\n",
    "sns.FacetGrid(New_dataset, hue=\"cluster\", size=5, hue_kws={\"marker\":[\"o\", \"o\", \"o\", \"x\"]}).map(plt.scatter, \"f2\", \"f3\").add_legend()"
   ]
  },
  {
   "cell_type": "code",
   "execution_count": 187,
   "metadata": {},
   "outputs": [
    {
     "name": "stderr",
     "output_type": "stream",
     "text": [
      "/Users/arnaud/opt/anaconda3/lib/python3.8/site-packages/seaborn/axisgrid.py:316: UserWarning: The `size` parameter has been renamed to `height`; please update your code.\n",
      "  warnings.warn(msg, UserWarning)\n"
     ]
    },
    {
     "data": {
      "text/plain": [
       "<seaborn.axisgrid.FacetGrid at 0x7fee695e6e20>"
      ]
     },
     "execution_count": 187,
     "metadata": {},
     "output_type": "execute_result"
    },
    {
     "data": {
      "image/png": "[encoded data removed]",
      "text/plain": [
       "<Figure size 437x360 with 1 Axes>"
      ]
     },
     "metadata": {
      "needs_background": "light"
     },
     "output_type": "display_data"
    }
   ],
   "source": [
    "# Plot the cluster centroids for f2 and f4\n",
    "sns.FacetGrid(New_dataset, hue=\"cluster\", size=5, hue_kws={\"marker\":[\"o\", \"o\", \"o\", \"x\"]}).map(plt.scatter, \"f2\", \"f4\").add_legend()"
   ]
  },
  {
   "cell_type": "code",
   "execution_count": 188,
   "metadata": {},
   "outputs": [
    {
     "name": "stderr",
     "output_type": "stream",
     "text": [
      "/Users/arnaud/opt/anaconda3/lib/python3.8/site-packages/seaborn/axisgrid.py:316: UserWarning: The `size` parameter has been renamed to `height`; please update your code.\n",
      "  warnings.warn(msg, UserWarning)\n"
     ]
    },
    {
     "data": {
      "text/plain": [
       "<seaborn.axisgrid.FacetGrid at 0x7fee695f8e20>"
      ]
     },
     "execution_count": 188,
     "metadata": {},
     "output_type": "execute_result"
    },
    {
     "data": {
      "image/png": "[encoded data removed]",
      "text/plain": [
       "<Figure size 437x360 with 1 Axes>"
      ]
     },
     "metadata": {
      "needs_background": "light"
     },
     "output_type": "display_data"
    }
   ],
   "source": [
    "# Plot the cluster centroids for f3 and f4\n",
    "sns.FacetGrid(New_dataset, hue=\"cluster\", size=5, hue_kws={\"marker\":[\"o\", \"o\", \"o\", \"x\"]}).map(plt.scatter, \"f3\", \"f4\").add_legend()"
   ]
  },
  {
   "cell_type": "code",
   "execution_count": 199,
   "metadata": {},
   "outputs": [],
   "source": [
    "class PCA:\n",
    "    \n",
    "    def __init__(self, number_components):\n",
    "        self.number_components = number_components\n",
    "        self.components = None\n",
    "        self.mean = None\n",
    "        self.std = None\n",
    "\n",
    "    def fit(self, X):\n",
    "        # Mean centering\n",
    "        self.mean = np.mean(X, axis=0)\n",
    "        self.std = np.std(X, axis=0)\n",
    "        X = (X - self.mean)/self.std\n",
    "        # covariance, function needs samples as columns\n",
    "        cov = np.cov(X.T)\n",
    "        # eigenvalues, eigenvectors\n",
    "        eigenvalues, eigenvectors = np.linalg.eig(cov)\n",
    "        # sort eigenvectors\n",
    "        eigenvectors = eigenvectors.T\n",
    "        Sort = np.argsort(eigenvalues)[::-1]\n",
    "        eigenvalues = eigenvalues[Sort]\n",
    "        eigenvectors = eigenvectors[Sort]\n",
    "        # store first n eigenvectors\n",
    "        self.components = eigenvectors[0:self.number_components]\n",
    "\n",
    "    def transform(self, X):\n",
    "        # project data\n",
    "        X = (X - self.mean)/self.std\n",
    "        return np.dot(X, self.components.T)\n",
    "    \n",
    "    def plot(self, X):\n",
    "        X1 = X[:,0]\n",
    "        X2 = X[:,1]\n",
    "        plt.scatter(X1, X2,\n",
    "                     edgecolor='none', alpha=0.8,\n",
    "                    cmap=plt.cm.get_cmap('viridis', 2))\n",
    "        plt.xlabel('Principal Component 1')\n",
    "        plt.ylabel('Principal Component 2')\n",
    "        plt.colorbar()\n",
    "        plt.show()"
   ]
  },
  {
   "cell_type": "code",
   "execution_count": 200,
   "metadata": {},
   "outputs": [
    {
     "data": {
      "text/plain": [
       "array([[ 2.6109728 ,  0.33790365],\n",
       "       [ 2.36676883, -0.61186889],\n",
       "       [ 2.64316085, -0.40399912],\n",
       "       [ 2.5668063 , -0.60955255],\n",
       "       [ 2.73430875,  0.44664067],\n",
       "       [ 2.50969899,  1.26137256],\n",
       "       [ 2.74041107, -0.09209801],\n",
       "       [ 2.56433838,  0.12274593],\n",
       "       [ 2.56269783, -1.06868083],\n",
       "       [ 2.47366456, -0.46232537],\n",
       "       [ 2.56187045,  0.85504441],\n",
       "       [ 2.6410399 ,  0.01632524],\n",
       "       [ 2.48647039, -0.69669166],\n",
       "       [ 2.84168488, -1.01556692],\n",
       "       [ 2.6485629 ,  1.55853004],\n",
       "       [ 2.76013239,  2.24994902],\n",
       "       [ 2.62857948,  1.22295543],\n",
       "       [ 2.54448207,  0.36471392],\n",
       "       [ 2.34643212,  1.24185022],\n",
       "       [ 2.72513732,  0.87456675],\n",
       "       [ 2.29205483,  0.37400443],\n",
       "       [ 2.58852146,  0.73462751],\n",
       "       [ 3.06603255,  0.17617361],\n",
       "       [ 2.18208998,  0.1136483 ],\n",
       "       [ 2.55187953,  0.04513809],\n",
       "       [ 2.25411776, -0.53464784],\n",
       "       [ 2.40163679,  0.18597077],\n",
       "       [ 2.52804185,  0.40552041],\n",
       "       [ 2.48763685,  0.22916662],\n",
       "       [ 2.55400048, -0.37518627],\n",
       "       [ 2.43066453, -0.4839233 ],\n",
       "       [ 2.21851361,  0.40841642],\n",
       "       [ 3.01528333,  1.37920722],\n",
       "       [ 2.88900537,  1.73720018],\n",
       "       [ 2.40717383, -0.4355151 ],\n",
       "       [ 2.5132485 , -0.23956594],\n",
       "       [ 2.42784963,  0.5603493 ],\n",
       "       [ 2.85401031,  0.36181791],\n",
       "       [ 2.66254308, -0.9115356 ],\n",
       "       [ 2.51112755,  0.18075841],\n",
       "       [ 2.62741302,  0.29709716],\n",
       "       [ 2.05196565, -1.99395943],\n",
       "       [ 2.80279333, -0.57803657],\n",
       "       [ 2.33878045,  0.40634084],\n",
       "       [ 2.53976609,  0.93979415],\n",
       "       [ 2.35348892, -0.6430711 ],\n",
       "       [ 2.76190793,  0.85736075],\n",
       "       [ 2.66665155, -0.45240732],\n",
       "       [ 2.61508128,  0.79703192],\n",
       "       [ 2.52393338, -0.05360787],\n",
       "       [-0.89193741,  1.08907408],\n",
       "       [-1.08259923,  0.25911802],\n",
       "       [-1.03478269,  0.91033092],\n",
       "       [-0.95324584, -1.86538193],\n",
       "       [-1.44603067, -0.34026327],\n",
       "       [-0.85764248, -0.86758798],\n",
       "       [-1.08519426,  0.41387389],\n",
       "       [-0.1563427 , -2.19436813],\n",
       "       [-1.29613491, -0.16912182],\n",
       "       [-0.54988347, -1.35521533],\n",
       "       [-0.54949427, -2.78414514],\n",
       "       [-0.86763498, -0.39325627],\n",
       "       [-1.08995289, -1.82249985],\n",
       "       [-1.12629164, -0.42276969],\n",
       "       [-0.46682542, -0.84528949],\n",
       "       [-1.21614597,  0.2299914 ],\n",
       "       [-0.79716287, -0.53848088],\n",
       "       [-0.66262574, -1.09517297],\n",
       "       [-1.67742882, -1.52440208],\n",
       "       [-0.70350483, -1.53709525],\n",
       "       [-1.10517767,  0.07829928],\n",
       "       [-0.92188516, -0.68355945],\n",
       "       [-1.63914477, -0.92772393],\n",
       "       [-1.0634353 , -0.64313976],\n",
       "       [-1.10055289, -0.31395964],\n",
       "       [-1.23306027,  0.00522941],\n",
       "       [-1.59861266, -0.17382752],\n",
       "       [-1.16118775,  0.69078128],\n",
       "       [-1.0801313 , -0.47318046],\n",
       "       [-0.5012193 , -1.37756066],\n",
       "       [-0.690699  , -1.77146153],\n",
       "       [-0.59448815, -1.80787609],\n",
       "       [-0.73616696, -1.06076098],\n",
       "       [-1.46519302, -0.72224352],\n",
       "       [-0.69074122, -0.65450585],\n",
       "       [-0.79599641,  0.38737739],\n",
       "       [-1.37179707,  0.28561453],\n",
       "       [-1.49781293, -1.36286492],\n",
       "       [-0.54530091, -0.63051856],\n",
       "       [-0.81299559, -1.5318829 ],\n",
       "       [-0.79526023, -1.35352654],\n",
       "       [-1.02644639, -0.26562445],\n",
       "       [-0.83601221, -1.21790621],\n",
       "       [-0.27967865, -2.30310516],\n",
       "       [-0.78539641, -1.12116282],\n",
       "       [-0.56174113, -0.58971208],\n",
       "       [-0.69835699, -0.72965131],\n",
       "       [-0.99413124, -0.42998461],\n",
       "       [-0.16996959, -1.91359621],\n",
       "       [-0.73876199, -0.90600511],\n",
       "       [-1.56709617,  1.26950492],\n",
       "       [-1.55824357, -0.75783765],\n",
       "       [-1.90747509,  1.11651086],\n",
       "       [-1.26328105,  0.37641779],\n",
       "       [-1.62498075,  0.78564195],\n",
       "       [-2.38157009,  1.47380326],\n",
       "       [-0.90829419, -1.72469529],\n",
       "       [-2.00343017,  1.02377261],\n",
       "       [-1.8160651 , -0.03932176],\n",
       "       [-1.86533835,  2.30147011],\n",
       "       [-1.14370817,  0.99829045],\n",
       "       [-1.43407249,  0.09892868],\n",
       "       [-1.62896212,  0.90405628],\n",
       "       [-1.6820536 , -1.13214317],\n",
       "       [-1.82057211, -0.45703675],\n",
       "       [-1.34940979,  1.03991736],\n",
       "       [-1.26985745,  0.649588  ],\n",
       "       [-1.96999077,  2.90222641],\n",
       "       [-2.93742325,  0.94725109],\n",
       "       [-1.71960779, -1.59240564],\n",
       "       [-1.73434441,  1.36839691],\n",
       "       [-1.38874728, -0.69951139],\n",
       "       [-2.53826055,  1.18111072],\n",
       "       [-1.69836672, -0.51379407],\n",
       "       [-1.42481617,  1.3655009 ],\n",
       "       [-1.6506836 ,  1.43719583],\n",
       "       [-1.54531064, -0.41466132],\n",
       "       [-1.38156969, -0.1295705 ],\n",
       "       [-1.5860892 ,  0.3481116 ],\n",
       "       [-1.59851213,  1.03086768],\n",
       "       [-2.1338166 ,  0.9226373 ],\n",
       "       [-1.85427058,  2.93581798],\n",
       "       [-1.65257993,  0.37492187],\n",
       "       [-1.48820964, -0.40826683],\n",
       "       [-1.10127185, -0.34709683],\n",
       "       [-2.41916176,  1.53741489],\n",
       "       [-1.31159982,  1.37102703],\n",
       "       [-1.1465215 ,  0.75832502],\n",
       "       [-1.29863874, -0.19718727],\n",
       "       [-1.5823277 ,  1.119214  ],\n",
       "       [-1.73481849,  1.10282843],\n",
       "       [-1.62614879,  1.14402171],\n",
       "       [-1.55824357, -0.75783765],\n",
       "       [-1.74057383,  1.32959299],\n",
       "       [-1.6907791 ,  1.47274201],\n",
       "       [-1.61957239,  0.87085151],\n",
       "       [-1.93482782, -0.81087854],\n",
       "       [-1.31367854,  0.6743957 ],\n",
       "       [-1.13245802,  1.2669957 ],\n",
       "       [-1.33458829, -0.2263869 ]])"
      ]
     },
     "execution_count": 200,
     "metadata": {},
     "output_type": "execute_result"
    }
   ],
   "source": [
    "pca = PCA(2)\n",
    "pca.fit(dataset)\n",
    "X_projected = pca.transform(dataset)\n",
    "X_projected"
   ]
  },
  {
   "cell_type": "code",
   "execution_count": 201,
   "metadata": {},
   "outputs": [
    {
     "data": {
      "image/png": "[encoded data removed]",
      "text/plain": [
       "<Figure size 432x288 with 2 Axes>"
      ]
     },
     "metadata": {
      "needs_background": "light"
     },
     "output_type": "display_data"
    }
   ],
   "source": [
    "pca.plot(X_projected)"
   ]
  },
  {
   "cell_type": "markdown",
   "metadata": {},
   "source": [
    "## Thank you"
   ]
  },
  {
   "cell_type": "code",
   "execution_count": null,
   "metadata": {},
   "outputs": [],
   "source": []
  }
 ],
 "metadata": {
  "kernelspec": {
   "display_name": "Python 3",
   "language": "python",
   "name": "python3"
  },
  "language_info": {
   "codemirror_mode": {
    "name": "ipython",
    "version": 3
   },
   "file_extension": ".py",
   "mimetype": "text/x-python",
   "name": "python",
   "nbconvert_exporter": "python",
   "pygments_lexer": "ipython3",
   "version": "3.8.5"
  }
 },
 "nbformat": 4,
 "nbformat_minor": 2
}
