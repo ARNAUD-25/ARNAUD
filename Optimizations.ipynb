{
 "cells": [
  {
   "cell_type": "markdown",
   "metadata": {
    "id": "SKufysshZuH9"
   },
   "source": [
    "##### This Notebook has been adapted from a course gave by Robert Gower at AMMI"
   ]
  },
  {
   "cell_type": "markdown",
   "metadata": {
    "id": "8Oahqi7eYieh"
   },
   "source": [
    "# First order methods on regression models\n",
    "\n",
    "    Lab 1 : Optimization for Machine Learning, AMMI Master's in Machine Intelligence\n",
    "\n",
    "## Aim\n",
    "\n",
    "The aim of this material is to code \n",
    "- proximal gradient descent (ISTA)\n",
    "- accelerated gradient descent (FISTA) \n",
    "\n",
    "for \n",
    "- linear regression\n",
    "- logistic regression \n",
    "\n",
    "models.\n",
    "\n",
    "The proximal operators we will use are the \n",
    "- ridge penalization\n",
    "- L1 penalization\n",
    "\n",
    "## VERY IMPORTANT\n",
    "\n",
    "\n",
    "- **Each** student must send their jupyter notebook solutions **before the 5th of July at 23:59**  to **tngoupeyou@aimsammi.org**\n",
    "- The **name of the file must be** constructed as in the next cell\n",
    "\n",
    "### How to construct the name of your file"
   ]
  },
  {
   "cell_type": "code",
   "execution_count": 59,
   "metadata": {
    "colab": {
     "base_uri": "https://localhost:8080/"
    },
    "id": "1LLe6Av6Yiek",
    "outputId": "c10fccd5-2d43-4060-8a75-b9a5fae424c9"
   },
   "outputs": [
    {
     "name": "stdout",
     "output_type": "stream",
     "text": [
      "lab1_watusadisi_mavakala_arnaud.ipynb\n"
     ]
    }
   ],
   "source": [
    "# Change here using YOUR first and last names\n",
    "fn1 = \"Arnaud\"\n",
    "ln1 = \"Watusadisi_Mavakala\"\n",
    "filename = \"_\".join(map(lambda s: s.strip().lower(), \n",
    "                        [\"lab1\", ln1, fn1])) + \".ipynb\"\n",
    "print(filename)"
   ]
  },
  {
   "cell_type": "code",
   "execution_count": 60,
   "metadata": {
    "id": "PcMYy4moYiel"
   },
   "outputs": [],
   "source": [
    "## to embed figures in the notebook\n",
    "%matplotlib inline"
   ]
  },
  {
   "cell_type": "markdown",
   "metadata": {
    "id": "q7K-LXtkYiel"
   },
   "source": [
    "## Part 0 : Introduction\n",
    "\n",
    "We'll start by generating sparse vectors and simulating data\n",
    "\n",
    "### Getting sparse coefficients"
   ]
  },
  {
   "cell_type": "code",
   "execution_count": 61,
   "metadata": {
    "id": "q3Yqn-V3Yiel"
   },
   "outputs": [],
   "source": [
    "import numpy as np\n",
    "import matplotlib.pyplot as plt\n",
    "from numpy.linalg import norm\n",
    "np.set_printoptions(precision=2)  # to have simpler print outputs with numpy"
   ]
  },
  {
   "cell_type": "code",
   "execution_count": 62,
   "metadata": {
    "colab": {
     "base_uri": "https://localhost:8080/",
     "height": 352
    },
    "id": "HcmW4EpeYiem",
    "outputId": "b8a2f54e-63d9-4688-974f-038b70996167",
    "scrolled": false
   },
   "outputs": [
    {
     "data": {
      "text/plain": [
       "Text(0.5, 1.0, 'Parameters / Coefficients')"
      ]
     },
     "execution_count": 62,
     "metadata": {},
     "output_type": "execute_result"
    },
    {
     "data": {
      "image/png": "[encoded data removed]",
      "text/plain": [
       "<Figure size 432x288 with 1 Axes>"
      ]
     },
     "metadata": {
      "needs_background": "light"
     },
     "output_type": "display_data"
    }
   ],
   "source": [
    "n_features = 50\n",
    "n_samples = 1000\n",
    "idx = np.arange(n_features)\n",
    "coefs = ((-1) ** idx) * np.exp(-idx / 10.)\n",
    "coefs[20:] = 0.\n",
    "plt.stem(coefs)\n",
    "plt.title(\"Parameters / Coefficients\")"
   ]
  },
  {
   "cell_type": "markdown",
   "metadata": {
    "id": "x2iqk8LrYiem"
   },
   "source": [
    "### Functions for the simulation of the models"
   ]
  },
  {
   "cell_type": "code",
   "execution_count": 63,
   "metadata": {
    "id": "Sd_Mi28dYiem"
   },
   "outputs": [],
   "source": [
    "from numpy.random import multivariate_normal\n",
    "from scipy.linalg.special_matrices import toeplitz\n",
    "from numpy.random import randn\n",
    "\n",
    "\n",
    "def simu_linreg(coefs, n_samples=1000, corr=0.5):\n",
    "    \"\"\"Simulation of a linear regression model\n",
    "    \n",
    "    Parameters\n",
    "    ----------\n",
    "    coefs : `numpy.array`, shape (n_features,)\n",
    "        Coefficients of the model\n",
    "    \n",
    "    n_samples : `int`, default=1000\n",
    "        Number of samples to simulate\n",
    "    \n",
    "    corr : `float`, default=0.5\n",
    "        Correlation of the features\n",
    "\n",
    "    Returns\n",
    "    -------\n",
    "    A : `numpy.ndarray`, shape (n_samples, n_features)\n",
    "        Simulated features matrix. It samples of a centered Gaussian \n",
    "        vector with covariance given by the Toeplitz matrix\n",
    "    \n",
    "    b : `numpy.array`, shape (n_samples,)\n",
    "        Simulated labels\n",
    "    \"\"\"\n",
    "    # Construction of a covariance matrix\n",
    "    cov = toeplitz(corr ** np.arange(0, n_features))\n",
    "    # Simulation of features\n",
    "    A = multivariate_normal(np.zeros(n_features), cov, size=n_samples)\n",
    "    # Simulation of the labels\n",
    "    b = A.dot(coefs) + randn(n_samples)\n",
    "    return A, b\n",
    "\n",
    "def sigmoid(t):\n",
    "    \"\"\"Sigmoid function\"\"\"\n",
    "    return 1. / (1. + np.exp(-t))\n",
    "\n",
    "def simu_logreg(coefs, n_samples=1000, corr=0.5):\n",
    "    \"\"\"Simulation of a logistic regression model\n",
    "    \n",
    "    Parameters\n",
    "    ----------\n",
    "    coefs : `numpy.array`, shape (n_features,)\n",
    "        Coefficients of the model\n",
    "    \n",
    "    n_samples : `int`, default=1000\n",
    "        Number of samples to simulate\n",
    "    \n",
    "    corr : `float`, default=0.5\n",
    "        Correlation of the features\n",
    "\n",
    "    Returns\n",
    "    -------\n",
    "    A : `numpy.ndarray`, shape (n_samples, n_features)\n",
    "        Simulated features matrix. It samples of a centered Gaussian \n",
    "        vector with covariance given by the Toeplitz matrix\n",
    "    \n",
    "    b : `numpy.array`, shape (n_samples,)\n",
    "        Simulated labels\n",
    "    \"\"\"\n",
    "    cov = toeplitz(corr ** np.arange(0, n_features))\n",
    "    A = multivariate_normal(np.zeros(n_features), cov, size=n_samples)\n",
    "    p = sigmoid(A.dot(coefs))\n",
    "    b = np.random.binomial(1, p, size=n_samples)\n",
    "    b = 2 * b - 1\n",
    "    return A, b"
   ]
  },
  {
   "cell_type": "markdown",
   "metadata": {
    "id": "b0Yf69qaYiem"
   },
   "source": [
    "## Part 1 : Proximal operators"
   ]
  },
  {
   "cell_type": "markdown",
   "metadata": {
    "id": "mjaJTJubYien"
   },
   "source": [
    "We remind that the proximal operator of a fonction $g$ is given by:\n",
    "\n",
    "$$\n",
    "\\text{prox}_g(x) = \\arg\\min_z \\left\\{ \\frac{1}{2} \\Vert x - z\\Vert_2^2 + g(z) \\right\\}.\n",
    "$$\n",
    "\n",
    "\n",
    "We have in mind to use the following cases\n",
    "\n",
    "- Ridge penalization, where $g(z) = \\frac{s}{2} \\|z\\|_2^2$\n",
    "- Lasso penalization, where $g(z) = s \\|z|\\|_1$\n",
    "\n",
    "where $s \\geq 0$ is a regularization parameter."
   ]
  },
  {
   "cell_type": "markdown",
   "metadata": {
    "id": "VyBd6BrZYien"
   },
   "source": [
    "<div class=\"alert alert-success\">\n",
    "    <b>Questions</b>:\n",
    "     <ul>\n",
    "      <li>Code a function that computes $g(x)$ in both cases and $\\text{prox}_g(x)$ for ridge and  lasso penalization (use the slides of the first course to get the formulas), using the prototypes given below</li>\n",
    "      <li>Visualize the functions applied element wise by the proximity operators of the Ridge and Lasso \n",
    "    </li>\n",
    "    </ul>\n",
    "</div>"
   ]
  },
  {
   "cell_type": "markdown",
   "metadata": {
    "id": "FWcgVt47gNw7"
   },
   "source": [
    "#ANSWERS"
   ]
  },
  {
   "cell_type": "code",
   "execution_count": 64,
   "metadata": {
    "id": "WakS4S41Yien"
   },
   "outputs": [],
   "source": [
    "def prox_lasso(x, s,t=1):\n",
    "    \"\"\"Proximal operator for the Lasso at x\"\"\"    \n",
    "    return np.sign(x)*np.maximum(np.abs(x)-s*t,0) # TODO\n",
    "    \n",
    "def lasso(x, s):\n",
    "    \"\"\"Value of the Lasso penalization at x\"\"\"\n",
    "    return s*np.linalg.norm((x), ord=1) # TODO\n",
    "\n",
    "def prox_ridge(x, s, t=1.):\n",
    "    \"\"\"Proximal operator for the ridge at x\"\"\"    \n",
    "    return x/(1.+s*t) # TODO\n",
    "    \n",
    "def ridge(x, s):\n",
    "    \"\"\"Value of the ridge penalization at x\"\"\"\n",
    "    return (s/2.) * (np.linalg.norm((x), ord=2) ** 2)\n",
    " # TODO"
   ]
  },
  {
   "cell_type": "markdown",
   "metadata": {
    "id": "MZUZZ1OSYien"
   },
   "source": [
    "## Visualization\n",
    "\n",
    "We are now going to visualize the effect of the proximity operators on coefficients."
   ]
  },
  {
   "cell_type": "code",
   "execution_count": 65,
   "metadata": {
    "colab": {
     "base_uri": "https://localhost:8080/",
     "height": 465
    },
    "id": "3qrBk8bVYieo",
    "outputId": "c5293601-2adf-4ca0-9f6d-9a632622dabf",
    "scrolled": false
   },
   "outputs": [
    {
     "data": {
      "text/plain": [
       "(-2.0, 2.0)"
      ]
     },
     "execution_count": 65,
     "metadata": {},
     "output_type": "execute_result"
    },
    {
     "data": {
      "image/png": "[encoded data removed]",
      "text/plain": [
       "<Figure size 1008x360 with 3 Axes>"
      ]
     },
     "metadata": {
      "needs_background": "light"
     },
     "output_type": "display_data"
    }
   ],
   "source": [
    "x = randn(50)\n",
    "l_l1 = 1.\n",
    "l_l2 = 0.5\n",
    "\n",
    "plt.figure(figsize=(14.0, 5.0))\n",
    "plt.subplot(1, 3, 1)\n",
    "plt.stem(x)\n",
    "plt.title(\"Original parameter\", fontsize=15)\n",
    "plt.ylim([-2, 2])\n",
    "plt.subplot(1, 3, 2)\n",
    "plt.stem(prox_lasso(x, s=l_l1))\n",
    "plt.title(\"Proximal Lasso\", fontsize=16)\n",
    "plt.ylim([-2, 2])\n",
    "plt.subplot(1, 3, 3)\n",
    "plt.stem(prox_ridge(x, s=l_l2))\n",
    "plt.title(\"Proximal Ridge\", fontsize=16)\n",
    "plt.ylim([-2, 2])"
   ]
  },
  {
   "cell_type": "markdown",
   "metadata": {
    "id": "0_Nf_9u4Yieo"
   },
   "source": [
    "<div class=\"alert alert-success\">\n",
    "    <b>Question</b>:\n",
    "     <ul>\n",
    "      <li>Comment what you observe (1 or 2 sentences).</li>\n",
    "    </ul>\n",
    "</div>"
   ]
  },
  {
   "cell_type": "markdown",
   "metadata": {
    "id": "BapDTbxXYieo"
   },
   "source": [
    "# Comment\n",
    "We notice that in the lasso regularization, the absolute valued coefficients under $t\\cdot s$ disappear because the proximal operator is such that $ \\text{sign}(x)(|x|-t \\cdot s)_{+} $ and the non-zero coefficients decrease by the scalar $t\\cdot s$. Hence, the L1 norm induces sparsity. But during a ridge regularization, the value of the coefficients is smaller but still positive. The amplitude of the coefficients is decreased by the same factor $\\frac{1}{1 + t\\cdot s}$."
   ]
  },
  {
   "cell_type": "markdown",
   "metadata": {
    "id": "lzcgWiT6Yieo"
   },
   "source": [
    "## Part 2: Gradients\n",
    "\n",
    "The problems we want to minimize take the form:\n",
    "$$\n",
    "\\arg\\min_x f(x) + g(x)\n",
    "$$\n",
    "where $f$ is $L$-smooth and $g$ is prox-capable.\n",
    "\n",
    "Consider the following cases:\n",
    "\n",
    "**Linear regression**, where \n",
    "$$\n",
    "f(x) = \\frac{1}{2n} \\sum_{i=1}^n (b_i - a_i^\\top x)^2 = \\frac{1}{2 n} \\| b - A x \\|_2^2,\n",
    "$$\n",
    "where $n$ is the sample size, $b = [b_1 \\cdots b_n]$ is the vector of labels and $A$ is the matrix of features.\n",
    "\n",
    "**Logistic regression**, where\n",
    "$$\n",
    "f(x) = \\frac{1}{n} \\sum_{i=1}^n \\log(1 + \\exp(-b_i a_i^\\top x)),\n",
    "$$\n",
    "where $n$ is the sample size, and where labels $b_i \\in \\{ -1, 1 \\}$ for all $i$.\n",
    "\n",
    "We need to be able to compute $f$ and its gradient"
   ]
  },
  {
   "cell_type": "markdown",
   "metadata": {
    "id": "PNXhmXk3Yieo"
   },
   "source": [
    "<div class=\"alert alert-success\">\n",
    "    <b>Questions</b>:\n",
    "     <ul>\n",
    "      <li>Compute on paper the gradient $\\nabla f$ of $f$ for both cases (linear and logistic regression)</li>\n",
    "      <li>Code a function that computes $f$ and its gradient $\\nabla f$ in both cases, using the prototypes below.</li>\n",
    "      <li>Check that these functions are correct by numerically checking the gradient, using the function ``<a href=\"https://docs.scipy.org/doc/scipy/reference/generated/scipy.optimize.check_grad.html\">check_grad</a>`` from ``scipy.optimize``. Remark: use the functions `simu_linreg` and `simu_logreg` to simulate data according to the right model</li>\n",
    "    </ul>\n",
    "</div>"
   ]
  },
  {
   "cell_type": "markdown",
   "metadata": {
    "id": "RmRjkxmz9wK9"
   },
   "source": [
    "#Answers"
   ]
  },
  {
   "cell_type": "code",
   "execution_count": 66,
   "metadata": {
    "id": "eoe0TZp8Yieo"
   },
   "outputs": [],
   "source": [
    "def loss_linreg(x):\n",
    "    return 0.5 * norm(b - A.dot(x)) ** 2 / n_samples\n",
    "\n",
    "def grad_linreg(x):\n",
    "    \"\"\"Leas-squares gradient\"\"\"\n",
    "    # TODO\n",
    "    result=-1/(len(b)) * np.dot(A.T, b - np.dot(A,x))\n",
    "    return result\n",
    "\n",
    "def loss_logreg(x):\n",
    "    u = b * A.dot(x)\n",
    "    return np.sum(np.log(1 + np.exp(-u))) / n_samples\n",
    "\n",
    "def grad_logreg(x):\n",
    "    \"\"\"Logistic gradient\"\"\"\n",
    "    # TODO\n",
    "    result=sum((-b[i]*np.transpose(A[i, :]) * np.exp(-b[i]*np.dot(np.transpose(A[i, :]), x))) / (len(b) * (1 + np.exp(-b[i]*np.dot(np.transpose(A[i, :]), x)))) for i in range(len(b)))\n",
    "\n",
    "    return result\n",
    "\n",
    "# TO BE COMPLETED"
   ]
  },
  {
   "cell_type": "markdown",
   "metadata": {
    "id": "Eb_k6MVBO1es"
   },
   "source": [
    "#check gradient"
   ]
  },
  {
   "cell_type": "code",
   "execution_count": 67,
   "metadata": {
    "colab": {
     "base_uri": "https://localhost:8080/"
    },
    "id": "6X3zKCSxCHQz",
    "outputId": "6625503e-76d8-4f53-94fb-bc0afead48b6"
   },
   "outputs": [
    {
     "name": "stdout",
     "output_type": "stream",
     "text": [
      "Check grad_linreg: 1.8141381321378762e-06\n",
      "Check grad_logreg: 1.0993096936552516e-07\n"
     ]
    }
   ],
   "source": [
    "from scipy.optimize import check_grad\n",
    "A,b = simu_linreg(coefs)\n",
    "print(\"Check grad_linreg:\", check_grad(loss_linreg, grad_linreg, x0=randn(A.shape[1])))\n",
    "A,b = simu_logreg(coefs)\n",
    "print(\"Check grad_logreg:\", check_grad(loss_logreg, grad_logreg, x0=randn(A.shape[1])))"
   ]
  },
  {
   "cell_type": "markdown",
   "metadata": {
    "id": "8nkZpSzFYiep"
   },
   "source": [
    "## Part 3: Solvers"
   ]
  },
  {
   "cell_type": "markdown",
   "metadata": {
    "id": "4wTx2bppYiep"
   },
   "source": [
    "We know have a function to compute $f$, $\\nabla f$ and $g$ and $\\text{prox}_g$. \n",
    "\n",
    "We want now to code the Ista and Fista solvers to minimize\n",
    "\n",
    "$$\n",
    "\\arg\\min_x f(x) + g(x)\n",
    "$$"
   ]
  },
  {
   "cell_type": "markdown",
   "metadata": {
    "id": "bN2AEX49Yiep"
   },
   "source": [
    "<div class=\"alert alert-success\">\n",
    "    <b>Questions</b>:\n",
    "     <ul>\n",
    "      <li>Implement functions that compute the Lipschitz constants for linear and \n",
    "  logistic regression losses. Note that the operator norm of a matrix can \n",
    "  be computed using the function <a href=\"https://docs.scipy.org/doc/numpy/reference/generated/numpy.linalg.norm.html\">numpy.linalg.norm</a> (read the documentation\n",
    "  of the function)</li>\n",
    "      <li>Finish the functions `ista` below that implements the \n",
    "  ISTA (Proximal Gradient Descent) algorithm</li>\n",
    "    <li> BONUS QUESTION:  Implement FISTA (Accelerated Proximal \n",
    "  Gradient Descent) algorithm as described at the bottom\n",
    "    </ul>\n",
    "</div>"
   ]
  },
  {
   "cell_type": "markdown",
   "metadata": {
    "id": "HXUriUPG_Vmu"
   },
   "source": [
    "#Answers"
   ]
  },
  {
   "cell_type": "code",
   "execution_count": 68,
   "metadata": {
    "id": "I1lRdBemYiep"
   },
   "outputs": [],
   "source": [
    "# TO BE COMPLETED\n",
    "\n",
    "def lip_linreg(A):\n",
    "    \"\"\"Lipschitz constant for linear squares loss\"\"\"    \n",
    "    # TODO\n",
    "    result=1/(len(b)) * np.linalg.norm(np.dot(A.T,A), ord=2)\n",
    "    return result\n",
    "def lip_logreg(A):\n",
    "    \"\"\"Lipschitz constant for logistic loss\"\"\"    \n",
    "    \n",
    "    # TODO\n",
    "    result=1/(4. * len(b)) * np.linalg.norm(A, ord=2)**2\n",
    "    return result \n",
    "    \n",
    "def ista(x0, f, grad_f, g, prox_g, step, s=0., n_iter=50,\n",
    "          x_true=coefs, verbose=True):\n",
    "    \"\"\"Proximal gradient descent algorithm\n",
    "    \"\"\"\n",
    "    x = x0.copy()\n",
    "    x_new = x0.copy()\n",
    "    n_samples, n_features = A.shape\n",
    "\n",
    "    # estimation error history\n",
    "    errors = []\n",
    "    # objective history\n",
    "    objectives = []\n",
    "    # Current estimation error\n",
    "    err = norm(x - x_true) / norm(x_true)\n",
    "    errors.append(err)\n",
    "    # Current objective\n",
    "    obj = f(x) + g(x, s)\n",
    "    objectives.append(obj)\n",
    "    if verbose:\n",
    "        print(\"Lauching ISTA solver...\")\n",
    "        print(' | '.join([name.center(8) for name in [\"it\", \"obj\", \"err\"]]))\n",
    "    for k in range(n_iter + 1):\n",
    "\n",
    "        #### TODO ####\n",
    "        x = prox_g(x - step*grad_f(x), s, step)\n",
    "\n",
    "        obj = f(x) + g(x, s)\n",
    "        err = norm(x - x_true) / norm(x_true)\n",
    "        errors.append(err)\n",
    "        objectives.append(obj)\n",
    "        if k % 10 == 0 and verbose:\n",
    "            print(' | '.join([(\"%d\" % k).rjust(8), \n",
    "                              (\"%.2e\" % obj).rjust(8), \n",
    "                              (\"%.2e\" % err).rjust(8)]))\n",
    "    return x, objectives, errors"
   ]
  },
  {
   "cell_type": "markdown",
   "metadata": {
    "id": "4z47hkUJYiep"
   },
   "source": [
    "Try and implement the FISTA algorithm (detailed in maths below)"
   ]
  },
  {
   "cell_type": "markdown",
   "metadata": {
    "id": "zcjwSOAjYieq"
   },
   "source": [
    "FISTA Algorithm:\n",
    "$$\\begin{array}{l}\n",
    "\\mbox{Set } w^1=0=z^1, \\beta^1 =1\\\\\n",
    "\\mbox{for }t=1,2,3, \\ldots, T \\quad  \\\\\n",
    "\\qquad \\displaystyle w^{t+1} = \\mbox{prox}_{\\left. \\lambda R \\right/ \\mathcal{L}}\\left( z^t - \\frac{1}{\\mathcal{L}} \\nabla L(z^t)\\right) \\\\\n",
    "\\qquad \\displaystyle \\beta^{t+1} = \\frac{1+\\sqrt{1+4(\\beta^t)^2}}{2}\\\\\n",
    "\\qquad \\displaystyle  z^{t+1} = w^{t+1} + \\frac{\\beta^t -1}{\\beta^{t+1}} (w^{t+1} -w^{t})\\\\\n",
    "\\mbox{Output } w^{T+1}\n",
    "\\end{array}$$"
   ]
  },
  {
   "cell_type": "code",
   "execution_count": 69,
   "metadata": {
    "id": "A9ZWFtdUYieq"
   },
   "outputs": [],
   "source": [
    "# TO BE COMPLETED\n",
    "\n",
    "def fista(x0, f, grad_f, g, prox_g, step, s=0., n_iter=50,\n",
    "         x_true=coefs, verbose=True):\n",
    "    \"\"\"Accelerated Proximal gradient descent algorithm\n",
    "    \"\"\"\n",
    "    x = x0.copy()\n",
    "    x_new = x0.copy()\n",
    "    # An extra variable is required for FISTA\n",
    "    z = x0.copy()\n",
    "    n_samples, n_features = A.shape\n",
    "    # estimation error history\n",
    "    errors = []\n",
    "    # objective history\n",
    "    objectives = []\n",
    "    # Current estimation error\n",
    "    err = norm(x - x_true) / norm(x_true)\n",
    "    errors.append(err)\n",
    "    # Current objective\n",
    "    obj = f(x) + g(x, s)\n",
    "    objectives.append(obj)\n",
    "    t = 1.\n",
    "    t_new = 1.    \n",
    "    if verbose:\n",
    "        print(\"Lauching FISTA solver...\")\n",
    "        print(' | '.join([name.center(8) for name in [\"it\", \"obj\", \"err\"]]))\n",
    "    for k in range(n_iter + 1):\n",
    "\n",
    "        #### TODO ####\n",
    "        x_new = prox_g(z - step*grad_f(z),s, step)\n",
    "        t_new = (1/2)*(1 + np.sqrt(1 + 4*(t**2)))\n",
    "        z_new = x_new + ((t-1)/t_new)*(x_new - x)\n",
    "        x, z, t = x_new, z_new, t_new\n",
    "        \n",
    "        obj = f(x) + g(x, s)\n",
    "        err = norm(x - x_true) / norm(x_true)\n",
    "        errors.append(err)\n",
    "        objectives.append(obj)\n",
    "        if k % 10 == 0 and verbose:\n",
    "            print(' | '.join([(\"%d\" % k).rjust(8), \n",
    "                              (\"%.2e\" % obj).rjust(8), \n",
    "                              (\"%.2e\" % err).rjust(8)]))\n",
    "    return x, np.array(objectives), np.array(errors)"
   ]
  },
  {
   "cell_type": "markdown",
   "metadata": {
    "id": "ZUMOuzykYieq"
   },
   "source": [
    "## Algorithms comparison and numerical experiments"
   ]
  },
  {
   "cell_type": "code",
   "execution_count": 70,
   "metadata": {
    "colab": {
     "base_uri": "https://localhost:8080/"
    },
    "id": "9nwLxU2mYieq",
    "outputId": "1eb874e4-d444-4c70-e333-4f6bc04d9aff"
   },
   "outputs": [
    {
     "data": {
      "text/plain": [
       "0.01"
      ]
     },
     "execution_count": 70,
     "metadata": {},
     "output_type": "execute_result"
    }
   ],
   "source": [
    "# Some definitions before launching the algorithms\n",
    "x0 = np.zeros(n_features)\n",
    "n_iter = 40\n",
    "s = 1e-2\n",
    "s"
   ]
  },
  {
   "cell_type": "markdown",
   "metadata": {
    "id": "cNAsESl5Yieq"
   },
   "source": [
    "<div class=\"alert alert-success\">\n",
    "    <b>Questions</b>:\n",
    "     <ul>\n",
    "      <li>Compute a precise minimum and a precise minimizer of the linear regression with ridge \n",
    "  penalization problem using the parameters give above. This can be done by using fista with \n",
    "  1000 iterations.</li>\n",
    "    <li>Compare the convergences of ISTA and FISTA, in terms of distance to the minimum and \n",
    "  distance to the minimizer. Do your plots using a logarithmic scale of the y-axis.</li>\n",
    "    </ul>\n",
    "</div>"
   ]
  },
  {
   "cell_type": "markdown",
   "metadata": {
    "id": "-mQxQtl5eGHv"
   },
   "source": [
    "### Let's compute an accurate minimum and an accurate minimizer of the linear regression problem with peak penalty using the parameters given above. This can be done using FISTA with 1000 iterations."
   ]
  },
  {
   "cell_type": "code",
   "execution_count": 71,
   "metadata": {
    "colab": {
     "base_uri": "https://localhost:8080/"
    },
    "id": "uciQ7JUZYier",
    "outputId": "136c354e-50d3-431e-d144-d28f2beb1020"
   },
   "outputs": [
    {
     "name": "stdout",
     "output_type": "stream",
     "text": [
      "Lauching FISTA solver...\n",
      "   it    |   obj    |   err   \n",
      "       0 | 1.17e+00 | 8.87e-01\n",
      "      10 | 4.84e-01 | 1.27e-01\n",
      "      20 | 4.83e-01 | 1.36e-01\n",
      "      30 | 4.83e-01 | 1.32e-01\n",
      "      40 | 4.83e-01 | 1.33e-01\n",
      "      50 | 4.83e-01 | 1.33e-01\n",
      "      60 | 4.83e-01 | 1.33e-01\n",
      "      70 | 4.83e-01 | 1.33e-01\n",
      "      80 | 4.83e-01 | 1.33e-01\n",
      "      90 | 4.83e-01 | 1.33e-01\n",
      "     100 | 4.83e-01 | 1.33e-01\n",
      "     110 | 4.83e-01 | 1.33e-01\n",
      "     120 | 4.83e-01 | 1.33e-01\n",
      "     130 | 4.83e-01 | 1.33e-01\n",
      "     140 | 4.83e-01 | 1.33e-01\n",
      "     150 | 4.83e-01 | 1.33e-01\n",
      "     160 | 4.83e-01 | 1.33e-01\n",
      "     170 | 4.83e-01 | 1.33e-01\n",
      "     180 | 4.83e-01 | 1.33e-01\n",
      "     190 | 4.83e-01 | 1.33e-01\n",
      "     200 | 4.83e-01 | 1.33e-01\n",
      "     210 | 4.83e-01 | 1.33e-01\n",
      "     220 | 4.83e-01 | 1.33e-01\n",
      "     230 | 4.83e-01 | 1.33e-01\n",
      "     240 | 4.83e-01 | 1.33e-01\n",
      "     250 | 4.83e-01 | 1.33e-01\n",
      "     260 | 4.83e-01 | 1.33e-01\n",
      "     270 | 4.83e-01 | 1.33e-01\n",
      "     280 | 4.83e-01 | 1.33e-01\n",
      "     290 | 4.83e-01 | 1.33e-01\n",
      "     300 | 4.83e-01 | 1.33e-01\n",
      "     310 | 4.83e-01 | 1.33e-01\n",
      "     320 | 4.83e-01 | 1.33e-01\n",
      "     330 | 4.83e-01 | 1.33e-01\n",
      "     340 | 4.83e-01 | 1.33e-01\n",
      "     350 | 4.83e-01 | 1.33e-01\n",
      "     360 | 4.83e-01 | 1.33e-01\n",
      "     370 | 4.83e-01 | 1.33e-01\n",
      "     380 | 4.83e-01 | 1.33e-01\n",
      "     390 | 4.83e-01 | 1.33e-01\n",
      "     400 | 4.83e-01 | 1.33e-01\n",
      "     410 | 4.83e-01 | 1.33e-01\n",
      "     420 | 4.83e-01 | 1.33e-01\n",
      "     430 | 4.83e-01 | 1.33e-01\n",
      "     440 | 4.83e-01 | 1.33e-01\n",
      "     450 | 4.83e-01 | 1.33e-01\n",
      "     460 | 4.83e-01 | 1.33e-01\n",
      "     470 | 4.83e-01 | 1.33e-01\n",
      "     480 | 4.83e-01 | 1.33e-01\n",
      "     490 | 4.83e-01 | 1.33e-01\n",
      "     500 | 4.83e-01 | 1.33e-01\n",
      "     510 | 4.83e-01 | 1.33e-01\n",
      "     520 | 4.83e-01 | 1.33e-01\n",
      "     530 | 4.83e-01 | 1.33e-01\n",
      "     540 | 4.83e-01 | 1.33e-01\n",
      "     550 | 4.83e-01 | 1.33e-01\n",
      "     560 | 4.83e-01 | 1.33e-01\n",
      "     570 | 4.83e-01 | 1.33e-01\n",
      "     580 | 4.83e-01 | 1.33e-01\n",
      "     590 | 4.83e-01 | 1.33e-01\n",
      "     600 | 4.83e-01 | 1.33e-01\n",
      "     610 | 4.83e-01 | 1.33e-01\n",
      "     620 | 4.83e-01 | 1.33e-01\n",
      "     630 | 4.83e-01 | 1.33e-01\n",
      "     640 | 4.83e-01 | 1.33e-01\n",
      "     650 | 4.83e-01 | 1.33e-01\n",
      "     660 | 4.83e-01 | 1.33e-01\n",
      "     670 | 4.83e-01 | 1.33e-01\n",
      "     680 | 4.83e-01 | 1.33e-01\n",
      "     690 | 4.83e-01 | 1.33e-01\n",
      "     700 | 4.83e-01 | 1.33e-01\n",
      "     710 | 4.83e-01 | 1.33e-01\n",
      "     720 | 4.83e-01 | 1.33e-01\n",
      "     730 | 4.83e-01 | 1.33e-01\n",
      "     740 | 4.83e-01 | 1.33e-01\n",
      "     750 | 4.83e-01 | 1.33e-01\n",
      "     760 | 4.83e-01 | 1.33e-01\n",
      "     770 | 4.83e-01 | 1.33e-01\n",
      "     780 | 4.83e-01 | 1.33e-01\n",
      "     790 | 4.83e-01 | 1.33e-01\n",
      "     800 | 4.83e-01 | 1.33e-01\n",
      "     810 | 4.83e-01 | 1.33e-01\n",
      "     820 | 4.83e-01 | 1.33e-01\n",
      "     830 | 4.83e-01 | 1.33e-01\n",
      "     840 | 4.83e-01 | 1.33e-01\n",
      "     850 | 4.83e-01 | 1.33e-01\n",
      "     860 | 4.83e-01 | 1.33e-01\n",
      "     870 | 4.83e-01 | 1.33e-01\n",
      "     880 | 4.83e-01 | 1.33e-01\n",
      "     890 | 4.83e-01 | 1.33e-01\n",
      "     900 | 4.83e-01 | 1.33e-01\n",
      "     910 | 4.83e-01 | 1.33e-01\n",
      "     920 | 4.83e-01 | 1.33e-01\n",
      "     930 | 4.83e-01 | 1.33e-01\n",
      "     940 | 4.83e-01 | 1.33e-01\n",
      "     950 | 4.83e-01 | 1.33e-01\n",
      "     960 | 4.83e-01 | 1.33e-01\n",
      "     970 | 4.83e-01 | 1.33e-01\n",
      "     980 | 4.83e-01 | 1.33e-01\n",
      "     990 | 4.83e-01 | 1.33e-01\n",
      "    1000 | 4.83e-01 | 1.33e-01\n",
      "minimum: 0.48258581600202893\n",
      "minimizer: 0.00726209615690534\n"
     ]
    }
   ],
   "source": [
    "# Minimum and minimizer of the linear regression with ridge penalization\n",
    "A, b = simu_linreg(coefs, n_samples=1000, corr=0.5)\n",
    "step=1/lip_linreg(A)\n",
    "X, obj, err = fista(x0, loss_linreg, grad_linreg, ridge, prox_ridge, step, s, n_iter=1000,x_true=coefs, verbose=True)\n",
    "minimum = obj[-1]\n",
    "minimizer = X[-1]\n",
    "print(\"minimum:\", minimum)\n",
    "print(\"minimizer:\", minimizer)"
   ]
  },
  {
   "cell_type": "markdown",
   "metadata": {
    "id": "BS5Rq31GI5so"
   },
   "source": [
    "#Let us Compare the convergences of ISTA and FISTA, in terms of distance to the minimum and distance to the minimizer. Do your plots using a logarithmic scale of the y-axis."
   ]
  },
  {
   "cell_type": "markdown",
   "metadata": {
    "id": "wqDIFn51JCuz"
   },
   "source": [
    "#1) Study of the convergence for the ridge penalization.\n",
    "\n",
    "\n",
    "-Convergence of the term (it can be viewed as a distance to the minimizer)\n"
   ]
  },
  {
   "cell_type": "code",
   "execution_count": 72,
   "metadata": {
    "colab": {
     "base_uri": "https://localhost:8080/"
    },
    "id": "FMKgptlggBc5",
    "outputId": "5abf3784-37d7-4591-f8ee-f731ceae753f"
   },
   "outputs": [
    {
     "name": "stdout",
     "output_type": "stream",
     "text": [
      "Lauching ISTA solver...\n",
      "   it    |   obj    |   err   \n",
      "       0 | 1.23e+00 | 8.87e-01\n",
      "      10 | 5.77e-01 | 3.23e-01\n",
      "      20 | 5.11e-01 | 1.61e-01\n",
      "      30 | 5.03e-01 | 1.26e-01\n",
      "      40 | 5.02e-01 | 1.22e-01\n",
      "      50 | 5.02e-01 | 1.21e-01\n",
      "      60 | 5.02e-01 | 1.21e-01\n",
      "      70 | 5.02e-01 | 1.21e-01\n",
      "      80 | 5.02e-01 | 1.21e-01\n",
      "      90 | 5.02e-01 | 1.21e-01\n",
      "     100 | 5.02e-01 | 1.21e-01\n",
      "     110 | 5.02e-01 | 1.21e-01\n",
      "     120 | 5.02e-01 | 1.21e-01\n",
      "     130 | 5.02e-01 | 1.21e-01\n",
      "     140 | 5.02e-01 | 1.21e-01\n",
      "     150 | 5.02e-01 | 1.21e-01\n",
      "     160 | 5.02e-01 | 1.21e-01\n",
      "     170 | 5.02e-01 | 1.21e-01\n",
      "     180 | 5.02e-01 | 1.21e-01\n",
      "     190 | 5.02e-01 | 1.21e-01\n",
      "     200 | 5.02e-01 | 1.21e-01\n",
      "     210 | 5.02e-01 | 1.21e-01\n",
      "     220 | 5.02e-01 | 1.21e-01\n",
      "     230 | 5.02e-01 | 1.21e-01\n",
      "     240 | 5.02e-01 | 1.21e-01\n",
      "     250 | 5.02e-01 | 1.21e-01\n",
      "     260 | 5.02e-01 | 1.21e-01\n",
      "     270 | 5.02e-01 | 1.21e-01\n",
      "     280 | 5.02e-01 | 1.21e-01\n",
      "     290 | 5.02e-01 | 1.21e-01\n",
      "     300 | 5.02e-01 | 1.21e-01\n",
      "     310 | 5.02e-01 | 1.21e-01\n",
      "     320 | 5.02e-01 | 1.21e-01\n",
      "     330 | 5.02e-01 | 1.21e-01\n",
      "     340 | 5.02e-01 | 1.21e-01\n",
      "     350 | 5.02e-01 | 1.21e-01\n",
      "     360 | 5.02e-01 | 1.21e-01\n",
      "     370 | 5.02e-01 | 1.21e-01\n",
      "     380 | 5.02e-01 | 1.21e-01\n",
      "     390 | 5.02e-01 | 1.21e-01\n",
      "     400 | 5.02e-01 | 1.21e-01\n",
      "     410 | 5.02e-01 | 1.21e-01\n",
      "     420 | 5.02e-01 | 1.21e-01\n",
      "     430 | 5.02e-01 | 1.21e-01\n",
      "     440 | 5.02e-01 | 1.21e-01\n",
      "     450 | 5.02e-01 | 1.21e-01\n",
      "     460 | 5.02e-01 | 1.21e-01\n",
      "     470 | 5.02e-01 | 1.21e-01\n",
      "     480 | 5.02e-01 | 1.21e-01\n",
      "     490 | 5.02e-01 | 1.21e-01\n",
      "     500 | 5.02e-01 | 1.21e-01\n",
      "     510 | 5.02e-01 | 1.21e-01\n",
      "     520 | 5.02e-01 | 1.21e-01\n",
      "     530 | 5.02e-01 | 1.21e-01\n",
      "     540 | 5.02e-01 | 1.21e-01\n",
      "     550 | 5.02e-01 | 1.21e-01\n",
      "     560 | 5.02e-01 | 1.21e-01\n",
      "     570 | 5.02e-01 | 1.21e-01\n",
      "     580 | 5.02e-01 | 1.21e-01\n",
      "     590 | 5.02e-01 | 1.21e-01\n",
      "     600 | 5.02e-01 | 1.21e-01\n",
      "     610 | 5.02e-01 | 1.21e-01\n",
      "     620 | 5.02e-01 | 1.21e-01\n",
      "     630 | 5.02e-01 | 1.21e-01\n",
      "     640 | 5.02e-01 | 1.21e-01\n",
      "     650 | 5.02e-01 | 1.21e-01\n",
      "     660 | 5.02e-01 | 1.21e-01\n",
      "     670 | 5.02e-01 | 1.21e-01\n",
      "     680 | 5.02e-01 | 1.21e-01\n",
      "     690 | 5.02e-01 | 1.21e-01\n",
      "     700 | 5.02e-01 | 1.21e-01\n",
      "     710 | 5.02e-01 | 1.21e-01\n",
      "     720 | 5.02e-01 | 1.21e-01\n",
      "     730 | 5.02e-01 | 1.21e-01\n",
      "     740 | 5.02e-01 | 1.21e-01\n",
      "     750 | 5.02e-01 | 1.21e-01\n",
      "     760 | 5.02e-01 | 1.21e-01\n",
      "     770 | 5.02e-01 | 1.21e-01\n",
      "     780 | 5.02e-01 | 1.21e-01\n",
      "     790 | 5.02e-01 | 1.21e-01\n",
      "     800 | 5.02e-01 | 1.21e-01\n",
      "     810 | 5.02e-01 | 1.21e-01\n",
      "     820 | 5.02e-01 | 1.21e-01\n",
      "     830 | 5.02e-01 | 1.21e-01\n",
      "     840 | 5.02e-01 | 1.21e-01\n",
      "     850 | 5.02e-01 | 1.21e-01\n",
      "     860 | 5.02e-01 | 1.21e-01\n",
      "     870 | 5.02e-01 | 1.21e-01\n",
      "     880 | 5.02e-01 | 1.21e-01\n",
      "     890 | 5.02e-01 | 1.21e-01\n",
      "     900 | 5.02e-01 | 1.21e-01\n",
      "     910 | 5.02e-01 | 1.21e-01\n",
      "     920 | 5.02e-01 | 1.21e-01\n",
      "     930 | 5.02e-01 | 1.21e-01\n",
      "     940 | 5.02e-01 | 1.21e-01\n",
      "     950 | 5.02e-01 | 1.21e-01\n",
      "     960 | 5.02e-01 | 1.21e-01\n",
      "     970 | 5.02e-01 | 1.21e-01\n",
      "     980 | 5.02e-01 | 1.21e-01\n",
      "     990 | 5.02e-01 | 1.21e-01\n",
      "    1000 | 5.02e-01 | 1.21e-01\n",
      "Lauching FISTA solver...\n",
      "   it    |   obj    |   err   \n",
      "       0 | 1.23e+00 | 8.87e-01\n",
      "      10 | 5.03e-01 | 1.18e-01\n",
      "      20 | 5.02e-01 | 1.24e-01\n",
      "      30 | 5.02e-01 | 1.20e-01\n",
      "      40 | 5.02e-01 | 1.22e-01\n",
      "      50 | 5.02e-01 | 1.21e-01\n",
      "      60 | 5.02e-01 | 1.22e-01\n",
      "      70 | 5.02e-01 | 1.21e-01\n",
      "      80 | 5.02e-01 | 1.22e-01\n",
      "      90 | 5.02e-01 | 1.21e-01\n",
      "     100 | 5.02e-01 | 1.21e-01\n",
      "     110 | 5.02e-01 | 1.21e-01\n",
      "     120 | 5.02e-01 | 1.21e-01\n",
      "     130 | 5.02e-01 | 1.21e-01\n",
      "     140 | 5.02e-01 | 1.21e-01\n",
      "     150 | 5.02e-01 | 1.21e-01\n",
      "     160 | 5.02e-01 | 1.21e-01\n",
      "     170 | 5.02e-01 | 1.21e-01\n",
      "     180 | 5.02e-01 | 1.21e-01\n",
      "     190 | 5.02e-01 | 1.21e-01\n",
      "     200 | 5.02e-01 | 1.21e-01\n",
      "     210 | 5.02e-01 | 1.21e-01\n",
      "     220 | 5.02e-01 | 1.21e-01\n",
      "     230 | 5.02e-01 | 1.21e-01\n",
      "     240 | 5.02e-01 | 1.21e-01\n",
      "     250 | 5.02e-01 | 1.21e-01\n",
      "     260 | 5.02e-01 | 1.21e-01\n",
      "     270 | 5.02e-01 | 1.21e-01\n",
      "     280 | 5.02e-01 | 1.21e-01\n",
      "     290 | 5.02e-01 | 1.21e-01\n",
      "     300 | 5.02e-01 | 1.21e-01\n",
      "     310 | 5.02e-01 | 1.21e-01\n",
      "     320 | 5.02e-01 | 1.21e-01\n",
      "     330 | 5.02e-01 | 1.21e-01\n",
      "     340 | 5.02e-01 | 1.21e-01\n",
      "     350 | 5.02e-01 | 1.21e-01\n",
      "     360 | 5.02e-01 | 1.21e-01\n",
      "     370 | 5.02e-01 | 1.21e-01\n",
      "     380 | 5.02e-01 | 1.21e-01\n",
      "     390 | 5.02e-01 | 1.21e-01\n",
      "     400 | 5.02e-01 | 1.21e-01\n",
      "     410 | 5.02e-01 | 1.21e-01\n",
      "     420 | 5.02e-01 | 1.21e-01\n",
      "     430 | 5.02e-01 | 1.21e-01\n",
      "     440 | 5.02e-01 | 1.21e-01\n",
      "     450 | 5.02e-01 | 1.21e-01\n",
      "     460 | 5.02e-01 | 1.21e-01\n",
      "     470 | 5.02e-01 | 1.21e-01\n",
      "     480 | 5.02e-01 | 1.21e-01\n",
      "     490 | 5.02e-01 | 1.21e-01\n",
      "     500 | 5.02e-01 | 1.21e-01\n",
      "     510 | 5.02e-01 | 1.21e-01\n",
      "     520 | 5.02e-01 | 1.21e-01\n",
      "     530 | 5.02e-01 | 1.21e-01\n",
      "     540 | 5.02e-01 | 1.21e-01\n",
      "     550 | 5.02e-01 | 1.21e-01\n",
      "     560 | 5.02e-01 | 1.21e-01\n",
      "     570 | 5.02e-01 | 1.21e-01\n",
      "     580 | 5.02e-01 | 1.21e-01\n",
      "     590 | 5.02e-01 | 1.21e-01\n",
      "     600 | 5.02e-01 | 1.21e-01\n",
      "     610 | 5.02e-01 | 1.21e-01\n",
      "     620 | 5.02e-01 | 1.21e-01\n",
      "     630 | 5.02e-01 | 1.21e-01\n",
      "     640 | 5.02e-01 | 1.21e-01\n",
      "     650 | 5.02e-01 | 1.21e-01\n",
      "     660 | 5.02e-01 | 1.21e-01\n",
      "     670 | 5.02e-01 | 1.21e-01\n",
      "     680 | 5.02e-01 | 1.21e-01\n",
      "     690 | 5.02e-01 | 1.21e-01\n",
      "     700 | 5.02e-01 | 1.21e-01\n",
      "     710 | 5.02e-01 | 1.21e-01\n",
      "     720 | 5.02e-01 | 1.21e-01\n",
      "     730 | 5.02e-01 | 1.21e-01\n",
      "     740 | 5.02e-01 | 1.21e-01\n",
      "     750 | 5.02e-01 | 1.21e-01\n",
      "     760 | 5.02e-01 | 1.21e-01\n",
      "     770 | 5.02e-01 | 1.21e-01\n",
      "     780 | 5.02e-01 | 1.21e-01\n",
      "     790 | 5.02e-01 | 1.21e-01\n",
      "     800 | 5.02e-01 | 1.21e-01\n",
      "     810 | 5.02e-01 | 1.21e-01\n",
      "     820 | 5.02e-01 | 1.21e-01\n",
      "     830 | 5.02e-01 | 1.21e-01\n",
      "     840 | 5.02e-01 | 1.21e-01\n",
      "     850 | 5.02e-01 | 1.21e-01\n",
      "     860 | 5.02e-01 | 1.21e-01\n",
      "     870 | 5.02e-01 | 1.21e-01\n",
      "     880 | 5.02e-01 | 1.21e-01\n",
      "     890 | 5.02e-01 | 1.21e-01\n",
      "     900 | 5.02e-01 | 1.21e-01\n",
      "     910 | 5.02e-01 | 1.21e-01\n",
      "     920 | 5.02e-01 | 1.21e-01\n",
      "     930 | 5.02e-01 | 1.21e-01\n",
      "     940 | 5.02e-01 | 1.21e-01\n",
      "     950 | 5.02e-01 | 1.21e-01\n",
      "     960 | 5.02e-01 | 1.21e-01\n",
      "     970 | 5.02e-01 | 1.21e-01\n",
      "     980 | 5.02e-01 | 1.21e-01\n",
      "     990 | 5.02e-01 | 1.21e-01\n",
      "    1000 | 5.02e-01 | 1.21e-01\n",
      "Lauching ISTA solver...\n",
      "   it    |   obj    |   err   \n",
      "       0 | 6.45e-01 | 9.13e-01\n",
      "      10 | 5.37e-01 | 5.23e-01\n",
      "      20 | 5.24e-01 | 4.08e-01\n",
      "      30 | 5.21e-01 | 3.68e-01\n",
      "      40 | 5.20e-01 | 3.52e-01\n",
      "      50 | 5.20e-01 | 3.45e-01\n",
      "      60 | 5.20e-01 | 3.42e-01\n",
      "      70 | 5.20e-01 | 3.40e-01\n",
      "      80 | 5.20e-01 | 3.39e-01\n",
      "      90 | 5.20e-01 | 3.39e-01\n",
      "     100 | 5.20e-01 | 3.39e-01\n",
      "     110 | 5.20e-01 | 3.39e-01\n",
      "     120 | 5.20e-01 | 3.39e-01\n",
      "     130 | 5.20e-01 | 3.39e-01\n",
      "     140 | 5.20e-01 | 3.39e-01\n",
      "     150 | 5.20e-01 | 3.38e-01\n",
      "     160 | 5.20e-01 | 3.38e-01\n",
      "     170 | 5.20e-01 | 3.38e-01\n",
      "     180 | 5.20e-01 | 3.38e-01\n",
      "     190 | 5.20e-01 | 3.38e-01\n",
      "     200 | 5.20e-01 | 3.38e-01\n",
      "     210 | 5.20e-01 | 3.38e-01\n",
      "     220 | 5.20e-01 | 3.38e-01\n",
      "     230 | 5.20e-01 | 3.38e-01\n",
      "     240 | 5.20e-01 | 3.38e-01\n",
      "     250 | 5.20e-01 | 3.38e-01\n",
      "     260 | 5.20e-01 | 3.38e-01\n",
      "     270 | 5.20e-01 | 3.38e-01\n",
      "     280 | 5.20e-01 | 3.38e-01\n",
      "     290 | 5.20e-01 | 3.38e-01\n",
      "     300 | 5.20e-01 | 3.38e-01\n",
      "     310 | 5.20e-01 | 3.38e-01\n",
      "     320 | 5.20e-01 | 3.38e-01\n",
      "     330 | 5.20e-01 | 3.38e-01\n",
      "     340 | 5.20e-01 | 3.38e-01\n",
      "     350 | 5.20e-01 | 3.38e-01\n",
      "     360 | 5.20e-01 | 3.38e-01\n",
      "     370 | 5.20e-01 | 3.38e-01\n",
      "     380 | 5.20e-01 | 3.38e-01\n",
      "     390 | 5.20e-01 | 3.38e-01\n",
      "     400 | 5.20e-01 | 3.38e-01\n",
      "     410 | 5.20e-01 | 3.38e-01\n",
      "     420 | 5.20e-01 | 3.38e-01\n",
      "     430 | 5.20e-01 | 3.38e-01\n",
      "     440 | 5.20e-01 | 3.38e-01\n",
      "     450 | 5.20e-01 | 3.38e-01\n",
      "     460 | 5.20e-01 | 3.38e-01\n",
      "     470 | 5.20e-01 | 3.38e-01\n",
      "     480 | 5.20e-01 | 3.38e-01\n",
      "     490 | 5.20e-01 | 3.38e-01\n",
      "     500 | 5.20e-01 | 3.38e-01\n",
      "     510 | 5.20e-01 | 3.38e-01\n",
      "     520 | 5.20e-01 | 3.38e-01\n",
      "     530 | 5.20e-01 | 3.38e-01\n",
      "     540 | 5.20e-01 | 3.38e-01\n",
      "     550 | 5.20e-01 | 3.38e-01\n",
      "     560 | 5.20e-01 | 3.38e-01\n",
      "     570 | 5.20e-01 | 3.38e-01\n",
      "     580 | 5.20e-01 | 3.38e-01\n",
      "     590 | 5.20e-01 | 3.38e-01\n",
      "     600 | 5.20e-01 | 3.38e-01\n",
      "     610 | 5.20e-01 | 3.38e-01\n",
      "     620 | 5.20e-01 | 3.38e-01\n",
      "     630 | 5.20e-01 | 3.38e-01\n",
      "     640 | 5.20e-01 | 3.38e-01\n",
      "     650 | 5.20e-01 | 3.38e-01\n",
      "     660 | 5.20e-01 | 3.38e-01\n",
      "     670 | 5.20e-01 | 3.38e-01\n",
      "     680 | 5.20e-01 | 3.38e-01\n",
      "     690 | 5.20e-01 | 3.38e-01\n",
      "     700 | 5.20e-01 | 3.38e-01\n",
      "     710 | 5.20e-01 | 3.38e-01\n",
      "     720 | 5.20e-01 | 3.38e-01\n",
      "     730 | 5.20e-01 | 3.38e-01\n",
      "     740 | 5.20e-01 | 3.38e-01\n",
      "     750 | 5.20e-01 | 3.38e-01\n",
      "     760 | 5.20e-01 | 3.38e-01\n",
      "     770 | 5.20e-01 | 3.38e-01\n",
      "     780 | 5.20e-01 | 3.38e-01\n",
      "     790 | 5.20e-01 | 3.38e-01\n",
      "     800 | 5.20e-01 | 3.38e-01\n",
      "     810 | 5.20e-01 | 3.38e-01\n",
      "     820 | 5.20e-01 | 3.38e-01\n",
      "     830 | 5.20e-01 | 3.38e-01\n",
      "     840 | 5.20e-01 | 3.38e-01\n",
      "     850 | 5.20e-01 | 3.38e-01\n",
      "     860 | 5.20e-01 | 3.38e-01\n",
      "     870 | 5.20e-01 | 3.38e-01\n",
      "     880 | 5.20e-01 | 3.38e-01\n",
      "     890 | 5.20e-01 | 3.38e-01\n",
      "     900 | 5.20e-01 | 3.38e-01\n",
      "     910 | 5.20e-01 | 3.38e-01\n",
      "     920 | 5.20e-01 | 3.38e-01\n",
      "     930 | 5.20e-01 | 3.38e-01\n",
      "     940 | 5.20e-01 | 3.38e-01\n",
      "     950 | 5.20e-01 | 3.38e-01\n",
      "     960 | 5.20e-01 | 3.38e-01\n",
      "     970 | 5.20e-01 | 3.38e-01\n",
      "     980 | 5.20e-01 | 3.38e-01\n",
      "     990 | 5.20e-01 | 3.38e-01\n",
      "    1000 | 5.20e-01 | 3.38e-01\n",
      "Lauching FISTA solver...\n",
      "   it    |   obj    |   err   \n",
      "       0 | 6.45e-01 | 9.13e-01\n",
      "      10 | 5.20e-01 | 3.70e-01\n",
      "      20 | 5.20e-01 | 3.29e-01\n",
      "      30 | 5.20e-01 | 3.44e-01\n",
      "      40 | 5.20e-01 | 3.37e-01\n",
      "      50 | 5.20e-01 | 3.38e-01\n",
      "      60 | 5.20e-01 | 3.39e-01\n",
      "      70 | 5.20e-01 | 3.38e-01\n",
      "      80 | 5.20e-01 | 3.39e-01\n",
      "      90 | 5.20e-01 | 3.38e-01\n",
      "     100 | 5.20e-01 | 3.38e-01\n",
      "     110 | 5.20e-01 | 3.39e-01\n",
      "     120 | 5.20e-01 | 3.38e-01\n",
      "     130 | 5.20e-01 | 3.39e-01\n",
      "     140 | 5.20e-01 | 3.38e-01\n",
      "     150 | 5.20e-01 | 3.38e-01\n",
      "     160 | 5.20e-01 | 3.38e-01\n",
      "     170 | 5.20e-01 | 3.38e-01\n",
      "     180 | 5.20e-01 | 3.38e-01\n",
      "     190 | 5.20e-01 | 3.38e-01\n",
      "     200 | 5.20e-01 | 3.38e-01\n",
      "     210 | 5.20e-01 | 3.38e-01\n",
      "     220 | 5.20e-01 | 3.38e-01\n",
      "     230 | 5.20e-01 | 3.38e-01\n",
      "     240 | 5.20e-01 | 3.38e-01\n",
      "     250 | 5.20e-01 | 3.38e-01\n",
      "     260 | 5.20e-01 | 3.38e-01\n",
      "     270 | 5.20e-01 | 3.38e-01\n",
      "     280 | 5.20e-01 | 3.38e-01\n",
      "     290 | 5.20e-01 | 3.38e-01\n",
      "     300 | 5.20e-01 | 3.38e-01\n",
      "     310 | 5.20e-01 | 3.38e-01\n",
      "     320 | 5.20e-01 | 3.38e-01\n",
      "     330 | 5.20e-01 | 3.38e-01\n",
      "     340 | 5.20e-01 | 3.38e-01\n",
      "     350 | 5.20e-01 | 3.38e-01\n",
      "     360 | 5.20e-01 | 3.38e-01\n",
      "     370 | 5.20e-01 | 3.38e-01\n",
      "     380 | 5.20e-01 | 3.38e-01\n",
      "     390 | 5.20e-01 | 3.38e-01\n",
      "     400 | 5.20e-01 | 3.38e-01\n",
      "     410 | 5.20e-01 | 3.38e-01\n",
      "     420 | 5.20e-01 | 3.38e-01\n",
      "     430 | 5.20e-01 | 3.38e-01\n",
      "     440 | 5.20e-01 | 3.38e-01\n",
      "     450 | 5.20e-01 | 3.38e-01\n",
      "     460 | 5.20e-01 | 3.38e-01\n",
      "     470 | 5.20e-01 | 3.38e-01\n",
      "     480 | 5.20e-01 | 3.38e-01\n",
      "     490 | 5.20e-01 | 3.38e-01\n",
      "     500 | 5.20e-01 | 3.38e-01\n",
      "     510 | 5.20e-01 | 3.38e-01\n",
      "     520 | 5.20e-01 | 3.38e-01\n",
      "     530 | 5.20e-01 | 3.38e-01\n",
      "     540 | 5.20e-01 | 3.38e-01\n",
      "     550 | 5.20e-01 | 3.38e-01\n",
      "     560 | 5.20e-01 | 3.38e-01\n",
      "     570 | 5.20e-01 | 3.38e-01\n",
      "     580 | 5.20e-01 | 3.38e-01\n",
      "     590 | 5.20e-01 | 3.38e-01\n",
      "     600 | 5.20e-01 | 3.38e-01\n",
      "     610 | 5.20e-01 | 3.38e-01\n",
      "     620 | 5.20e-01 | 3.38e-01\n",
      "     630 | 5.20e-01 | 3.38e-01\n",
      "     640 | 5.20e-01 | 3.38e-01\n",
      "     650 | 5.20e-01 | 3.38e-01\n",
      "     660 | 5.20e-01 | 3.38e-01\n",
      "     670 | 5.20e-01 | 3.38e-01\n",
      "     680 | 5.20e-01 | 3.38e-01\n",
      "     690 | 5.20e-01 | 3.38e-01\n",
      "     700 | 5.20e-01 | 3.38e-01\n",
      "     710 | 5.20e-01 | 3.38e-01\n",
      "     720 | 5.20e-01 | 3.38e-01\n",
      "     730 | 5.20e-01 | 3.38e-01\n",
      "     740 | 5.20e-01 | 3.38e-01\n",
      "     750 | 5.20e-01 | 3.38e-01\n",
      "     760 | 5.20e-01 | 3.38e-01\n",
      "     770 | 5.20e-01 | 3.38e-01\n",
      "     780 | 5.20e-01 | 3.38e-01\n",
      "     790 | 5.20e-01 | 3.38e-01\n",
      "     800 | 5.20e-01 | 3.38e-01\n",
      "     810 | 5.20e-01 | 3.38e-01\n",
      "     820 | 5.20e-01 | 3.38e-01\n",
      "     830 | 5.20e-01 | 3.38e-01\n",
      "     840 | 5.20e-01 | 3.38e-01\n",
      "     850 | 5.20e-01 | 3.38e-01\n",
      "     860 | 5.20e-01 | 3.38e-01\n",
      "     870 | 5.20e-01 | 3.38e-01\n",
      "     880 | 5.20e-01 | 3.38e-01\n",
      "     890 | 5.20e-01 | 3.38e-01\n",
      "     900 | 5.20e-01 | 3.38e-01\n",
      "     910 | 5.20e-01 | 3.38e-01\n",
      "     920 | 5.20e-01 | 3.38e-01\n",
      "     930 | 5.20e-01 | 3.38e-01\n",
      "     940 | 5.20e-01 | 3.38e-01\n",
      "     950 | 5.20e-01 | 3.38e-01\n",
      "     960 | 5.20e-01 | 3.38e-01\n",
      "     970 | 5.20e-01 | 3.38e-01\n",
      "     980 | 5.20e-01 | 3.38e-01\n",
      "     990 | 5.20e-01 | 3.38e-01\n",
      "    1000 | 5.20e-01 | 3.38e-01\n"
     ]
    }
   ],
   "source": [
    "# Ridge penalization : \n",
    "A, b = simu_linreg(coefs, n_samples=1000, corr=0.5)\n",
    "step=1/lip_linreg(A)\n",
    "Xi_lin, obji_lin, erri_lin = ista(x0, loss_linreg, grad_linreg, ridge, prox_ridge, step, s, n_iter=1000,x_true=coefs, verbose=True)\n",
    "Xf_lin, objf_lin, errf_lin = fista(x0, loss_linreg, grad_linreg, ridge, prox_ridge, step, s, n_iter=1000,x_true=coefs, verbose=True)\n",
    "\n",
    "A, b = simu_logreg(coefs, n_samples=1000, corr=0.5)\n",
    "step=1/lip_logreg(A)\n",
    "Xi_log, obji_log, erri_log = ista(x0, loss_logreg, grad_logreg, ridge, prox_ridge, step, s, n_iter=1000,x_true=coefs, verbose=True)\n",
    "Xf_log, objf_log, errf_log = fista(x0, loss_logreg, grad_logreg, ridge, prox_ridge, step, s, n_iter=1000,x_true=coefs, verbose=True)\n"
   ]
  },
  {
   "cell_type": "code",
   "execution_count": 73,
   "metadata": {
    "colab": {
     "base_uri": "https://localhost:8080/",
     "height": 295
    },
    "id": "7gNMvzVzCZ0S",
    "outputId": "0e5dea35-5b62-4047-d96b-664371271d43"
   },
   "outputs": [
    {
     "data": {
      "image/png": "[encoded data removed]",
      "text/plain": [
       "<Figure size 432x288 with 1 Axes>"
      ]
     },
     "metadata": {
      "needs_background": "light"
     },
     "output_type": "display_data"
    }
   ],
   "source": [
    "plt.plot(erri_lin,'r',label = \"ISTA error for linear reg\")\n",
    "plt.plot(errf_lin,'b',label = \"FISTA error for linear reg\")\n",
    "plt.plot(erri_log,'r--',label = \"ISTA error for logistic reg\")\n",
    "plt.plot(errf_log,'b--',label = \"FISTA error for logistic reg\")\n",
    "plt.yscale('log')\n",
    "plt.xlabel(\"Nb of iterations\")\n",
    "plt.ylabel(\"Error rate\")\n",
    "plt.legend()\n",
    "plt.title(\"Convergence of ISTA and FISTA with ridge penalization\")\n",
    "plt.xlim(0,100)\n",
    "plt.show()"
   ]
  },
  {
   "cell_type": "markdown",
   "metadata": {
    "id": "lRyzpCnKKVbu"
   },
   "source": [
    "- "
   ]
  },
  {
   "cell_type": "markdown",
   "metadata": {
    "id": "UFJ1-d_8Kg3S"
   },
   "source": [
    "-Convergence in terms of distance to the minimum. Let us do the plot here also"
   ]
  },
  {
   "cell_type": "code",
   "execution_count": 74,
   "metadata": {
    "colab": {
     "base_uri": "https://localhost:8080/",
     "height": 349
    },
    "id": "MDP9fqNLEYsx",
    "outputId": "aa7e4ec1-723a-4f22-9ee3-0d03965d8ee9"
   },
   "outputs": [
    {
     "name": "stderr",
     "output_type": "stream",
     "text": [
      "<ipython-input-74-c102a234c633>:7: MatplotlibDeprecationWarning: Adding an axes using the same arguments as a previous axes currently reuses the earlier instance.  In a future version, a new instance will always be created and returned.  Meanwhile, this warning can be suppressed, and the future behavior ensured, by passing a unique label to each axes instance.\n",
      "  ax = plt.subplot(111)\n"
     ]
    },
    {
     "data": {
      "image/png": "[encoded data removed]",
      "text/plain": [
       "<Figure size 432x288 with 1 Axes>"
      ]
     },
     "metadata": {
      "needs_background": "light"
     },
     "output_type": "display_data"
    }
   ],
   "source": [
    "true_obj_lin = loss_linreg(coefs) + ridge(coefs, s)\n",
    "true_obj_log = loss_logreg(coefs) + ridge(coefs, s)\n",
    "plt.plot((obji_log- true_obj_log)**2,'r',label = \"ISTA, logistic reg\")\n",
    "plt.plot((objf_log- true_obj_log)**2,'b',label = \"FISTA,logistic reg\")\n",
    "plt.plot((obji_lin- true_obj_lin)**2,'r--',label = \"ISTA, linear reg\")\n",
    "plt.plot((objf_lin- true_obj_lin)**2,'b--',label = \"FISTA,linear reg\")\n",
    "ax = plt.subplot(111)\n",
    "ax.set_yscale('log')\n",
    "plt.legend()\n",
    "plt.xlabel(\"Iterations\")\n",
    "plt.ylabel(\"Error in term of minimum\")\n",
    "plt.title(\"Comparison of FISTA and ISTA in terms of distance to the minimum with ridge penalization\")\n",
    "plt.xlim(0,100)\n",
    "plt.show()"
   ]
  },
  {
   "cell_type": "markdown",
   "metadata": {
    "id": "_5y-RkVtMzy1"
   },
   "source": [
    "#Study of the convergence with lasso penalization."
   ]
  },
  {
   "cell_type": "code",
   "execution_count": 75,
   "metadata": {
    "colab": {
     "base_uri": "https://localhost:8080/"
    },
    "id": "X7mUNKwFEYpp",
    "outputId": "5613dd35-d448-4fcf-b6b1-a8400cad37c5"
   },
   "outputs": [
    {
     "name": "stdout",
     "output_type": "stream",
     "text": [
      "Lauching ISTA solver...\n",
      "   it    |   obj    |   err   \n",
      "       0 | 1.29e+00 | 8.89e-01\n",
      "      10 | 6.13e-01 | 3.32e-01\n",
      "      20 | 5.48e-01 | 1.72e-01\n",
      "      30 | 5.41e-01 | 1.29e-01\n",
      "      40 | 5.40e-01 | 1.18e-01\n",
      "      50 | 5.40e-01 | 1.14e-01\n",
      "      60 | 5.40e-01 | 1.13e-01\n",
      "      70 | 5.40e-01 | 1.12e-01\n",
      "      80 | 5.40e-01 | 1.12e-01\n",
      "      90 | 5.40e-01 | 1.12e-01\n",
      "     100 | 5.40e-01 | 1.12e-01\n",
      "     110 | 5.40e-01 | 1.12e-01\n",
      "     120 | 5.40e-01 | 1.12e-01\n",
      "     130 | 5.40e-01 | 1.12e-01\n",
      "     140 | 5.40e-01 | 1.12e-01\n",
      "     150 | 5.40e-01 | 1.12e-01\n",
      "     160 | 5.40e-01 | 1.12e-01\n",
      "     170 | 5.40e-01 | 1.12e-01\n",
      "     180 | 5.40e-01 | 1.12e-01\n",
      "     190 | 5.40e-01 | 1.12e-01\n",
      "     200 | 5.40e-01 | 1.12e-01\n",
      "     210 | 5.40e-01 | 1.12e-01\n",
      "     220 | 5.40e-01 | 1.12e-01\n",
      "     230 | 5.40e-01 | 1.12e-01\n",
      "     240 | 5.40e-01 | 1.12e-01\n",
      "     250 | 5.40e-01 | 1.12e-01\n",
      "     260 | 5.40e-01 | 1.12e-01\n",
      "     270 | 5.40e-01 | 1.12e-01\n",
      "     280 | 5.40e-01 | 1.12e-01\n",
      "     290 | 5.40e-01 | 1.12e-01\n",
      "     300 | 5.40e-01 | 1.12e-01\n",
      "     310 | 5.40e-01 | 1.12e-01\n",
      "     320 | 5.40e-01 | 1.12e-01\n",
      "     330 | 5.40e-01 | 1.12e-01\n",
      "     340 | 5.40e-01 | 1.12e-01\n",
      "     350 | 5.40e-01 | 1.12e-01\n",
      "     360 | 5.40e-01 | 1.12e-01\n",
      "     370 | 5.40e-01 | 1.12e-01\n",
      "     380 | 5.40e-01 | 1.12e-01\n",
      "     390 | 5.40e-01 | 1.12e-01\n",
      "     400 | 5.40e-01 | 1.12e-01\n",
      "     410 | 5.40e-01 | 1.12e-01\n",
      "     420 | 5.40e-01 | 1.12e-01\n",
      "     430 | 5.40e-01 | 1.12e-01\n",
      "     440 | 5.40e-01 | 1.12e-01\n",
      "     450 | 5.40e-01 | 1.12e-01\n",
      "     460 | 5.40e-01 | 1.12e-01\n",
      "     470 | 5.40e-01 | 1.12e-01\n",
      "     480 | 5.40e-01 | 1.12e-01\n",
      "     490 | 5.40e-01 | 1.12e-01\n",
      "     500 | 5.40e-01 | 1.12e-01\n",
      "     510 | 5.40e-01 | 1.12e-01\n",
      "     520 | 5.40e-01 | 1.12e-01\n",
      "     530 | 5.40e-01 | 1.12e-01\n",
      "     540 | 5.40e-01 | 1.12e-01\n",
      "     550 | 5.40e-01 | 1.12e-01\n",
      "     560 | 5.40e-01 | 1.12e-01\n",
      "     570 | 5.40e-01 | 1.12e-01\n",
      "     580 | 5.40e-01 | 1.12e-01\n",
      "     590 | 5.40e-01 | 1.12e-01\n",
      "     600 | 5.40e-01 | 1.12e-01\n",
      "     610 | 5.40e-01 | 1.12e-01\n",
      "     620 | 5.40e-01 | 1.12e-01\n",
      "     630 | 5.40e-01 | 1.12e-01\n",
      "     640 | 5.40e-01 | 1.12e-01\n",
      "     650 | 5.40e-01 | 1.12e-01\n",
      "     660 | 5.40e-01 | 1.12e-01\n",
      "     670 | 5.40e-01 | 1.12e-01\n",
      "     680 | 5.40e-01 | 1.12e-01\n",
      "     690 | 5.40e-01 | 1.12e-01\n",
      "     700 | 5.40e-01 | 1.12e-01\n",
      "     710 | 5.40e-01 | 1.12e-01\n",
      "     720 | 5.40e-01 | 1.12e-01\n",
      "     730 | 5.40e-01 | 1.12e-01\n",
      "     740 | 5.40e-01 | 1.12e-01\n",
      "     750 | 5.40e-01 | 1.12e-01\n",
      "     760 | 5.40e-01 | 1.12e-01\n",
      "     770 | 5.40e-01 | 1.12e-01\n",
      "     780 | 5.40e-01 | 1.12e-01\n",
      "     790 | 5.40e-01 | 1.12e-01\n",
      "     800 | 5.40e-01 | 1.12e-01\n",
      "     810 | 5.40e-01 | 1.12e-01\n",
      "     820 | 5.40e-01 | 1.12e-01\n",
      "     830 | 5.40e-01 | 1.12e-01\n",
      "     840 | 5.40e-01 | 1.12e-01\n",
      "     850 | 5.40e-01 | 1.12e-01\n",
      "     860 | 5.40e-01 | 1.12e-01\n",
      "     870 | 5.40e-01 | 1.12e-01\n",
      "     880 | 5.40e-01 | 1.12e-01\n",
      "     890 | 5.40e-01 | 1.12e-01\n",
      "     900 | 5.40e-01 | 1.12e-01\n",
      "     910 | 5.40e-01 | 1.12e-01\n",
      "     920 | 5.40e-01 | 1.12e-01\n",
      "     930 | 5.40e-01 | 1.12e-01\n",
      "     940 | 5.40e-01 | 1.12e-01\n",
      "     950 | 5.40e-01 | 1.12e-01\n",
      "     960 | 5.40e-01 | 1.12e-01\n",
      "     970 | 5.40e-01 | 1.12e-01\n",
      "     980 | 5.40e-01 | 1.12e-01\n",
      "     990 | 5.40e-01 | 1.12e-01\n",
      "    1000 | 5.40e-01 | 1.12e-01\n",
      "Lauching FISTA solver...\n",
      "   it    |   obj    |   err   \n",
      "       0 | 1.29e+00 | 8.89e-01\n",
      "      10 | 5.40e-01 | 1.18e-01\n",
      "      20 | 5.40e-01 | 1.11e-01\n",
      "      30 | 5.40e-01 | 1.13e-01\n",
      "      40 | 5.40e-01 | 1.12e-01\n",
      "      50 | 5.40e-01 | 1.12e-01\n",
      "      60 | 5.40e-01 | 1.12e-01\n",
      "      70 | 5.40e-01 | 1.12e-01\n",
      "      80 | 5.40e-01 | 1.12e-01\n",
      "      90 | 5.40e-01 | 1.12e-01\n",
      "     100 | 5.40e-01 | 1.12e-01\n",
      "     110 | 5.40e-01 | 1.12e-01\n",
      "     120 | 5.40e-01 | 1.12e-01\n",
      "     130 | 5.40e-01 | 1.12e-01\n",
      "     140 | 5.40e-01 | 1.12e-01\n",
      "     150 | 5.40e-01 | 1.12e-01\n",
      "     160 | 5.40e-01 | 1.12e-01\n",
      "     170 | 5.40e-01 | 1.12e-01\n",
      "     180 | 5.40e-01 | 1.12e-01\n",
      "     190 | 5.40e-01 | 1.12e-01\n",
      "     200 | 5.40e-01 | 1.12e-01\n",
      "     210 | 5.40e-01 | 1.12e-01\n",
      "     220 | 5.40e-01 | 1.12e-01\n",
      "     230 | 5.40e-01 | 1.12e-01\n",
      "     240 | 5.40e-01 | 1.12e-01\n",
      "     250 | 5.40e-01 | 1.12e-01\n",
      "     260 | 5.40e-01 | 1.12e-01\n",
      "     270 | 5.40e-01 | 1.12e-01\n",
      "     280 | 5.40e-01 | 1.12e-01\n",
      "     290 | 5.40e-01 | 1.12e-01\n",
      "     300 | 5.40e-01 | 1.12e-01\n",
      "     310 | 5.40e-01 | 1.12e-01\n",
      "     320 | 5.40e-01 | 1.12e-01\n",
      "     330 | 5.40e-01 | 1.12e-01\n",
      "     340 | 5.40e-01 | 1.12e-01\n",
      "     350 | 5.40e-01 | 1.12e-01\n",
      "     360 | 5.40e-01 | 1.12e-01\n",
      "     370 | 5.40e-01 | 1.12e-01\n",
      "     380 | 5.40e-01 | 1.12e-01\n",
      "     390 | 5.40e-01 | 1.12e-01\n",
      "     400 | 5.40e-01 | 1.12e-01\n",
      "     410 | 5.40e-01 | 1.12e-01\n",
      "     420 | 5.40e-01 | 1.12e-01\n",
      "     430 | 5.40e-01 | 1.12e-01\n",
      "     440 | 5.40e-01 | 1.12e-01\n",
      "     450 | 5.40e-01 | 1.12e-01\n",
      "     460 | 5.40e-01 | 1.12e-01\n",
      "     470 | 5.40e-01 | 1.12e-01\n",
      "     480 | 5.40e-01 | 1.12e-01\n",
      "     490 | 5.40e-01 | 1.12e-01\n",
      "     500 | 5.40e-01 | 1.12e-01\n",
      "     510 | 5.40e-01 | 1.12e-01\n",
      "     520 | 5.40e-01 | 1.12e-01\n",
      "     530 | 5.40e-01 | 1.12e-01\n",
      "     540 | 5.40e-01 | 1.12e-01\n",
      "     550 | 5.40e-01 | 1.12e-01\n",
      "     560 | 5.40e-01 | 1.12e-01\n",
      "     570 | 5.40e-01 | 1.12e-01\n",
      "     580 | 5.40e-01 | 1.12e-01\n",
      "     590 | 5.40e-01 | 1.12e-01\n",
      "     600 | 5.40e-01 | 1.12e-01\n",
      "     610 | 5.40e-01 | 1.12e-01\n",
      "     620 | 5.40e-01 | 1.12e-01\n",
      "     630 | 5.40e-01 | 1.12e-01\n",
      "     640 | 5.40e-01 | 1.12e-01\n",
      "     650 | 5.40e-01 | 1.12e-01\n",
      "     660 | 5.40e-01 | 1.12e-01\n",
      "     670 | 5.40e-01 | 1.12e-01\n",
      "     680 | 5.40e-01 | 1.12e-01\n",
      "     690 | 5.40e-01 | 1.12e-01\n",
      "     700 | 5.40e-01 | 1.12e-01\n",
      "     710 | 5.40e-01 | 1.12e-01\n",
      "     720 | 5.40e-01 | 1.12e-01\n",
      "     730 | 5.40e-01 | 1.12e-01\n",
      "     740 | 5.40e-01 | 1.12e-01\n",
      "     750 | 5.40e-01 | 1.12e-01\n",
      "     760 | 5.40e-01 | 1.12e-01\n",
      "     770 | 5.40e-01 | 1.12e-01\n",
      "     780 | 5.40e-01 | 1.12e-01\n",
      "     790 | 5.40e-01 | 1.12e-01\n",
      "     800 | 5.40e-01 | 1.12e-01\n",
      "     810 | 5.40e-01 | 1.12e-01\n",
      "     820 | 5.40e-01 | 1.12e-01\n",
      "     830 | 5.40e-01 | 1.12e-01\n",
      "     840 | 5.40e-01 | 1.12e-01\n",
      "     850 | 5.40e-01 | 1.12e-01\n",
      "     860 | 5.40e-01 | 1.12e-01\n",
      "     870 | 5.40e-01 | 1.12e-01\n",
      "     880 | 5.40e-01 | 1.12e-01\n",
      "     890 | 5.40e-01 | 1.12e-01\n",
      "     900 | 5.40e-01 | 1.12e-01\n",
      "     910 | 5.40e-01 | 1.12e-01\n",
      "     920 | 5.40e-01 | 1.12e-01\n",
      "     930 | 5.40e-01 | 1.12e-01\n",
      "     940 | 5.40e-01 | 1.12e-01\n",
      "     950 | 5.40e-01 | 1.12e-01\n",
      "     960 | 5.40e-01 | 1.12e-01\n",
      "     970 | 5.40e-01 | 1.12e-01\n",
      "     980 | 5.40e-01 | 1.12e-01\n",
      "     990 | 5.40e-01 | 1.12e-01\n",
      "    1000 | 5.40e-01 | 1.12e-01\n",
      "Lauching ISTA solver...\n",
      "   it    |   obj    |   err   \n",
      "       0 | 6.67e-01 | 9.39e-01\n",
      "      10 | 6.17e-01 | 6.47e-01\n",
      "      20 | 6.11e-01 | 5.41e-01\n",
      "      30 | 6.10e-01 | 4.95e-01\n",
      "      40 | 6.10e-01 | 4.73e-01\n",
      "      50 | 6.10e-01 | 4.62e-01\n",
      "      60 | 6.10e-01 | 4.57e-01\n",
      "      70 | 6.10e-01 | 4.54e-01\n",
      "      80 | 6.10e-01 | 4.53e-01\n",
      "      90 | 6.10e-01 | 4.52e-01\n",
      "     100 | 6.10e-01 | 4.52e-01\n",
      "     110 | 6.10e-01 | 4.52e-01\n",
      "     120 | 6.10e-01 | 4.52e-01\n",
      "     130 | 6.10e-01 | 4.52e-01\n",
      "     140 | 6.10e-01 | 4.52e-01\n",
      "     150 | 6.10e-01 | 4.52e-01\n",
      "     160 | 6.10e-01 | 4.52e-01\n",
      "     170 | 6.10e-01 | 4.52e-01\n",
      "     180 | 6.10e-01 | 4.52e-01\n",
      "     190 | 6.10e-01 | 4.52e-01\n",
      "     200 | 6.10e-01 | 4.52e-01\n",
      "     210 | 6.10e-01 | 4.52e-01\n",
      "     220 | 6.10e-01 | 4.52e-01\n",
      "     230 | 6.10e-01 | 4.52e-01\n",
      "     240 | 6.10e-01 | 4.52e-01\n",
      "     250 | 6.10e-01 | 4.52e-01\n",
      "     260 | 6.10e-01 | 4.52e-01\n",
      "     270 | 6.10e-01 | 4.52e-01\n",
      "     280 | 6.10e-01 | 4.52e-01\n",
      "     290 | 6.10e-01 | 4.52e-01\n",
      "     300 | 6.10e-01 | 4.52e-01\n",
      "     310 | 6.10e-01 | 4.52e-01\n",
      "     320 | 6.10e-01 | 4.52e-01\n",
      "     330 | 6.10e-01 | 4.52e-01\n",
      "     340 | 6.10e-01 | 4.52e-01\n",
      "     350 | 6.10e-01 | 4.52e-01\n",
      "     360 | 6.10e-01 | 4.52e-01\n",
      "     370 | 6.10e-01 | 4.52e-01\n",
      "     380 | 6.10e-01 | 4.52e-01\n",
      "     390 | 6.10e-01 | 4.52e-01\n",
      "     400 | 6.10e-01 | 4.52e-01\n",
      "     410 | 6.10e-01 | 4.52e-01\n",
      "     420 | 6.10e-01 | 4.52e-01\n",
      "     430 | 6.10e-01 | 4.52e-01\n",
      "     440 | 6.10e-01 | 4.52e-01\n",
      "     450 | 6.10e-01 | 4.52e-01\n",
      "     460 | 6.10e-01 | 4.52e-01\n",
      "     470 | 6.10e-01 | 4.52e-01\n",
      "     480 | 6.10e-01 | 4.52e-01\n",
      "     490 | 6.10e-01 | 4.52e-01\n",
      "     500 | 6.10e-01 | 4.52e-01\n",
      "     510 | 6.10e-01 | 4.52e-01\n",
      "     520 | 6.10e-01 | 4.52e-01\n",
      "     530 | 6.10e-01 | 4.52e-01\n",
      "     540 | 6.10e-01 | 4.52e-01\n",
      "     550 | 6.10e-01 | 4.52e-01\n",
      "     560 | 6.10e-01 | 4.52e-01\n",
      "     570 | 6.10e-01 | 4.52e-01\n",
      "     580 | 6.10e-01 | 4.52e-01\n",
      "     590 | 6.10e-01 | 4.52e-01\n",
      "     600 | 6.10e-01 | 4.52e-01\n",
      "     610 | 6.10e-01 | 4.52e-01\n",
      "     620 | 6.10e-01 | 4.52e-01\n",
      "     630 | 6.10e-01 | 4.52e-01\n",
      "     640 | 6.10e-01 | 4.52e-01\n",
      "     650 | 6.10e-01 | 4.52e-01\n",
      "     660 | 6.10e-01 | 4.52e-01\n",
      "     670 | 6.10e-01 | 4.52e-01\n",
      "     680 | 6.10e-01 | 4.52e-01\n",
      "     690 | 6.10e-01 | 4.52e-01\n",
      "     700 | 6.10e-01 | 4.52e-01\n",
      "     710 | 6.10e-01 | 4.52e-01\n",
      "     720 | 6.10e-01 | 4.52e-01\n",
      "     730 | 6.10e-01 | 4.52e-01\n",
      "     740 | 6.10e-01 | 4.52e-01\n",
      "     750 | 6.10e-01 | 4.52e-01\n",
      "     760 | 6.10e-01 | 4.52e-01\n",
      "     770 | 6.10e-01 | 4.52e-01\n",
      "     780 | 6.10e-01 | 4.52e-01\n",
      "     790 | 6.10e-01 | 4.52e-01\n",
      "     800 | 6.10e-01 | 4.52e-01\n",
      "     810 | 6.10e-01 | 4.52e-01\n",
      "     820 | 6.10e-01 | 4.52e-01\n",
      "     830 | 6.10e-01 | 4.52e-01\n",
      "     840 | 6.10e-01 | 4.52e-01\n",
      "     850 | 6.10e-01 | 4.52e-01\n",
      "     860 | 6.10e-01 | 4.52e-01\n",
      "     870 | 6.10e-01 | 4.52e-01\n",
      "     880 | 6.10e-01 | 4.52e-01\n",
      "     890 | 6.10e-01 | 4.52e-01\n",
      "     900 | 6.10e-01 | 4.52e-01\n",
      "     910 | 6.10e-01 | 4.52e-01\n",
      "     920 | 6.10e-01 | 4.52e-01\n",
      "     930 | 6.10e-01 | 4.52e-01\n",
      "     940 | 6.10e-01 | 4.52e-01\n",
      "     950 | 6.10e-01 | 4.52e-01\n",
      "     960 | 6.10e-01 | 4.52e-01\n",
      "     970 | 6.10e-01 | 4.52e-01\n",
      "     980 | 6.10e-01 | 4.52e-01\n",
      "     990 | 6.10e-01 | 4.52e-01\n",
      "    1000 | 6.10e-01 | 4.52e-01\n",
      "Lauching FISTA solver...\n",
      "   it    |   obj    |   err   \n",
      "       0 | 6.67e-01 | 9.39e-01\n",
      "      10 | 6.10e-01 | 4.88e-01\n",
      "      20 | 6.10e-01 | 4.32e-01\n",
      "      30 | 6.10e-01 | 4.61e-01\n",
      "      40 | 6.10e-01 | 4.48e-01\n",
      "      50 | 6.10e-01 | 4.53e-01\n",
      "      60 | 6.10e-01 | 4.52e-01\n",
      "      70 | 6.10e-01 | 4.51e-01\n",
      "      80 | 6.10e-01 | 4.52e-01\n",
      "      90 | 6.10e-01 | 4.52e-01\n",
      "     100 | 6.10e-01 | 4.52e-01\n",
      "     110 | 6.10e-01 | 4.52e-01\n",
      "     120 | 6.10e-01 | 4.52e-01\n",
      "     130 | 6.10e-01 | 4.52e-01\n",
      "     140 | 6.10e-01 | 4.52e-01\n",
      "     150 | 6.10e-01 | 4.52e-01\n",
      "     160 | 6.10e-01 | 4.52e-01\n",
      "     170 | 6.10e-01 | 4.52e-01\n",
      "     180 | 6.10e-01 | 4.52e-01\n",
      "     190 | 6.10e-01 | 4.52e-01\n",
      "     200 | 6.10e-01 | 4.52e-01\n",
      "     210 | 6.10e-01 | 4.52e-01\n",
      "     220 | 6.10e-01 | 4.52e-01\n",
      "     230 | 6.10e-01 | 4.52e-01\n",
      "     240 | 6.10e-01 | 4.52e-01\n",
      "     250 | 6.10e-01 | 4.52e-01\n",
      "     260 | 6.10e-01 | 4.52e-01\n",
      "     270 | 6.10e-01 | 4.52e-01\n",
      "     280 | 6.10e-01 | 4.52e-01\n",
      "     290 | 6.10e-01 | 4.52e-01\n",
      "     300 | 6.10e-01 | 4.52e-01\n",
      "     310 | 6.10e-01 | 4.52e-01\n",
      "     320 | 6.10e-01 | 4.52e-01\n",
      "     330 | 6.10e-01 | 4.52e-01\n",
      "     340 | 6.10e-01 | 4.52e-01\n",
      "     350 | 6.10e-01 | 4.52e-01\n",
      "     360 | 6.10e-01 | 4.52e-01\n",
      "     370 | 6.10e-01 | 4.52e-01\n",
      "     380 | 6.10e-01 | 4.52e-01\n",
      "     390 | 6.10e-01 | 4.52e-01\n",
      "     400 | 6.10e-01 | 4.52e-01\n",
      "     410 | 6.10e-01 | 4.52e-01\n",
      "     420 | 6.10e-01 | 4.52e-01\n",
      "     430 | 6.10e-01 | 4.52e-01\n",
      "     440 | 6.10e-01 | 4.52e-01\n",
      "     450 | 6.10e-01 | 4.52e-01\n",
      "     460 | 6.10e-01 | 4.52e-01\n",
      "     470 | 6.10e-01 | 4.52e-01\n",
      "     480 | 6.10e-01 | 4.52e-01\n",
      "     490 | 6.10e-01 | 4.52e-01\n",
      "     500 | 6.10e-01 | 4.52e-01\n",
      "     510 | 6.10e-01 | 4.52e-01\n",
      "     520 | 6.10e-01 | 4.52e-01\n",
      "     530 | 6.10e-01 | 4.52e-01\n",
      "     540 | 6.10e-01 | 4.52e-01\n",
      "     550 | 6.10e-01 | 4.52e-01\n",
      "     560 | 6.10e-01 | 4.52e-01\n",
      "     570 | 6.10e-01 | 4.52e-01\n",
      "     580 | 6.10e-01 | 4.52e-01\n",
      "     590 | 6.10e-01 | 4.52e-01\n",
      "     600 | 6.10e-01 | 4.52e-01\n",
      "     610 | 6.10e-01 | 4.52e-01\n",
      "     620 | 6.10e-01 | 4.52e-01\n",
      "     630 | 6.10e-01 | 4.52e-01\n",
      "     640 | 6.10e-01 | 4.52e-01\n",
      "     650 | 6.10e-01 | 4.52e-01\n",
      "     660 | 6.10e-01 | 4.52e-01\n",
      "     670 | 6.10e-01 | 4.52e-01\n",
      "     680 | 6.10e-01 | 4.52e-01\n",
      "     690 | 6.10e-01 | 4.52e-01\n",
      "     700 | 6.10e-01 | 4.52e-01\n",
      "     710 | 6.10e-01 | 4.52e-01\n",
      "     720 | 6.10e-01 | 4.52e-01\n",
      "     730 | 6.10e-01 | 4.52e-01\n",
      "     740 | 6.10e-01 | 4.52e-01\n",
      "     750 | 6.10e-01 | 4.52e-01\n",
      "     760 | 6.10e-01 | 4.52e-01\n",
      "     770 | 6.10e-01 | 4.52e-01\n",
      "     780 | 6.10e-01 | 4.52e-01\n",
      "     790 | 6.10e-01 | 4.52e-01\n",
      "     800 | 6.10e-01 | 4.52e-01\n",
      "     810 | 6.10e-01 | 4.52e-01\n",
      "     820 | 6.10e-01 | 4.52e-01\n",
      "     830 | 6.10e-01 | 4.52e-01\n",
      "     840 | 6.10e-01 | 4.52e-01\n",
      "     850 | 6.10e-01 | 4.52e-01\n",
      "     860 | 6.10e-01 | 4.52e-01\n",
      "     870 | 6.10e-01 | 4.52e-01\n",
      "     880 | 6.10e-01 | 4.52e-01\n",
      "     890 | 6.10e-01 | 4.52e-01\n",
      "     900 | 6.10e-01 | 4.52e-01\n",
      "     910 | 6.10e-01 | 4.52e-01\n",
      "     920 | 6.10e-01 | 4.52e-01\n",
      "     930 | 6.10e-01 | 4.52e-01\n",
      "     940 | 6.10e-01 | 4.52e-01\n",
      "     950 | 6.10e-01 | 4.52e-01\n",
      "     960 | 6.10e-01 | 4.52e-01\n",
      "     970 | 6.10e-01 | 4.52e-01\n",
      "     980 | 6.10e-01 | 4.52e-01\n",
      "     990 | 6.10e-01 | 4.52e-01\n",
      "    1000 | 6.10e-01 | 4.52e-01\n"
     ]
    }
   ],
   "source": [
    " #Lasso penalization : \n",
    "A, b = simu_linreg(coefs, n_samples=1000, corr=0.5)\n",
    "step=1/lip_linreg(A)\n",
    "Xi_lin, obji_lin, erri_lin = ista(x0, loss_linreg, grad_linreg, lasso, prox_lasso, step, s, n_iter=1000,x_true=coefs, verbose=True)\n",
    "Xf_lin, objf_lin, errf_lin = fista(x0, loss_linreg, grad_linreg, lasso, prox_lasso, step, s, n_iter=1000,x_true=coefs, verbose=True)\n",
    "\n",
    "A, b = simu_logreg(coefs, n_samples=1000, corr=0.5)\n",
    "step=1/lip_logreg(A)\n",
    "Xi_log, obji_log, erri_log = ista(x0, loss_logreg, grad_logreg, lasso, prox_lasso, step, s, n_iter=1000,x_true=coefs, verbose=True)\n",
    "Xf_log, objf_log, errf_log = fista(x0, loss_logreg, grad_logreg, lasso, prox_lasso, step, s, n_iter=1000,x_true=coefs, verbose=True)\n"
   ]
  },
  {
   "cell_type": "markdown",
   "metadata": {
    "id": "8A3D-PWWNG07"
   },
   "source": [
    "#-Convergence in terms of distance to the minimizer  - lasso penalization.\n"
   ]
  },
  {
   "cell_type": "markdown",
   "metadata": {
    "id": "p5Dg3FUmNzzf"
   },
   "source": [
    "Let us do the plot"
   ]
  },
  {
   "cell_type": "code",
   "execution_count": 76,
   "metadata": {
    "colab": {
     "base_uri": "https://localhost:8080/",
     "height": 295
    },
    "id": "QMjV3GnFp2I5",
    "outputId": "f9c4bded-05a8-401e-9efd-cb60563055df"
   },
   "outputs": [
    {
     "data": {
      "image/png": "[encoded data removed]",
      "text/plain": [
       "<Figure size 432x288 with 1 Axes>"
      ]
     },
     "metadata": {
      "needs_background": "light"
     },
     "output_type": "display_data"
    }
   ],
   "source": [
    "#linear regression\n",
    "plt.plot(erri_lin,'r',label = \"ISTA error for linear reg\")\n",
    "plt.plot(errf_lin,'b',label = \"FISTA error for linear reg\")\n",
    "plt.plot(erri_log,'r--',label = \"ISTA error for logistic reg\")\n",
    "plt.plot(errf_log,'b--',label = \"FISTA error for logistic reg\")\n",
    "plt.yscale('log')\n",
    "plt.xlabel(\"Nb of iterations\")\n",
    "plt.ylabel(\"Error rate\")\n",
    "plt.legend()\n",
    "plt.title(\"Convergence of ISTA and FISTA with lasso penalization\")\n",
    "plt.xlim(0,100)\n",
    "plt.show()"
   ]
  },
  {
   "cell_type": "markdown",
   "metadata": {
    "id": "Yni1o33ON91w"
   },
   "source": [
    "## Convergence in terms of distance to the minimum  - lasso penalization\n",
    "Let us do the plot here"
   ]
  },
  {
   "cell_type": "code",
   "execution_count": 77,
   "metadata": {
    "colab": {
     "base_uri": "https://localhost:8080/",
     "height": 295
    },
    "id": "A5YyDyslp16U",
    "outputId": "58379b35-e687-41fd-d965-11b310afcf1b"
   },
   "outputs": [
    {
     "data": {
      "image/png": "[encoded data removed]",
      "text/plain": [
       "<Figure size 432x288 with 1 Axes>"
      ]
     },
     "metadata": {
      "needs_background": "light"
     },
     "output_type": "display_data"
    }
   ],
   "source": [
    "\n",
    "true_obj_lin = loss_linreg(coefs) + ridge(coefs, s)\n",
    "true_obj_log = loss_logreg(coefs) + ridge(coefs, s)\n",
    "\n",
    "ax.set_yscale('log')\n",
    "plt.plot((obji_log- true_obj_log)**2,'r',label = \"ISTA, logistic reg\")\n",
    "plt.plot((objf_log- true_obj_log)**2,'b',label = \"FISTA,logistic reg\")\n",
    "plt.plot((obji_lin- true_obj_lin)**2,'r--',label = \"ISTA, linear reg\")\n",
    "plt.plot((objf_lin- true_obj_lin)**2,'b--',label = \"FISTA,linear reg\")\n",
    "\n",
    "ax.set_yscale('log')\n",
    "plt.legend()\n",
    "plt.xlabel(\"Iterations\")\n",
    "plt.ylabel(\"Error in term of minimum\")\n",
    "plt.title(\"Comparison of FISTA and ISTA in terms of distance to the minimum with lasso penalization\")\n",
    "plt.xlim(0,50)\n",
    "plt.show()\n"
   ]
  },
  {
   "cell_type": "markdown",
   "metadata": {
    "id": "qBnz9P2PBfNg"
   },
   "source": [
    "## Comments \n",
    "We notice that the FISTA algorithm (blue) converges faster than the ISTA algorithm (red). But also, for both algorithms and penalties, we see that the error is larger when a logistic regression is used."
   ]
  },
  {
   "cell_type": "markdown",
   "metadata": {
    "id": "ISwMZC-qYier"
   },
   "source": [
    "<div class=\"alert alert-success\">\n",
    "    <b>EXERCISE</b>:\n",
    "     <ul>\n",
    "      <li>Compare the solution you obtain with ista and fista with the true parameter `coefs` of\n",
    "  the model. This can be done with `plt.stem` plots.</li>\n",
    "    <li>In linear regression and logistic regression, study the influence of the correlation \n",
    "  of the features on the performance of the optimization algorithms. Explain.</li>\n",
    "    <li>In linear regression and logistic regression, study the influence of the level of ridge \n",
    "  penalization on the performance of the optimization algorithms. Explain.</li>\n",
    "    <li>In linear regression and logistic regression, compare the performance of the optimization\n",
    "  algorithms for ridge and lasso penalizations. Explain</li>\n",
    "    </ul>\n",
    "</div>"
   ]
  },
  {
   "cell_type": "markdown",
   "metadata": {
    "id": "uHIUCerociDQ"
   },
   "source": [
    "### Answers\n",
    "#### - We will use both data sets for simulations of the influence of feature correlation."
   ]
  },
  {
   "cell_type": "markdown",
   "metadata": {
    "id": "9clJ2w8qUv_l"
   },
   "source": [
    "#FISTA algorithm"
   ]
  },
  {
   "cell_type": "markdown",
   "metadata": {
    "id": "7AenDAbMTvoV"
   },
   "source": [
    "-This part concerns the linear regression with ridge and lasso penalization."
   ]
  },
  {
   "cell_type": "code",
   "execution_count": 78,
   "metadata": {
    "colab": {
     "base_uri": "https://localhost:8080/"
    },
    "id": "VLaVsmYgYier",
    "outputId": "fb2a52ab-2324-47de-dbfd-a26a97715a8b"
   },
   "outputs": [
    {
     "name": "stdout",
     "output_type": "stream",
     "text": [
      "Lauching FISTA solver...\n",
      "   it    |   obj    |   err   \n",
      "       0 | 2.13e-01 | 7.52e-01\n",
      "      10 | 8.98e-02 | 2.20e-01\n",
      "      20 | 8.88e-02 | 2.31e-01\n",
      "      30 | 8.90e-02 | 2.28e-01\n",
      "      40 | 8.89e-02 | 2.29e-01\n",
      "      50 | 8.90e-02 | 2.28e-01\n",
      "      60 | 8.89e-02 | 2.28e-01\n",
      "      70 | 8.89e-02 | 2.29e-01\n",
      "      80 | 8.89e-02 | 2.28e-01\n",
      "      90 | 8.89e-02 | 2.28e-01\n",
      "     100 | 8.89e-02 | 2.28e-01\n",
      "     110 | 8.89e-02 | 2.28e-01\n",
      "     120 | 8.89e-02 | 2.28e-01\n",
      "     130 | 8.89e-02 | 2.28e-01\n",
      "     140 | 8.89e-02 | 2.28e-01\n",
      "     150 | 8.89e-02 | 2.28e-01\n",
      "     160 | 8.89e-02 | 2.28e-01\n",
      "     170 | 8.89e-02 | 2.28e-01\n",
      "     180 | 8.89e-02 | 2.28e-01\n",
      "     190 | 8.89e-02 | 2.28e-01\n",
      "     200 | 8.89e-02 | 2.28e-01\n",
      "Lauching FISTA solver...\n",
      "   it    |   obj    |   err   \n",
      "       0 | 2.52e-01 | 7.54e-01\n",
      "      10 | 1.61e-01 | 2.07e-01\n",
      "      20 | 1.59e-01 | 2.22e-01\n",
      "      30 | 1.59e-01 | 2.18e-01\n",
      "      40 | 1.59e-01 | 2.19e-01\n",
      "      50 | 1.59e-01 | 2.19e-01\n",
      "      60 | 1.59e-01 | 2.19e-01\n",
      "      70 | 1.59e-01 | 2.19e-01\n",
      "      80 | 1.59e-01 | 2.19e-01\n",
      "      90 | 1.59e-01 | 2.19e-01\n",
      "     100 | 1.59e-01 | 2.19e-01\n",
      "     110 | 1.59e-01 | 2.19e-01\n",
      "     120 | 1.59e-01 | 2.19e-01\n",
      "     130 | 1.59e-01 | 2.19e-01\n",
      "     140 | 1.59e-01 | 2.19e-01\n",
      "     150 | 1.59e-01 | 2.19e-01\n",
      "     160 | 1.59e-01 | 2.19e-01\n",
      "     170 | 1.59e-01 | 2.19e-01\n",
      "     180 | 1.59e-01 | 2.19e-01\n",
      "     190 | 1.59e-01 | 2.19e-01\n",
      "     200 | 1.59e-01 | 2.19e-01\n",
      "Lauching FISTA solver...\n",
      "   it    |   obj    |   err   \n",
      "       0 | 2.41e-01 | 9.13e-01\n",
      "      10 | 1.07e-01 | 3.72e-01\n",
      "      20 | 1.10e-01 | 3.55e-01\n",
      "      30 | 1.08e-01 | 3.40e-01\n",
      "      40 | 1.08e-01 | 3.45e-01\n",
      "      50 | 1.08e-01 | 3.44e-01\n",
      "      60 | 1.08e-01 | 3.43e-01\n",
      "      70 | 1.08e-01 | 3.43e-01\n",
      "      80 | 1.08e-01 | 3.44e-01\n",
      "      90 | 1.08e-01 | 3.43e-01\n",
      "     100 | 1.08e-01 | 3.43e-01\n",
      "     110 | 1.08e-01 | 3.44e-01\n",
      "     120 | 1.08e-01 | 3.43e-01\n",
      "     130 | 1.08e-01 | 3.43e-01\n",
      "     140 | 1.08e-01 | 3.43e-01\n",
      "     150 | 1.08e-01 | 3.43e-01\n",
      "     160 | 1.08e-01 | 3.43e-01\n",
      "     170 | 1.08e-01 | 3.43e-01\n",
      "     180 | 1.08e-01 | 3.43e-01\n",
      "     190 | 1.08e-01 | 3.43e-01\n",
      "     200 | 1.08e-01 | 3.43e-01\n",
      "Lauching FISTA solver...\n",
      "   it    |   obj    |   err   \n",
      "       0 | 2.57e-01 | 9.15e-01\n",
      "      10 | 1.84e-01 | 3.65e-01\n",
      "      20 | 1.92e-01 | 3.14e-01\n",
      "      30 | 1.87e-01 | 3.07e-01\n",
      "      40 | 1.88e-01 | 3.13e-01\n",
      "      50 | 1.88e-01 | 3.09e-01\n",
      "      60 | 1.88e-01 | 3.10e-01\n",
      "      70 | 1.88e-01 | 3.10e-01\n",
      "      80 | 1.88e-01 | 3.10e-01\n",
      "      90 | 1.88e-01 | 3.10e-01\n",
      "     100 | 1.88e-01 | 3.10e-01\n",
      "     110 | 1.88e-01 | 3.10e-01\n",
      "     120 | 1.88e-01 | 3.10e-01\n",
      "     130 | 1.88e-01 | 3.10e-01\n",
      "     140 | 1.88e-01 | 3.10e-01\n",
      "     150 | 1.88e-01 | 3.10e-01\n",
      "     160 | 1.88e-01 | 3.10e-01\n",
      "     170 | 1.88e-01 | 3.10e-01\n",
      "     180 | 1.88e-01 | 3.10e-01\n",
      "     190 | 1.88e-01 | 3.10e-01\n",
      "     200 | 1.88e-01 | 3.10e-01\n",
      "Lauching FISTA solver...\n",
      "   it    |   obj    |   err   \n",
      "       0 | 1.72e-01 | 9.85e-01\n",
      "      10 | 1.19e-01 | 8.03e-01\n",
      "      20 | 1.04e-01 | 6.46e-01\n",
      "      30 | 1.06e-01 | 5.68e-01\n",
      "      40 | 1.10e-01 | 5.21e-01\n",
      "      50 | 1.11e-01 | 4.86e-01\n",
      "      60 | 1.10e-01 | 4.67e-01\n",
      "      70 | 1.09e-01 | 4.67e-01\n",
      "      80 | 1.08e-01 | 4.78e-01\n",
      "      90 | 1.08e-01 | 4.89e-01\n",
      "     100 | 1.08e-01 | 4.93e-01\n",
      "     110 | 1.08e-01 | 4.92e-01\n",
      "     120 | 1.08e-01 | 4.86e-01\n",
      "     130 | 1.08e-01 | 4.80e-01\n",
      "     140 | 1.08e-01 | 4.78e-01\n",
      "     150 | 1.08e-01 | 4.80e-01\n",
      "     160 | 1.08e-01 | 4.84e-01\n",
      "     170 | 1.08e-01 | 4.87e-01\n",
      "     180 | 1.08e-01 | 4.87e-01\n",
      "     190 | 1.08e-01 | 4.85e-01\n",
      "     200 | 1.08e-01 | 4.83e-01\n",
      "Lauching FISTA solver...\n",
      "   it    |   obj    |   err   \n",
      "       0 | 1.78e-01 | 9.85e-01\n",
      "      10 | 1.57e-01 | 8.12e-01\n",
      "      20 | 1.69e-01 | 6.54e-01\n",
      "      30 | 1.82e-01 | 5.51e-01\n",
      "      40 | 1.88e-01 | 4.78e-01\n",
      "      50 | 1.88e-01 | 4.25e-01\n",
      "      60 | 1.86e-01 | 4.02e-01\n",
      "      70 | 1.85e-01 | 4.09e-01\n",
      "      80 | 1.84e-01 | 4.29e-01\n",
      "      90 | 1.84e-01 | 4.46e-01\n",
      "     100 | 1.84e-01 | 4.51e-01\n",
      "     110 | 1.84e-01 | 4.46e-01\n",
      "     120 | 1.85e-01 | 4.37e-01\n",
      "     130 | 1.85e-01 | 4.31e-01\n",
      "     140 | 1.85e-01 | 4.29e-01\n",
      "     150 | 1.84e-01 | 4.31e-01\n",
      "     160 | 1.84e-01 | 4.35e-01\n",
      "     170 | 1.84e-01 | 4.38e-01\n",
      "     180 | 1.84e-01 | 4.40e-01\n",
      "     190 | 1.84e-01 | 4.39e-01\n",
      "     200 | 1.84e-01 | 4.37e-01\n"
     ]
    }
   ],
   "source": [
    "Constante_lin = []\n",
    "\n",
    "A, b = simu_linreg(coefs, n_samples=200, corr=0.2)\n",
    "step= 1/lip_linreg(A)\n",
    "Constante_lin.append(lip_linreg(A))\n",
    "low_rf = fista(x0, loss_linreg, grad_linreg, ridge, prox_ridge, step, s=s, n_iter =200)\n",
    "low_lf = fista(x0, loss_linreg, grad_linreg, lasso, prox_lasso, step, s=s, n_iter =200)\n",
    "\n",
    "A, b = simu_linreg(coefs, n_samples=200, corr=0.5)\n",
    "step= 1/lip_linreg(A)\n",
    "Constante_lin.append(lip_linreg(A))\n",
    "med_rf = fista(x0, loss_linreg, grad_linreg, ridge, prox_ridge, step, s=s, n_iter =200)\n",
    "med_lf = fista(x0, loss_linreg, grad_linreg, lasso, prox_lasso, step, s=s, n_iter =200)\n",
    "\n",
    "A, b = simu_linreg(coefs, n_samples=200, corr=0.8)\n",
    "step= 1/lip_linreg(A)\n",
    "Constante_lin.append(lip_linreg(A))\n",
    "high_rf = fista(x0, loss_linreg, grad_linreg, ridge, prox_ridge, step, s=s, n_iter =200)\n",
    "high_lf = fista(x0, loss_linreg, grad_linreg, lasso, prox_lasso, step, s=s, n_iter =200) "
   ]
  },
  {
   "cell_type": "markdown",
   "metadata": {
    "id": "U7anGoq9T8M2"
   },
   "source": [
    "- Here we have the logistic regression with ridge and lasso penalization."
   ]
  },
  {
   "cell_type": "code",
   "execution_count": 79,
   "metadata": {
    "colab": {
     "base_uri": "https://localhost:8080/"
    },
    "id": "IuM3JkzET7np",
    "outputId": "07cd7080-adda-4938-ae71-a2f8dfa7908e"
   },
   "outputs": [
    {
     "name": "stdout",
     "output_type": "stream",
     "text": [
      "Lauching FISTA solver...\n",
      "   it    |   obj    |   err   \n",
      "       0 | 1.16e-01 | 8.65e-01\n",
      "      10 | 1.08e-01 | 7.85e-01\n",
      "      20 | 1.11e-01 | 8.20e-01\n",
      "      30 | 1.09e-01 | 7.96e-01\n",
      "      40 | 1.10e-01 | 8.06e-01\n",
      "      50 | 1.10e-01 | 8.03e-01\n",
      "      60 | 1.10e-01 | 8.03e-01\n",
      "      70 | 1.10e-01 | 8.04e-01\n",
      "      80 | 1.10e-01 | 8.03e-01\n",
      "      90 | 1.10e-01 | 8.03e-01\n",
      "     100 | 1.10e-01 | 8.03e-01\n",
      "     110 | 1.10e-01 | 8.03e-01\n",
      "     120 | 1.10e-01 | 8.03e-01\n",
      "     130 | 1.10e-01 | 8.03e-01\n",
      "     140 | 1.10e-01 | 8.03e-01\n",
      "     150 | 1.10e-01 | 8.03e-01\n",
      "     160 | 1.10e-01 | 8.03e-01\n",
      "     170 | 1.10e-01 | 8.03e-01\n",
      "     180 | 1.10e-01 | 8.03e-01\n",
      "     190 | 1.10e-01 | 8.03e-01\n",
      "     200 | 1.10e-01 | 8.03e-01\n",
      "Lauching FISTA solver...\n",
      "   it    |   obj    |   err   \n",
      "       0 | 1.37e-01 | 8.82e-01\n",
      "      10 | 1.72e-01 | 7.18e-01\n",
      "      20 | 1.73e-01 | 7.18e-01\n",
      "      30 | 1.72e-01 | 7.15e-01\n",
      "      40 | 1.73e-01 | 7.17e-01\n",
      "      50 | 1.72e-01 | 7.16e-01\n",
      "      60 | 1.72e-01 | 7.16e-01\n",
      "      70 | 1.72e-01 | 7.16e-01\n",
      "      80 | 1.72e-01 | 7.16e-01\n",
      "      90 | 1.72e-01 | 7.16e-01\n",
      "     100 | 1.72e-01 | 7.16e-01\n",
      "     110 | 1.72e-01 | 7.16e-01\n",
      "     120 | 1.72e-01 | 7.16e-01\n",
      "     130 | 1.72e-01 | 7.16e-01\n",
      "     140 | 1.72e-01 | 7.16e-01\n",
      "     150 | 1.72e-01 | 7.16e-01\n",
      "     160 | 1.72e-01 | 7.16e-01\n",
      "     170 | 1.72e-01 | 7.16e-01\n",
      "     180 | 1.72e-01 | 7.16e-01\n",
      "     190 | 1.72e-01 | 7.16e-01\n",
      "     200 | 1.72e-01 | 7.16e-01\n",
      "Lauching FISTA solver...\n",
      "   it    |   obj    |   err   \n",
      "       0 | 1.24e-01 | 9.58e-01\n",
      "      10 | 1.13e-01 | 7.63e-01\n",
      "      20 | 1.20e-01 | 7.45e-01\n",
      "      30 | 1.18e-01 | 7.43e-01\n",
      "      40 | 1.17e-01 | 7.41e-01\n",
      "      50 | 1.18e-01 | 7.41e-01\n",
      "      60 | 1.18e-01 | 7.42e-01\n",
      "      70 | 1.18e-01 | 7.41e-01\n",
      "      80 | 1.18e-01 | 7.41e-01\n",
      "      90 | 1.18e-01 | 7.42e-01\n",
      "     100 | 1.18e-01 | 7.41e-01\n",
      "     110 | 1.18e-01 | 7.41e-01\n",
      "     120 | 1.18e-01 | 7.41e-01\n",
      "     130 | 1.18e-01 | 7.41e-01\n",
      "     140 | 1.18e-01 | 7.41e-01\n",
      "     150 | 1.18e-01 | 7.41e-01\n",
      "     160 | 1.18e-01 | 7.41e-01\n",
      "     170 | 1.18e-01 | 7.41e-01\n",
      "     180 | 1.18e-01 | 7.41e-01\n",
      "     190 | 1.18e-01 | 7.41e-01\n",
      "     200 | 1.18e-01 | 7.41e-01\n",
      "Lauching FISTA solver...\n",
      "   it    |   obj    |   err   \n",
      "       0 | 1.40e-01 | 9.62e-01\n",
      "      10 | 1.64e-01 | 7.61e-01\n",
      "      20 | 1.71e-01 | 7.03e-01\n",
      "      30 | 1.69e-01 | 7.15e-01\n",
      "      40 | 1.69e-01 | 7.18e-01\n",
      "      50 | 1.69e-01 | 7.13e-01\n",
      "      60 | 1.69e-01 | 7.15e-01\n",
      "      70 | 1.69e-01 | 7.15e-01\n",
      "      80 | 1.69e-01 | 7.15e-01\n",
      "      90 | 1.69e-01 | 7.15e-01\n",
      "     100 | 1.69e-01 | 7.15e-01\n",
      "     110 | 1.69e-01 | 7.15e-01\n",
      "     120 | 1.69e-01 | 7.15e-01\n",
      "     130 | 1.69e-01 | 7.15e-01\n",
      "     140 | 1.69e-01 | 7.15e-01\n",
      "     150 | 1.69e-01 | 7.15e-01\n",
      "     160 | 1.69e-01 | 7.15e-01\n",
      "     170 | 1.69e-01 | 7.15e-01\n",
      "     180 | 1.69e-01 | 7.15e-01\n",
      "     190 | 1.69e-01 | 7.15e-01\n",
      "     200 | 1.69e-01 | 7.15e-01\n",
      "Lauching FISTA solver...\n",
      "   it    |   obj    |   err   \n",
      "       0 | 1.36e-01 | 9.85e-01\n",
      "      10 | 1.19e-01 | 7.99e-01\n",
      "      20 | 1.21e-01 | 7.65e-01\n",
      "      30 | 1.34e-01 | 9.00e-01\n",
      "      40 | 1.44e-01 | 1.01e+00\n",
      "      50 | 1.46e-01 | 1.03e+00\n",
      "      60 | 1.43e-01 | 9.97e-01\n",
      "      70 | 1.39e-01 | 9.57e-01\n",
      "      80 | 1.38e-01 | 9.37e-01\n",
      "      90 | 1.38e-01 | 9.40e-01\n",
      "     100 | 1.39e-01 | 9.54e-01\n",
      "     110 | 1.40e-01 | 9.67e-01\n",
      "     120 | 1.40e-01 | 9.70e-01\n",
      "     130 | 1.40e-01 | 9.65e-01\n",
      "     140 | 1.39e-01 | 9.57e-01\n",
      "     150 | 1.39e-01 | 9.53e-01\n",
      "     160 | 1.39e-01 | 9.55e-01\n",
      "     170 | 1.40e-01 | 9.59e-01\n",
      "     180 | 1.40e-01 | 9.62e-01\n",
      "     190 | 1.40e-01 | 9.62e-01\n",
      "     200 | 1.40e-01 | 9.60e-01\n",
      "Lauching FISTA solver...\n",
      "   it    |   obj    |   err   \n",
      "       0 | 1.39e-01 | 9.89e-01\n",
      "      10 | 1.50e-01 | 8.64e-01\n",
      "      20 | 1.67e-01 | 8.09e-01\n",
      "      30 | 1.82e-01 | 8.24e-01\n",
      "      40 | 1.93e-01 | 8.41e-01\n",
      "      50 | 1.96e-01 | 8.35e-01\n",
      "      60 | 1.95e-01 | 8.19e-01\n",
      "      70 | 1.92e-01 | 8.09e-01\n",
      "      80 | 1.90e-01 | 8.09e-01\n",
      "      90 | 1.89e-01 | 8.13e-01\n",
      "     100 | 1.89e-01 | 8.15e-01\n",
      "     110 | 1.91e-01 | 8.16e-01\n",
      "     120 | 1.92e-01 | 8.15e-01\n",
      "     130 | 1.92e-01 | 8.15e-01\n",
      "     140 | 1.91e-01 | 8.15e-01\n",
      "     150 | 1.91e-01 | 8.14e-01\n",
      "     160 | 1.90e-01 | 8.14e-01\n",
      "     170 | 1.90e-01 | 8.13e-01\n",
      "     180 | 1.91e-01 | 8.14e-01\n",
      "     190 | 1.91e-01 | 8.15e-01\n",
      "     200 | 1.91e-01 | 8.15e-01\n"
     ]
    }
   ],
   "source": [
    "\n",
    "Constante_log = []\n",
    "\n",
    "A, b = simu_logreg(coefs, n_samples=200, corr=0.2)\n",
    "step= 1/lip_logreg(A)\n",
    "Constante_log.append(lip_logreg(A))\n",
    "low_log_rf = fista(x0, loss_logreg, grad_logreg, ridge, prox_ridge, step, s=s, n_iter =200)\n",
    "low_log_lf = fista(x0, loss_logreg, grad_logreg, lasso, prox_lasso, step, s=s, n_iter =200)\n",
    "\n",
    "A, b = simu_logreg(coefs, n_samples=200, corr=0.5)\n",
    "step= 1/lip_logreg(A)\n",
    "Constante_log.append(lip_logreg(A))\n",
    "med_log_rf = fista(x0, loss_logreg, grad_logreg, ridge, prox_ridge, step, s=s, n_iter =200)\n",
    "med_log_lf = fista(x0, loss_logreg, grad_logreg, lasso, prox_lasso, step, s=s, n_iter =200)\n",
    "\n",
    "A, b = simu_logreg(coefs, n_samples=200, corr=0.8)\n",
    "step= 1/lip_logreg(A)\n",
    "Constante_log.append(lip_logreg(A))\n",
    "high_log_rf = fista(x0, loss_logreg, grad_logreg, ridge, prox_ridge, step, s=s, n_iter =200)\n",
    "high_log_lf = fista(x0, loss_logreg, grad_logreg, lasso, prox_lasso, step, s=s, n_iter =200)"
   ]
  },
  {
   "cell_type": "code",
   "execution_count": 80,
   "metadata": {
    "colab": {
     "base_uri": "https://localhost:8080/",
     "height": 329
    },
    "id": "74WSGNhKU_dL",
    "outputId": "6fbbcb56-91b4-4274-9c73-078188b48638"
   },
   "outputs": [
    {
     "data": {
      "image/png": "[encoded data removed]",
      "text/plain": [
       "<Figure size 432x288 with 1 Axes>"
      ]
     },
     "metadata": {
      "needs_background": "light"
     },
     "output_type": "display_data"
    },
    {
     "name": "stdout",
     "output_type": "stream",
     "text": [
      "lipschitz constant: [2.4781645551844242, 4.025825426280216, 8.885514189222002]\n",
      "lipschitz constant:  [0.6294966790302812, 0.9665707818260855, 2.5425497511579906]\n"
     ]
    }
   ],
   "source": [
    "# Linear regression, both penalizations\n",
    "fig = plt.figure()\n",
    "plt.plot(low_rf[2], 'r', label = 'cor: 0.2, ridge penalization')\n",
    "plt.plot(med_rf[2], 'g', label = 'cor: 0.5, ridge penalization')\n",
    "plt.plot(high_rf[2], 'b', label = 'cor: 0.8, ridge penalization')\n",
    "plt.plot(low_lf[2], 'r--', label = 'cor: 0.2, lasso penalization')\n",
    "plt.plot(med_lf[2], 'g--', label = 'cor: 0.5, lasso penalization')\n",
    "plt.plot(high_lf[2], 'b--', label = 'cor: 0.8, lasso penalization')\n",
    "plt.xlabel('Nb iterations')\n",
    "plt.ylabel('Error rate')\n",
    "plt.xlim(0, 100)\n",
    "plt.ylim(0.05, 1.1)\n",
    "plt.title('FISTA, linear regression')\n",
    "plt.legend()\n",
    "plt.show()\n",
    "print(\"lipschitz constant:\", Constante_lin)\n",
    "print(\"lipschitz constant: \", Constante_log)"
   ]
  },
  {
   "cell_type": "code",
   "execution_count": 81,
   "metadata": {
    "colab": {
     "base_uri": "https://localhost:8080/",
     "height": 329
    },
    "id": "4pUSTpQdVAng",
    "outputId": "a2305aea-c562-4375-e19d-52e3a6f809b9"
   },
   "outputs": [
    {
     "data": {
      "image/png": "[encoded data removed]",
      "text/plain": [
       "<Figure size 432x288 with 1 Axes>"
      ]
     },
     "metadata": {
      "needs_background": "light"
     },
     "output_type": "display_data"
    },
    {
     "name": "stdout",
     "output_type": "stream",
     "text": [
      "lipschitz constant: [2.4781645551844242, 4.025825426280216, 8.885514189222002]\n",
      "lipschitz constant:  [0.6294966790302812, 0.9665707818260855, 2.5425497511579906]\n"
     ]
    }
   ],
   "source": [
    " #Logistic regression\n",
    "fig = plt.figure()\n",
    "plt.plot(low_log_rf[2], 'r', label = 'cor: 0.2, ridge penalization')\n",
    "plt.plot(med_log_rf[2], 'g', label = 'cor: 0.5, ridge penalization')\n",
    "plt.plot(high_log_rf[2], 'b', label = 'cor: 0.8, ridge penalization')\n",
    "plt.plot(low_log_lf[2], 'r--', label = 'cor: 0.2, lasso penalization')\n",
    "plt.plot(med_log_lf[2], 'g--', label = 'cor: 0.5, lasso penalization')\n",
    "plt.plot(high_log_lf[2], 'b--', label = 'cor: 0.8, lasso penalization')\n",
    "plt.xlabel('Nb iterations')\n",
    "plt.ylabel('Error rate')\n",
    "plt.xlim(0, 100)\n",
    "plt.ylim(0.05, 1.1)\n",
    "plt.title('FISTA, logistic regression')\n",
    "plt.legend()\n",
    "plt.show()\n",
    "print(\"lipschitz constant:\", Constante_lin)\n",
    "print(\"lipschitz constant: \", Constante_log)"
   ]
  },
  {
   "cell_type": "markdown",
   "metadata": {
    "id": "QKQfUS3IaL1h"
   },
   "source": [
    "#ISTA algorithm"
   ]
  },
  {
   "cell_type": "markdown",
   "metadata": {
    "id": "OqhZfBO9abP9"
   },
   "source": [
    "- Here we have linear regression with ridge and lasso penalization."
   ]
  },
  {
   "cell_type": "code",
   "execution_count": 82,
   "metadata": {
    "colab": {
     "base_uri": "https://localhost:8080/"
    },
    "id": "syaJawPZU_ap",
    "outputId": "63f50f1b-d49b-4839-d578-34dffaa2f59c"
   },
   "outputs": [
    {
     "name": "stdout",
     "output_type": "stream",
     "text": [
      "Lauching ISTA solver...\n",
      "   it    |   obj    |   err   \n",
      "       0 | 2.54e-01 | 7.20e-01\n",
      "      10 | 1.01e-01 | 2.61e-01\n",
      "      20 | 1.01e-01 | 2.70e-01\n",
      "      30 | 1.02e-01 | 2.75e-01\n",
      "      40 | 1.02e-01 | 2.77e-01\n",
      "      50 | 1.02e-01 | 2.77e-01\n",
      "      60 | 1.02e-01 | 2.78e-01\n",
      "      70 | 1.02e-01 | 2.78e-01\n",
      "      80 | 1.02e-01 | 2.78e-01\n",
      "      90 | 1.02e-01 | 2.78e-01\n",
      "     100 | 1.02e-01 | 2.78e-01\n",
      "     110 | 1.02e-01 | 2.78e-01\n",
      "     120 | 1.02e-01 | 2.78e-01\n",
      "     130 | 1.02e-01 | 2.78e-01\n",
      "     140 | 1.02e-01 | 2.78e-01\n",
      "     150 | 1.02e-01 | 2.78e-01\n",
      "     160 | 1.02e-01 | 2.78e-01\n",
      "     170 | 1.02e-01 | 2.78e-01\n",
      "     180 | 1.02e-01 | 2.78e-01\n",
      "     190 | 1.02e-01 | 2.78e-01\n",
      "     200 | 1.02e-01 | 2.78e-01\n",
      "Lauching ISTA solver...\n",
      "   it    |   obj    |   err   \n",
      "       0 | 2.95e-01 | 7.24e-01\n",
      "      10 | 1.76e-01 | 2.50e-01\n",
      "      20 | 1.81e-01 | 2.44e-01\n",
      "      30 | 1.82e-01 | 2.46e-01\n",
      "      40 | 1.83e-01 | 2.46e-01\n",
      "      50 | 1.83e-01 | 2.46e-01\n",
      "      60 | 1.83e-01 | 2.46e-01\n",
      "      70 | 1.83e-01 | 2.46e-01\n",
      "      80 | 1.83e-01 | 2.46e-01\n",
      "      90 | 1.83e-01 | 2.46e-01\n",
      "     100 | 1.83e-01 | 2.46e-01\n",
      "     110 | 1.83e-01 | 2.46e-01\n",
      "     120 | 1.83e-01 | 2.46e-01\n",
      "     130 | 1.83e-01 | 2.46e-01\n",
      "     140 | 1.83e-01 | 2.46e-01\n",
      "     150 | 1.83e-01 | 2.46e-01\n",
      "     160 | 1.83e-01 | 2.46e-01\n",
      "     170 | 1.83e-01 | 2.46e-01\n",
      "     180 | 1.83e-01 | 2.46e-01\n",
      "     190 | 1.83e-01 | 2.46e-01\n",
      "     200 | 1.83e-01 | 2.46e-01\n",
      "Lauching ISTA solver...\n",
      "   it    |   obj    |   err   \n",
      "       0 | 2.41e-01 | 8.83e-01\n",
      "      10 | 9.20e-02 | 4.40e-01\n",
      "      20 | 8.42e-02 | 3.33e-01\n",
      "      30 | 8.40e-02 | 3.01e-01\n",
      "      40 | 8.45e-02 | 2.92e-01\n",
      "      50 | 8.49e-02 | 2.89e-01\n",
      "      60 | 8.51e-02 | 2.87e-01\n",
      "      70 | 8.52e-02 | 2.87e-01\n",
      "      80 | 8.53e-02 | 2.87e-01\n",
      "      90 | 8.53e-02 | 2.87e-01\n",
      "     100 | 8.53e-02 | 2.87e-01\n",
      "     110 | 8.54e-02 | 2.87e-01\n",
      "     120 | 8.54e-02 | 2.87e-01\n",
      "     130 | 8.54e-02 | 2.87e-01\n",
      "     140 | 8.54e-02 | 2.87e-01\n",
      "     150 | 8.54e-02 | 2.87e-01\n",
      "     160 | 8.54e-02 | 2.87e-01\n",
      "     170 | 8.54e-02 | 2.87e-01\n",
      "     180 | 8.54e-02 | 2.87e-01\n",
      "     190 | 8.54e-02 | 2.87e-01\n",
      "     200 | 8.54e-02 | 2.87e-01\n",
      "Lauching ISTA solver...\n",
      "   it    |   obj    |   err   \n",
      "       0 | 2.62e-01 | 8.87e-01\n",
      "      10 | 1.61e-01 | 4.42e-01\n",
      "      20 | 1.60e-01 | 3.27e-01\n",
      "      30 | 1.62e-01 | 2.88e-01\n",
      "      40 | 1.63e-01 | 2.74e-01\n",
      "      50 | 1.64e-01 | 2.68e-01\n",
      "      60 | 1.64e-01 | 2.66e-01\n",
      "      70 | 1.64e-01 | 2.65e-01\n",
      "      80 | 1.64e-01 | 2.65e-01\n",
      "      90 | 1.64e-01 | 2.65e-01\n",
      "     100 | 1.64e-01 | 2.65e-01\n",
      "     110 | 1.64e-01 | 2.65e-01\n",
      "     120 | 1.64e-01 | 2.65e-01\n",
      "     130 | 1.64e-01 | 2.65e-01\n",
      "     140 | 1.64e-01 | 2.65e-01\n",
      "     150 | 1.64e-01 | 2.65e-01\n",
      "     160 | 1.64e-01 | 2.65e-01\n",
      "     170 | 1.64e-01 | 2.65e-01\n",
      "     180 | 1.64e-01 | 2.65e-01\n",
      "     190 | 1.64e-01 | 2.65e-01\n",
      "     200 | 1.64e-01 | 2.65e-01\n",
      "Lauching ISTA solver...\n",
      "   it    |   obj    |   err   \n",
      "       0 | 1.49e-01 | 9.86e-01\n",
      "      10 | 1.22e-01 | 8.78e-01\n",
      "      20 | 1.10e-01 | 7.96e-01\n",
      "      30 | 1.03e-01 | 7.31e-01\n",
      "      40 | 9.86e-02 | 6.78e-01\n",
      "      50 | 9.57e-02 | 6.36e-01\n",
      "      60 | 9.39e-02 | 6.01e-01\n",
      "      70 | 9.27e-02 | 5.72e-01\n",
      "      80 | 9.21e-02 | 5.48e-01\n",
      "      90 | 9.17e-02 | 5.28e-01\n",
      "     100 | 9.16e-02 | 5.11e-01\n",
      "     110 | 9.16e-02 | 4.97e-01\n",
      "     120 | 9.17e-02 | 4.85e-01\n",
      "     130 | 9.18e-02 | 4.75e-01\n",
      "     140 | 9.20e-02 | 4.66e-01\n",
      "     150 | 9.22e-02 | 4.58e-01\n",
      "     160 | 9.24e-02 | 4.52e-01\n",
      "     170 | 9.27e-02 | 4.46e-01\n",
      "     180 | 9.29e-02 | 4.41e-01\n",
      "     190 | 9.31e-02 | 4.36e-01\n",
      "     200 | 9.33e-02 | 4.32e-01\n",
      "Lauching ISTA solver...\n",
      "   it    |   obj    |   err   \n",
      "       0 | 1.52e-01 | 9.87e-01\n",
      "      10 | 1.39e-01 | 8.87e-01\n",
      "      20 | 1.34e-01 | 8.13e-01\n",
      "      30 | 1.32e-01 | 7.53e-01\n",
      "      40 | 1.32e-01 | 7.05e-01\n",
      "      50 | 1.32e-01 | 6.65e-01\n",
      "      60 | 1.32e-01 | 6.32e-01\n",
      "      70 | 1.33e-01 | 6.05e-01\n",
      "      80 | 1.34e-01 | 5.81e-01\n",
      "      90 | 1.35e-01 | 5.61e-01\n",
      "     100 | 1.36e-01 | 5.44e-01\n",
      "     110 | 1.37e-01 | 5.28e-01\n",
      "     120 | 1.38e-01 | 5.15e-01\n",
      "     130 | 1.38e-01 | 5.02e-01\n",
      "     140 | 1.39e-01 | 4.92e-01\n",
      "     150 | 1.40e-01 | 4.82e-01\n",
      "     160 | 1.40e-01 | 4.74e-01\n",
      "     170 | 1.41e-01 | 4.67e-01\n",
      "     180 | 1.42e-01 | 4.61e-01\n",
      "     190 | 1.42e-01 | 4.55e-01\n",
      "     200 | 1.43e-01 | 4.50e-01\n"
     ]
    }
   ],
   "source": [
    "Constante_lin = []\n",
    "\n",
    "A, b = simu_linreg(coefs, n_samples=200, corr=0.2)\n",
    "step= 1/lip_linreg(A)\n",
    "Constante_lin.append(lip_linreg(A))\n",
    "low_r = ista(x0, loss_linreg, grad_linreg, ridge, prox_ridge, step, s=s, n_iter =200)\n",
    "low_l = ista(x0, loss_linreg, grad_linreg, lasso, prox_lasso, step, s=s, n_iter =200)\n",
    "\n",
    "A, b = simu_linreg(coefs, n_samples=200, corr=0.5)\n",
    "step= 1/lip_linreg(A)\n",
    "Constante_lin.append(lip_linreg(A))\n",
    "med_r = ista(x0, loss_linreg, grad_linreg, ridge, prox_ridge, step, s=s, n_iter =200)\n",
    "med_l = ista(x0, loss_linreg, grad_linreg, lasso, prox_lasso, step, s=s, n_iter =200)\n",
    "\n",
    "A, b = simu_linreg(coefs, n_samples=200, corr=0.8)\n",
    "step= 1/lip_linreg(A)\n",
    "Constante_lin.append(lip_linreg(A))\n",
    "high_r = ista(x0, loss_linreg, grad_linreg, ridge, prox_ridge, step, s=s, n_iter =200)\n",
    "high_l = ista(x0, loss_linreg, grad_linreg, lasso, prox_lasso, step, s=s, n_iter =200)"
   ]
  },
  {
   "cell_type": "markdown",
   "metadata": {
    "id": "ZKS6jD63amIv"
   },
   "source": [
    "- Here we have logistic regression with ridge and lasso penalization."
   ]
  },
  {
   "cell_type": "code",
   "execution_count": 83,
   "metadata": {
    "colab": {
     "base_uri": "https://localhost:8080/"
    },
    "id": "XrN4jNoOUMpJ",
    "outputId": "bb459441-10eb-4774-a025-b79f4b3b80db"
   },
   "outputs": [
    {
     "name": "stdout",
     "output_type": "stream",
     "text": [
      "Lauching ISTA solver...\n",
      "   it    |   obj    |   err   \n",
      "       0 | 1.13e-01 | 8.39e-01\n",
      "      10 | 1.00e-01 | 5.24e-01\n",
      "      20 | 1.04e-01 | 5.32e-01\n",
      "      30 | 1.07e-01 | 5.54e-01\n",
      "      40 | 1.08e-01 | 5.69e-01\n",
      "      50 | 1.09e-01 | 5.77e-01\n",
      "      60 | 1.09e-01 | 5.81e-01\n",
      "      70 | 1.09e-01 | 5.84e-01\n",
      "      80 | 1.10e-01 | 5.85e-01\n",
      "      90 | 1.10e-01 | 5.86e-01\n",
      "     100 | 1.10e-01 | 5.86e-01\n",
      "     110 | 1.10e-01 | 5.86e-01\n",
      "     120 | 1.10e-01 | 5.86e-01\n",
      "     130 | 1.10e-01 | 5.86e-01\n",
      "     140 | 1.10e-01 | 5.86e-01\n",
      "     150 | 1.10e-01 | 5.86e-01\n",
      "     160 | 1.10e-01 | 5.86e-01\n",
      "     170 | 1.10e-01 | 5.86e-01\n",
      "     180 | 1.10e-01 | 5.86e-01\n",
      "     190 | 1.10e-01 | 5.86e-01\n",
      "     200 | 1.10e-01 | 5.86e-01\n",
      "Lauching ISTA solver...\n",
      "   it    |   obj    |   err   \n",
      "       0 | 1.37e-01 | 8.59e-01\n",
      "      10 | 1.56e-01 | 5.37e-01\n",
      "      20 | 1.63e-01 | 4.94e-01\n",
      "      30 | 1.66e-01 | 4.86e-01\n",
      "      40 | 1.67e-01 | 4.84e-01\n",
      "      50 | 1.68e-01 | 4.83e-01\n",
      "      60 | 1.68e-01 | 4.83e-01\n",
      "      70 | 1.68e-01 | 4.83e-01\n",
      "      80 | 1.68e-01 | 4.83e-01\n",
      "      90 | 1.68e-01 | 4.83e-01\n",
      "     100 | 1.68e-01 | 4.83e-01\n",
      "     110 | 1.68e-01 | 4.83e-01\n",
      "     120 | 1.68e-01 | 4.83e-01\n",
      "     130 | 1.68e-01 | 4.83e-01\n",
      "     140 | 1.68e-01 | 4.83e-01\n",
      "     150 | 1.68e-01 | 4.83e-01\n",
      "     160 | 1.68e-01 | 4.83e-01\n",
      "     170 | 1.68e-01 | 4.83e-01\n",
      "     180 | 1.68e-01 | 4.83e-01\n",
      "     190 | 1.68e-01 | 4.83e-01\n",
      "     200 | 1.68e-01 | 4.83e-01\n",
      "Lauching ISTA solver...\n",
      "   it    |   obj    |   err   \n",
      "       0 | 1.26e-01 | 9.35e-01\n",
      "      10 | 1.08e-01 | 6.61e-01\n",
      "      20 | 1.09e-01 | 5.91e-01\n",
      "      30 | 1.12e-01 | 5.74e-01\n",
      "      40 | 1.14e-01 | 5.73e-01\n",
      "      50 | 1.15e-01 | 5.77e-01\n",
      "      60 | 1.16e-01 | 5.81e-01\n",
      "      70 | 1.17e-01 | 5.85e-01\n",
      "      80 | 1.18e-01 | 5.88e-01\n",
      "      90 | 1.18e-01 | 5.91e-01\n",
      "     100 | 1.19e-01 | 5.93e-01\n",
      "     110 | 1.19e-01 | 5.94e-01\n",
      "     120 | 1.19e-01 | 5.95e-01\n",
      "     130 | 1.19e-01 | 5.96e-01\n",
      "     140 | 1.19e-01 | 5.96e-01\n",
      "     150 | 1.19e-01 | 5.97e-01\n",
      "     160 | 1.19e-01 | 5.97e-01\n",
      "     170 | 1.19e-01 | 5.97e-01\n",
      "     180 | 1.19e-01 | 5.97e-01\n",
      "     190 | 1.19e-01 | 5.97e-01\n",
      "     200 | 1.19e-01 | 5.97e-01\n",
      "Lauching ISTA solver...\n",
      "   it    |   obj    |   err   \n",
      "       0 | 1.39e-01 | 9.43e-01\n",
      "      10 | 1.51e-01 | 7.04e-01\n",
      "      20 | 1.59e-01 | 6.25e-01\n",
      "      30 | 1.64e-01 | 5.90e-01\n",
      "      40 | 1.67e-01 | 5.74e-01\n",
      "      50 | 1.69e-01 | 5.66e-01\n",
      "      60 | 1.70e-01 | 5.61e-01\n",
      "      70 | 1.71e-01 | 5.58e-01\n",
      "      80 | 1.72e-01 | 5.57e-01\n",
      "      90 | 1.72e-01 | 5.56e-01\n",
      "     100 | 1.73e-01 | 5.55e-01\n",
      "     110 | 1.73e-01 | 5.55e-01\n",
      "     120 | 1.73e-01 | 5.55e-01\n",
      "     130 | 1.73e-01 | 5.55e-01\n",
      "     140 | 1.73e-01 | 5.55e-01\n",
      "     150 | 1.73e-01 | 5.55e-01\n",
      "     160 | 1.73e-01 | 5.55e-01\n",
      "     170 | 1.73e-01 | 5.54e-01\n",
      "     180 | 1.73e-01 | 5.54e-01\n",
      "     190 | 1.73e-01 | 5.54e-01\n",
      "     200 | 1.73e-01 | 5.54e-01\n",
      "Lauching ISTA solver...\n",
      "   it    |   obj    |   err   \n",
      "       0 | 1.32e-01 | 9.82e-01\n",
      "      10 | 1.23e-01 | 8.78e-01\n",
      "      20 | 1.21e-01 | 8.17e-01\n",
      "      30 | 1.20e-01 | 7.78e-01\n",
      "      40 | 1.20e-01 | 7.54e-01\n",
      "      50 | 1.21e-01 | 7.39e-01\n",
      "      60 | 1.22e-01 | 7.31e-01\n",
      "      70 | 1.22e-01 | 7.28e-01\n",
      "      80 | 1.23e-01 | 7.29e-01\n",
      "      90 | 1.24e-01 | 7.31e-01\n",
      "     100 | 1.25e-01 | 7.35e-01\n",
      "     110 | 1.26e-01 | 7.40e-01\n",
      "     120 | 1.27e-01 | 7.46e-01\n",
      "     130 | 1.28e-01 | 7.51e-01\n",
      "     140 | 1.28e-01 | 7.57e-01\n",
      "     150 | 1.29e-01 | 7.63e-01\n",
      "     160 | 1.29e-01 | 7.68e-01\n",
      "     170 | 1.30e-01 | 7.73e-01\n",
      "     180 | 1.30e-01 | 7.78e-01\n",
      "     190 | 1.31e-01 | 7.82e-01\n",
      "     200 | 1.31e-01 | 7.86e-01\n",
      "Lauching ISTA solver...\n",
      "   it    |   obj    |   err   \n",
      "       0 | 1.39e-01 | 9.84e-01\n",
      "      10 | 1.43e-01 | 9.03e-01\n",
      "      20 | 1.48e-01 | 8.69e-01\n",
      "      30 | 1.51e-01 | 8.49e-01\n",
      "      40 | 1.55e-01 | 8.35e-01\n",
      "      50 | 1.57e-01 | 8.25e-01\n",
      "      60 | 1.59e-01 | 8.16e-01\n",
      "      70 | 1.61e-01 | 8.10e-01\n",
      "      80 | 1.62e-01 | 8.05e-01\n",
      "      90 | 1.64e-01 | 8.01e-01\n",
      "     100 | 1.65e-01 | 7.98e-01\n",
      "     110 | 1.65e-01 | 7.96e-01\n",
      "     120 | 1.66e-01 | 7.94e-01\n",
      "     130 | 1.67e-01 | 7.93e-01\n",
      "     140 | 1.67e-01 | 7.91e-01\n",
      "     150 | 1.68e-01 | 7.90e-01\n",
      "     160 | 1.68e-01 | 7.90e-01\n",
      "     170 | 1.68e-01 | 7.89e-01\n",
      "     180 | 1.69e-01 | 7.89e-01\n",
      "     190 | 1.69e-01 | 7.88e-01\n",
      "     200 | 1.69e-01 | 7.88e-01\n"
     ]
    }
   ],
   "source": [
    "Constante_log = []\n",
    "\n",
    "A, b = simu_logreg(coefs, n_samples=200, corr=0.2)\n",
    "step= 1/lip_logreg(A)\n",
    "Constante_log.append(lip_logreg(A))\n",
    "low_log_r = ista(x0, loss_logreg, grad_logreg, ridge, prox_ridge, step, s=s, n_iter =200)\n",
    "low_log_l = ista(x0, loss_logreg, grad_logreg, lasso, prox_lasso, step, s=s, n_iter =200)\n",
    "\n",
    "A, b = simu_logreg(coefs, n_samples=200, corr=0.5)\n",
    "step= 1/lip_logreg(A)\n",
    "Constante_log.append(lip_logreg(A))\n",
    "med_log_r = ista(x0, loss_logreg, grad_logreg, ridge, prox_ridge, step, s=s, n_iter =200)\n",
    "med_log_l = ista(x0, loss_logreg, grad_logreg, lasso, prox_lasso, step, s=s, n_iter =200)\n",
    "\n",
    "A, b = simu_logreg(coefs, n_samples=200, corr=0.8)\n",
    "step= 1/lip_logreg(A)\n",
    "Constante_log.append(lip_logreg(A))\n",
    "high_log_r = ista(x0, loss_logreg, grad_logreg, ridge, prox_ridge, step, s=s, n_iter =200)\n",
    "high_log_l = ista(x0, loss_logreg, grad_logreg, lasso, prox_lasso, step, s=s, n_iter =200)\n"
   ]
  },
  {
   "cell_type": "code",
   "execution_count": 84,
   "metadata": {
    "colab": {
     "base_uri": "https://localhost:8080/",
     "height": 329
    },
    "id": "0d2skdS6DrFG",
    "outputId": "1e3f3a75-337a-4b3f-f29a-7bcb1fb2b73e"
   },
   "outputs": [
    {
     "data": {
      "image/png": "[encoded data removed]",
      "text/plain": [
       "<Figure size 432x288 with 1 Axes>"
      ]
     },
     "metadata": {
      "needs_background": "light"
     },
     "output_type": "display_data"
    },
    {
     "name": "stdout",
     "output_type": "stream",
     "text": [
      "lipschitz constant: [2.4425090310796476, 3.710959700153225, 9.374061532206477]\n",
      "lipschitz constant:  [0.5916487579317888, 0.940297914140499, 2.0292494112996757]\n"
     ]
    }
   ],
   "source": [
    "# Linear regression\n",
    "\n",
    "fig = plt.figure()\n",
    "plt.plot(low_r[2], 'r', label = 'cor: 0.2, ridge penalization')\n",
    "plt.plot(med_r[2], 'g', label = 'cor: 0.5, ridge penalization')\n",
    "plt.plot(high_r[2], 'b', label = 'cor: 0.8, ridge penalization')\n",
    "plt.plot(low_l[2], 'r--', label = 'cor: 0.2, lasso penalization')\n",
    "plt.plot(med_l[2], 'g--', label = 'cor: 0.5, lasso penalization')\n",
    "plt.plot(high_l[2], 'b--', label = 'cor: 0.8, lasso penalization')\n",
    "plt.xlabel('Nb iterations')\n",
    "plt.ylabel('Error rate')\n",
    "plt.xlim(0, 100)\n",
    "plt.ylim(0.05, 1.1)\n",
    "plt.title('ISTA, linear regression')\n",
    "plt.legend()\n",
    "plt.show()\n",
    "print(\"lipschitz constant:\", Constante_lin)\n",
    "print(\"lipschitz constant: \", Constante_log)"
   ]
  },
  {
   "cell_type": "code",
   "execution_count": 85,
   "metadata": {
    "colab": {
     "base_uri": "https://localhost:8080/",
     "height": 329
    },
    "id": "lveP1dL8Dqmm",
    "outputId": "1c0e6095-46e8-4f81-d338-45920e305e09"
   },
   "outputs": [
    {
     "data": {
      "image/png": "[encoded data removed]",
      "text/plain": [
       "<Figure size 432x288 with 1 Axes>"
      ]
     },
     "metadata": {
      "needs_background": "light"
     },
     "output_type": "display_data"
    },
    {
     "name": "stdout",
     "output_type": "stream",
     "text": [
      "lipschitz constant: [2.4425090310796476, 3.710959700153225, 9.374061532206477]\n",
      "lipschitz constant:  [0.5916487579317888, 0.940297914140499, 2.0292494112996757]\n"
     ]
    }
   ],
   "source": [
    " #Logistic regression\n",
    "\n",
    "fig = plt.figure()\n",
    "plt.plot(low_log_r[2], 'r', label = 'cor: 0.2, ridge penalization')\n",
    "plt.plot(med_log_r[2], 'g', label = 'cor: 0.5, ridge penalization')\n",
    "plt.plot(high_log_r[2], 'b', label = 'cor: 0.8, ridge penalization')\n",
    "plt.plot(low_log_l[2], 'r--', label = 'cor: 0.2, lasso penalization')\n",
    "plt.plot(med_log_l[2], 'g--', label = 'cor: 0.5, lasso penalization')\n",
    "plt.plot(high_log_l[2], 'b--', label = 'cor: 0.8, lasso penalization')\n",
    "plt.xlabel('Nb iterations')\n",
    "plt.ylabel('Error rate')\n",
    "plt.xlim(0, 100)\n",
    "plt.ylim(0.05, 1.1)\n",
    "plt.title('ISTA, logistic regression')\n",
    "plt.legend()\n",
    "plt.show()\n",
    "print(\"lipschitz constant:\", Constante_lin)\n",
    "print(\"lipschitz constant: \", Constante_log)"
   ]
  },
  {
   "cell_type": "markdown",
   "metadata": {
    "id": "ntRbDcfDFYVC"
   },
   "source": [
    "#FISTA vs ISTA\n",
    "\n"
   ]
  },
  {
   "cell_type": "code",
   "execution_count": 86,
   "metadata": {
    "colab": {
     "base_uri": "https://localhost:8080/",
     "height": 295
    },
    "id": "dWXraH-5FUTR",
    "outputId": "f0c38a01-fef0-4bbf-d68a-6b8a55e1b363"
   },
   "outputs": [
    {
     "data": {
      "image/png": "[encoded data removed]",
      "text/plain": [
       "<Figure size 432x288 with 1 Axes>"
      ]
     },
     "metadata": {
      "needs_background": "light"
     },
     "output_type": "display_data"
    }
   ],
   "source": [
    "fig = plt.figure()\n",
    "plt.plot(low_r[2], 'r--', label = 'cor: 0.2, ISTA')\n",
    "plt.plot(med_r[2], 'g--', label = 'cor: 0.5, ISTA')\n",
    "plt.plot(high_r[2], 'b--', label = 'cor: 0.8, ISTA')\n",
    "plt.plot(low_rf[2], 'r', label = 'cor: 0.2, FISTA')\n",
    "plt.plot(med_rf[2], 'g', label = 'cor: 0.5, FISTA')\n",
    "plt.plot(high_rf[2], 'b', label = 'cor: 0.8, FISTA')\n",
    "\n",
    "plt.xlabel('Nb iterations')\n",
    "plt.ylabel('Error rate')\n",
    "plt.xlim(0, 75)\n",
    "plt.ylim(0.05, 1.1)\n",
    "plt.title('FISTA vs ISTA')\n",
    "plt.legend()\n",
    "plt.show()"
   ]
  },
  {
   "cell_type": "markdown",
   "metadata": {
    "id": "ro6J-kZga1DF"
   },
   "source": [
    "### We notice that the FISTA algorithm (blue) converges faster than the ISTA algorithm (red). But also, for both algorithms and penalties, we see that the error is lower when a linear regression is used."
   ]
  },
  {
   "cell_type": "markdown",
   "metadata": {
    "id": "M-U_V0jXdWio"
   },
   "source": [
    "# - Influence of the level of ridge penalization"
   ]
  },
  {
   "cell_type": "markdown",
   "metadata": {
    "id": "Bt9bW3DDdpUh"
   },
   "source": [
    "#FISTA ALGORITHM"
   ]
  },
  {
   "cell_type": "code",
   "execution_count": 87,
   "metadata": {
    "colab": {
     "base_uri": "https://localhost:8080/"
    },
    "id": "i_-jo5k1du39",
    "outputId": "d9425ab5-aac5-4ce1-bc90-7246c3cb55bc"
   },
   "outputs": [
    {
     "name": "stdout",
     "output_type": "stream",
     "text": [
      "Lauching FISTA solver...\n",
      "   it    |   obj    |   err   \n",
      "       0 | 1.99e-01 | 9.19e-01\n",
      "      10 | 7.33e-02 | 4.30e-01\n",
      "      20 | 7.03e-02 | 4.59e-01\n",
      "      30 | 7.00e-02 | 4.47e-01\n",
      "      40 | 7.00e-02 | 4.40e-01\n",
      "      50 | 7.00e-02 | 4.45e-01\n",
      "      60 | 7.00e-02 | 4.44e-01\n",
      "      70 | 7.00e-02 | 4.43e-01\n",
      "      80 | 7.00e-02 | 4.44e-01\n",
      "      90 | 7.00e-02 | 4.44e-01\n",
      "     100 | 7.00e-02 | 4.44e-01\n",
      "     110 | 7.00e-02 | 4.44e-01\n",
      "     120 | 7.00e-02 | 4.44e-01\n",
      "     130 | 7.00e-02 | 4.44e-01\n",
      "     140 | 7.00e-02 | 4.44e-01\n",
      "     150 | 7.00e-02 | 4.44e-01\n",
      "     160 | 7.00e-02 | 4.44e-01\n",
      "     170 | 7.00e-02 | 4.44e-01\n",
      "     180 | 7.00e-02 | 4.44e-01\n",
      "     190 | 7.00e-02 | 4.44e-01\n",
      "     200 | 7.00e-02 | 4.44e-01\n",
      "Lauching FISTA solver...\n",
      "   it    |   obj    |   err   \n",
      "       0 | 2.00e-01 | 9.19e-01\n",
      "      10 | 1.12e-01 | 4.37e-01\n",
      "      20 | 1.19e-01 | 4.38e-01\n",
      "      30 | 1.15e-01 | 4.33e-01\n",
      "      40 | 1.16e-01 | 4.30e-01\n",
      "      50 | 1.16e-01 | 4.33e-01\n",
      "      60 | 1.16e-01 | 4.32e-01\n",
      "      70 | 1.16e-01 | 4.31e-01\n",
      "      80 | 1.16e-01 | 4.32e-01\n",
      "      90 | 1.16e-01 | 4.32e-01\n",
      "     100 | 1.16e-01 | 4.32e-01\n",
      "     110 | 1.16e-01 | 4.32e-01\n",
      "     120 | 1.16e-01 | 4.32e-01\n",
      "     130 | 1.16e-01 | 4.32e-01\n",
      "     140 | 1.16e-01 | 4.32e-01\n",
      "     150 | 1.16e-01 | 4.32e-01\n",
      "     160 | 1.16e-01 | 4.32e-01\n",
      "     170 | 1.16e-01 | 4.32e-01\n",
      "     180 | 1.16e-01 | 4.32e-01\n",
      "     190 | 1.16e-01 | 4.32e-01\n",
      "     200 | 1.16e-01 | 4.32e-01\n",
      "Lauching FISTA solver...\n",
      "   it    |   obj    |   err   \n",
      "       0 | 2.05e-01 | 9.21e-01\n",
      "      10 | 2.17e-01 | 4.80e-01\n",
      "      20 | 2.22e-01 | 4.71e-01\n",
      "      30 | 2.19e-01 | 4.75e-01\n",
      "      40 | 2.21e-01 | 4.73e-01\n",
      "      50 | 2.20e-01 | 4.74e-01\n",
      "      60 | 2.20e-01 | 4.73e-01\n",
      "      70 | 2.20e-01 | 4.73e-01\n",
      "      80 | 2.20e-01 | 4.73e-01\n",
      "      90 | 2.20e-01 | 4.73e-01\n",
      "     100 | 2.20e-01 | 4.73e-01\n",
      "     110 | 2.20e-01 | 4.73e-01\n",
      "     120 | 2.20e-01 | 4.73e-01\n",
      "     130 | 2.20e-01 | 4.73e-01\n",
      "     140 | 2.20e-01 | 4.73e-01\n",
      "     150 | 2.20e-01 | 4.73e-01\n",
      "     160 | 2.20e-01 | 4.73e-01\n",
      "     170 | 2.20e-01 | 4.73e-01\n",
      "     180 | 2.20e-01 | 4.73e-01\n",
      "     190 | 2.20e-01 | 4.73e-01\n",
      "     200 | 2.20e-01 | 4.73e-01\n",
      "Lauching FISTA solver...\n",
      "   it    |   obj    |   err   \n",
      "       0 | 2.14e-01 | 9.24e-01\n",
      "      10 | 3.03e-01 | 5.75e-01\n",
      "      20 | 2.91e-01 | 5.90e-01\n",
      "      30 | 2.94e-01 | 5.86e-01\n",
      "      40 | 2.93e-01 | 5.87e-01\n",
      "      50 | 2.93e-01 | 5.87e-01\n",
      "      60 | 2.93e-01 | 5.87e-01\n",
      "      70 | 2.93e-01 | 5.87e-01\n",
      "      80 | 2.93e-01 | 5.87e-01\n",
      "      90 | 2.93e-01 | 5.87e-01\n",
      "     100 | 2.93e-01 | 5.87e-01\n",
      "     110 | 2.93e-01 | 5.87e-01\n",
      "     120 | 2.93e-01 | 5.87e-01\n",
      "     130 | 2.93e-01 | 5.87e-01\n",
      "     140 | 2.93e-01 | 5.87e-01\n",
      "     150 | 2.93e-01 | 5.87e-01\n",
      "     160 | 2.93e-01 | 5.87e-01\n",
      "     170 | 2.93e-01 | 5.87e-01\n",
      "     180 | 2.93e-01 | 5.87e-01\n",
      "     190 | 2.93e-01 | 5.87e-01\n",
      "     200 | 2.93e-01 | 5.87e-01\n",
      "Lauching FISTA solver...\n",
      "   it    |   obj    |   err   \n",
      "       0 | 2.36e-01 | 9.33e-01\n",
      "      10 | 3.43e-01 | 7.70e-01\n",
      "      20 | 3.40e-01 | 7.74e-01\n",
      "      30 | 3.40e-01 | 7.74e-01\n",
      "      40 | 3.40e-01 | 7.74e-01\n",
      "      50 | 3.40e-01 | 7.74e-01\n",
      "      60 | 3.40e-01 | 7.74e-01\n",
      "      70 | 3.40e-01 | 7.74e-01\n",
      "      80 | 3.40e-01 | 7.74e-01\n",
      "      90 | 3.40e-01 | 7.74e-01\n",
      "     100 | 3.40e-01 | 7.74e-01\n",
      "     110 | 3.40e-01 | 7.74e-01\n",
      "     120 | 3.40e-01 | 7.74e-01\n",
      "     130 | 3.40e-01 | 7.74e-01\n",
      "     140 | 3.40e-01 | 7.74e-01\n",
      "     150 | 3.40e-01 | 7.74e-01\n",
      "     160 | 3.40e-01 | 7.74e-01\n",
      "     170 | 3.40e-01 | 7.74e-01\n",
      "     180 | 3.40e-01 | 7.74e-01\n",
      "     190 | 3.40e-01 | 7.74e-01\n",
      "     200 | 3.40e-01 | 7.74e-01\n",
      "Lauching FISTA solver...\n",
      "   it    |   obj    |   err   \n",
      "       0 | 2.42e-01 | 9.35e-01\n",
      "      10 | 3.42e-01 | 8.04e-01\n",
      "      20 | 3.42e-01 | 8.05e-01\n",
      "      30 | 3.41e-01 | 8.05e-01\n",
      "      40 | 3.41e-01 | 8.05e-01\n",
      "      50 | 3.41e-01 | 8.05e-01\n",
      "      60 | 3.41e-01 | 8.05e-01\n",
      "      70 | 3.41e-01 | 8.05e-01\n",
      "      80 | 3.41e-01 | 8.05e-01\n",
      "      90 | 3.41e-01 | 8.05e-01\n",
      "     100 | 3.41e-01 | 8.05e-01\n",
      "     110 | 3.41e-01 | 8.05e-01\n",
      "     120 | 3.41e-01 | 8.05e-01\n",
      "     130 | 3.41e-01 | 8.05e-01\n",
      "     140 | 3.41e-01 | 8.05e-01\n",
      "     150 | 3.41e-01 | 8.05e-01\n",
      "     160 | 3.41e-01 | 8.05e-01\n",
      "     170 | 3.41e-01 | 8.05e-01\n",
      "     180 | 3.41e-01 | 8.05e-01\n",
      "     190 | 3.41e-01 | 8.05e-01\n",
      "     200 | 3.41e-01 | 8.05e-01\n",
      "Lauching FISTA solver...\n",
      "   it    |   obj    |   err   \n",
      "       0 | 2.77e-01 | 9.65e-01\n",
      "      10 | 3.09e-01 | 9.46e-01\n",
      "      20 | 3.09e-01 | 9.46e-01\n",
      "      30 | 3.09e-01 | 9.46e-01\n",
      "      40 | 3.09e-01 | 9.46e-01\n",
      "      50 | 3.09e-01 | 9.46e-01\n",
      "      60 | 3.09e-01 | 9.46e-01\n",
      "      70 | 3.09e-01 | 9.46e-01\n",
      "      80 | 3.09e-01 | 9.46e-01\n",
      "      90 | 3.09e-01 | 9.46e-01\n",
      "     100 | 3.09e-01 | 9.46e-01\n",
      "     110 | 3.09e-01 | 9.46e-01\n",
      "     120 | 3.09e-01 | 9.46e-01\n",
      "     130 | 3.09e-01 | 9.46e-01\n",
      "     140 | 3.09e-01 | 9.46e-01\n",
      "     150 | 3.09e-01 | 9.46e-01\n",
      "     160 | 3.09e-01 | 9.46e-01\n",
      "     170 | 3.09e-01 | 9.46e-01\n",
      "     180 | 3.09e-01 | 9.46e-01\n",
      "     190 | 3.09e-01 | 9.46e-01\n",
      "     200 | 3.09e-01 | 9.46e-01\n"
     ]
    }
   ],
   "source": [
    "# linear regression\n",
    "A, b = simu_linreg(coefs, n_samples=200, corr=0.5)\n",
    "step= 1/lip_linreg(A)\n",
    "lin1f = fista(x0, loss_linreg, grad_linreg, ridge, prox_ridge, step, s=0, n_iter =200)\n",
    "lin2f = fista(x0, loss_linreg, grad_linreg, ridge, prox_ridge, step, s=0.02, n_iter =200)\n",
    "lin3f = fista(x0, loss_linreg, grad_linreg, ridge, prox_ridge, step, s=0.1, n_iter =200)\n",
    "lin4f = fista(x0, loss_linreg, grad_linreg, ridge, prox_ridge, step, s=0.25, n_iter =200)\n",
    "lin5f = fista(x0, loss_linreg, grad_linreg, ridge, prox_ridge, step, s=0.8, n_iter =200)\n",
    "lin6f = fista(x0, loss_linreg, grad_linreg, ridge, prox_ridge, step, s=1, n_iter =200)\n",
    "lin7f = fista(x0, loss_linreg, grad_linreg, ridge, prox_ridge, step, s=5, n_iter =200)"
   ]
  },
  {
   "cell_type": "code",
   "execution_count": 88,
   "metadata": {
    "colab": {
     "base_uri": "https://localhost:8080/"
    },
    "id": "jqjCgwG8d01F",
    "outputId": "6d65ae63-d7af-4f79-9ca8-2db9654fb00c"
   },
   "outputs": [
    {
     "name": "stdout",
     "output_type": "stream",
     "text": [
      "Lauching FISTA solver...\n",
      "   it    |   obj    |   err   \n",
      "       0 | 1.24e-01 | 9.31e-01\n",
      "      10 | 8.27e-02 | 6.29e-01\n",
      "      20 | 7.26e-02 | 1.11e+00\n",
      "      30 | 7.05e-02 | 1.58e+00\n",
      "      40 | 7.03e-02 | 1.87e+00\n",
      "      50 | 7.03e-02 | 1.98e+00\n",
      "      60 | 7.03e-02 | 1.99e+00\n",
      "      70 | 7.03e-02 | 1.92e+00\n",
      "      80 | 7.03e-02 | 1.84e+00\n",
      "      90 | 7.03e-02 | 1.78e+00\n",
      "     100 | 7.03e-02 | 1.76e+00\n",
      "     110 | 7.03e-02 | 1.78e+00\n",
      "     120 | 7.03e-02 | 1.81e+00\n",
      "     130 | 7.03e-02 | 1.84e+00\n",
      "     140 | 7.03e-02 | 1.86e+00\n",
      "     150 | 7.03e-02 | 1.86e+00\n",
      "     160 | 7.03e-02 | 1.84e+00\n",
      "     170 | 7.03e-02 | 1.82e+00\n",
      "     180 | 7.03e-02 | 1.81e+00\n",
      "     190 | 7.03e-02 | 1.81e+00\n",
      "     200 | 7.03e-02 | 1.82e+00\n",
      "Lauching FISTA solver...\n",
      "   it    |   obj    |   err   \n",
      "       0 | 1.25e-01 | 9.32e-01\n",
      "      10 | 1.26e-01 | 5.94e-01\n",
      "      20 | 1.43e-01 | 6.30e-01\n",
      "      30 | 1.38e-01 | 6.12e-01\n",
      "      40 | 1.37e-01 | 6.06e-01\n",
      "      50 | 1.39e-01 | 6.13e-01\n",
      "      60 | 1.38e-01 | 6.11e-01\n",
      "      70 | 1.38e-01 | 6.10e-01\n",
      "      80 | 1.38e-01 | 6.11e-01\n",
      "      90 | 1.38e-01 | 6.11e-01\n",
      "     100 | 1.38e-01 | 6.10e-01\n",
      "     110 | 1.38e-01 | 6.11e-01\n",
      "     120 | 1.38e-01 | 6.11e-01\n",
      "     130 | 1.38e-01 | 6.11e-01\n",
      "     140 | 1.38e-01 | 6.11e-01\n",
      "     150 | 1.38e-01 | 6.11e-01\n",
      "     160 | 1.38e-01 | 6.11e-01\n",
      "     170 | 1.38e-01 | 6.11e-01\n",
      "     180 | 1.38e-01 | 6.11e-01\n",
      "     190 | 1.38e-01 | 6.11e-01\n",
      "     200 | 1.38e-01 | 6.11e-01\n",
      "Lauching FISTA solver...\n",
      "   it    |   obj    |   err   \n",
      "       0 | 1.29e-01 | 9.37e-01\n",
      "      10 | 1.62e-01 | 6.89e-01\n",
      "      20 | 1.58e-01 | 7.02e-01\n",
      "      30 | 1.59e-01 | 6.99e-01\n",
      "      40 | 1.59e-01 | 6.99e-01\n",
      "      50 | 1.59e-01 | 6.99e-01\n",
      "      60 | 1.59e-01 | 6.99e-01\n",
      "      70 | 1.59e-01 | 6.99e-01\n",
      "      80 | 1.59e-01 | 6.99e-01\n",
      "      90 | 1.59e-01 | 6.99e-01\n",
      "     100 | 1.59e-01 | 6.99e-01\n",
      "     110 | 1.59e-01 | 6.99e-01\n",
      "     120 | 1.59e-01 | 6.99e-01\n",
      "     130 | 1.59e-01 | 6.99e-01\n",
      "     140 | 1.59e-01 | 6.99e-01\n",
      "     150 | 1.59e-01 | 6.99e-01\n",
      "     160 | 1.59e-01 | 6.99e-01\n",
      "     170 | 1.59e-01 | 6.99e-01\n",
      "     180 | 1.59e-01 | 6.99e-01\n",
      "     190 | 1.59e-01 | 6.99e-01\n",
      "     200 | 1.59e-01 | 6.99e-01\n",
      "Lauching FISTA solver...\n",
      "   it    |   obj    |   err   \n",
      "       0 | 1.34e-01 | 9.44e-01\n",
      "      10 | 1.60e-01 | 8.24e-01\n",
      "      20 | 1.60e-01 | 8.25e-01\n",
      "      30 | 1.60e-01 | 8.26e-01\n",
      "      40 | 1.60e-01 | 8.26e-01\n",
      "      50 | 1.60e-01 | 8.26e-01\n",
      "      60 | 1.60e-01 | 8.26e-01\n",
      "      70 | 1.60e-01 | 8.26e-01\n",
      "      80 | 1.60e-01 | 8.26e-01\n",
      "      90 | 1.60e-01 | 8.26e-01\n",
      "     100 | 1.60e-01 | 8.26e-01\n",
      "     110 | 1.60e-01 | 8.26e-01\n",
      "     120 | 1.60e-01 | 8.26e-01\n",
      "     130 | 1.60e-01 | 8.26e-01\n",
      "     140 | 1.60e-01 | 8.26e-01\n",
      "     150 | 1.60e-01 | 8.26e-01\n",
      "     160 | 1.60e-01 | 8.26e-01\n",
      "     170 | 1.60e-01 | 8.26e-01\n",
      "     180 | 1.60e-01 | 8.26e-01\n",
      "     190 | 1.60e-01 | 8.26e-01\n",
      "     200 | 1.60e-01 | 8.26e-01\n",
      "Lauching FISTA solver...\n",
      "   it    |   obj    |   err   \n",
      "       0 | 1.41e-01 | 9.61e-01\n",
      "      10 | 1.54e-01 | 9.28e-01\n",
      "      20 | 1.54e-01 | 9.28e-01\n",
      "      30 | 1.54e-01 | 9.28e-01\n",
      "      40 | 1.54e-01 | 9.28e-01\n",
      "      50 | 1.54e-01 | 9.28e-01\n",
      "      60 | 1.54e-01 | 9.28e-01\n",
      "      70 | 1.54e-01 | 9.28e-01\n",
      "      80 | 1.54e-01 | 9.28e-01\n",
      "      90 | 1.54e-01 | 9.28e-01\n",
      "     100 | 1.54e-01 | 9.28e-01\n",
      "     110 | 1.54e-01 | 9.28e-01\n",
      "     120 | 1.54e-01 | 9.28e-01\n",
      "     130 | 1.54e-01 | 9.28e-01\n",
      "     140 | 1.54e-01 | 9.28e-01\n",
      "     150 | 1.54e-01 | 9.28e-01\n",
      "     160 | 1.54e-01 | 9.28e-01\n",
      "     170 | 1.54e-01 | 9.28e-01\n",
      "     180 | 1.54e-01 | 9.28e-01\n",
      "     190 | 1.54e-01 | 9.28e-01\n",
      "     200 | 1.54e-01 | 9.28e-01\n",
      "Lauching FISTA solver...\n",
      "   it    |   obj    |   err   \n",
      "       0 | 1.42e-01 | 9.65e-01\n",
      "      10 | 1.52e-01 | 9.40e-01\n",
      "      20 | 1.52e-01 | 9.40e-01\n",
      "      30 | 1.52e-01 | 9.40e-01\n",
      "      40 | 1.52e-01 | 9.40e-01\n",
      "      50 | 1.52e-01 | 9.40e-01\n",
      "      60 | 1.52e-01 | 9.40e-01\n",
      "      70 | 1.52e-01 | 9.40e-01\n",
      "      80 | 1.52e-01 | 9.40e-01\n",
      "      90 | 1.52e-01 | 9.40e-01\n",
      "     100 | 1.52e-01 | 9.40e-01\n",
      "     110 | 1.52e-01 | 9.40e-01\n",
      "     120 | 1.52e-01 | 9.40e-01\n",
      "     130 | 1.52e-01 | 9.40e-01\n",
      "     140 | 1.52e-01 | 9.40e-01\n",
      "     150 | 1.52e-01 | 9.40e-01\n",
      "     160 | 1.52e-01 | 9.40e-01\n",
      "     170 | 1.52e-01 | 9.40e-01\n",
      "     180 | 1.52e-01 | 9.40e-01\n",
      "     190 | 1.52e-01 | 9.40e-01\n",
      "     200 | 1.52e-01 | 9.40e-01\n",
      "Lauching FISTA solver...\n",
      "   it    |   obj    |   err   \n",
      "       0 | 1.42e-01 | 9.88e-01\n",
      "      10 | 1.43e-01 | 9.86e-01\n",
      "      20 | 1.43e-01 | 9.86e-01\n",
      "      30 | 1.43e-01 | 9.86e-01\n",
      "      40 | 1.43e-01 | 9.86e-01\n",
      "      50 | 1.43e-01 | 9.86e-01\n",
      "      60 | 1.43e-01 | 9.86e-01\n",
      "      70 | 1.43e-01 | 9.86e-01\n",
      "      80 | 1.43e-01 | 9.86e-01\n",
      "      90 | 1.43e-01 | 9.86e-01\n",
      "     100 | 1.43e-01 | 9.86e-01\n",
      "     110 | 1.43e-01 | 9.86e-01\n",
      "     120 | 1.43e-01 | 9.86e-01\n",
      "     130 | 1.43e-01 | 9.86e-01\n",
      "     140 | 1.43e-01 | 9.86e-01\n",
      "     150 | 1.43e-01 | 9.86e-01\n",
      "     160 | 1.43e-01 | 9.86e-01\n",
      "     170 | 1.43e-01 | 9.86e-01\n",
      "     180 | 1.43e-01 | 9.86e-01\n",
      "     190 | 1.43e-01 | 9.86e-01\n",
      "     200 | 1.43e-01 | 9.86e-01\n"
     ]
    }
   ],
   "source": [
    "# logistic regression\n",
    "A, b = simu_logreg(coefs, n_samples=200, corr=0.5)\n",
    "step= 1/lip_logreg(A)\n",
    "log1f = fista(x0, loss_logreg, grad_logreg, ridge, prox_ridge, step, s=0, n_iter =200)\n",
    "log2f = fista(x0, loss_logreg, grad_logreg, ridge, prox_ridge, step, s=0.02, n_iter =200)\n",
    "log3f = fista(x0, loss_logreg, grad_logreg, ridge, prox_ridge, step, s=0.1, n_iter =200)\n",
    "log4f = fista(x0, loss_logreg, grad_logreg, ridge, prox_ridge, step, s=0.25, n_iter =200)\n",
    "log5f = fista(x0, loss_logreg, grad_logreg, ridge, prox_ridge, step, s=0.8, n_iter =200)\n",
    "log6f = fista(x0, loss_logreg, grad_logreg, ridge, prox_ridge, step, s=1, n_iter =200)\n",
    "log7f = fista(x0, loss_logreg, grad_logreg, ridge, prox_ridge, step, s=5, n_iter =200)"
   ]
  },
  {
   "cell_type": "markdown",
   "metadata": {
    "id": "ggXyz91Yd71M"
   },
   "source": [
    "#Plot "
   ]
  },
  {
   "cell_type": "code",
   "execution_count": 89,
   "metadata": {
    "colab": {
     "base_uri": "https://localhost:8080/",
     "height": 380
    },
    "id": "SznuYEqyd23G",
    "outputId": "02083d50-6c55-4c85-eff4-73705a718970"
   },
   "outputs": [
    {
     "name": "stderr",
     "output_type": "stream",
     "text": [
      "<ipython-input-89-f56f3a1ad74c>:17: MatplotlibDeprecationWarning: Adding an axes using the same arguments as a previous axes currently reuses the earlier instance.  In a future version, a new instance will always be created and returned.  Meanwhile, this warning can be suppressed, and the future behavior ensured, by passing a unique label to each axes instance.\n",
      "  ax = plt.subplot(111)\n"
     ]
    },
    {
     "data": {
      "image/png": "[encoded data removed]",
      "text/plain": [
       "<Figure size 432x288 with 1 Axes>"
      ]
     },
     "metadata": {
      "needs_background": "light"
     },
     "output_type": "display_data"
    }
   ],
   "source": [
    "#Linear regression\n",
    "fig = plt.figure()\n",
    "plt.plot(lin1f[2], 'r', label = 'penalization=0')\n",
    "plt.plot(lin2f[2], 'b', label = 'penalization=0.02')\n",
    "plt.plot(lin3f[2], 'g', label = 'penalization=0.08')\n",
    "plt.plot(lin4f[2], 'c', label = 'penalization=0.1')\n",
    "plt.plot(lin5f[2], 'y', label = 'penalization=0.5')\n",
    "plt.plot(lin6f[2], 'k', label = 'penalization=1')\n",
    "plt.plot(lin7f[2], 'k', label = 'penalization=5')\n",
    "\n",
    "plt.xlabel('Nb iterations')\n",
    "plt.ylabel('Error rate')\n",
    "\n",
    "plt.xlim(0, 50)\n",
    "plt.ylim(0.05, 1.1)\n",
    "plt.title('FISTA, linear regression')\n",
    "ax = plt.subplot(111)\n",
    "ax.legend(loc='upper center', bbox_to_anchor=(0.5, -0.05),  shadow=True, ncol=2)\n",
    "plt.show()"
   ]
  },
  {
   "cell_type": "code",
   "execution_count": 90,
   "metadata": {
    "colab": {
     "base_uri": "https://localhost:8080/",
     "height": 380
    },
    "id": "LgqMe8BqeBbn",
    "outputId": "da10317b-45cd-41cd-cca1-e8d2edbfa746"
   },
   "outputs": [
    {
     "name": "stderr",
     "output_type": "stream",
     "text": [
      "<ipython-input-90-0a5af1cdfcdc>:17: MatplotlibDeprecationWarning: Adding an axes using the same arguments as a previous axes currently reuses the earlier instance.  In a future version, a new instance will always be created and returned.  Meanwhile, this warning can be suppressed, and the future behavior ensured, by passing a unique label to each axes instance.\n",
      "  ax = plt.subplot(111)\n"
     ]
    },
    {
     "data": {
      "image/png": "[encoded data removed]",
      "text/plain": [
       "<Figure size 432x288 with 1 Axes>"
      ]
     },
     "metadata": {
      "needs_background": "light"
     },
     "output_type": "display_data"
    }
   ],
   "source": [
    "#Logistic regression\n",
    "fig = plt.figure()\n",
    "plt.plot(log1f[2], 'r', label = 'penalization=0')\n",
    "plt.plot(log2f[2], 'b', label = 'penalization=0.02')\n",
    "plt.plot(log3f[2], 'g', label = 'penalization=0.08')\n",
    "plt.plot(log4f[2], 'c', label = 'penalization=0.1')\n",
    "plt.plot(log5f[2], 'y', label = 'penalization=0.5')\n",
    "plt.plot(log6f[2], 'k', label = 'penalization=1')\n",
    "plt.plot(log7f[2], 'k', label = 'penalization=5')\n",
    "\n",
    "plt.xlabel('Nb iterations')\n",
    "plt.ylabel('Error rate')\n",
    "\n",
    "plt.xlim(0, 50)\n",
    "plt.ylim(0.05, 1.1)\n",
    "plt.title('FISTA, logistic regression')\n",
    "ax = plt.subplot(111)\n",
    "ax.legend(loc='upper center', bbox_to_anchor=(0.5, -0.05),  shadow=True, ncol=2)\n",
    "plt.show()"
   ]
  },
  {
   "cell_type": "markdown",
   "metadata": {
    "id": "ogtw2YlCeHDc"
   },
   "source": [
    "#ISTA ALGORITHM"
   ]
  },
  {
   "cell_type": "code",
   "execution_count": 91,
   "metadata": {
    "colab": {
     "base_uri": "https://localhost:8080/"
    },
    "id": "MJWrehO1eFZt",
    "outputId": "e170f7e2-f31a-4eef-a95a-1fe9feeae505"
   },
   "outputs": [
    {
     "name": "stdout",
     "output_type": "stream",
     "text": [
      "Lauching ISTA solver...\n",
      "   it    |   obj    |   err   \n",
      "       0 | 2.26e-01 | 9.23e-01\n",
      "      10 | 1.10e-01 | 5.27e-01\n",
      "      20 | 8.90e-02 | 3.74e-01\n",
      "      30 | 8.27e-02 | 3.10e-01\n",
      "      40 | 8.05e-02 | 2.84e-01\n",
      "      50 | 7.96e-02 | 2.74e-01\n",
      "      60 | 7.93e-02 | 2.71e-01\n",
      "      70 | 7.91e-02 | 2.69e-01\n",
      "      80 | 7.91e-02 | 2.69e-01\n",
      "      90 | 7.91e-02 | 2.69e-01\n",
      "     100 | 7.90e-02 | 2.69e-01\n",
      "     110 | 7.90e-02 | 2.69e-01\n",
      "     120 | 7.90e-02 | 2.69e-01\n",
      "     130 | 7.90e-02 | 2.69e-01\n",
      "     140 | 7.90e-02 | 2.69e-01\n",
      "     150 | 7.90e-02 | 2.69e-01\n",
      "     160 | 7.90e-02 | 2.69e-01\n",
      "     170 | 7.90e-02 | 2.69e-01\n",
      "     180 | 7.90e-02 | 2.69e-01\n",
      "     190 | 7.90e-02 | 2.69e-01\n",
      "     200 | 7.90e-02 | 2.69e-01\n",
      "Lauching ISTA solver...\n",
      "   it    |   obj    |   err   \n",
      "       0 | 2.27e-01 | 9.23e-01\n",
      "      10 | 1.31e-01 | 5.37e-01\n",
      "      20 | 1.24e-01 | 3.89e-01\n",
      "      30 | 1.25e-01 | 3.25e-01\n",
      "      40 | 1.28e-01 | 2.95e-01\n",
      "      50 | 1.29e-01 | 2.80e-01\n",
      "      60 | 1.30e-01 | 2.72e-01\n",
      "      70 | 1.31e-01 | 2.68e-01\n",
      "      80 | 1.31e-01 | 2.66e-01\n",
      "      90 | 1.32e-01 | 2.64e-01\n",
      "     100 | 1.32e-01 | 2.64e-01\n",
      "     110 | 1.32e-01 | 2.63e-01\n",
      "     120 | 1.32e-01 | 2.63e-01\n",
      "     130 | 1.32e-01 | 2.62e-01\n",
      "     140 | 1.32e-01 | 2.62e-01\n",
      "     150 | 1.32e-01 | 2.62e-01\n",
      "     160 | 1.32e-01 | 2.62e-01\n",
      "     170 | 1.32e-01 | 2.62e-01\n",
      "     180 | 1.32e-01 | 2.62e-01\n",
      "     190 | 1.32e-01 | 2.62e-01\n",
      "     200 | 1.32e-01 | 2.62e-01\n",
      "Lauching ISTA solver...\n",
      "   it    |   obj    |   err   \n",
      "       0 | 2.30e-01 | 9.24e-01\n",
      "      10 | 1.83e-01 | 5.64e-01\n",
      "      20 | 2.02e-01 | 4.38e-01\n",
      "      30 | 2.15e-01 | 3.83e-01\n",
      "      40 | 2.22e-01 | 3.57e-01\n",
      "      50 | 2.26e-01 | 3.45e-01\n",
      "      60 | 2.28e-01 | 3.38e-01\n",
      "      70 | 2.28e-01 | 3.35e-01\n",
      "      80 | 2.29e-01 | 3.33e-01\n",
      "      90 | 2.29e-01 | 3.32e-01\n",
      "     100 | 2.29e-01 | 3.32e-01\n",
      "     110 | 2.29e-01 | 3.31e-01\n",
      "     120 | 2.29e-01 | 3.31e-01\n",
      "     130 | 2.29e-01 | 3.31e-01\n",
      "     140 | 2.29e-01 | 3.31e-01\n",
      "     150 | 2.29e-01 | 3.31e-01\n",
      "     160 | 2.29e-01 | 3.31e-01\n",
      "     170 | 2.29e-01 | 3.31e-01\n",
      "     180 | 2.29e-01 | 3.31e-01\n",
      "     190 | 2.29e-01 | 3.31e-01\n",
      "     200 | 2.29e-01 | 3.31e-01\n",
      "Lauching ISTA solver...\n",
      "   it    |   obj    |   err   \n",
      "       0 | 2.31e-01 | 9.24e-01\n",
      "      10 | 1.97e-01 | 5.73e-01\n",
      "      20 | 2.22e-01 | 4.54e-01\n",
      "      30 | 2.36e-01 | 4.04e-01\n",
      "      40 | 2.43e-01 | 3.81e-01\n",
      "      50 | 2.47e-01 | 3.70e-01\n",
      "      60 | 2.48e-01 | 3.65e-01\n",
      "      70 | 2.49e-01 | 3.62e-01\n",
      "      80 | 2.49e-01 | 3.61e-01\n",
      "      90 | 2.50e-01 | 3.60e-01\n",
      "     100 | 2.50e-01 | 3.60e-01\n",
      "     110 | 2.50e-01 | 3.60e-01\n",
      "     120 | 2.50e-01 | 3.60e-01\n",
      "     130 | 2.50e-01 | 3.60e-01\n",
      "     140 | 2.50e-01 | 3.60e-01\n",
      "     150 | 2.50e-01 | 3.60e-01\n",
      "     160 | 2.50e-01 | 3.60e-01\n",
      "     170 | 2.50e-01 | 3.60e-01\n",
      "     180 | 2.50e-01 | 3.60e-01\n",
      "     190 | 2.50e-01 | 3.60e-01\n",
      "     200 | 2.50e-01 | 3.60e-01\n",
      "Lauching ISTA solver...\n",
      "   it    |   obj    |   err   \n",
      "       0 | 2.46e-01 | 9.31e-01\n",
      "      10 | 3.30e-01 | 7.06e-01\n",
      "      20 | 3.53e-01 | 6.75e-01\n",
      "      30 | 3.57e-01 | 6.69e-01\n",
      "      40 | 3.58e-01 | 6.68e-01\n",
      "      50 | 3.58e-01 | 6.68e-01\n",
      "      60 | 3.58e-01 | 6.68e-01\n",
      "      70 | 3.58e-01 | 6.68e-01\n",
      "      80 | 3.58e-01 | 6.68e-01\n",
      "      90 | 3.58e-01 | 6.68e-01\n",
      "     100 | 3.58e-01 | 6.68e-01\n",
      "     110 | 3.58e-01 | 6.68e-01\n",
      "     120 | 3.58e-01 | 6.68e-01\n",
      "     130 | 3.58e-01 | 6.68e-01\n",
      "     140 | 3.58e-01 | 6.68e-01\n",
      "     150 | 3.58e-01 | 6.68e-01\n",
      "     160 | 3.58e-01 | 6.68e-01\n",
      "     170 | 3.58e-01 | 6.68e-01\n",
      "     180 | 3.58e-01 | 6.68e-01\n",
      "     190 | 3.58e-01 | 6.68e-01\n",
      "     200 | 3.58e-01 | 6.68e-01\n",
      "Lauching ISTA solver...\n",
      "   it    |   obj    |   err   \n",
      "       0 | 2.59e-01 | 9.38e-01\n",
      "      10 | 3.55e-01 | 7.96e-01\n",
      "      20 | 3.61e-01 | 7.90e-01\n",
      "      30 | 3.62e-01 | 7.89e-01\n",
      "      40 | 3.62e-01 | 7.89e-01\n",
      "      50 | 3.62e-01 | 7.89e-01\n",
      "      60 | 3.62e-01 | 7.89e-01\n",
      "      70 | 3.62e-01 | 7.89e-01\n",
      "      80 | 3.62e-01 | 7.89e-01\n",
      "      90 | 3.62e-01 | 7.89e-01\n",
      "     100 | 3.62e-01 | 7.89e-01\n",
      "     110 | 3.62e-01 | 7.89e-01\n",
      "     120 | 3.62e-01 | 7.89e-01\n",
      "     130 | 3.62e-01 | 7.89e-01\n",
      "     140 | 3.62e-01 | 7.89e-01\n",
      "     150 | 3.62e-01 | 7.89e-01\n",
      "     160 | 3.62e-01 | 7.89e-01\n",
      "     170 | 3.62e-01 | 7.89e-01\n",
      "     180 | 3.62e-01 | 7.89e-01\n",
      "     190 | 3.62e-01 | 7.89e-01\n",
      "     200 | 3.62e-01 | 7.89e-01\n",
      "Lauching ISTA solver...\n",
      "   it    |   obj    |   err   \n",
      "       0 | 2.89e-01 | 9.65e-01\n",
      "      10 | 3.21e-01 | 9.43e-01\n",
      "      20 | 3.21e-01 | 9.43e-01\n",
      "      30 | 3.21e-01 | 9.43e-01\n",
      "      40 | 3.21e-01 | 9.43e-01\n",
      "      50 | 3.21e-01 | 9.43e-01\n",
      "      60 | 3.21e-01 | 9.43e-01\n",
      "      70 | 3.21e-01 | 9.43e-01\n",
      "      80 | 3.21e-01 | 9.43e-01\n",
      "      90 | 3.21e-01 | 9.43e-01\n",
      "     100 | 3.21e-01 | 9.43e-01\n",
      "     110 | 3.21e-01 | 9.43e-01\n",
      "     120 | 3.21e-01 | 9.43e-01\n",
      "     130 | 3.21e-01 | 9.43e-01\n",
      "     140 | 3.21e-01 | 9.43e-01\n",
      "     150 | 3.21e-01 | 9.43e-01\n",
      "     160 | 3.21e-01 | 9.43e-01\n",
      "     170 | 3.21e-01 | 9.43e-01\n",
      "     180 | 3.21e-01 | 9.43e-01\n",
      "     190 | 3.21e-01 | 9.43e-01\n",
      "     200 | 3.21e-01 | 9.43e-01\n"
     ]
    }
   ],
   "source": [
    "# linear regression\n",
    "A, b = simu_linreg(coefs, n_samples=200, corr=0.5)\n",
    "step= 1/lip_linreg(A)\n",
    "lin1= ista(x0, loss_linreg, grad_linreg, ridge, prox_ridge, step, s=0, n_iter =200)\n",
    "lin2 = ista(x0, loss_linreg, grad_linreg, ridge, prox_ridge, step, s=0.02, n_iter =200)\n",
    "lin3 = ista(x0, loss_linreg, grad_linreg, ridge, prox_ridge, step, s=0.08, n_iter =200)\n",
    "lin4 = ista(x0, loss_linreg, grad_linreg, ridge, prox_ridge, step, s=0.1, n_iter =200)\n",
    "lin5 = ista(x0, loss_linreg, grad_linreg, ridge, prox_ridge, step, s=0.5, n_iter =200)\n",
    "lin6 = ista(x0, loss_linreg, grad_linreg, ridge, prox_ridge, step, s=1, n_iter =200)\n",
    "lin7 = ista(x0, loss_linreg, grad_linreg, ridge, prox_ridge, step, s=5, n_iter =200)"
   ]
  },
  {
   "cell_type": "code",
   "execution_count": 92,
   "metadata": {
    "colab": {
     "base_uri": "https://localhost:8080/"
    },
    "id": "eiG2JmFxeSld",
    "outputId": "2f62f051-933c-46e4-a18f-5d5a5195c19f"
   },
   "outputs": [
    {
     "name": "stdout",
     "output_type": "stream",
     "text": [
      "Lauching ISTA solver...\n",
      "   it    |   obj    |   err   \n",
      "       0 | 1.23e-01 | 9.40e-01\n",
      "      10 | 9.25e-02 | 6.93e-01\n",
      "      20 | 8.40e-02 | 6.57e-01\n",
      "      30 | 7.96e-02 | 7.03e-01\n",
      "      40 | 7.70e-02 | 7.75e-01\n",
      "      50 | 7.53e-02 | 8.50e-01\n",
      "      60 | 7.41e-02 | 9.22e-01\n",
      "      70 | 7.33e-02 | 9.88e-01\n",
      "      80 | 7.26e-02 | 1.05e+00\n",
      "      90 | 7.22e-02 | 1.10e+00\n",
      "     100 | 7.18e-02 | 1.15e+00\n",
      "     110 | 7.15e-02 | 1.20e+00\n",
      "     120 | 7.12e-02 | 1.24e+00\n",
      "     130 | 7.10e-02 | 1.28e+00\n",
      "     140 | 7.08e-02 | 1.31e+00\n",
      "     150 | 7.07e-02 | 1.34e+00\n",
      "     160 | 7.06e-02 | 1.37e+00\n",
      "     170 | 7.05e-02 | 1.40e+00\n",
      "     180 | 7.04e-02 | 1.43e+00\n",
      "     190 | 7.03e-02 | 1.45e+00\n",
      "     200 | 7.03e-02 | 1.47e+00\n",
      "Lauching ISTA solver...\n",
      "   it    |   obj    |   err   \n",
      "       0 | 1.25e-01 | 9.41e-01\n",
      "      10 | 1.12e-01 | 7.07e-01\n",
      "      20 | 1.18e-01 | 6.53e-01\n",
      "      30 | 1.23e-01 | 6.47e-01\n",
      "      40 | 1.27e-01 | 6.54e-01\n",
      "      50 | 1.30e-01 | 6.61e-01\n",
      "      60 | 1.32e-01 | 6.68e-01\n",
      "      70 | 1.33e-01 | 6.72e-01\n",
      "      80 | 1.34e-01 | 6.75e-01\n",
      "      90 | 1.34e-01 | 6.77e-01\n",
      "     100 | 1.34e-01 | 6.79e-01\n",
      "     110 | 1.35e-01 | 6.80e-01\n",
      "     120 | 1.35e-01 | 6.80e-01\n",
      "     130 | 1.35e-01 | 6.81e-01\n",
      "     140 | 1.35e-01 | 6.81e-01\n",
      "     150 | 1.35e-01 | 6.81e-01\n",
      "     160 | 1.35e-01 | 6.81e-01\n",
      "     170 | 1.35e-01 | 6.81e-01\n",
      "     180 | 1.35e-01 | 6.81e-01\n",
      "     190 | 1.35e-01 | 6.81e-01\n",
      "     200 | 1.35e-01 | 6.82e-01\n",
      "Lauching ISTA solver...\n",
      "   it    |   obj    |   err   \n",
      "       0 | 1.27e-01 | 9.43e-01\n",
      "      10 | 1.42e-01 | 7.55e-01\n",
      "      20 | 1.52e-01 | 7.16e-01\n",
      "      30 | 1.55e-01 | 7.06e-01\n",
      "      40 | 1.56e-01 | 7.04e-01\n",
      "      50 | 1.56e-01 | 7.03e-01\n",
      "      60 | 1.56e-01 | 7.03e-01\n",
      "      70 | 1.56e-01 | 7.03e-01\n",
      "      80 | 1.56e-01 | 7.03e-01\n",
      "      90 | 1.56e-01 | 7.03e-01\n",
      "     100 | 1.56e-01 | 7.03e-01\n",
      "     110 | 1.56e-01 | 7.03e-01\n",
      "     120 | 1.56e-01 | 7.03e-01\n",
      "     130 | 1.56e-01 | 7.03e-01\n",
      "     140 | 1.56e-01 | 7.03e-01\n",
      "     150 | 1.56e-01 | 7.03e-01\n",
      "     160 | 1.56e-01 | 7.03e-01\n",
      "     170 | 1.56e-01 | 7.03e-01\n",
      "     180 | 1.56e-01 | 7.03e-01\n",
      "     190 | 1.56e-01 | 7.03e-01\n",
      "     200 | 1.56e-01 | 7.03e-01\n",
      "Lauching ISTA solver...\n",
      "   it    |   obj    |   err   \n",
      "       0 | 1.28e-01 | 9.44e-01\n",
      "      10 | 1.47e-01 | 7.69e-01\n",
      "      20 | 1.55e-01 | 7.38e-01\n",
      "      30 | 1.57e-01 | 7.31e-01\n",
      "      40 | 1.58e-01 | 7.30e-01\n",
      "      50 | 1.58e-01 | 7.30e-01\n",
      "      60 | 1.58e-01 | 7.29e-01\n",
      "      70 | 1.58e-01 | 7.29e-01\n",
      "      80 | 1.58e-01 | 7.29e-01\n",
      "      90 | 1.58e-01 | 7.29e-01\n",
      "     100 | 1.58e-01 | 7.29e-01\n",
      "     110 | 1.58e-01 | 7.29e-01\n",
      "     120 | 1.58e-01 | 7.29e-01\n",
      "     130 | 1.58e-01 | 7.29e-01\n",
      "     140 | 1.58e-01 | 7.29e-01\n",
      "     150 | 1.58e-01 | 7.29e-01\n",
      "     160 | 1.58e-01 | 7.29e-01\n",
      "     170 | 1.58e-01 | 7.29e-01\n",
      "     180 | 1.58e-01 | 7.29e-01\n",
      "     190 | 1.58e-01 | 7.29e-01\n",
      "     200 | 1.58e-01 | 7.29e-01\n",
      "Lauching ISTA solver...\n",
      "   it    |   obj    |   err   \n",
      "       0 | 1.38e-01 | 9.58e-01\n",
      "      10 | 1.58e-01 | 9.03e-01\n",
      "      20 | 1.58e-01 | 9.02e-01\n",
      "      30 | 1.58e-01 | 9.02e-01\n",
      "      40 | 1.58e-01 | 9.02e-01\n",
      "      50 | 1.58e-01 | 9.02e-01\n",
      "      60 | 1.58e-01 | 9.02e-01\n",
      "      70 | 1.58e-01 | 9.02e-01\n",
      "      80 | 1.58e-01 | 9.02e-01\n",
      "      90 | 1.58e-01 | 9.02e-01\n",
      "     100 | 1.58e-01 | 9.02e-01\n",
      "     110 | 1.58e-01 | 9.02e-01\n",
      "     120 | 1.58e-01 | 9.02e-01\n",
      "     130 | 1.58e-01 | 9.02e-01\n",
      "     140 | 1.58e-01 | 9.02e-01\n",
      "     150 | 1.58e-01 | 9.02e-01\n",
      "     160 | 1.58e-01 | 9.02e-01\n",
      "     170 | 1.58e-01 | 9.02e-01\n",
      "     180 | 1.58e-01 | 9.02e-01\n",
      "     190 | 1.58e-01 | 9.02e-01\n",
      "     200 | 1.58e-01 | 9.02e-01\n",
      "Lauching ISTA solver...\n",
      "   it    |   obj    |   err   \n",
      "       0 | 1.42e-01 | 9.68e-01\n",
      "      10 | 1.54e-01 | 9.44e-01\n",
      "      20 | 1.54e-01 | 9.44e-01\n",
      "      30 | 1.54e-01 | 9.44e-01\n",
      "      40 | 1.54e-01 | 9.44e-01\n",
      "      50 | 1.54e-01 | 9.44e-01\n",
      "      60 | 1.54e-01 | 9.44e-01\n",
      "      70 | 1.54e-01 | 9.44e-01\n",
      "      80 | 1.54e-01 | 9.44e-01\n",
      "      90 | 1.54e-01 | 9.44e-01\n",
      "     100 | 1.54e-01 | 9.44e-01\n",
      "     110 | 1.54e-01 | 9.44e-01\n",
      "     120 | 1.54e-01 | 9.44e-01\n",
      "     130 | 1.54e-01 | 9.44e-01\n",
      "     140 | 1.54e-01 | 9.44e-01\n",
      "     150 | 1.54e-01 | 9.44e-01\n",
      "     160 | 1.54e-01 | 9.44e-01\n",
      "     170 | 1.54e-01 | 9.44e-01\n",
      "     180 | 1.54e-01 | 9.44e-01\n",
      "     190 | 1.54e-01 | 9.44e-01\n",
      "     200 | 1.54e-01 | 9.44e-01\n",
      "Lauching ISTA solver...\n",
      "   it    |   obj    |   err   \n",
      "       0 | 1.42e-01 | 9.89e-01\n",
      "      10 | 1.43e-01 | 9.87e-01\n",
      "      20 | 1.43e-01 | 9.87e-01\n",
      "      30 | 1.43e-01 | 9.87e-01\n",
      "      40 | 1.43e-01 | 9.87e-01\n",
      "      50 | 1.43e-01 | 9.87e-01\n",
      "      60 | 1.43e-01 | 9.87e-01\n",
      "      70 | 1.43e-01 | 9.87e-01\n",
      "      80 | 1.43e-01 | 9.87e-01\n",
      "      90 | 1.43e-01 | 9.87e-01\n",
      "     100 | 1.43e-01 | 9.87e-01\n",
      "     110 | 1.43e-01 | 9.87e-01\n",
      "     120 | 1.43e-01 | 9.87e-01\n",
      "     130 | 1.43e-01 | 9.87e-01\n",
      "     140 | 1.43e-01 | 9.87e-01\n",
      "     150 | 1.43e-01 | 9.87e-01\n",
      "     160 | 1.43e-01 | 9.87e-01\n",
      "     170 | 1.43e-01 | 9.87e-01\n",
      "     180 | 1.43e-01 | 9.87e-01\n",
      "     190 | 1.43e-01 | 9.87e-01\n",
      "     200 | 1.43e-01 | 9.87e-01\n"
     ]
    }
   ],
   "source": [
    "# logistic regression\n",
    "A, b = simu_logreg(coefs, n_samples=200, corr=0.5)\n",
    "step= 1/lip_logreg(A)\n",
    "log1= ista(x0, loss_logreg, grad_logreg, ridge, prox_ridge, step, s=0, n_iter =200)\n",
    "log2 = ista(x0, loss_logreg, grad_logreg, ridge, prox_ridge, step, s=0.02, n_iter =200)\n",
    "log3 = ista(x0, loss_logreg, grad_logreg, ridge, prox_ridge, step, s=0.08, n_iter =200)\n",
    "log4 = ista(x0, loss_logreg, grad_logreg, ridge, prox_ridge, step, s=0.1, n_iter =200)\n",
    "log5 = ista(x0, loss_logreg, grad_logreg, ridge, prox_ridge, step, s=0.5, n_iter =200)\n",
    "log6 = ista(x0, loss_logreg, grad_logreg, ridge, prox_ridge, step, s=1, n_iter =200)\n",
    "log7 = ista(x0, loss_logreg, grad_logreg, ridge, prox_ridge, step, s=5, n_iter =200)"
   ]
  },
  {
   "cell_type": "markdown",
   "metadata": {
    "id": "VO7uRQzteanG"
   },
   "source": [
    "#PLOT"
   ]
  },
  {
   "cell_type": "code",
   "execution_count": 93,
   "metadata": {
    "colab": {
     "base_uri": "https://localhost:8080/",
     "height": 380
    },
    "id": "9i7ronXjeV4r",
    "outputId": "0d128faf-b026-42db-f0ea-5ba2d95bc4c8"
   },
   "outputs": [
    {
     "name": "stderr",
     "output_type": "stream",
     "text": [
      "<ipython-input-93-ba2f5dc32238>:17: MatplotlibDeprecationWarning: Adding an axes using the same arguments as a previous axes currently reuses the earlier instance.  In a future version, a new instance will always be created and returned.  Meanwhile, this warning can be suppressed, and the future behavior ensured, by passing a unique label to each axes instance.\n",
      "  ax = plt.subplot(111)\n"
     ]
    },
    {
     "data": {
      "image/png": "[encoded data removed]",
      "text/plain": [
       "<Figure size 432x288 with 1 Axes>"
      ]
     },
     "metadata": {
      "needs_background": "light"
     },
     "output_type": "display_data"
    }
   ],
   "source": [
    "#Linear regression\n",
    "fig = plt.figure()\n",
    "plt.plot(lin1[2], 'r', label = 'penalization=0')\n",
    "plt.plot(lin2[2], 'b', label = 'penalization=0.02')\n",
    "plt.plot(lin3[2], 'g', label = 'penalization=0.08')\n",
    "plt.plot(lin4[2], 'c', label = 'penalization=0.1')\n",
    "plt.plot(lin5[2], 'y', label = 'penalization=0.5')\n",
    "plt.plot(lin6[2], 'k', label = 'penalization=1')\n",
    "plt.plot(lin7[2], 'k', label = 'penalization=5')\n",
    "\n",
    "plt.xlabel('Nb iterations')\n",
    "plt.ylabel('Error rate')\n",
    "\n",
    "plt.xlim(0, 50)\n",
    "plt.ylim(0.05, 1.1)\n",
    "plt.title('ISTA, linear regression')\n",
    "ax = plt.subplot(111)\n",
    "ax.legend(loc='upper center', bbox_to_anchor=(0.5, -0.05),  shadow=True, ncol=2)\n",
    "plt.show()"
   ]
  },
  {
   "cell_type": "code",
   "execution_count": 94,
   "metadata": {
    "colab": {
     "base_uri": "https://localhost:8080/",
     "height": 380
    },
    "id": "J2GrD0umefEI",
    "outputId": "010ae416-0232-4f06-cf42-5e1472f5b7bc"
   },
   "outputs": [
    {
     "name": "stderr",
     "output_type": "stream",
     "text": [
      "<ipython-input-94-92ec7c8cce00>:17: MatplotlibDeprecationWarning: Adding an axes using the same arguments as a previous axes currently reuses the earlier instance.  In a future version, a new instance will always be created and returned.  Meanwhile, this warning can be suppressed, and the future behavior ensured, by passing a unique label to each axes instance.\n",
      "  ax = plt.subplot(111)\n"
     ]
    },
    {
     "data": {
      "image/png": "[encoded data removed]",
      "text/plain": [
       "<Figure size 432x288 with 1 Axes>"
      ]
     },
     "metadata": {
      "needs_background": "light"
     },
     "output_type": "display_data"
    }
   ],
   "source": [
    "#Logistic regression\n",
    "fig = plt.figure()\n",
    "plt.plot(log1[2], 'r', label = 'penalization=0')\n",
    "plt.plot(log2[2], 'b', label = 'penalization=0.02')\n",
    "plt.plot(log3[2], 'g', label = 'penalization=0.08')\n",
    "plt.plot(log4[2], 'c', label = 'penalization=0.1')\n",
    "plt.plot(log5[2], 'y', label = 'penalization=0.5')\n",
    "plt.plot(log6[2], 'k', label = 'penalization=1')\n",
    "plt.plot(log7[2], 'k', label = 'penalization=5')\n",
    "\n",
    "plt.xlabel('Nb iterations')\n",
    "plt.ylabel('Error rate')\n",
    "\n",
    "plt.xlim(0, 50)\n",
    "plt.ylim(0.05, 1.1)\n",
    "plt.title('ISTA, logistic regression')\n",
    "ax = plt.subplot(111)\n",
    "ax.legend(loc='upper center', bbox_to_anchor=(0.5, -0.05),  shadow=True, ncol=2)\n",
    "plt.show()"
   ]
  },
  {
   "cell_type": "markdown",
   "metadata": {
    "id": "LgWki9E8erTR"
   },
   "source": [
    "#FISTA vs ISTA\n",
    "Here we compare the performance of the two algorithms."
   ]
  },
  {
   "cell_type": "code",
   "execution_count": 95,
   "metadata": {
    "colab": {
     "base_uri": "https://localhost:8080/",
     "height": 380
    },
    "id": "SA6zwFu0ehsQ",
    "outputId": "1c5b37eb-92b4-4d95-9c0b-78052a68992a"
   },
   "outputs": [
    {
     "name": "stderr",
     "output_type": "stream",
     "text": [
      "<ipython-input-95-1b83f8c9806d>:17: MatplotlibDeprecationWarning: Adding an axes using the same arguments as a previous axes currently reuses the earlier instance.  In a future version, a new instance will always be created and returned.  Meanwhile, this warning can be suppressed, and the future behavior ensured, by passing a unique label to each axes instance.\n",
      "  ax = plt.subplot(111)\n"
     ]
    },
    {
     "data": {
      "image/png": "[encoded data removed]",
      "text/plain": [
       "<Figure size 432x288 with 1 Axes>"
      ]
     },
     "metadata": {
      "needs_background": "light"
     },
     "output_type": "display_data"
    }
   ],
   "source": [
    "fig = plt.figure()\n",
    "plt.plot(lin2[2], 'b', label = 'penalization=0.02, ISTA')\n",
    "plt.plot(lin3[2], 'g', label = 'penalization=0.08, ISTA')\n",
    "plt.plot(lin4[2], 'c', label = 'penalization=0.1, ISTA')\n",
    "plt.plot(lin6[2], 'k', label = 'penalization=1, ISTA')\n",
    "plt.plot(lin2f[2], 'b--', label = 'penalization=0.02, FISTA')\n",
    "plt.plot(lin3f[2], 'g--', label = 'penalization=0.08, FISTA')\n",
    "plt.plot(lin4f[2], 'c--', label = 'penalization=0.1, FISTA')\n",
    "plt.plot(lin6f[2], 'k--', label = 'penalization=1, FISTA')\n",
    "\n",
    "plt.xlabel('Nb iterations')\n",
    "plt.ylabel('Error rate')\n",
    "\n",
    "plt.xlim(0, 50)\n",
    "plt.ylim(0.05, 1.1)\n",
    "plt.title('FISTA vs ISTA, linear regression')\n",
    "ax = plt.subplot(111)\n",
    "ax.legend(loc='upper center', bbox_to_anchor=(0.5, -0.05),  shadow=True, ncol=2)\n",
    "plt.show()"
   ]
  },
  {
   "cell_type": "code",
   "execution_count": 96,
   "metadata": {
    "colab": {
     "base_uri": "https://localhost:8080/",
     "height": 380
    },
    "id": "CORq5dKde0fC",
    "outputId": "22b5a744-a06b-41b9-b6a1-0c0e95717b16"
   },
   "outputs": [
    {
     "name": "stderr",
     "output_type": "stream",
     "text": [
      "<ipython-input-96-21720d75f1b9>:17: MatplotlibDeprecationWarning: Adding an axes using the same arguments as a previous axes currently reuses the earlier instance.  In a future version, a new instance will always be created and returned.  Meanwhile, this warning can be suppressed, and the future behavior ensured, by passing a unique label to each axes instance.\n",
      "  ax = plt.subplot(111)\n"
     ]
    },
    {
     "data": {
      "image/png": "[encoded data removed]",
      "text/plain": [
       "<Figure size 432x288 with 1 Axes>"
      ]
     },
     "metadata": {
      "needs_background": "light"
     },
     "output_type": "display_data"
    }
   ],
   "source": [
    "fig = plt.figure()\n",
    "plt.plot(log2[2], 'b', label = 'penalization=0.02, ISTA')\n",
    "plt.plot(log3[2], 'g', label = 'penalization=0.08, ISTA')\n",
    "plt.plot(log4[2], 'c', label = 'penalization=0.1, ISTA')\n",
    "plt.plot(log6[2], 'k', label = 'penalization=1, ISTA')\n",
    "plt.plot(log2f[2], 'b--', label = 'penalization=0.02, FISTA')\n",
    "plt.plot(log3f[2], 'g--', label = 'penalization=0.08, FISTA')\n",
    "plt.plot(log4f[2], 'c--', label = 'penalization=0.1, FISTA')\n",
    "plt.plot(log6f[2], 'k--', label = 'penalization=1, FISTA')\n",
    "\n",
    "plt.xlabel('Nb iterations')\n",
    "plt.ylabel('Error rate')\n",
    "\n",
    "plt.xlim(0, 50)\n",
    "plt.ylim(0.05, 1.1)\n",
    "plt.title('FISTA vs ISTA, logistic regression')\n",
    "ax = plt.subplot(111)\n",
    "ax.legend(loc='upper center', bbox_to_anchor=(0.5, -0.05),  shadow=True, ncol=2)\n",
    "plt.show()\n"
   ]
  },
  {
   "cell_type": "markdown",
   "metadata": {
    "id": "mp1l_w2qGZx8"
   },
   "source": [
    "### Comments\n",
    "We see that when the penalty is lower, FISTA is also better than ISTA. "
   ]
  },
  {
   "cell_type": "markdown",
   "metadata": {
    "id": "Z0Ur5wLVe9-x"
   },
   "source": [
    "Performance of the optimization algorithms for ridge and lasso penalizations"
   ]
  },
  {
   "cell_type": "markdown",
   "metadata": {
    "id": "AqwIgmAUMfP-"
   },
   "source": [
    "#FISTA"
   ]
  },
  {
   "cell_type": "code",
   "execution_count": 97,
   "metadata": {
    "colab": {
     "base_uri": "https://localhost:8080/"
    },
    "id": "nRs3sWo0e6tH",
    "outputId": "95cb68d4-dfba-440e-93b6-28ea3fab2c6c"
   },
   "outputs": [
    {
     "name": "stdout",
     "output_type": "stream",
     "text": [
      "Lauching FISTA solver...\n",
      "   it    |   obj    |   err   \n",
      "       0 | 2.57e-01 | 8.98e-01\n",
      "      10 | 1.09e-01 | 3.22e-01\n",
      "      20 | 1.11e-01 | 3.06e-01\n",
      "      30 | 1.09e-01 | 2.96e-01\n",
      "      40 | 1.09e-01 | 3.00e-01\n",
      "      50 | 1.09e-01 | 2.98e-01\n",
      "      60 | 1.09e-01 | 2.99e-01\n",
      "      70 | 1.09e-01 | 2.99e-01\n",
      "      80 | 1.09e-01 | 2.99e-01\n",
      "      90 | 1.09e-01 | 2.99e-01\n",
      "     100 | 1.09e-01 | 2.99e-01\n",
      "     110 | 1.09e-01 | 2.99e-01\n",
      "     120 | 1.09e-01 | 2.99e-01\n",
      "     130 | 1.09e-01 | 2.99e-01\n",
      "     140 | 1.09e-01 | 2.99e-01\n",
      "     150 | 1.09e-01 | 2.99e-01\n",
      "     160 | 1.09e-01 | 2.99e-01\n",
      "     170 | 1.09e-01 | 2.99e-01\n",
      "     180 | 1.09e-01 | 2.99e-01\n",
      "     190 | 1.09e-01 | 2.99e-01\n",
      "     200 | 1.09e-01 | 2.99e-01\n",
      "Lauching FISTA solver...\n",
      "   it    |   obj    |   err   \n",
      "       0 | 2.77e-01 | 9.01e-01\n",
      "      10 | 1.85e-01 | 2.99e-01\n",
      "      20 | 1.89e-01 | 2.75e-01\n",
      "      30 | 1.86e-01 | 2.74e-01\n",
      "      40 | 1.87e-01 | 2.76e-01\n",
      "      50 | 1.86e-01 | 2.74e-01\n",
      "      60 | 1.86e-01 | 2.75e-01\n",
      "      70 | 1.86e-01 | 2.75e-01\n",
      "      80 | 1.86e-01 | 2.75e-01\n",
      "      90 | 1.86e-01 | 2.75e-01\n",
      "     100 | 1.86e-01 | 2.75e-01\n",
      "     110 | 1.86e-01 | 2.75e-01\n",
      "     120 | 1.86e-01 | 2.75e-01\n",
      "     130 | 1.86e-01 | 2.75e-01\n",
      "     140 | 1.86e-01 | 2.75e-01\n",
      "     150 | 1.86e-01 | 2.75e-01\n",
      "     160 | 1.86e-01 | 2.75e-01\n",
      "     170 | 1.86e-01 | 2.75e-01\n",
      "     180 | 1.86e-01 | 2.75e-01\n",
      "     190 | 1.86e-01 | 2.75e-01\n",
      "     200 | 1.86e-01 | 2.75e-01\n",
      "Lauching FISTA solver...\n",
      "   it    |   obj    |   err   \n",
      "       0 | 1.23e-01 | 9.36e-01\n",
      "      10 | 1.01e-01 | 6.51e-01\n",
      "      20 | 1.16e-01 | 7.80e-01\n",
      "      30 | 1.16e-01 | 7.86e-01\n",
      "      40 | 1.13e-01 | 7.48e-01\n",
      "      50 | 1.12e-01 | 7.46e-01\n",
      "      60 | 1.14e-01 | 7.60e-01\n",
      "      70 | 1.14e-01 | 7.58e-01\n",
      "      80 | 1.13e-01 | 7.53e-01\n",
      "      90 | 1.13e-01 | 7.54e-01\n",
      "     100 | 1.13e-01 | 7.56e-01\n",
      "     110 | 1.13e-01 | 7.56e-01\n",
      "     120 | 1.13e-01 | 7.55e-01\n",
      "     130 | 1.13e-01 | 7.55e-01\n",
      "     140 | 1.13e-01 | 7.55e-01\n",
      "     150 | 1.13e-01 | 7.55e-01\n",
      "     160 | 1.13e-01 | 7.55e-01\n",
      "     170 | 1.13e-01 | 7.55e-01\n",
      "     180 | 1.13e-01 | 7.55e-01\n",
      "     190 | 1.13e-01 | 7.55e-01\n",
      "     200 | 1.13e-01 | 7.55e-01\n",
      "Lauching FISTA solver...\n",
      "   it    |   obj    |   err   \n",
      "       0 | 1.36e-01 | 9.43e-01\n",
      "      10 | 1.55e-01 | 6.05e-01\n",
      "      20 | 1.74e-01 | 5.88e-01\n",
      "      30 | 1.74e-01 | 5.83e-01\n",
      "      40 | 1.70e-01 | 5.75e-01\n",
      "      50 | 1.70e-01 | 5.75e-01\n",
      "      60 | 1.71e-01 | 5.77e-01\n",
      "      70 | 1.71e-01 | 5.77e-01\n",
      "      80 | 1.71e-01 | 5.76e-01\n",
      "      90 | 1.71e-01 | 5.76e-01\n",
      "     100 | 1.71e-01 | 5.77e-01\n",
      "     110 | 1.71e-01 | 5.77e-01\n",
      "     120 | 1.71e-01 | 5.76e-01\n",
      "     130 | 1.71e-01 | 5.76e-01\n",
      "     140 | 1.71e-01 | 5.77e-01\n",
      "     150 | 1.71e-01 | 5.76e-01\n",
      "     160 | 1.71e-01 | 5.76e-01\n",
      "     170 | 1.71e-01 | 5.76e-01\n",
      "     180 | 1.71e-01 | 5.76e-01\n",
      "     190 | 1.71e-01 | 5.76e-01\n",
      "     200 | 1.71e-01 | 5.76e-01\n"
     ]
    }
   ],
   "source": [
    "#linear regression\n",
    "A, b = simu_linreg(coefs, n_samples=200, corr=0.5)\n",
    "step= 1/lip_linreg(A)\n",
    "lin_r= fista(x0, loss_linreg, grad_linreg, ridge, prox_ridge, step, s=0.01, n_iter =200)\n",
    "lin_l= fista(x0, loss_linreg, grad_linreg, lasso, prox_lasso, step, s=0.01, n_iter =200)\n",
    "\n",
    "#logistic regression\n",
    "A, b = simu_logreg(coefs, n_samples=200, corr=0.5)\n",
    "step= 1/lip_logreg(A)\n",
    "log_r= fista(x0, loss_logreg, grad_logreg, ridge, prox_ridge, step, s=0.01, n_iter =200)\n",
    "log_l= fista(x0, loss_logreg, grad_logreg, lasso, prox_lasso, step, s=0.01, n_iter =200)"
   ]
  },
  {
   "cell_type": "code",
   "execution_count": 98,
   "metadata": {
    "colab": {
     "base_uri": "https://localhost:8080/",
     "height": 367
    },
    "id": "kuYOieJrG08r",
    "outputId": "ec1af234-3186-41b9-d8b8-a004efbfb11b"
   },
   "outputs": [
    {
     "name": "stderr",
     "output_type": "stream",
     "text": [
      "<ipython-input-98-765a2f0b2ae4>:12: MatplotlibDeprecationWarning: Adding an axes using the same arguments as a previous axes currently reuses the earlier instance.  In a future version, a new instance will always be created and returned.  Meanwhile, this warning can be suppressed, and the future behavior ensured, by passing a unique label to each axes instance.\n",
      "  ax = plt.subplot(111)\n"
     ]
    },
    {
     "data": {
      "image/png": "[encoded data removed]",
      "text/plain": [
       "<Figure size 432x288 with 1 Axes>"
      ]
     },
     "metadata": {
      "needs_background": "light"
     },
     "output_type": "display_data"
    }
   ],
   "source": [
    "plt.plot(log_l[2], 'r--', label = 'lasso, logistic reg')\n",
    "plt.plot(log_r[2], 'b--', label = 'ridge, logistic reg')\n",
    "plt.plot(lin_l[2], 'r', label = 'lasso, linear reg')\n",
    "plt.plot(lin_r[2], 'b', label = 'ridge, linear reg')\n",
    "\n",
    "plt.xlabel('Nb iterations')\n",
    "plt.ylabel('Error rate')\n",
    "\n",
    "plt.xlim(0,50)\n",
    "plt.ylim(0.05, 1.1)\n",
    "plt.title('FISTA: Ridge and Lasso penalizations comparison')\n",
    "ax = plt.subplot(111)\n",
    "ax.legend(loc='upper center', bbox_to_anchor=(0.5, -0.05),  shadow=True, ncol=2)\n",
    "#plt.legend()\n",
    "plt.show()\n"
   ]
  },
  {
   "cell_type": "markdown",
   "metadata": {
    "id": "e4Bp8TKJM7sf"
   },
   "source": [
    "#Here the value of penalization is what we increase."
   ]
  },
  {
   "cell_type": "code",
   "execution_count": 99,
   "metadata": {
    "colab": {
     "base_uri": "https://localhost:8080/"
    },
    "id": "yUlEaBPYMmlk",
    "outputId": "32288616-80c7-49f9-fc57-fd8f58227c6c"
   },
   "outputs": [
    {
     "name": "stdout",
     "output_type": "stream",
     "text": [
      "Lauching FISTA solver...\n",
      "   it    |   obj    |   err   \n",
      "       0 | 2.48e-01 | 8.96e-01\n",
      "      10 | 2.55e-01 | 3.71e-01\n",
      "      20 | 2.61e-01 | 3.44e-01\n",
      "      30 | 2.56e-01 | 3.54e-01\n",
      "      40 | 2.58e-01 | 3.49e-01\n",
      "      50 | 2.58e-01 | 3.51e-01\n",
      "      60 | 2.58e-01 | 3.51e-01\n",
      "      70 | 2.58e-01 | 3.51e-01\n",
      "      80 | 2.58e-01 | 3.51e-01\n",
      "      90 | 2.58e-01 | 3.51e-01\n",
      "     100 | 2.58e-01 | 3.51e-01\n",
      "     110 | 2.58e-01 | 3.51e-01\n",
      "     120 | 2.58e-01 | 3.51e-01\n",
      "     130 | 2.58e-01 | 3.51e-01\n",
      "     140 | 2.58e-01 | 3.51e-01\n",
      "     150 | 2.58e-01 | 3.51e-01\n",
      "     160 | 2.58e-01 | 3.51e-01\n",
      "     170 | 2.58e-01 | 3.51e-01\n",
      "     180 | 2.58e-01 | 3.51e-01\n",
      "     190 | 2.58e-01 | 3.51e-01\n",
      "     200 | 2.58e-01 | 3.51e-01\n",
      "Lauching FISTA solver...\n",
      "   it    |   obj    |   err   \n",
      "       0 | 3.90e-01 | 9.22e-01\n",
      "      10 | 5.96e-01 | 5.34e-01\n",
      "      20 | 5.94e-01 | 5.31e-01\n",
      "      30 | 5.94e-01 | 5.32e-01\n",
      "      40 | 5.94e-01 | 5.31e-01\n",
      "      50 | 5.94e-01 | 5.31e-01\n",
      "      60 | 5.94e-01 | 5.31e-01\n",
      "      70 | 5.94e-01 | 5.31e-01\n",
      "      80 | 5.94e-01 | 5.31e-01\n",
      "      90 | 5.94e-01 | 5.31e-01\n",
      "     100 | 5.94e-01 | 5.31e-01\n",
      "     110 | 5.94e-01 | 5.31e-01\n",
      "     120 | 5.94e-01 | 5.31e-01\n",
      "     130 | 5.94e-01 | 5.31e-01\n",
      "     140 | 5.94e-01 | 5.31e-01\n",
      "     150 | 5.94e-01 | 5.31e-01\n",
      "     160 | 5.94e-01 | 5.31e-01\n",
      "     170 | 5.94e-01 | 5.31e-01\n",
      "     180 | 5.94e-01 | 5.31e-01\n",
      "     190 | 5.94e-01 | 5.31e-01\n",
      "     200 | 5.94e-01 | 5.31e-01\n",
      "Lauching FISTA solver...\n",
      "   it    |   obj    |   err   \n",
      "       0 | 1.26e-01 | 9.47e-01\n",
      "      10 | 1.59e-01 | 7.54e-01\n",
      "      20 | 1.55e-01 | 7.64e-01\n",
      "      30 | 1.56e-01 | 7.61e-01\n",
      "      40 | 1.56e-01 | 7.62e-01\n",
      "      50 | 1.56e-01 | 7.61e-01\n",
      "      60 | 1.56e-01 | 7.62e-01\n",
      "      70 | 1.56e-01 | 7.62e-01\n",
      "      80 | 1.56e-01 | 7.62e-01\n",
      "      90 | 1.56e-01 | 7.62e-01\n",
      "     100 | 1.56e-01 | 7.62e-01\n",
      "     110 | 1.56e-01 | 7.62e-01\n",
      "     120 | 1.56e-01 | 7.62e-01\n",
      "     130 | 1.56e-01 | 7.62e-01\n",
      "     140 | 1.56e-01 | 7.62e-01\n",
      "     150 | 1.56e-01 | 7.62e-01\n",
      "     160 | 1.56e-01 | 7.62e-01\n",
      "     170 | 1.56e-01 | 7.62e-01\n",
      "     180 | 1.56e-01 | 7.62e-01\n",
      "     190 | 1.56e-01 | 7.62e-01\n",
      "     200 | 1.56e-01 | 7.62e-01\n",
      "Lauching FISTA solver...\n",
      "   it    |   obj    |   err   \n",
      "       0 | 1.46e-01 | 9.89e-01\n",
      "      10 | 1.64e-01 | 9.64e-01\n",
      "      20 | 1.63e-01 | 9.65e-01\n",
      "      30 | 1.63e-01 | 9.65e-01\n",
      "      40 | 1.63e-01 | 9.65e-01\n",
      "      50 | 1.63e-01 | 9.65e-01\n",
      "      60 | 1.63e-01 | 9.65e-01\n",
      "      70 | 1.63e-01 | 9.65e-01\n",
      "      80 | 1.63e-01 | 9.65e-01\n",
      "      90 | 1.63e-01 | 9.65e-01\n",
      "     100 | 1.63e-01 | 9.65e-01\n",
      "     110 | 1.63e-01 | 9.65e-01\n",
      "     120 | 1.63e-01 | 9.65e-01\n",
      "     130 | 1.63e-01 | 9.65e-01\n",
      "     140 | 1.63e-01 | 9.65e-01\n",
      "     150 | 1.63e-01 | 9.65e-01\n",
      "     160 | 1.63e-01 | 9.65e-01\n",
      "     170 | 1.63e-01 | 9.65e-01\n",
      "     180 | 1.63e-01 | 9.65e-01\n",
      "     190 | 1.63e-01 | 9.65e-01\n",
      "     200 | 1.63e-01 | 9.65e-01\n"
     ]
    }
   ],
   "source": [
    "# linear regression\n",
    "A, b = simu_linreg(coefs, n_samples=200, corr=0.5)\n",
    "step= 1/lip_linreg(A)\n",
    "lin_r= fista(x0, loss_linreg, grad_linreg, ridge, prox_ridge, step, s=0.1, n_iter =200)\n",
    "lin_l= fista(x0, loss_linreg, grad_linreg, lasso, prox_lasso, step, s=0.1, n_iter =200)\n",
    "\n",
    "# logistic regression\n",
    "A, b = simu_logreg(coefs, n_samples=200, corr=0.5)\n",
    "step= 1/lip_logreg(A)\n",
    "log_r= fista(x0, loss_logreg, grad_logreg, ridge, prox_ridge, step, s=0.1, n_iter =200)\n",
    "log_l= fista(x0, loss_logreg, grad_logreg, lasso, prox_lasso, step, s=0.1, n_iter =200)"
   ]
  },
  {
   "cell_type": "code",
   "execution_count": 100,
   "metadata": {
    "colab": {
     "base_uri": "https://localhost:8080/",
     "height": 367
    },
    "id": "oUaxo5QOMuNZ",
    "outputId": "933b2c51-94e0-4c43-b582-e7aa42cd5efb"
   },
   "outputs": [
    {
     "name": "stderr",
     "output_type": "stream",
     "text": [
      "<ipython-input-100-39018e5928bc>:12: MatplotlibDeprecationWarning: Adding an axes using the same arguments as a previous axes currently reuses the earlier instance.  In a future version, a new instance will always be created and returned.  Meanwhile, this warning can be suppressed, and the future behavior ensured, by passing a unique label to each axes instance.\n",
      "  ax = plt.subplot(111)\n"
     ]
    },
    {
     "data": {
      "image/png": "[encoded data removed]",
      "text/plain": [
       "<Figure size 432x288 with 1 Axes>"
      ]
     },
     "metadata": {
      "needs_background": "light"
     },
     "output_type": "display_data"
    }
   ],
   "source": [
    "plt.plot(log_l[2], 'r--', label = 'lasso, logistic reg')\n",
    "plt.plot(log_r[2], 'b--', label = 'ridge, logistic reg')\n",
    "plt.plot(lin_l[2], 'r', label = 'lasso, linear reg')\n",
    "plt.plot(lin_r[2], 'b', label = 'ridge, linear reg')\n",
    "\n",
    "plt.xlabel('Nb iterations')\n",
    "plt.ylabel('Error rate')\n",
    "\n",
    "plt.xlim(0,50)\n",
    "plt.ylim(0.05, 1.1)\n",
    "plt.title('FISTA: Ridge and Lasso penalizations comparison - high penalization parameter')\n",
    "ax = plt.subplot(111)\n",
    "ax.legend(loc='upper center', bbox_to_anchor=(0.5, -0.05),  shadow=True, ncol=2)\n",
    "#plt.legend()\n",
    "plt.show()"
   ]
  },
  {
   "cell_type": "markdown",
   "metadata": {
    "id": "HjLsJ6r-NNFx"
   },
   "source": [
    "#ISTA"
   ]
  },
  {
   "cell_type": "code",
   "execution_count": 101,
   "metadata": {
    "colab": {
     "base_uri": "https://localhost:8080/"
    },
    "id": "OtjpCCw9M5ke",
    "outputId": "a7f8cd6a-7d55-431c-fa98-56941138a949"
   },
   "outputs": [
    {
     "name": "stdout",
     "output_type": "stream",
     "text": [
      "Lauching ISTA solver...\n",
      "   it    |   obj    |   err   \n",
      "       0 | 2.53e-01 | 9.02e-01\n",
      "      10 | 1.21e-01 | 4.84e-01\n",
      "      20 | 1.07e-01 | 3.80e-01\n",
      "      30 | 1.06e-01 | 3.61e-01\n",
      "      40 | 1.07e-01 | 3.62e-01\n",
      "      50 | 1.08e-01 | 3.65e-01\n",
      "      60 | 1.08e-01 | 3.68e-01\n",
      "      70 | 1.08e-01 | 3.70e-01\n",
      "      80 | 1.09e-01 | 3.71e-01\n",
      "      90 | 1.09e-01 | 3.72e-01\n",
      "     100 | 1.09e-01 | 3.72e-01\n",
      "     110 | 1.09e-01 | 3.73e-01\n",
      "     120 | 1.09e-01 | 3.73e-01\n",
      "     130 | 1.09e-01 | 3.73e-01\n",
      "     140 | 1.09e-01 | 3.73e-01\n",
      "     150 | 1.09e-01 | 3.73e-01\n",
      "     160 | 1.09e-01 | 3.73e-01\n",
      "     170 | 1.09e-01 | 3.73e-01\n",
      "     180 | 1.09e-01 | 3.73e-01\n",
      "     190 | 1.09e-01 | 3.73e-01\n",
      "     200 | 1.09e-01 | 3.73e-01\n",
      "Lauching ISTA solver...\n",
      "   it    |   obj    |   err   \n",
      "       0 | 2.72e-01 | 9.05e-01\n",
      "      10 | 1.82e-01 | 4.90e-01\n",
      "      20 | 1.78e-01 | 3.78e-01\n",
      "      30 | 1.80e-01 | 3.52e-01\n",
      "      40 | 1.82e-01 | 3.48e-01\n",
      "      50 | 1.84e-01 | 3.49e-01\n",
      "      60 | 1.85e-01 | 3.50e-01\n",
      "      70 | 1.85e-01 | 3.50e-01\n",
      "      80 | 1.85e-01 | 3.50e-01\n",
      "      90 | 1.86e-01 | 3.50e-01\n",
      "     100 | 1.86e-01 | 3.50e-01\n",
      "     110 | 1.86e-01 | 3.50e-01\n",
      "     120 | 1.86e-01 | 3.50e-01\n",
      "     130 | 1.86e-01 | 3.50e-01\n",
      "     140 | 1.86e-01 | 3.50e-01\n",
      "     150 | 1.86e-01 | 3.50e-01\n",
      "     160 | 1.86e-01 | 3.50e-01\n",
      "     170 | 1.86e-01 | 3.50e-01\n",
      "     180 | 1.86e-01 | 3.50e-01\n",
      "     190 | 1.86e-01 | 3.50e-01\n",
      "     200 | 1.86e-01 | 3.50e-01\n",
      "Lauching ISTA solver...\n",
      "   it    |   obj    |   err   \n",
      "       0 | 1.24e-01 | 9.36e-01\n",
      "      10 | 1.07e-01 | 6.89e-01\n",
      "      20 | 1.08e-01 | 6.23e-01\n",
      "      30 | 1.10e-01 | 6.09e-01\n",
      "      40 | 1.13e-01 | 6.12e-01\n",
      "      50 | 1.14e-01 | 6.21e-01\n",
      "      60 | 1.16e-01 | 6.30e-01\n",
      "      70 | 1.17e-01 | 6.39e-01\n",
      "      80 | 1.17e-01 | 6.46e-01\n",
      "      90 | 1.18e-01 | 6.51e-01\n",
      "     100 | 1.18e-01 | 6.55e-01\n",
      "     110 | 1.18e-01 | 6.59e-01\n",
      "     120 | 1.19e-01 | 6.61e-01\n",
      "     130 | 1.19e-01 | 6.63e-01\n",
      "     140 | 1.19e-01 | 6.64e-01\n",
      "     150 | 1.19e-01 | 6.65e-01\n",
      "     160 | 1.19e-01 | 6.66e-01\n",
      "     170 | 1.19e-01 | 6.67e-01\n",
      "     180 | 1.19e-01 | 6.67e-01\n",
      "     190 | 1.19e-01 | 6.68e-01\n",
      "     200 | 1.19e-01 | 6.68e-01\n",
      "Lauching ISTA solver...\n",
      "   it    |   obj    |   err   \n",
      "       0 | 1.39e-01 | 9.46e-01\n",
      "      10 | 1.55e-01 | 7.26e-01\n",
      "      20 | 1.64e-01 | 6.44e-01\n",
      "      30 | 1.70e-01 | 6.02e-01\n",
      "      40 | 1.73e-01 | 5.81e-01\n",
      "      50 | 1.75e-01 | 5.69e-01\n",
      "      60 | 1.77e-01 | 5.62e-01\n",
      "      70 | 1.78e-01 | 5.59e-01\n",
      "      80 | 1.79e-01 | 5.56e-01\n",
      "      90 | 1.79e-01 | 5.55e-01\n",
      "     100 | 1.79e-01 | 5.54e-01\n",
      "     110 | 1.80e-01 | 5.54e-01\n",
      "     120 | 1.80e-01 | 5.53e-01\n",
      "     130 | 1.80e-01 | 5.53e-01\n",
      "     140 | 1.80e-01 | 5.53e-01\n",
      "     150 | 1.80e-01 | 5.53e-01\n",
      "     160 | 1.80e-01 | 5.53e-01\n",
      "     170 | 1.80e-01 | 5.53e-01\n",
      "     180 | 1.80e-01 | 5.53e-01\n",
      "     190 | 1.80e-01 | 5.53e-01\n",
      "     200 | 1.80e-01 | 5.53e-01\n"
     ]
    }
   ],
   "source": [
    "# linear regression\n",
    "A, b = simu_linreg(coefs, n_samples=200, corr=0.5)\n",
    "step= 1/lip_linreg(A)\n",
    "lin_r= ista(x0, loss_linreg, grad_linreg, ridge, prox_ridge, step, s=0.01, n_iter =200)\n",
    "lin_l= ista(x0, loss_linreg, grad_linreg, lasso, prox_lasso, step, s=0.01, n_iter =200)\n",
    "\n",
    "# logistic regression\n",
    "A, b = simu_logreg(coefs, n_samples=200, corr=0.5)\n",
    "step= 1/lip_logreg(A)\n",
    "log_r= ista(x0, loss_logreg, grad_logreg, ridge, prox_ridge, step, s=0.01, n_iter =200)\n",
    "log_l= ista(x0, loss_logreg, grad_logreg, lasso, prox_lasso, step, s=0.01, n_iter =200)"
   ]
  },
  {
   "cell_type": "code",
   "execution_count": 102,
   "metadata": {
    "colab": {
     "base_uri": "https://localhost:8080/",
     "height": 367
    },
    "id": "x9pOglCQNQXI",
    "outputId": "56b92d81-8a78-4344-d781-6c5e1f28cf6c"
   },
   "outputs": [
    {
     "name": "stderr",
     "output_type": "stream",
     "text": [
      "<ipython-input-102-60dfd816f404>:12: MatplotlibDeprecationWarning: Adding an axes using the same arguments as a previous axes currently reuses the earlier instance.  In a future version, a new instance will always be created and returned.  Meanwhile, this warning can be suppressed, and the future behavior ensured, by passing a unique label to each axes instance.\n",
      "  ax = plt.subplot(111)\n"
     ]
    },
    {
     "data": {
      "image/png": "[encoded data removed]",
      "text/plain": [
       "<Figure size 432x288 with 1 Axes>"
      ]
     },
     "metadata": {
      "needs_background": "light"
     },
     "output_type": "display_data"
    }
   ],
   "source": [
    "plt.plot(log_l[2], 'r--', label = 'lasso, logistic reg')\n",
    "plt.plot(log_r[2], 'b--', label = 'ridge, logistic reg')\n",
    "plt.plot(lin_l[2], 'r', label = 'lasso, linear reg')\n",
    "plt.plot(lin_r[2], 'b', label = 'ridge, linear reg')\n",
    "\n",
    "plt.xlabel('Nb iterations')\n",
    "plt.ylabel('Error rate')\n",
    "\n",
    "plt.xlim(0,50)\n",
    "plt.ylim(0.05, 1.1)\n",
    "plt.title('ISTA: Ridge and Lasso penalizations comparison')\n",
    "ax = plt.subplot(111)\n",
    "ax.legend(loc='upper center', bbox_to_anchor=(0.5, -0.05),  shadow=True, ncol=2)\n",
    "#plt.legend()\n",
    "plt.show()\n"
   ]
  },
  {
   "cell_type": "markdown",
   "metadata": {
    "id": "vs4HmDd8NY70"
   },
   "source": [
    "# Comments\n",
    " \n",
    "For both algorithms, the result depends on the strength of the penalty (the parameter \"s\"). So when s is large, the error rate is very large with the lasso penalty. \n",
    "\n",
    "And, this is due to the threshold effect of the lasso penalty: when s is large, almost all the coefficients are equal to zero.\n",
    "\n",
    "When s is small, the penalty has no significant impact on the convergence."
   ]
  },
  {
   "cell_type": "code",
   "execution_count": null,
   "metadata": {},
   "outputs": [],
   "source": []
  }
 ],
 "metadata": {
  "anaconda-cloud": {},
  "colab": {
   "name": "lab1_traore_mory_moussou_koulibaly.ipynb",
   "provenance": []
  },
  "kernelspec": {
   "display_name": "Python 3",
   "language": "python",
   "name": "python3"
  },
  "language_info": {
   "codemirror_mode": {
    "name": "ipython",
    "version": 3
   },
   "file_extension": ".py",
   "mimetype": "text/x-python",
   "name": "python",
   "nbconvert_exporter": "python",
   "pygments_lexer": "ipython3",
   "version": "3.8.5"
  }
 },
 "nbformat": 4,
 "nbformat_minor": 1
}
