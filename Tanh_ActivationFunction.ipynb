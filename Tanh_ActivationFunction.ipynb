{
  "nbformat": 4,
  "nbformat_minor": 0,
  "metadata": {
    "colab": {
      "name": "Assignment_Arnaud_Watusadisi_Mavakala_T.ipynb",
      "provenance": []
    },
    "kernelspec": {
      "display_name": "Python 3",
      "language": "python",
      "name": "python3"
    },
    "language_info": {
      "codemirror_mode": {
        "name": "ipython",
        "version": 3
      },
      "file_extension": ".py",
      "mimetype": "text/x-python",
      "name": "python",
      "nbconvert_exporter": "python",
      "pygments_lexer": "ipython3",
      "version": "3.8.5"
    }
  },
  "cells": [
    {
      "cell_type": "code",
      "metadata": {
        "colab": {
          "base_uri": "https://localhost:8080/"
        },
        "id": "kXTzdiTrqFOa",
        "outputId": "b240998e-2e59-4809-8dbb-413d30981166"
      },
      "source": [
        "cd /content/drive/MyDrive/mongodb_MapReduce/"
      ],
      "execution_count": null,
      "outputs": [
        {
          "name": "stdout",
          "output_type": "stream",
          "text": [
            "/content/drive/MyDrive/mongodb_MapReduce\n"
          ]
        }
      ]
    },
    {
      "cell_type": "code",
      "metadata": {
        "id": "FPGLI9uXp-lD"
      },
      "source": [
        "import torch.tensor as Tensor\n",
        "import torch as torch\n",
        "import dlc_practical_prologue as prologue\n",
        "import progressbar\n",
        "from dlc_practical_prologue import *"
      ],
      "execution_count": null,
      "outputs": []
    },
    {
      "cell_type": "code",
      "metadata": {
        "colab": {
          "base_uri": "https://localhost:8080/"
        },
        "id": "KasAJe-OqDQJ",
        "outputId": "5b2edca4-ef38-4aa6-a39a-94664dc4db29"
      },
      "source": [
        "from google.colab import drive\n",
        "drive.mount('/content/drive')"
      ],
      "execution_count": null,
      "outputs": [
        {
          "name": "stdout",
          "output_type": "stream",
          "text": [
            "Mounted at /content/drive\n"
          ]
        }
      ]
    },
    {
      "cell_type": "code",
      "metadata": {
        "colab": {
          "base_uri": "https://localhost:8080/"
        },
        "id": "7JvpRMajp-lO",
        "outputId": "fac68500-c1df-4a40-aea0-06d0fb0e6c12"
      },
      "source": [
        "train_input, train_target, test_input, test_target = load_data(cifar = True, one_hot_labels =True, normalize =True, flatten = True)"
      ],
      "execution_count": null,
      "outputs": [
        {
          "name": "stdout",
          "output_type": "stream",
          "text": [
            "* Using CIFAR\n",
            "Files already downloaded and verified\n",
            "Files already downloaded and verified\n",
            "** Reduce the data-set (use --full for the full thing)\n",
            "** Use 1000 train and 1000 test samples\n"
          ]
        }
      ]
    },
    {
      "cell_type": "code",
      "metadata": {
        "colab": {
          "base_uri": "https://localhost:8080/"
        },
        "id": "-p1dMdxAp-lP",
        "outputId": "b458a6bb-74a7-4fb7-fd73-86f26d78b43f"
      },
      "source": [
        " train_input.shape"
      ],
      "execution_count": null,
      "outputs": [
        {
          "data": {
            "text/plain": [
              "torch.Size([1000, 3072])"
            ]
          },
          "execution_count": 6,
          "metadata": {
            "tags": []
          },
          "output_type": "execute_result"
        }
      ]
    },
    {
      "cell_type": "markdown",
      "metadata": {
        "id": "SGngkrSDp-lQ"
      },
      "source": [
        "## 1.  Activation function"
      ]
    },
    {
      "cell_type": "code",
      "metadata": {
        "id": "ccp4YPFSp-lQ"
      },
      "source": [
        "def sigma(x):\n",
        "    return torch.tanh(x)"
      ],
      "execution_count": null,
      "outputs": []
    },
    {
      "cell_type": "code",
      "metadata": {
        "id": "osuV9DqWp-lQ"
      },
      "source": [
        "def dsigma(x):\n",
        "    y = sigma(x)\n",
        "    return 1 - torch.mul(y, y)"
      ],
      "execution_count": null,
      "outputs": []
    },
    {
      "cell_type": "markdown",
      "metadata": {
        "id": "JbXSzyj5p-lR"
      },
      "source": [
        "## 2. Loss"
      ]
    },
    {
      "cell_type": "code",
      "metadata": {
        "id": "JIFsRdnBp-lR"
      },
      "source": [
        "def dloss(v, t):\n",
        "    return 2 * (v-t)"
      ],
      "execution_count": null,
      "outputs": []
    },
    {
      "cell_type": "code",
      "metadata": {
        "id": "O11wEl84p-lR"
      },
      "source": [
        "def loss(v, t):\n",
        "    y = v-t\n",
        "    return torch.sum(torch.mul(y, y))"
      ],
      "execution_count": null,
      "outputs": []
    },
    {
      "cell_type": "markdown",
      "metadata": {
        "id": "hhCr4n3ep-lS"
      },
      "source": [
        "## 3. Forward and backward passes"
      ]
    },
    {
      "cell_type": "code",
      "metadata": {
        "id": "ZGLvjKwWp-lS"
      },
      "source": [
        "def forward_pass(w1, b1, w2, b2, x):\n",
        "    x0 = x\n",
        "    s1 = torch.mm(w1, x0) + b1\n",
        "    x1 = sigma(s1)\n",
        "    s2 = torch.mm(w2, x1) + b2\n",
        "    x2 = sigma(s2)\n",
        "    return x0, s1, x1, s2, x2"
      ],
      "execution_count": null,
      "outputs": []
    },
    {
      "cell_type": "code",
      "metadata": {
        "id": "LTLXPTQtp-lS"
      },
      "source": [
        "def backward_pass(w1, b1, w2, b2, t, x, s1, x1, s2, x2, dl_dw1, dl_db1, dl_dw2, dl_db2):\n",
        "    dl_dx2 = dloss(x2, t)\n",
        "    dl_ds2 = torch.mul(dl_dx2, dsigma(s2))\n",
        "    dl_dw2 += torch.mm(dl_ds2, torch.t(x1)) \n",
        "    dl_db2 = dl_ds2 + dl_db2\n",
        "    dl_dx1 = torch.mm(torch.t(w2), dl_ds2)\n",
        "    dl_ds1 = torch.mul(dl_dx1, dsigma(s1))\n",
        "    dl_dw1 += torch.mm(dl_ds1, torch.t(x)) \n",
        "    dl_db1 += dl_ds1 \n",
        "    return dl_dx2, dl_ds2, dl_ds1, dl_dx1, dl_dw1, dl_db1, dl_dw2, dl_db2"
      ],
      "execution_count": null,
      "outputs": []
    },
    {
      "cell_type": "markdown",
      "metadata": {
        "id": "Xa3-RJ2Fp-lT"
      },
      "source": [
        "## 4. Training the network"
      ]
    },
    {
      "cell_type": "code",
      "metadata": {
        "id": "EaBuB8Gxp-lT"
      },
      "source": [
        "def compute_error(test_set, test_target_set, w1, b1, w2, b2):\n",
        "    n = test_set.shape[0]\n",
        "    errors = 0\n",
        "    for i in range(n):\n",
        "        x = test_set[i].resize(test_set[i].shape[0], 1)\n",
        "        t = torch.argmax(test_target_set[i])\n",
        "        _, _, _, _, predicted = forward_pass(w1, b1, w2, b2, x)\n",
        "        predict_class = torch.argmax(predicted, 0)\n",
        "        if t != predict_class:\n",
        "            nerrors += 1\n",
        "    return errors/n"
      ],
      "execution_count": null,
      "outputs": []
    },
    {
      "cell_type": "code",
      "metadata": {
        "id": "HTAv3ykWp-lT"
      },
      "source": [
        "def training():\n",
        "    train, train_target, test, test_target = prologue.load_data(cifar=False, one_hot_labels=True, normalize=True, flatten = True)\n",
        "    test_target = 0.9 * test_target\n",
        "    train_target = 0.9 * train_target\n",
        "    w1 = torch.zeros(50, 784).normal_(0, 0.000001)\n",
        "    b1 = torch.zeros(50, 1).normal_(0, 0.000001)\n",
        "    w2 = torch.zeros(10, 50).normal_(0, 0.000001)\n",
        "    b2 = torch.zeros(10, 1).normal_(0, 0.000001)\n",
        "    eta = (0.1)/(train.shape[0])\n",
        "    for i in progressbar.progressbar(range(1000)):\n",
        "        dl_dw1 = torch.zeros(50, 784)\n",
        "        dl_db1 = torch.zeros(50, 1)\n",
        "        dl_dw2 = torch.zeros(10, 50)\n",
        "        dl_db2 = torch.zeros(10, 1)\n",
        "        for j in range(1000):\n",
        "            x = train[j].resize_(train[j].shape[0], 1)\n",
        "            t = train_target[j].resize_(train_target[j].shape[0], 1)\n",
        "            x0, s1, x1, s2, x2 = forward_pass(w1, b1, w2, b2, x)\n",
        "            backward_pass(w1, b1, w2, b2, t, x, s1, x1, s2, x2, dl_dw1, dl_db1, dl_dw2, dl_db2)\n",
        "        w1 = w1 - eta * dl_dw1\n",
        "        w2 = w2 - eta * dl_dw2\n",
        "        b1 = b1 - eta * dl_db1\n",
        "        b2 = b2 - eta * dl_db2\n",
        "    print(\"The training error is: \", compute_error(train, train_target, w1, b1, w2, b2), \"and the test error is: \", compute_error(test, test_target, w1, b1, w2, b2))"
      ],
      "execution_count": null,
      "outputs": []
    },
    {
      "cell_type": "code",
      "metadata": {
        "colab": {
          "background_save": true,
          "base_uri": "https://localhost:8080/",
          "height": 392
        },
        "id": "fAeG2EWHqwzj",
        "outputId": "9d0964a1-8dbd-4086-d201-328264473938"
      },
      "source": [
        "training()"
      ],
      "execution_count": null,
      "outputs": [
        {
          "name": "stderr",
          "output_type": "stream",
          "text": [
            "\r                                                                               \r\rN/A% (0 of 1000) |                       | Elapsed Time: 0:00:00 ETA:  --:--:--"
          ]
        },
        {
          "name": "stdout",
          "output_type": "stream",
          "text": [
            "* Using MNIST\n",
            "** Reduce the data-set (use --full for the full thing)\n",
            "** Use 1000 train and 1000 test samples\n"
          ]
        },
        {
          "name": "stderr",
          "output_type": "stream",
          "text": [
            "100% (1000 of 1000) |####################| Elapsed Time: 0:02:07 Time:  0:02:07\n",
            "/usr/local/lib/python3.7/dist-packages/torch/tensor.py:474: UserWarning: non-inplace resize is deprecated\n",
            "  warnings.warn(\"non-inplace resize is deprecated\")\n"
          ]
        },
        {
          "name": "stdout",
          "output_type": "stream",
          "text": [
            "The training error is:  0.002 and the test error is:  0.153\n"
          ]
        }
      ]
    },
    {
      "cell_type": "code",
      "metadata": {
        "id": "pFj39NtVp-lU"
      },
      "source": [
        ""
      ],
      "execution_count": null,
      "outputs": []
    },
    {
      "cell_type": "code",
      "metadata": {
        "id": "SW4UfTCMp-lU"
      },
      "source": [
        ""
      ],
      "execution_count": null,
      "outputs": []
    }
  ]
}